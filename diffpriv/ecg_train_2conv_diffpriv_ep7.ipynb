{
 "cells": [
  {
   "cell_type": "markdown",
   "metadata": {
    "colab_type": "text",
    "id": "YDQY02P14s5b"
   },
   "source": [
    "# 1D-CNN Model for ECG Classification\n",
    "- The model used has 2 Conv. layers and 2 FC layers.\n",
    "- This code repeat running the training process and produce all kinds of data which can be given, such as data needed for drawing loss and accuracy graph through epochs, and maximum test accuracy for each run."
   ]
  },
  {
   "cell_type": "markdown",
   "metadata": {
    "colab_type": "text",
    "id": "0jVwGea7meY-"
   },
   "source": [
    "## Get permission of Google Drive access"
   ]
  },
  {
   "cell_type": "code",
   "execution_count": 1,
   "metadata": {
    "colab": {
     "base_uri": "https://localhost:8080/",
     "height": 55
    },
    "colab_type": "code",
    "executionInfo": {
     "elapsed": 1384,
     "status": "ok",
     "timestamp": 1573140331176,
     "user": {
      "displayName": "Kyuyeon Kim",
      "photoUrl": "https://lh3.googleusercontent.com/a-/AAuE7mBDhZm6xUbCYNLGqOYDpm2QRhOirby0BI-zUCTw2g=s64",
      "userId": "05245697685138289125"
     },
     "user_tz": -540
    },
    "id": "gw8VHp_Lqnu0",
    "outputId": "25ea812d-4242-463a-dc32-a938504f0792"
   },
   "outputs": [],
   "source": [
    "root_path = '.'"
   ]
  },
  {
   "cell_type": "markdown",
   "metadata": {
    "colab_type": "text",
    "id": "y-OoNrzR2jnb"
   },
   "source": [
    "## File name settings"
   ]
  },
  {
   "cell_type": "code",
   "execution_count": 2,
   "metadata": {
    "colab": {},
    "colab_type": "code",
    "id": "BNGT9J0J2jEB"
   },
   "outputs": [],
   "source": [
    "data_dir = 'mitdb'\n",
    "train_name = 'train_ecg.hdf5'\n",
    "test_name = 'test_ecg.hdf5'\n",
    "all_name = 'all_ecg.hdf5'\n",
    "\n",
    "model_dir = 'model'\n",
    "model_name = 'conv2'\n",
    "model_ext = '.pth'\n",
    "\n",
    "csv_dir = 'csv'\n",
    "csv_ext = '.csv'\n",
    "\n",
    "csv_name = 'conv2'\n",
    "csv_accs_name = 'accs_conv2'"
   ]
  },
  {
   "cell_type": "markdown",
   "metadata": {
    "colab_type": "text",
    "id": "XQhRMQcxmiiU"
   },
   "source": [
    "## Import required packages"
   ]
  },
  {
   "cell_type": "code",
   "execution_count": 3,
   "metadata": {
    "colab": {},
    "colab_type": "code",
    "id": "ekg3kh1Tq1B_"
   },
   "outputs": [],
   "source": [
    "import os\n",
    "\n",
    "import torch\n",
    "import torch.nn as nn\n",
    "from torch.utils.data import Dataset, DataLoader\n",
    "from torch.optim import Adam\n",
    "\n",
    "import numpy as np\n",
    "import pandas as pd\n",
    "import h5py\n",
    "from tqdm import tqdm\n",
    "import matplotlib.pyplot as plt\n",
    "\n",
    "from diffprivlib.mechanisms import Laplace"
   ]
  },
  {
   "cell_type": "markdown",
   "metadata": {
    "colab_type": "text",
    "id": "FzsvXmVd0ayn"
   },
   "source": [
    "## GPU settings"
   ]
  },
  {
   "cell_type": "code",
   "execution_count": 4,
   "metadata": {
    "colab": {
     "base_uri": "https://localhost:8080/",
     "height": 35
    },
    "colab_type": "code",
    "executionInfo": {
     "elapsed": 1561,
     "status": "ok",
     "timestamp": 1573140331478,
     "user": {
      "displayName": "Kyuyeon Kim",
      "photoUrl": "https://lh3.googleusercontent.com/a-/AAuE7mBDhZm6xUbCYNLGqOYDpm2QRhOirby0BI-zUCTw2g=s64",
      "userId": "05245697685138289125"
     },
     "user_tz": -540
    },
    "id": "1UJyXe89cJcw",
    "outputId": "14b01434-7392-4af6-98a1-f48524453a56"
   },
   "outputs": [
    {
     "name": "stdout",
     "output_type": "stream",
     "text": [
      "GeForce 840M\n"
     ]
    }
   ],
   "source": [
    "device = torch.device('cuda:0' if torch.cuda.is_available() else 'cpu')\n",
    "if torch.cuda.is_available():\n",
    "    print(torch.cuda.get_device_name(0))"
   ]
  },
  {
   "cell_type": "markdown",
   "metadata": {
    "colab_type": "text",
    "id": "K-DnZ3zF6dhx"
   },
   "source": [
    "## Define `ECG` `Dataset` class\n"
   ]
  },
  {
   "cell_type": "code",
   "execution_count": 5,
   "metadata": {
    "colab": {},
    "colab_type": "code",
    "id": "ffSLi6qCbHy2"
   },
   "outputs": [],
   "source": [
    "class ECG(Dataset):\n",
    "    def __init__(self, mode='train'):\n",
    "        if mode == 'train':\n",
    "            with h5py.File(os.path.join(root_path, data_dir, train_name), 'r') as hdf:\n",
    "                self.x = hdf['x_train'][:]\n",
    "                self.y = hdf['y_train'][:]\n",
    "        elif mode == 'test':\n",
    "            with h5py.File(os.path.join(root_path, data_dir, test_name), 'r') as hdf:\n",
    "                self.x = hdf['x_test'][:]\n",
    "                self.y = hdf['y_test'][:]\n",
    "        elif mode == 'all':\n",
    "            with h5py.File(os.path.join(root_path, data_dir, all_name), 'r') as hdf:\n",
    "                self.x = hdf['x'][:]\n",
    "                self.y = hdf['y'][:]\n",
    "        else:\n",
    "            raise ValueError('Argument of mode should be train, test, or all.')\n",
    "    \n",
    "    def __len__(self):\n",
    "        return len(self.x)\n",
    "    \n",
    "    def __getitem__(self, idx):\n",
    "        return torch.tensor(self.x[idx], dtype=torch.float), torch.tensor(self.y[idx])"
   ]
  },
  {
   "cell_type": "markdown",
   "metadata": {
    "colab_type": "text",
    "id": "U97Sm8qs6-IC"
   },
   "source": [
    "## Make Batch Generator"
   ]
  },
  {
   "cell_type": "markdown",
   "metadata": {
    "colab_type": "text",
    "id": "popnnQ0ckaF3"
   },
   "source": [
    "### Batch size\n",
    "You can change it if you want."
   ]
  },
  {
   "cell_type": "code",
   "execution_count": 6,
   "metadata": {
    "colab": {},
    "colab_type": "code",
    "id": "ElNcZhTt786w"
   },
   "outputs": [],
   "source": [
    "batch_size = 32"
   ]
  },
  {
   "cell_type": "markdown",
   "metadata": {
    "colab_type": "text",
    "id": "AHy2nkSm778h"
   },
   "source": [
    "### `DataLoader` for batch generating\n",
    "`torch.utils.data.DataLoader(dataset, batch_size=1, shuffle=False)`"
   ]
  },
  {
   "cell_type": "code",
   "execution_count": 7,
   "metadata": {
    "colab": {},
    "colab_type": "code",
    "id": "DyIHkQr4sMiE"
   },
   "outputs": [],
   "source": [
    "train_dataset = ECG(mode='train')\n",
    "test_dataset = ECG(mode='test')\n",
    "train_loader = DataLoader(train_dataset, batch_size=batch_size)\n",
    "test_loader = DataLoader(test_dataset, batch_size=batch_size)"
   ]
  },
  {
   "cell_type": "markdown",
   "metadata": {
    "colab_type": "text",
    "id": "6opdvihFk8Di"
   },
   "source": [
    "### Size check for single batch"
   ]
  },
  {
   "cell_type": "code",
   "execution_count": 8,
   "metadata": {
    "colab": {
     "base_uri": "https://localhost:8080/",
     "height": 54
    },
    "colab_type": "code",
    "executionInfo": {
     "elapsed": 1342,
     "status": "ok",
     "timestamp": 1573140331487,
     "user": {
      "displayName": "Kyuyeon Kim",
      "photoUrl": "https://lh3.googleusercontent.com/a-/AAuE7mBDhZm6xUbCYNLGqOYDpm2QRhOirby0BI-zUCTw2g=s64",
      "userId": "05245697685138289125"
     },
     "user_tz": -540
    },
    "id": "902j2PYgszyr",
    "outputId": "717f8d82-10de-4012-e9c1-4717b8835d17"
   },
   "outputs": [
    {
     "name": "stdout",
     "output_type": "stream",
     "text": [
      "torch.Size([32, 1, 128])\n",
      "torch.Size([32])\n"
     ]
    }
   ],
   "source": [
    "x_train, y_train = next(iter(train_loader))\n",
    "print(x_train.size())\n",
    "print(y_train.size())"
   ]
  },
  {
   "cell_type": "markdown",
   "metadata": {
    "colab_type": "text",
    "id": "d4Nv5OLbm0rJ"
   },
   "source": [
    "### Number of total batches"
   ]
  },
  {
   "cell_type": "code",
   "execution_count": 9,
   "metadata": {
    "colab": {
     "base_uri": "https://localhost:8080/",
     "height": 35
    },
    "colab_type": "code",
    "executionInfo": {
     "elapsed": 1320,
     "status": "ok",
     "timestamp": 1573140331489,
     "user": {
      "displayName": "Kyuyeon Kim",
      "photoUrl": "https://lh3.googleusercontent.com/a-/AAuE7mBDhZm6xUbCYNLGqOYDpm2QRhOirby0BI-zUCTw2g=s64",
      "userId": "05245697685138289125"
     },
     "user_tz": -540
    },
    "id": "xY_0e4jexTIy",
    "outputId": "37db683a-0839-4463-8f2a-88340df0be85"
   },
   "outputs": [
    {
     "name": "stdout",
     "output_type": "stream",
     "text": [
      "414\n"
     ]
    }
   ],
   "source": [
    "total_batch = len(train_loader)\n",
    "print(total_batch)"
   ]
  },
  {
   "cell_type": "markdown",
   "metadata": {
    "colab_type": "text",
    "id": "hteQdSdMg8aB"
   },
   "source": [
    "## Pytorch layer modules for **Conv1D** Network\n",
    "\n",
    "\n",
    "\n",
    "### `Conv1d` layer\n",
    "- `torch.nn.Conv1d(in_channels, out_channels, kernel_size)`\n",
    "\n",
    "### `MaxPool1d` layer\n",
    "- `torch.nn.MaxPool1d(kernel_size, stride=None)`\n",
    "- Parameter `stride` follows `kernel_size`.\n",
    "\n",
    "### `ReLU` layer\n",
    "- `torch.nn.ReLU()`\n",
    "\n",
    "### `Linear` layer\n",
    "- `torch.nn.Linear(in_features, out_features, bias=True)`\n",
    "\n",
    "### `Softmax` layer\n",
    "- `torch.nn.Softmax(dim=None)`\n",
    "- Parameter `dim` is usually set to `1`."
   ]
  },
  {
   "cell_type": "markdown",
   "metadata": {
    "colab_type": "text",
    "id": "X-QMUMFx2n5J"
   },
   "source": [
    "## Training process settings"
   ]
  },
  {
   "cell_type": "code",
   "execution_count": 10,
   "metadata": {
    "colab": {},
    "colab_type": "code",
    "id": "3AKAftHyzPfz"
   },
   "outputs": [],
   "source": [
    "run = 1\n",
    "epoch = 400\n",
    "lr = 0.001\n",
    "epsilon = 7\n",
    "min_diff = 1e-5"
   ]
  },
  {
   "cell_type": "markdown",
   "metadata": {
    "colab_type": "text",
    "id": "d0DQJhg2w_Tj"
   },
   "source": [
    "## Construct 1D CNN ECG classification model"
   ]
  },
  {
   "cell_type": "code",
   "execution_count": 11,
   "metadata": {
    "colab": {},
    "colab_type": "code",
    "id": "G2LRE1T2ZZLB"
   },
   "outputs": [],
   "source": [
    "class ECGConv1D(nn.Module):\n",
    "    def __init__(self):\n",
    "        super(ECGConv1D, self).__init__()\n",
    "        self.conv1 = nn.Conv1d(1, 16, 7, padding=3)  # 128 x 16\n",
    "        self.relu1 = nn.LeakyReLU()\n",
    "        self.pool1 = nn.MaxPool1d(2)  # 64 x 16\n",
    "        self.conv2 = nn.Conv1d(16, 16, 5, padding=2)  # 64 x 16\n",
    "        self.relu2 = nn.LeakyReLU()\n",
    "        self.pool2 = nn.MaxPool1d(2)  # 32 x 16\n",
    "        self.linear3 = nn.Linear(32 * 16, 128)\n",
    "        self.relu3 = nn.LeakyReLU()\n",
    "        self.linear4 = nn.Linear(128, 5)\n",
    "        self.softmax4 = nn.Softmax(dim=1)\n",
    "    \n",
    "    def forward(self, x):\n",
    "        x = self.conv1(x)\n",
    "        x = self.relu1(x)\n",
    "        x = self.pool1(x)\n",
    "        x = self.conv2(x)\n",
    "        x = self.relu2(x)\n",
    "        x = self.pool2(x)\n",
    "        \n",
    "        # differential privacy\n",
    "        x_data = x.data.cpu().numpy()\n",
    "        bound = np.dstack((np.max(x_data, axis=0), np.min(x_data, axis=0)))\n",
    "        for i in range(bound.shape[0]):\n",
    "            for j in range(bound.shape[1]):\n",
    "                interval = bound[i][j]\n",
    "                if interval[0] - interval[1] < min_diff:\n",
    "                    interval[0] += min_diff * 0.5\n",
    "                    interval[1] -= min_diff * 0.5\n",
    "        for j in range(x_data.shape[1]):\n",
    "            for k in range(x_data.shape[2]):\n",
    "                dp = Laplace()\n",
    "                dp = dp.set_epsilon(epsilon)\n",
    "                dp = dp.set_sensitivity(bound[j][k][0] - bound[j][k][1])\n",
    "                for i in range(x_data.shape[0]):\n",
    "                    x_data[i][j][k] = dp.randomise(x_data[i][j][k])\n",
    "        x.data = torch.tensor(x_data).requires_grad_(True).to(device)\n",
    "        \n",
    "        x = x.view(-1, 32 * 16)\n",
    "        x = self.linear3(x)\n",
    "        x = self.relu3(x)\n",
    "        x = self.linear4(x)\n",
    "        x = self.softmax4(x)\n",
    "        return x        "
   ]
  },
  {
   "cell_type": "markdown",
   "metadata": {
    "colab_type": "text",
    "id": "m-bCqOUuxSdp"
   },
   "source": [
    "## Traning function\n"
   ]
  },
  {
   "cell_type": "code",
   "execution_count": 12,
   "metadata": {
    "colab": {},
    "colab_type": "code",
    "id": "nO67O2Kj7B8J"
   },
   "outputs": [],
   "source": [
    "def train(nrun, model):\n",
    "    criterion = nn.CrossEntropyLoss()\n",
    "    optimizer = Adam(model.parameters(), lr=lr)\n",
    "\n",
    "    train_losses = list()\n",
    "    train_accs = list()\n",
    "\n",
    "    test_losses = list()\n",
    "    test_accs = list()\n",
    "\n",
    "    best_test_acc = 0  # best test accuracy \n",
    "\n",
    "    for e in range(epoch):\n",
    "        print(\"Epoch {} - \".format(e+1), end='')\n",
    "\n",
    "        # train\n",
    "        train_loss = 0.0\n",
    "        correct, total = 0, 0\n",
    "        for _, batch in enumerate(train_loader):\n",
    "            x, label = batch  # get feature and label from a batch\n",
    "            x, label = x.to(device), label.to(device)  # send to device\n",
    "            optimizer.zero_grad()  # init all grads to zero\n",
    "            output = model(x)  # forward propagation\n",
    "            loss = criterion(output, label)  # calculate loss\n",
    "            loss.backward()  # backward propagation\n",
    "            optimizer.step()  # weight update\n",
    "\n",
    "            train_loss += loss.item()\n",
    "            correct += torch.sum(output.argmax(dim=1) == label).item()\n",
    "            total += len(label)\n",
    "        train_losses.append(train_loss / len(train_loader))\n",
    "        train_accs.append(correct / total)\n",
    "        print(\"loss: {:.4f}, acc: {:.2f}%\".format(train_losses[-1], train_accs[-1]*100), end=' / ')\n",
    "        \n",
    "        # test\n",
    "        with torch.no_grad():\n",
    "            test_loss = 0.0\n",
    "            correct, total = 0, 0\n",
    "            for _, batch in enumerate(test_loader):\n",
    "                x, label = batch\n",
    "                x, label = x.to(device), label.to(device)\n",
    "                output = model(x)\n",
    "                loss = criterion(output, label)\n",
    "                \n",
    "                test_loss += loss.item()\n",
    "                correct += torch.sum(output.argmax(dim=1) == label).item()\n",
    "                total += len(label)\n",
    "            test_losses.append(test_loss / len(test_loader))\n",
    "            test_accs.append(correct / total)\n",
    "        print(\"test_loss: {:.4f}, test_acc: {:.2f}%\".format(test_losses[-1], test_accs[-1]*100))\n",
    "\n",
    "        # save model that has best validation accuracy\n",
    "        if test_accs[-1] > best_test_acc:\n",
    "            best_test_acc = test_accs[-1]\n",
    "            torch.save(model.state_dict(), os.path.join(root_path, model_dir, '_'.join([model_name, str(nrun), 'best']) + model_ext))\n",
    "    \n",
    "        # save model for each 10 epochs\n",
    "        if (e + 1) % 10 == 0:\n",
    "            torch.save(model.state_dict(), os.path.join(root_path, model_dir, '_'.join([model_name, str(nrun), str(e+1)]) + model_ext))\n",
    "    \n",
    "    return train_losses, train_accs, test_losses, test_accs"
   ]
  },
  {
   "cell_type": "markdown",
   "metadata": {
    "colab_type": "text",
    "id": "5h1yJeZXRWjT"
   },
   "source": [
    "## Training process"
   ]
  },
  {
   "cell_type": "markdown",
   "metadata": {
    "colab_type": "text",
    "id": "AXFHuejuRe2u"
   },
   "source": [
    "### Repeat for 10 times"
   ]
  },
  {
   "cell_type": "code",
   "execution_count": 13,
   "metadata": {
    "colab": {
     "base_uri": "https://localhost:8080/",
     "height": 1000
    },
    "colab_type": "code",
    "executionInfo": {
     "elapsed": 6513611,
     "status": "ok",
     "timestamp": 1573150871777,
     "user": {
      "displayName": "Kyuyeon Kim",
      "photoUrl": "https://lh3.googleusercontent.com/a-/AAuE7mBDhZm6xUbCYNLGqOYDpm2QRhOirby0BI-zUCTw2g=s64",
      "userId": "05245697685138289125"
     },
     "user_tz": -540
    },
    "id": "IAusksoSKSI0",
    "outputId": "3bf51e50-8a79-445c-f42e-d446d684603e"
   },
   "outputs": [
    {
     "name": "stdout",
     "output_type": "stream",
     "text": [
      "Run 1\n",
      "Epoch 1 - loss: 1.3391, acc: 57.46% / test_loss: 1.1928, test_acc: 71.51%\n",
      "Epoch 2 - loss: 1.1487, acc: 75.83% / test_loss: 1.1168, test_acc: 78.76%\n",
      "Epoch 3 - loss: 1.1133, acc: 79.23% / test_loss: 1.0840, test_acc: 82.13%\n",
      "Epoch 4 - loss: 1.0853, acc: 82.06% / test_loss: 1.0679, test_acc: 83.71%\n",
      "Epoch 5 - loss: 1.0786, acc: 82.56% / test_loss: 1.0724, test_acc: 83.18%\n",
      "Epoch 6 - loss: 1.0740, acc: 82.99% / test_loss: 1.0738, test_acc: 83.07%\n",
      "Epoch 7 - loss: 1.0701, acc: 83.36% / test_loss: 1.0437, test_acc: 86.06%\n",
      "Epoch 8 - loss: 1.0723, acc: 83.15% / test_loss: 1.0644, test_acc: 83.94%\n",
      "Epoch 9 - loss: 1.0662, acc: 83.76% / test_loss: 1.0449, test_acc: 85.87%\n",
      "Epoch 10 - loss: 1.0666, acc: 83.77% / test_loss: 1.0752, test_acc: 82.86%\n",
      "Epoch 11 - loss: 1.0690, acc: 83.47% / test_loss: 1.0405, test_acc: 86.36%\n",
      "Epoch 12 - loss: 1.0648, acc: 83.87% / test_loss: 1.0587, test_acc: 84.52%\n",
      "Epoch 13 - loss: 1.0586, acc: 84.50% / test_loss: 1.0560, test_acc: 84.82%\n",
      "Epoch 14 - loss: 1.0618, acc: 84.20% / test_loss: 1.0641, test_acc: 83.96%\n",
      "Epoch 15 - loss: 1.0627, acc: 84.12% / test_loss: 1.0442, test_acc: 85.99%\n",
      "Epoch 16 - loss: 1.0609, acc: 84.29% / test_loss: 1.0476, test_acc: 85.66%\n",
      "Epoch 17 - loss: 1.0690, acc: 83.47% / test_loss: 1.0456, test_acc: 85.82%\n",
      "Epoch 18 - loss: 1.0596, acc: 84.48% / test_loss: 1.0613, test_acc: 84.26%\n",
      "Epoch 19 - loss: 1.0607, acc: 84.35% / test_loss: 1.0459, test_acc: 85.81%\n",
      "Epoch 20 - loss: 1.0552, acc: 84.92% / test_loss: 1.0567, test_acc: 84.76%\n",
      "Epoch 21 - loss: 1.0647, acc: 83.97% / test_loss: 1.0535, test_acc: 85.07%\n",
      "Epoch 22 - loss: 1.0572, acc: 84.71% / test_loss: 1.0456, test_acc: 85.86%\n",
      "Epoch 23 - loss: 1.0612, acc: 84.30% / test_loss: 1.0467, test_acc: 85.76%\n",
      "Epoch 24 - loss: 1.0603, acc: 84.36% / test_loss: 1.0325, test_acc: 87.18%\n",
      "Epoch 25 - loss: 1.0603, acc: 84.40% / test_loss: 1.0481, test_acc: 85.63%\n",
      "Epoch 26 - loss: 1.0582, acc: 84.65% / test_loss: 1.0538, test_acc: 85.04%\n",
      "Epoch 27 - loss: 1.0626, acc: 84.18% / test_loss: 1.0446, test_acc: 85.99%\n",
      "Epoch 28 - loss: 1.0627, acc: 84.17% / test_loss: 1.0377, test_acc: 86.67%\n",
      "Epoch 29 - loss: 1.0532, acc: 85.13% / test_loss: 1.0336, test_acc: 87.09%\n",
      "Epoch 30 - loss: 1.0599, acc: 84.44% / test_loss: 1.0492, test_acc: 85.53%\n",
      "Epoch 31 - loss: 1.0643, acc: 84.00% / test_loss: 1.0458, test_acc: 85.86%\n",
      "Epoch 32 - loss: 1.0571, acc: 84.73% / test_loss: 1.0439, test_acc: 86.06%\n",
      "Epoch 33 - loss: 1.0747, acc: 82.94% / test_loss: 1.0510, test_acc: 85.35%\n",
      "Epoch 34 - loss: 1.0576, acc: 84.67% / test_loss: 1.0543, test_acc: 85.01%\n",
      "Epoch 35 - loss: 1.0598, acc: 84.46% / test_loss: 1.0471, test_acc: 85.76%\n",
      "Epoch 36 - loss: 1.0620, acc: 84.24% / test_loss: 1.0443, test_acc: 85.99%\n",
      "Epoch 37 - loss: 1.0584, acc: 84.60% / test_loss: 1.0410, test_acc: 86.34%\n",
      "Epoch 38 - loss: 1.0608, acc: 84.38% / test_loss: 1.0630, test_acc: 84.15%\n",
      "Epoch 39 - loss: 1.0608, acc: 84.39% / test_loss: 1.0582, test_acc: 84.65%\n",
      "Epoch 40 - loss: 1.0545, acc: 84.98% / test_loss: 1.0475, test_acc: 85.71%\n",
      "Epoch 41 - loss: 1.0560, acc: 84.84% / test_loss: 1.0384, test_acc: 86.61%\n",
      "Epoch 42 - loss: 1.0551, acc: 84.94% / test_loss: 1.0402, test_acc: 86.44%\n",
      "Epoch 43 - loss: 1.0570, acc: 84.76% / test_loss: 1.0450, test_acc: 85.96%\n",
      "Epoch 44 - loss: 1.0494, acc: 85.53% / test_loss: 1.0484, test_acc: 85.63%\n",
      "Epoch 45 - loss: 1.0561, acc: 84.85% / test_loss: 1.0404, test_acc: 86.43%\n",
      "Epoch 46 - loss: 1.0722, acc: 83.24% / test_loss: 1.0645, test_acc: 84.02%\n",
      "Epoch 47 - loss: 1.0602, acc: 84.44% / test_loss: 1.0548, test_acc: 84.99%\n",
      "Epoch 48 - loss: 1.0638, acc: 84.08% / test_loss: 1.0648, test_acc: 83.96%\n",
      "Epoch 49 - loss: 1.0762, acc: 82.85% / test_loss: 1.0407, test_acc: 86.42%\n",
      "Epoch 50 - loss: 1.0506, acc: 85.41% / test_loss: 1.0729, test_acc: 83.17%\n",
      "Epoch 51 - loss: 1.0569, acc: 84.76% / test_loss: 1.0546, test_acc: 85.01%\n",
      "Epoch 52 - loss: 1.0657, acc: 83.90% / test_loss: 1.0734, test_acc: 83.12%\n",
      "Epoch 53 - loss: 1.0542, acc: 85.04% / test_loss: 1.0499, test_acc: 85.48%\n",
      "Epoch 54 - loss: 1.0737, acc: 83.07% / test_loss: 1.0542, test_acc: 85.02%\n",
      "Epoch 55 - loss: 1.0527, acc: 85.19% / test_loss: 1.0435, test_acc: 86.11%\n",
      "Epoch 56 - loss: 1.0623, acc: 84.22% / test_loss: 1.0424, test_acc: 86.24%\n",
      "Epoch 57 - loss: 1.0612, acc: 84.35% / test_loss: 1.0336, test_acc: 87.12%\n",
      "Epoch 58 - loss: 1.0438, acc: 86.09% / test_loss: 1.0314, test_acc: 87.34%\n",
      "Epoch 59 - loss: 1.0525, acc: 85.20% / test_loss: 1.0356, test_acc: 86.91%\n",
      "Epoch 60 - loss: 1.0751, acc: 82.93% / test_loss: 1.1015, test_acc: 80.32%\n",
      "Epoch 61 - loss: 1.0825, acc: 82.20% / test_loss: 1.0657, test_acc: 83.90%\n",
      "Epoch 62 - loss: 1.0585, acc: 84.63% / test_loss: 1.1014, test_acc: 80.32%\n",
      "Epoch 63 - loss: 1.0584, acc: 84.63% / test_loss: 1.0362, test_acc: 86.85%\n",
      "Epoch 64 - loss: 1.0600, acc: 84.47% / test_loss: 1.0731, test_acc: 83.15%\n",
      "Epoch 65 - loss: 1.0584, acc: 84.63% / test_loss: 1.0378, test_acc: 86.70%\n",
      "Epoch 66 - loss: 1.0587, acc: 84.58% / test_loss: 1.0419, test_acc: 86.29%\n",
      "Epoch 67 - loss: 1.0584, acc: 84.63% / test_loss: 1.0397, test_acc: 86.50%\n",
      "Epoch 68 - loss: 1.0509, acc: 85.40% / test_loss: 1.0342, test_acc: 87.05%\n",
      "Epoch 69 - loss: 1.0583, acc: 84.65% / test_loss: 1.0370, test_acc: 86.78%\n",
      "Epoch 70 - loss: 1.0519, acc: 85.26% / test_loss: 1.0439, test_acc: 86.06%\n",
      "Epoch 71 - loss: 1.0563, acc: 84.85% / test_loss: 1.0365, test_acc: 86.83%\n",
      "Epoch 72 - loss: 1.0564, acc: 84.82% / test_loss: 1.0426, test_acc: 86.22%\n",
      "Epoch 73 - loss: 1.0828, acc: 82.21% / test_loss: 1.0373, test_acc: 86.74%\n",
      "Epoch 74 - loss: 1.0571, acc: 84.75% / test_loss: 1.0439, test_acc: 86.11%\n",
      "Epoch 75 - loss: 1.0670, acc: 83.76% / test_loss: 1.0426, test_acc: 86.22%\n",
      "Epoch 76 - loss: 1.0656, acc: 83.91% / test_loss: 1.0343, test_acc: 87.06%\n",
      "Epoch 77 - loss: 1.0543, acc: 85.04% / test_loss: 1.0434, test_acc: 86.12%\n",
      "Epoch 78 - loss: 1.0550, acc: 84.97% / test_loss: 1.0638, test_acc: 84.08%\n",
      "Epoch 79 - loss: 1.0619, acc: 84.28% / test_loss: 1.0465, test_acc: 85.83%\n",
      "Epoch 80 - loss: 1.0614, acc: 84.33% / test_loss: 1.0563, test_acc: 84.83%\n",
      "Epoch 81 - loss: 1.0857, acc: 81.91% / test_loss: 1.0875, test_acc: 81.71%\n",
      "Epoch 82 - loss: 1.0835, acc: 82.11% / test_loss: 1.0525, test_acc: 85.23%\n",
      "Epoch 83 - loss: 1.0603, acc: 84.44% / test_loss: 1.0609, test_acc: 84.36%\n",
      "Epoch 84 - loss: 1.0728, acc: 83.19% / test_loss: 1.0338, test_acc: 87.10%\n",
      "Epoch 85 - loss: 1.0549, acc: 84.98% / test_loss: 1.0450, test_acc: 85.96%\n",
      "Epoch 86 - loss: 1.0584, acc: 84.64% / test_loss: 1.0529, test_acc: 85.19%\n",
      "Epoch 87 - loss: 1.0613, acc: 84.36% / test_loss: 1.0741, test_acc: 83.07%\n",
      "Epoch 88 - loss: 1.0745, acc: 83.02% / test_loss: 1.0469, test_acc: 85.78%\n",
      "Epoch 89 - loss: 1.0528, acc: 85.18% / test_loss: 1.0574, test_acc: 84.73%\n",
      "Epoch 90 - loss: 1.0570, acc: 84.78% / test_loss: 1.0429, test_acc: 86.19%\n",
      "Epoch 91 - loss: 1.0577, acc: 84.70% / test_loss: 1.0529, test_acc: 85.17%\n",
      "Epoch 92 - loss: 1.0746, acc: 83.00% / test_loss: 1.0754, test_acc: 82.93%\n",
      "Epoch 93 - loss: 1.0687, acc: 83.59% / test_loss: 1.0593, test_acc: 84.54%\n",
      "Epoch 94 - loss: 1.0523, acc: 85.25% / test_loss: 1.0407, test_acc: 86.39%\n",
      "Epoch 95 - loss: 1.0666, acc: 83.81% / test_loss: 1.0589, test_acc: 84.57%\n",
      "Epoch 96 - loss: 1.0626, acc: 84.22% / test_loss: 1.0580, test_acc: 84.67%\n",
      "Epoch 97 - loss: 1.0544, acc: 85.01% / test_loss: 1.0354, test_acc: 86.92%\n",
      "Epoch 98 - loss: 1.0575, acc: 84.71% / test_loss: 1.0372, test_acc: 86.76%\n",
      "Epoch 99 - loss: 1.0572, acc: 84.76% / test_loss: 1.0562, test_acc: 84.85%\n",
      "Epoch 100 - loss: 1.0577, acc: 84.69% / test_loss: 1.0759, test_acc: 82.86%\n",
      "Epoch 101 - loss: 1.0732, acc: 83.16% / test_loss: 1.0467, test_acc: 85.81%\n",
      "Epoch 102 - loss: 1.0577, acc: 84.70% / test_loss: 1.0496, test_acc: 85.53%\n",
      "Epoch 103 - loss: 1.0620, acc: 84.27% / test_loss: 1.0448, test_acc: 85.99%\n",
      "Epoch 104 - loss: 1.0753, acc: 82.94% / test_loss: 1.0414, test_acc: 86.34%\n",
      "Epoch 105 - loss: 1.0781, acc: 82.66% / test_loss: 1.0430, test_acc: 86.18%\n",
      "Epoch 106 - loss: 1.0589, acc: 84.59% / test_loss: 1.0577, test_acc: 84.71%\n",
      "Epoch 107 - loss: 1.0662, acc: 83.84% / test_loss: 1.0673, test_acc: 83.74%\n",
      "Epoch 108 - loss: 1.0687, acc: 83.59% / test_loss: 1.0649, test_acc: 83.98%\n",
      "Epoch 109 - loss: 1.0615, acc: 84.33% / test_loss: 1.0583, test_acc: 84.65%\n"
     ]
    },
    {
     "name": "stdout",
     "output_type": "stream",
     "text": [
      "Epoch 110 - loss: 1.0600, acc: 84.47% / test_loss: 1.0694, test_acc: 83.53%\n",
      "Epoch 111 - loss: 1.0574, acc: 84.73% / test_loss: 1.0682, test_acc: 83.66%\n",
      "Epoch 112 - loss: 1.0679, acc: 83.68% / test_loss: 1.0450, test_acc: 85.98%\n",
      "Epoch 113 - loss: 1.0868, acc: 81.80% / test_loss: 1.0936, test_acc: 81.12%\n",
      "Epoch 114 - loss: 1.0870, acc: 81.78% / test_loss: 1.0444, test_acc: 86.04%\n",
      "Epoch 115 - loss: 1.0499, acc: 85.49% / test_loss: 1.0391, test_acc: 86.56%\n",
      "Epoch 116 - loss: 1.0759, acc: 82.88% / test_loss: 1.0455, test_acc: 85.92%\n",
      "Epoch 117 - loss: 1.0659, acc: 83.87% / test_loss: 1.0469, test_acc: 85.78%\n",
      "Epoch 118 - loss: 1.1051, acc: 79.96% / test_loss: 1.0801, test_acc: 82.46%\n",
      "Epoch 119 - loss: 1.0660, acc: 83.87% / test_loss: 1.0565, test_acc: 84.82%\n",
      "Epoch 120 - loss: 1.0664, acc: 83.83% / test_loss: 1.0693, test_acc: 83.53%\n",
      "Epoch 121 - loss: 1.0654, acc: 83.93% / test_loss: 1.0389, test_acc: 86.58%\n",
      "Epoch 122 - loss: 1.1066, acc: 79.82% / test_loss: 1.0680, test_acc: 83.68%\n",
      "Epoch 123 - loss: 1.0739, acc: 83.09% / test_loss: 1.0520, test_acc: 85.28%\n",
      "Epoch 124 - loss: 1.0690, acc: 83.55% / test_loss: 1.0623, test_acc: 84.25%\n",
      "Epoch 125 - loss: 1.0706, acc: 83.42% / test_loss: 1.0480, test_acc: 85.68%\n",
      "Epoch 126 - loss: 1.0465, acc: 85.82% / test_loss: 1.0372, test_acc: 86.76%\n",
      "Epoch 127 - loss: 1.0562, acc: 84.84% / test_loss: 1.0581, test_acc: 84.68%\n",
      "Epoch 128 - loss: 1.0570, acc: 84.78% / test_loss: 1.0557, test_acc: 84.91%\n",
      "Epoch 129 - loss: 1.0622, acc: 84.27% / test_loss: 1.0730, test_acc: 83.19%\n",
      "Epoch 130 - loss: 1.0763, acc: 82.84% / test_loss: 1.0722, test_acc: 83.25%\n",
      "Epoch 131 - loss: 1.0819, acc: 82.28% / test_loss: 1.0699, test_acc: 83.50%\n",
      "Epoch 132 - loss: 1.0831, acc: 82.16% / test_loss: 1.0407, test_acc: 86.41%\n",
      "Epoch 133 - loss: 1.0630, acc: 84.18% / test_loss: 1.0608, test_acc: 84.39%\n",
      "Epoch 134 - loss: 1.0634, acc: 84.13% / test_loss: 1.0388, test_acc: 86.59%\n",
      "Epoch 135 - loss: 1.0583, acc: 84.65% / test_loss: 1.0389, test_acc: 86.60%\n",
      "Epoch 136 - loss: 1.0510, acc: 85.38% / test_loss: 1.0379, test_acc: 86.68%\n",
      "Epoch 137 - loss: 1.0464, acc: 85.85% / test_loss: 1.0421, test_acc: 86.27%\n",
      "Epoch 138 - loss: 1.0581, acc: 84.67% / test_loss: 1.0430, test_acc: 86.18%\n",
      "Epoch 139 - loss: 1.0669, acc: 83.80% / test_loss: 1.0430, test_acc: 86.19%\n",
      "Epoch 140 - loss: 1.0731, acc: 83.18% / test_loss: 1.0657, test_acc: 83.91%\n",
      "Epoch 141 - loss: 1.0554, acc: 84.93% / test_loss: 1.0339, test_acc: 87.09%\n",
      "Epoch 142 - loss: 1.0537, acc: 85.11% / test_loss: 1.0509, test_acc: 85.38%\n",
      "Epoch 143 - loss: 1.0554, acc: 84.93% / test_loss: 1.0510, test_acc: 85.38%\n",
      "Epoch 144 - loss: 1.0582, acc: 84.64% / test_loss: 1.0559, test_acc: 84.89%\n",
      "Epoch 145 - loss: 1.0591, acc: 84.56% / test_loss: 1.0553, test_acc: 84.95%\n",
      "Epoch 146 - loss: 1.0645, acc: 84.02% / test_loss: 1.0525, test_acc: 85.22%\n",
      "Epoch 147 - loss: 1.0531, acc: 85.17% / test_loss: 1.0491, test_acc: 85.57%\n",
      "Epoch 148 - loss: 1.0456, acc: 85.92% / test_loss: 1.0426, test_acc: 86.21%\n",
      "Epoch 149 - loss: 1.0633, acc: 84.14% / test_loss: 1.0676, test_acc: 83.71%\n",
      "Epoch 150 - loss: 1.0744, acc: 83.05% / test_loss: 1.0495, test_acc: 85.53%\n",
      "Epoch 151 - loss: 1.0989, acc: 80.58% / test_loss: 1.0525, test_acc: 85.23%\n",
      "Epoch 152 - loss: 1.0620, acc: 84.27% / test_loss: 1.0437, test_acc: 86.11%\n",
      "Epoch 153 - loss: 1.0596, acc: 84.50% / test_loss: 1.0498, test_acc: 85.50%\n",
      "Epoch 154 - loss: 1.0591, acc: 84.56% / test_loss: 1.0436, test_acc: 86.12%\n",
      "Epoch 155 - loss: 1.0557, acc: 84.91% / test_loss: 1.0520, test_acc: 85.28%\n",
      "Epoch 156 - loss: 1.0633, acc: 84.14% / test_loss: 1.0470, test_acc: 85.78%\n",
      "Epoch 157 - loss: 1.0614, acc: 84.33% / test_loss: 1.0434, test_acc: 86.13%\n",
      "Epoch 158 - loss: 1.0518, acc: 85.29% / test_loss: 1.0422, test_acc: 86.25%\n",
      "Epoch 159 - loss: 1.0489, acc: 85.59% / test_loss: 1.0428, test_acc: 86.20%\n",
      "Epoch 160 - loss: 1.0625, acc: 84.23% / test_loss: 1.0468, test_acc: 85.79%\n",
      "Epoch 161 - loss: 1.0639, acc: 84.08% / test_loss: 1.0584, test_acc: 84.64%\n",
      "Epoch 162 - loss: 1.0623, acc: 84.26% / test_loss: 1.0912, test_acc: 81.35%\n",
      "Epoch 163 - loss: 1.0707, acc: 83.41% / test_loss: 1.0602, test_acc: 84.47%\n",
      "Epoch 164 - loss: 1.0624, acc: 84.23% / test_loss: 1.0453, test_acc: 85.94%\n",
      "Epoch 165 - loss: 1.0708, acc: 83.40% / test_loss: 1.0741, test_acc: 83.07%\n",
      "Epoch 166 - loss: 1.0835, acc: 82.13% / test_loss: 1.0530, test_acc: 85.19%\n",
      "Epoch 167 - loss: 1.0620, acc: 84.26% / test_loss: 1.0492, test_acc: 85.56%\n",
      "Epoch 168 - loss: 1.0585, acc: 84.63% / test_loss: 1.0485, test_acc: 85.63%\n",
      "Epoch 169 - loss: 1.0565, acc: 84.82% / test_loss: 1.0586, test_acc: 84.62%\n",
      "Epoch 170 - loss: 1.0555, acc: 84.93% / test_loss: 1.0402, test_acc: 86.46%\n",
      "Epoch 171 - loss: 1.0859, acc: 81.87% / test_loss: 1.0661, test_acc: 83.87%\n",
      "Epoch 172 - loss: 1.0581, acc: 84.67% / test_loss: 1.0510, test_acc: 85.38%\n",
      "Epoch 173 - loss: 1.0513, acc: 85.34% / test_loss: 1.0359, test_acc: 86.89%\n",
      "Epoch 174 - loss: 1.0867, acc: 81.80% / test_loss: 1.0365, test_acc: 86.83%\n",
      "Epoch 175 - loss: 1.0522, acc: 85.26% / test_loss: 1.0479, test_acc: 85.69%\n",
      "Epoch 176 - loss: 1.0736, acc: 83.12% / test_loss: 1.0652, test_acc: 83.96%\n",
      "Epoch 177 - loss: 1.0963, acc: 80.85% / test_loss: 1.0574, test_acc: 84.76%\n",
      "Epoch 178 - loss: 1.0591, acc: 84.58% / test_loss: 1.0463, test_acc: 85.85%\n",
      "Epoch 179 - loss: 1.0502, acc: 85.46% / test_loss: 1.0339, test_acc: 87.10%\n",
      "Epoch 180 - loss: 1.0498, acc: 85.50% / test_loss: 1.0420, test_acc: 86.28%\n",
      "Epoch 181 - loss: 1.0597, acc: 84.50% / test_loss: 1.0551, test_acc: 84.97%\n",
      "Epoch 182 - loss: 1.0541, acc: 85.07% / test_loss: 1.0703, test_acc: 83.45%\n",
      "Epoch 183 - loss: 1.0643, acc: 84.05% / test_loss: 1.0407, test_acc: 86.41%\n",
      "Epoch 184 - loss: 1.0540, acc: 85.09% / test_loss: 1.0608, test_acc: 84.41%\n",
      "Epoch 185 - loss: 1.0594, acc: 84.53% / test_loss: 1.1061, test_acc: 79.85%\n",
      "Epoch 186 - loss: 1.0956, acc: 80.90% / test_loss: 1.0853, test_acc: 81.95%\n",
      "Epoch 187 - loss: 1.0770, acc: 82.78% / test_loss: 1.0447, test_acc: 86.01%\n",
      "Epoch 188 - loss: 1.0614, acc: 84.35% / test_loss: 1.0876, test_acc: 81.71%\n",
      "Epoch 189 - loss: 1.0836, acc: 82.11% / test_loss: 1.0477, test_acc: 85.71%\n",
      "Epoch 190 - loss: 1.0516, acc: 85.32% / test_loss: 1.0682, test_acc: 83.65%\n",
      "Epoch 191 - loss: 1.0639, acc: 84.08% / test_loss: 1.0579, test_acc: 84.69%\n",
      "Epoch 192 - loss: 1.0557, acc: 84.91% / test_loss: 1.0533, test_acc: 85.15%\n",
      "Epoch 193 - loss: 1.0676, acc: 83.71% / test_loss: 1.0562, test_acc: 84.86%\n",
      "Epoch 194 - loss: 1.0739, acc: 83.08% / test_loss: 1.0638, test_acc: 84.10%\n",
      "Epoch 195 - loss: 1.0647, acc: 84.00% / test_loss: 1.1346, test_acc: 77.02%\n",
      "Epoch 196 - loss: 1.0751, acc: 82.97% / test_loss: 1.0423, test_acc: 86.24%\n",
      "Epoch 197 - loss: 1.0630, acc: 84.18% / test_loss: 1.0735, test_acc: 83.13%\n",
      "Epoch 198 - loss: 1.0637, acc: 84.11% / test_loss: 1.0680, test_acc: 83.68%\n",
      "Epoch 199 - loss: 1.1063, acc: 79.86% / test_loss: 1.0803, test_acc: 82.45%\n",
      "Epoch 200 - loss: 1.0649, acc: 83.98% / test_loss: 1.0541, test_acc: 85.07%\n",
      "Epoch 201 - loss: 1.0561, acc: 84.87% / test_loss: 1.0383, test_acc: 86.64%\n",
      "Epoch 202 - loss: 1.0529, acc: 85.18% / test_loss: 1.0670, test_acc: 83.78%\n",
      "Epoch 203 - loss: 1.0580, acc: 84.68% / test_loss: 1.0358, test_acc: 86.90%\n",
      "Epoch 204 - loss: 1.0552, acc: 84.96% / test_loss: 1.0566, test_acc: 84.82%\n",
      "Epoch 205 - loss: 1.0571, acc: 84.77% / test_loss: 1.0418, test_acc: 86.30%\n",
      "Epoch 206 - loss: 1.0588, acc: 84.61% / test_loss: 1.1133, test_acc: 79.15%\n",
      "Epoch 207 - loss: 1.0670, acc: 83.77% / test_loss: 1.0640, test_acc: 84.07%\n",
      "Epoch 208 - loss: 1.0624, acc: 84.24% / test_loss: 1.0533, test_acc: 85.15%\n",
      "Epoch 209 - loss: 1.0523, acc: 85.25% / test_loss: 1.0558, test_acc: 84.90%\n",
      "Epoch 210 - loss: 1.0503, acc: 85.44% / test_loss: 1.0507, test_acc: 85.41%\n",
      "Epoch 211 - loss: 1.0889, acc: 81.59% / test_loss: 1.1253, test_acc: 77.94%\n",
      "Epoch 212 - loss: 1.0917, acc: 81.31% / test_loss: 1.0981, test_acc: 80.66%\n",
      "Epoch 213 - loss: 1.0631, acc: 84.16% / test_loss: 1.0412, test_acc: 86.36%\n",
      "Epoch 214 - loss: 1.0489, acc: 85.59% / test_loss: 1.0405, test_acc: 86.43%\n",
      "Epoch 215 - loss: 1.0600, acc: 84.48% / test_loss: 1.0446, test_acc: 86.02%\n",
      "Epoch 216 - loss: 1.0563, acc: 84.85% / test_loss: 1.0406, test_acc: 86.43%\n"
     ]
    },
    {
     "name": "stdout",
     "output_type": "stream",
     "text": [
      "Epoch 217 - loss: 1.0693, acc: 83.56% / test_loss: 1.0505, test_acc: 85.43%\n",
      "Epoch 218 - loss: 1.0605, acc: 84.43% / test_loss: 1.1051, test_acc: 79.97%\n",
      "Epoch 219 - loss: 1.0909, acc: 81.39% / test_loss: 1.0655, test_acc: 83.93%\n",
      "Epoch 220 - loss: 1.0622, acc: 84.25% / test_loss: 1.0508, test_acc: 85.41%\n",
      "Epoch 221 - loss: 1.0736, acc: 83.13% / test_loss: 1.0727, test_acc: 83.21%\n",
      "Epoch 222 - loss: 1.1370, acc: 76.79% / test_loss: 1.1289, test_acc: 77.59%\n",
      "Epoch 223 - loss: 1.0735, acc: 83.13% / test_loss: 1.0445, test_acc: 86.02%\n",
      "Epoch 224 - loss: 1.0615, acc: 84.33% / test_loss: 1.0473, test_acc: 85.75%\n",
      "Epoch 225 - loss: 1.0726, acc: 83.21% / test_loss: 1.0463, test_acc: 85.85%\n",
      "Epoch 226 - loss: 1.0649, acc: 83.99% / test_loss: 1.0423, test_acc: 86.24%\n",
      "Epoch 227 - loss: 1.0636, acc: 84.11% / test_loss: 1.0528, test_acc: 85.20%\n",
      "Epoch 228 - loss: 1.0612, acc: 84.36% / test_loss: 1.0457, test_acc: 85.92%\n",
      "Epoch 229 - loss: 1.0670, acc: 83.78% / test_loss: 1.0684, test_acc: 83.64%\n",
      "Epoch 230 - loss: 1.0732, acc: 83.16% / test_loss: 1.0509, test_acc: 85.39%\n",
      "Epoch 231 - loss: 1.0579, acc: 84.69% / test_loss: 1.0481, test_acc: 85.67%\n",
      "Epoch 232 - loss: 1.0532, acc: 85.16% / test_loss: 1.0452, test_acc: 85.96%\n",
      "Epoch 233 - loss: 1.0821, acc: 82.26% / test_loss: 1.1304, test_acc: 77.44%\n",
      "Epoch 234 - loss: 1.0855, acc: 81.93% / test_loss: 1.0476, test_acc: 85.72%\n",
      "Epoch 235 - loss: 1.0544, acc: 85.04% / test_loss: 1.0473, test_acc: 85.75%\n",
      "Epoch 236 - loss: 1.0648, acc: 83.99% / test_loss: 1.0520, test_acc: 85.27%\n",
      "Epoch 237 - loss: 1.0829, acc: 82.17% / test_loss: 1.0541, test_acc: 85.07%\n",
      "Epoch 238 - loss: 1.0681, acc: 83.67% / test_loss: 1.1162, test_acc: 78.86%\n",
      "Epoch 239 - loss: 1.1184, acc: 78.65% / test_loss: 1.0592, test_acc: 84.55%\n",
      "Epoch 240 - loss: 1.0595, acc: 84.53% / test_loss: 1.0424, test_acc: 86.24%\n",
      "Epoch 241 - loss: 1.0556, acc: 84.92% / test_loss: 1.0452, test_acc: 85.96%\n",
      "Epoch 242 - loss: 1.0611, acc: 84.36% / test_loss: 1.0462, test_acc: 85.87%\n",
      "Epoch 243 - loss: 1.0593, acc: 84.55% / test_loss: 1.0467, test_acc: 85.81%\n",
      "Epoch 244 - loss: 1.0667, acc: 83.81% / test_loss: 1.0683, test_acc: 83.65%\n",
      "Epoch 245 - loss: 1.0744, acc: 83.04% / test_loss: 1.0888, test_acc: 81.59%\n",
      "Epoch 246 - loss: 1.0701, acc: 83.47% / test_loss: 1.0673, test_acc: 83.74%\n",
      "Epoch 247 - loss: 1.0778, acc: 82.70% / test_loss: 1.0575, test_acc: 84.73%\n",
      "Epoch 248 - loss: 1.0705, acc: 83.44% / test_loss: 1.0563, test_acc: 84.85%\n",
      "Epoch 249 - loss: 1.1269, acc: 77.79% / test_loss: 1.0755, test_acc: 82.94%\n",
      "Epoch 250 - loss: 1.0750, acc: 82.97% / test_loss: 1.0698, test_acc: 83.50%\n",
      "Epoch 251 - loss: 1.0781, acc: 82.66% / test_loss: 1.0733, test_acc: 83.15%\n",
      "Epoch 252 - loss: 1.0621, acc: 84.27% / test_loss: 1.0484, test_acc: 85.64%\n",
      "Epoch 253 - loss: 1.0635, acc: 84.13% / test_loss: 1.0649, test_acc: 83.99%\n",
      "Epoch 254 - loss: 1.0771, acc: 82.75% / test_loss: 1.0433, test_acc: 86.15%\n",
      "Epoch 255 - loss: 1.0486, acc: 85.62% / test_loss: 1.0428, test_acc: 86.20%\n",
      "Epoch 256 - loss: 1.0560, acc: 84.88% / test_loss: 1.0522, test_acc: 85.25%\n",
      "Epoch 257 - loss: 1.0494, acc: 85.54% / test_loss: 1.0372, test_acc: 86.76%\n",
      "Epoch 258 - loss: 1.0606, acc: 84.42% / test_loss: 1.0546, test_acc: 85.02%\n",
      "Epoch 259 - loss: 1.0602, acc: 84.47% / test_loss: 1.0692, test_acc: 83.56%\n",
      "Epoch 260 - loss: 1.0594, acc: 84.55% / test_loss: 1.0483, test_acc: 85.65%\n",
      "Epoch 261 - loss: 1.0840, acc: 82.07% / test_loss: 1.0689, test_acc: 83.59%\n",
      "Epoch 262 - loss: 1.0792, acc: 82.56% / test_loss: 1.0737, test_acc: 83.13%\n",
      "Epoch 263 - loss: 1.0681, acc: 83.68% / test_loss: 1.0477, test_acc: 85.70%\n",
      "Epoch 264 - loss: 1.0739, acc: 83.09% / test_loss: 1.0405, test_acc: 86.43%\n",
      "Epoch 265 - loss: 1.0741, acc: 83.07% / test_loss: 1.0691, test_acc: 83.57%\n",
      "Epoch 266 - loss: 1.0705, acc: 83.43% / test_loss: 1.0612, test_acc: 84.36%\n",
      "Epoch 267 - loss: 1.0644, acc: 84.04% / test_loss: 1.0642, test_acc: 84.07%\n",
      "Epoch 268 - loss: 1.0755, acc: 82.93% / test_loss: 1.0434, test_acc: 86.14%\n",
      "Epoch 269 - loss: 1.0782, acc: 82.67% / test_loss: 1.0983, test_acc: 80.65%\n",
      "Epoch 270 - loss: 1.0971, acc: 80.76% / test_loss: 1.0727, test_acc: 83.22%\n",
      "Epoch 271 - loss: 1.0663, acc: 83.84% / test_loss: 1.0560, test_acc: 84.89%\n",
      "Epoch 272 - loss: 1.0634, acc: 84.13% / test_loss: 1.0671, test_acc: 83.78%\n",
      "Epoch 273 - loss: 1.0632, acc: 84.16% / test_loss: 1.0468, test_acc: 85.80%\n",
      "Epoch 274 - loss: 1.0602, acc: 84.45% / test_loss: 1.0673, test_acc: 83.76%\n",
      "Epoch 275 - loss: 1.0912, acc: 81.37% / test_loss: 1.1070, test_acc: 79.78%\n",
      "Epoch 276 - loss: 1.1260, acc: 77.88% / test_loss: 1.0696, test_acc: 83.53%\n",
      "Epoch 277 - loss: 1.0788, acc: 82.60% / test_loss: 1.0631, test_acc: 84.17%\n",
      "Epoch 278 - loss: 1.0657, acc: 83.91% / test_loss: 1.0464, test_acc: 85.84%\n",
      "Epoch 279 - loss: 1.0501, acc: 85.47% / test_loss: 1.0394, test_acc: 86.54%\n",
      "Epoch 280 - loss: 1.0538, acc: 85.10% / test_loss: 1.1160, test_acc: 78.88%\n",
      "Epoch 281 - loss: 1.0907, acc: 81.41% / test_loss: 1.1648, test_acc: 74.01%\n",
      "Epoch 282 - loss: 1.1101, acc: 79.47% / test_loss: 1.0481, test_acc: 85.67%\n",
      "Epoch 283 - loss: 1.0593, acc: 84.55% / test_loss: 1.0501, test_acc: 85.47%\n",
      "Epoch 284 - loss: 1.0572, acc: 84.76% / test_loss: 1.0409, test_acc: 86.39%\n",
      "Epoch 285 - loss: 1.0619, acc: 84.30% / test_loss: 1.0504, test_acc: 85.44%\n",
      "Epoch 286 - loss: 1.0560, acc: 84.88% / test_loss: 1.0524, test_acc: 85.22%\n",
      "Epoch 287 - loss: 1.1004, acc: 80.44% / test_loss: 1.0744, test_acc: 83.05%\n",
      "Epoch 288 - loss: 1.0833, acc: 82.15% / test_loss: 1.0521, test_acc: 85.27%\n",
      "Epoch 289 - loss: 1.0594, acc: 84.54% / test_loss: 1.0410, test_acc: 86.39%\n",
      "Epoch 290 - loss: 1.0490, acc: 85.59% / test_loss: 1.0349, test_acc: 86.99%\n",
      "Epoch 291 - loss: 1.0483, acc: 85.65% / test_loss: 1.0368, test_acc: 86.80%\n",
      "Epoch 292 - loss: 1.0524, acc: 85.23% / test_loss: 1.0623, test_acc: 84.25%\n",
      "Epoch 293 - loss: 1.0759, acc: 82.89% / test_loss: 1.0659, test_acc: 83.90%\n",
      "Epoch 294 - loss: 1.0588, acc: 84.60% / test_loss: 1.0555, test_acc: 84.92%\n",
      "Epoch 295 - loss: 1.0747, acc: 83.01% / test_loss: 1.0581, test_acc: 84.67%\n",
      "Epoch 296 - loss: 1.0570, acc: 84.77% / test_loss: 1.0451, test_acc: 85.96%\n",
      "Epoch 297 - loss: 1.0706, acc: 83.42% / test_loss: 1.0625, test_acc: 84.24%\n",
      "Epoch 298 - loss: 1.0682, acc: 83.66% / test_loss: 1.0729, test_acc: 83.19%\n",
      "Epoch 299 - loss: 1.0696, acc: 83.50% / test_loss: 1.0681, test_acc: 83.67%\n",
      "Epoch 300 - loss: 1.0527, acc: 85.21% / test_loss: 1.0408, test_acc: 86.40%\n",
      "Epoch 301 - loss: 1.0485, acc: 85.62% / test_loss: 1.0375, test_acc: 86.73%\n",
      "Epoch 302 - loss: 1.0569, acc: 84.78% / test_loss: 1.0619, test_acc: 84.28%\n",
      "Epoch 303 - loss: 1.0595, acc: 84.53% / test_loss: 1.0564, test_acc: 84.84%\n",
      "Epoch 304 - loss: 1.0747, acc: 83.01% / test_loss: 1.0466, test_acc: 85.82%\n",
      "Epoch 305 - loss: 1.0524, acc: 85.24% / test_loss: 1.0489, test_acc: 85.59%\n",
      "Epoch 306 - loss: 1.0664, acc: 83.85% / test_loss: 1.0583, test_acc: 84.65%\n",
      "Epoch 307 - loss: 1.0904, acc: 81.44% / test_loss: 1.0607, test_acc: 84.41%\n",
      "Epoch 308 - loss: 1.0581, acc: 84.67% / test_loss: 1.0477, test_acc: 85.71%\n",
      "Epoch 309 - loss: 1.0729, acc: 83.19% / test_loss: 1.0700, test_acc: 83.47%\n",
      "Epoch 310 - loss: 1.0749, acc: 82.98% / test_loss: 1.0580, test_acc: 84.68%\n",
      "Epoch 311 - loss: 1.0637, acc: 84.11% / test_loss: 1.0747, test_acc: 83.01%\n",
      "Epoch 312 - loss: 1.0818, acc: 82.30% / test_loss: 1.0622, test_acc: 84.27%\n",
      "Epoch 313 - loss: 1.0595, acc: 84.53% / test_loss: 1.0402, test_acc: 86.46%\n",
      "Epoch 314 - loss: 1.0677, acc: 83.71% / test_loss: 1.0580, test_acc: 84.68%\n",
      "Epoch 315 - loss: 1.0741, acc: 83.06% / test_loss: 1.0442, test_acc: 86.06%\n",
      "Epoch 316 - loss: 1.0528, acc: 85.20% / test_loss: 1.0473, test_acc: 85.75%\n",
      "Epoch 317 - loss: 1.0549, acc: 84.99% / test_loss: 1.0450, test_acc: 85.98%\n",
      "Epoch 318 - loss: 1.0495, acc: 85.53% / test_loss: 1.0402, test_acc: 86.46%\n",
      "Epoch 319 - loss: 1.0502, acc: 85.46% / test_loss: 1.0419, test_acc: 86.28%\n",
      "Epoch 320 - loss: 1.0624, acc: 84.24% / test_loss: 1.0595, test_acc: 84.53%\n",
      "Epoch 321 - loss: 1.0701, acc: 83.47% / test_loss: 1.0362, test_acc: 86.87%\n",
      "Epoch 322 - loss: 1.0495, acc: 85.53% / test_loss: 1.0619, test_acc: 84.30%\n",
      "Epoch 323 - loss: 1.0822, acc: 82.27% / test_loss: 1.0743, test_acc: 83.05%\n"
     ]
    },
    {
     "name": "stdout",
     "output_type": "stream",
     "text": [
      "Epoch 324 - loss: 1.0564, acc: 84.85% / test_loss: 1.0463, test_acc: 85.85%\n",
      "Epoch 325 - loss: 1.0565, acc: 84.83% / test_loss: 1.0439, test_acc: 86.10%\n",
      "Epoch 326 - loss: 1.0652, acc: 83.96% / test_loss: 1.0651, test_acc: 83.97%\n",
      "Epoch 327 - loss: 1.0597, acc: 84.51% / test_loss: 1.0466, test_acc: 85.82%\n",
      "Epoch 328 - loss: 1.0504, acc: 85.44% / test_loss: 1.0380, test_acc: 86.67%\n",
      "Epoch 329 - loss: 1.0517, acc: 85.30% / test_loss: 1.0367, test_acc: 86.80%\n",
      "Epoch 330 - loss: 1.0488, acc: 85.60% / test_loss: 1.0361, test_acc: 86.88%\n",
      "Epoch 331 - loss: 1.0553, acc: 84.95% / test_loss: 1.0516, test_acc: 85.32%\n",
      "Epoch 332 - loss: 1.0543, acc: 85.05% / test_loss: 1.0490, test_acc: 85.58%\n",
      "Epoch 333 - loss: 1.0654, acc: 83.93% / test_loss: 1.0681, test_acc: 83.67%\n",
      "Epoch 334 - loss: 1.0683, acc: 83.64% / test_loss: 1.0579, test_acc: 84.70%\n",
      "Epoch 335 - loss: 1.0675, acc: 83.73% / test_loss: 1.0518, test_acc: 85.29%\n",
      "Epoch 336 - loss: 1.0706, acc: 83.43% / test_loss: 1.0451, test_acc: 85.98%\n",
      "Epoch 337 - loss: 1.0523, acc: 85.25% / test_loss: 1.0440, test_acc: 86.09%\n",
      "Epoch 338 - loss: 1.0556, acc: 84.92% / test_loss: 1.0343, test_acc: 87.05%\n",
      "Epoch 339 - loss: 1.0455, acc: 85.93% / test_loss: 1.0542, test_acc: 85.07%\n",
      "Epoch 340 - loss: 1.0621, acc: 84.27% / test_loss: 1.0483, test_acc: 85.65%\n",
      "Epoch 341 - loss: 1.0741, acc: 83.06% / test_loss: 1.0581, test_acc: 84.67%\n",
      "Epoch 342 - loss: 1.0531, acc: 85.16% / test_loss: 1.0436, test_acc: 86.12%\n",
      "Epoch 343 - loss: 1.0512, acc: 85.36% / test_loss: 1.0401, test_acc: 86.48%\n",
      "Epoch 344 - loss: 1.0530, acc: 85.18% / test_loss: 1.0560, test_acc: 84.88%\n",
      "Epoch 345 - loss: 1.0641, acc: 84.06% / test_loss: 1.1023, test_acc: 80.25%\n",
      "Epoch 346 - loss: 1.1183, acc: 78.64% / test_loss: 1.1571, test_acc: 74.78%\n",
      "Epoch 347 - loss: 1.1084, acc: 79.64% / test_loss: 1.0688, test_acc: 83.61%\n",
      "Epoch 348 - loss: 1.0803, acc: 82.45% / test_loss: 1.1316, test_acc: 77.31%\n",
      "Epoch 349 - loss: 1.0761, acc: 82.86% / test_loss: 1.0525, test_acc: 85.24%\n",
      "Epoch 350 - loss: 1.0600, acc: 84.48% / test_loss: 1.0490, test_acc: 85.58%\n",
      "Epoch 351 - loss: 1.0582, acc: 84.65% / test_loss: 1.0420, test_acc: 86.29%\n",
      "Epoch 352 - loss: 1.0772, acc: 82.76% / test_loss: 1.0702, test_acc: 83.46%\n",
      "Epoch 353 - loss: 1.1015, acc: 80.32% / test_loss: 1.0560, test_acc: 84.88%\n",
      "Epoch 354 - loss: 1.0503, acc: 85.45% / test_loss: 1.0468, test_acc: 85.81%\n",
      "Epoch 355 - loss: 1.0482, acc: 85.66% / test_loss: 1.0384, test_acc: 86.64%\n",
      "Epoch 356 - loss: 1.0518, acc: 85.30% / test_loss: 1.0383, test_acc: 86.65%\n",
      "Epoch 357 - loss: 1.0558, acc: 84.90% / test_loss: 1.0853, test_acc: 81.96%\n",
      "Epoch 358 - loss: 1.0771, acc: 82.78% / test_loss: 1.0671, test_acc: 83.77%\n",
      "Epoch 359 - loss: 1.0712, acc: 83.36% / test_loss: 1.0533, test_acc: 85.16%\n",
      "Epoch 360 - loss: 1.0747, acc: 83.01% / test_loss: 1.0867, test_acc: 81.80%\n",
      "Epoch 361 - loss: 1.0728, acc: 83.20% / test_loss: 1.0525, test_acc: 85.23%\n",
      "Epoch 362 - loss: 1.0633, acc: 84.15% / test_loss: 1.0826, test_acc: 82.22%\n",
      "Epoch 363 - loss: 1.0698, acc: 83.50% / test_loss: 1.0510, test_acc: 85.38%\n",
      "Epoch 364 - loss: 1.0608, acc: 84.41% / test_loss: 1.0456, test_acc: 85.92%\n",
      "Epoch 365 - loss: 1.0580, acc: 84.68% / test_loss: 1.0533, test_acc: 85.15%\n",
      "Epoch 366 - loss: 1.0565, acc: 84.83% / test_loss: 1.0457, test_acc: 85.91%\n",
      "Epoch 367 - loss: 1.0540, acc: 85.08% / test_loss: 1.0464, test_acc: 85.84%\n",
      "Epoch 368 - loss: 1.0729, acc: 83.19% / test_loss: 1.1190, test_acc: 78.57%\n",
      "Epoch 369 - loss: 1.1031, acc: 80.17% / test_loss: 1.0884, test_acc: 81.65%\n",
      "Epoch 370 - loss: 1.0832, acc: 82.16% / test_loss: 1.0748, test_acc: 83.00%\n",
      "Epoch 371 - loss: 1.0807, acc: 82.42% / test_loss: 1.0777, test_acc: 82.71%\n",
      "Epoch 372 - loss: 1.0965, acc: 80.83% / test_loss: 1.0696, test_acc: 83.52%\n",
      "Epoch 373 - loss: 1.0631, acc: 84.18% / test_loss: 1.0556, test_acc: 84.92%\n",
      "Epoch 374 - loss: 1.0674, acc: 83.73% / test_loss: 1.0445, test_acc: 86.03%\n",
      "Epoch 375 - loss: 1.0598, acc: 84.51% / test_loss: 1.0502, test_acc: 85.47%\n",
      "Epoch 376 - loss: 1.0546, acc: 85.01% / test_loss: 1.0465, test_acc: 85.84%\n",
      "Epoch 377 - loss: 1.0506, acc: 85.42% / test_loss: 1.0429, test_acc: 86.19%\n",
      "Epoch 378 - loss: 1.0491, acc: 85.56% / test_loss: 1.0379, test_acc: 86.70%\n",
      "Epoch 379 - loss: 1.0497, acc: 85.51% / test_loss: 1.0433, test_acc: 86.15%\n",
      "Epoch 380 - loss: 1.0528, acc: 85.20% / test_loss: 1.0497, test_acc: 85.52%\n",
      "Epoch 381 - loss: 1.0742, acc: 83.07% / test_loss: 1.0566, test_acc: 84.82%\n",
      "Epoch 382 - loss: 1.0548, acc: 85.00% / test_loss: 1.0461, test_acc: 85.87%\n",
      "Epoch 383 - loss: 1.0842, acc: 82.05% / test_loss: 1.0699, test_acc: 83.49%\n",
      "Epoch 384 - loss: 1.0812, acc: 82.36% / test_loss: 1.0565, test_acc: 84.83%\n",
      "Epoch 385 - loss: 1.0610, acc: 84.38% / test_loss: 1.0597, test_acc: 84.50%\n",
      "Epoch 386 - loss: 1.0736, acc: 83.13% / test_loss: 1.0820, test_acc: 82.28%\n",
      "Epoch 387 - loss: 1.0745, acc: 83.03% / test_loss: 1.0564, test_acc: 84.84%\n",
      "Epoch 388 - loss: 1.0792, acc: 82.56% / test_loss: 1.0730, test_acc: 83.19%\n",
      "Epoch 389 - loss: 1.0662, acc: 83.87% / test_loss: 1.0477, test_acc: 85.71%\n",
      "Epoch 390 - loss: 1.0591, acc: 84.58% / test_loss: 1.0382, test_acc: 86.67%\n",
      "Epoch 391 - loss: 1.0602, acc: 84.45% / test_loss: 1.0697, test_acc: 83.50%\n",
      "Epoch 392 - loss: 1.0736, acc: 83.11% / test_loss: 1.0625, test_acc: 84.23%\n",
      "Epoch 393 - loss: 1.0622, acc: 84.26% / test_loss: 1.0473, test_acc: 85.75%\n",
      "Epoch 394 - loss: 1.0474, acc: 85.74% / test_loss: 1.0436, test_acc: 86.12%\n",
      "Epoch 395 - loss: 1.0745, acc: 83.04% / test_loss: 1.1017, test_acc: 80.32%\n",
      "Epoch 396 - loss: 1.0663, acc: 83.84% / test_loss: 1.0447, test_acc: 86.01%\n",
      "Epoch 397 - loss: 1.1008, acc: 80.39% / test_loss: 1.0911, test_acc: 81.37%\n",
      "Epoch 398 - loss: 1.1020, acc: 80.27% / test_loss: 1.0969, test_acc: 80.79%\n",
      "Epoch 399 - loss: 1.1130, acc: 79.18% / test_loss: 1.0662, test_acc: 83.87%\n",
      "Epoch 400 - loss: 1.0753, acc: 82.94% / test_loss: 1.0591, test_acc: 84.56%\n",
      "Best test accuracy 87.34% in epoch 58.\n",
      "----------------------------------------------------------------------------------------------------\n"
     ]
    }
   ],
   "source": [
    "best_test_accs = list()\n",
    "\n",
    "for i in range(run):\n",
    "    print('Run', i+1)\n",
    "    \n",
    "    seed = 0\n",
    "    np.random.seed(seed)\n",
    "    torch.manual_seed(seed)\n",
    "    torch.cuda.manual_seed(seed)\n",
    "    torch.cuda.manual_seed_all(seed) # if you are using multi-GPU.\n",
    "    torch.backends.cudnn.benchmark = False\n",
    "    torch.backends.cudnn.deterministic = True\n",
    "    \n",
    "    ecgnet = ECGConv1D()  # init new model\n",
    "    train_losses, train_accs, test_losses, test_accs = train(i, ecgnet.to(device))  # train\n",
    "\n",
    "    best_test_accs.append(max(test_accs))  # get best test accuracy\n",
    "    best_test_acc_epoch = np.array(test_accs).argmax() + 1\n",
    "    print('Best test accuracy {:.2f}% in epoch {}.'.format(best_test_accs[-1]*100, best_test_acc_epoch))\n",
    "    print('-' * 100)\n",
    "\n",
    "    df = pd.DataFrame({  # save model training process into csv file\n",
    "        'loss': train_losses,\n",
    "        'test_loss': test_losses,\n",
    "        'acc': train_accs,\n",
    "        'test_acc': test_accs\n",
    "    })\n",
    "    df.to_csv(os.path.join(root_path, csv_dir, '_'.join([csv_name, str(i+1)]) + csv_ext))\n",
    "\n",
    "df = pd.DataFrame({'best_test_acc': best_test_accs})  # save best test accuracy of each run\n",
    "df.to_csv(os.path.join(root_path, csv_dir, csv_accs_name + csv_ext))"
   ]
  },
  {
   "cell_type": "markdown",
   "metadata": {
    "colab_type": "text",
    "id": "cpDwI7BFRjK6"
   },
   "source": [
    "## Print the best test accuracy of each run"
   ]
  },
  {
   "cell_type": "code",
   "execution_count": 14,
   "metadata": {
    "colab": {
     "base_uri": "https://localhost:8080/",
     "height": 201
    },
    "colab_type": "code",
    "executionInfo": {
     "elapsed": 141,
     "status": "ok",
     "timestamp": 1573150872213,
     "user": {
      "displayName": "Kyuyeon Kim",
      "photoUrl": "https://lh3.googleusercontent.com/a-/AAuE7mBDhZm6xUbCYNLGqOYDpm2QRhOirby0BI-zUCTw2g=s64",
      "userId": "05245697685138289125"
     },
     "user_tz": -540
    },
    "id": "Ne8dr7DaRUME",
    "outputId": "9a98648b-ee04-490e-de87-4c3e1095b2e7"
   },
   "outputs": [
    {
     "name": "stdout",
     "output_type": "stream",
     "text": [
      "Run 1: 87.34%\n"
     ]
    }
   ],
   "source": [
    "for i, a in enumerate(best_test_accs):\n",
    "    print('Run {}: {:.2f}%'.format(i+1, a*100))"
   ]
  },
  {
   "cell_type": "code",
   "execution_count": 16,
   "metadata": {},
   "outputs": [
    {
     "data": {
      "image/png": "[encoded data removed]",
      "text/plain": [
       "<Figure size 1152x288 with 2 Axes>"
      ]
     },
     "metadata": {
      "needs_background": "light"
     },
     "output_type": "display_data"
    }
   ],
   "source": [
    "fig, ax = plt.subplots(1, 2, figsize=(16, 4))\n",
    "\n",
    "ax[0].plot(train_losses)\n",
    "ax[0].plot(test_losses)\n",
    "ax[0].set_xticks([0, 50, 100, 150, 200, 250, 300, 350, 400])\n",
    "ax[0].set_xlabel('Epochs')\n",
    "ax[0].set_ylabel('Loss')\n",
    "ax[0].grid()\n",
    "ax[0].legend(['train', 'test'], loc='upper right')\n",
    "\n",
    "ax[1].plot(np.asarray(train_accs) * 100)\n",
    "ax[1].plot(np.asarray(test_accs) * 100)\n",
    "ax[1].set_xticks([0, 50, 100, 150, 200, 250, 300, 350, 400])\n",
    "ax[1].set_xlabel('Epochs')\n",
    "ax[1].set_ylabel('Accuracy (%)')\n",
    "ax[1].set_ylim(top=100)\n",
    "ax[1].grid()\n",
    "ax[1].legend(['train', 'test'], loc='upper left')\n",
    "\n",
    "fig.savefig('conv2_split.pdf', bbox_inches='tight')"
   ]
  },
  {
   "cell_type": "code",
   "execution_count": null,
   "metadata": {},
   "outputs": [],
   "source": []
  }
 ],
 "metadata": {
  "accelerator": "GPU",
  "colab": {
   "collapsed_sections": [],
   "name": "ecg_train_2conv_final.ipynb",
   "provenance": []
  },
  "kernelspec": {
   "display_name": "Python 3",
   "language": "python",
   "name": "python3"
  },
  "language_info": {
   "codemirror_mode": {
    "name": "ipython",
    "version": 3
   },
   "file_extension": ".py",
   "mimetype": "text/x-python",
   "name": "python",
   "nbconvert_exporter": "python",
   "pygments_lexer": "ipython3",
   "version": "3.6.9"
  }
 },
 "nbformat": 4,
 "nbformat_minor": 1
}
