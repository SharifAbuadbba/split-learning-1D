{
 "cells": [
  {
   "cell_type": "markdown",
   "metadata": {
    "colab_type": "text",
    "id": "YDQY02P14s5b"
   },
   "source": [
    "# 1D-CNN Model for ECG Classification\n",
    "- The model used has 2 Conv. layers and 2 FC layers.\n",
    "- This code repeat running the training process and produce all kinds of data which can be given, such as data needed for drawing loss and accuracy graph through epochs, and maximum test accuracy for each run."
   ]
  },
  {
   "cell_type": "markdown",
   "metadata": {
    "colab_type": "text",
    "id": "0jVwGea7meY-"
   },
   "source": [
    "## Get permission of Google Drive access"
   ]
  },
  {
   "cell_type": "code",
   "execution_count": 1,
   "metadata": {
    "colab": {
     "base_uri": "https://localhost:8080/",
     "height": 55
    },
    "colab_type": "code",
    "executionInfo": {
     "elapsed": 1384,
     "status": "ok",
     "timestamp": 1573140331176,
     "user": {
      "displayName": "Kyuyeon Kim",
      "photoUrl": "https://lh3.googleusercontent.com/a-/AAuE7mBDhZm6xUbCYNLGqOYDpm2QRhOirby0BI-zUCTw2g=s64",
      "userId": "05245697685138289125"
     },
     "user_tz": -540
    },
    "id": "gw8VHp_Lqnu0",
    "outputId": "25ea812d-4242-463a-dc32-a938504f0792"
   },
   "outputs": [],
   "source": [
    "root_path = '.'"
   ]
  },
  {
   "cell_type": "markdown",
   "metadata": {
    "colab_type": "text",
    "id": "y-OoNrzR2jnb"
   },
   "source": [
    "## File name settings"
   ]
  },
  {
   "cell_type": "code",
   "execution_count": 2,
   "metadata": {
    "colab": {},
    "colab_type": "code",
    "id": "BNGT9J0J2jEB"
   },
   "outputs": [],
   "source": [
    "data_dir = 'mitdb'\n",
    "train_name = 'train_ecg.hdf5'\n",
    "test_name = 'test_ecg.hdf5'\n",
    "all_name = 'all_ecg.hdf5'\n",
    "\n",
    "model_dir = 'model'\n",
    "model_name = 'conv2'\n",
    "model_ext = '.pth'\n",
    "\n",
    "csv_dir = 'csv'\n",
    "csv_ext = '.csv'\n",
    "\n",
    "csv_name = 'conv2'\n",
    "csv_accs_name = 'accs_conv2'"
   ]
  },
  {
   "cell_type": "markdown",
   "metadata": {
    "colab_type": "text",
    "id": "XQhRMQcxmiiU"
   },
   "source": [
    "## Import required packages"
   ]
  },
  {
   "cell_type": "code",
   "execution_count": 3,
   "metadata": {
    "colab": {},
    "colab_type": "code",
    "id": "ekg3kh1Tq1B_"
   },
   "outputs": [],
   "source": [
    "import os\n",
    "\n",
    "import torch\n",
    "import torch.nn as nn\n",
    "from torch.utils.data import Dataset, DataLoader\n",
    "from torch.optim import Adam\n",
    "\n",
    "import numpy as np\n",
    "import pandas as pd\n",
    "import h5py\n",
    "from tqdm import tqdm\n",
    "import matplotlib.pyplot as plt\n",
    "\n",
    "from diffprivlib.mechanisms import Laplace"
   ]
  },
  {
   "cell_type": "markdown",
   "metadata": {
    "colab_type": "text",
    "id": "FzsvXmVd0ayn"
   },
   "source": [
    "## GPU settings"
   ]
  },
  {
   "cell_type": "code",
   "execution_count": 4,
   "metadata": {
    "colab": {
     "base_uri": "https://localhost:8080/",
     "height": 35
    },
    "colab_type": "code",
    "executionInfo": {
     "elapsed": 1561,
     "status": "ok",
     "timestamp": 1573140331478,
     "user": {
      "displayName": "Kyuyeon Kim",
      "photoUrl": "https://lh3.googleusercontent.com/a-/AAuE7mBDhZm6xUbCYNLGqOYDpm2QRhOirby0BI-zUCTw2g=s64",
      "userId": "05245697685138289125"
     },
     "user_tz": -540
    },
    "id": "1UJyXe89cJcw",
    "outputId": "14b01434-7392-4af6-98a1-f48524453a56"
   },
   "outputs": [],
   "source": [
    "device = torch.device('cuda:0' if torch.cuda.is_available() else 'cpu')\n",
    "if torch.cuda.is_available():\n",
    "    print(torch.cuda.get_device_name(0))"
   ]
  },
  {
   "cell_type": "markdown",
   "metadata": {
    "colab_type": "text",
    "id": "K-DnZ3zF6dhx"
   },
   "source": [
    "## Define `ECG` `Dataset` class\n"
   ]
  },
  {
   "cell_type": "code",
   "execution_count": 5,
   "metadata": {
    "colab": {},
    "colab_type": "code",
    "id": "ffSLi6qCbHy2"
   },
   "outputs": [],
   "source": [
    "class ECG(Dataset):\n",
    "    def __init__(self, mode='train'):\n",
    "        if mode == 'train':\n",
    "            with h5py.File(os.path.join(root_path, data_dir, train_name), 'r') as hdf:\n",
    "                self.x = hdf['x_train'][:]\n",
    "                self.y = hdf['y_train'][:]\n",
    "        elif mode == 'test':\n",
    "            with h5py.File(os.path.join(root_path, data_dir, test_name), 'r') as hdf:\n",
    "                self.x = hdf['x_test'][:]\n",
    "                self.y = hdf['y_test'][:]\n",
    "        elif mode == 'all':\n",
    "            with h5py.File(os.path.join(root_path, data_dir, all_name), 'r') as hdf:\n",
    "                self.x = hdf['x'][:]\n",
    "                self.y = hdf['y'][:]\n",
    "        else:\n",
    "            raise ValueError('Argument of mode should be train, test, or all.')\n",
    "    \n",
    "    def __len__(self):\n",
    "        return len(self.x)\n",
    "    \n",
    "    def __getitem__(self, idx):\n",
    "        return torch.tensor(self.x[idx], dtype=torch.float), torch.tensor(self.y[idx])"
   ]
  },
  {
   "cell_type": "markdown",
   "metadata": {
    "colab_type": "text",
    "id": "U97Sm8qs6-IC"
   },
   "source": [
    "## Make Batch Generator"
   ]
  },
  {
   "cell_type": "markdown",
   "metadata": {
    "colab_type": "text",
    "id": "popnnQ0ckaF3"
   },
   "source": [
    "### Batch size\n",
    "You can change it if you want."
   ]
  },
  {
   "cell_type": "code",
   "execution_count": 6,
   "metadata": {
    "colab": {},
    "colab_type": "code",
    "id": "ElNcZhTt786w"
   },
   "outputs": [],
   "source": [
    "batch_size = 32"
   ]
  },
  {
   "cell_type": "markdown",
   "metadata": {
    "colab_type": "text",
    "id": "AHy2nkSm778h"
   },
   "source": [
    "### `DataLoader` for batch generating\n",
    "`torch.utils.data.DataLoader(dataset, batch_size=1, shuffle=False)`"
   ]
  },
  {
   "cell_type": "code",
   "execution_count": 7,
   "metadata": {
    "colab": {},
    "colab_type": "code",
    "id": "DyIHkQr4sMiE"
   },
   "outputs": [],
   "source": [
    "train_dataset = ECG(mode='train')\n",
    "test_dataset = ECG(mode='test')\n",
    "train_loader = DataLoader(train_dataset, batch_size=batch_size)\n",
    "test_loader = DataLoader(test_dataset, batch_size=batch_size)"
   ]
  },
  {
   "cell_type": "markdown",
   "metadata": {
    "colab_type": "text",
    "id": "6opdvihFk8Di"
   },
   "source": [
    "### Size check for single batch"
   ]
  },
  {
   "cell_type": "code",
   "execution_count": 8,
   "metadata": {
    "colab": {
     "base_uri": "https://localhost:8080/",
     "height": 54
    },
    "colab_type": "code",
    "executionInfo": {
     "elapsed": 1342,
     "status": "ok",
     "timestamp": 1573140331487,
     "user": {
      "displayName": "Kyuyeon Kim",
      "photoUrl": "https://lh3.googleusercontent.com/a-/AAuE7mBDhZm6xUbCYNLGqOYDpm2QRhOirby0BI-zUCTw2g=s64",
      "userId": "05245697685138289125"
     },
     "user_tz": -540
    },
    "id": "902j2PYgszyr",
    "outputId": "717f8d82-10de-4012-e9c1-4717b8835d17"
   },
   "outputs": [
    {
     "name": "stdout",
     "output_type": "stream",
     "text": [
      "torch.Size([32, 1, 128])\n",
      "torch.Size([32])\n"
     ]
    }
   ],
   "source": [
    "x_train, y_train = next(iter(train_loader))\n",
    "print(x_train.size())\n",
    "print(y_train.size())"
   ]
  },
  {
   "cell_type": "markdown",
   "metadata": {
    "colab_type": "text",
    "id": "d4Nv5OLbm0rJ"
   },
   "source": [
    "### Number of total batches"
   ]
  },
  {
   "cell_type": "code",
   "execution_count": 9,
   "metadata": {
    "colab": {
     "base_uri": "https://localhost:8080/",
     "height": 35
    },
    "colab_type": "code",
    "executionInfo": {
     "elapsed": 1320,
     "status": "ok",
     "timestamp": 1573140331489,
     "user": {
      "displayName": "Kyuyeon Kim",
      "photoUrl": "https://lh3.googleusercontent.com/a-/AAuE7mBDhZm6xUbCYNLGqOYDpm2QRhOirby0BI-zUCTw2g=s64",
      "userId": "05245697685138289125"
     },
     "user_tz": -540
    },
    "id": "xY_0e4jexTIy",
    "outputId": "37db683a-0839-4463-8f2a-88340df0be85"
   },
   "outputs": [
    {
     "name": "stdout",
     "output_type": "stream",
     "text": [
      "414\n"
     ]
    }
   ],
   "source": [
    "total_batch = len(train_loader)\n",
    "print(total_batch)"
   ]
  },
  {
   "cell_type": "markdown",
   "metadata": {
    "colab_type": "text",
    "id": "hteQdSdMg8aB"
   },
   "source": [
    "## Pytorch layer modules for **Conv1D** Network\n",
    "\n",
    "\n",
    "\n",
    "### `Conv1d` layer\n",
    "- `torch.nn.Conv1d(in_channels, out_channels, kernel_size)`\n",
    "\n",
    "### `MaxPool1d` layer\n",
    "- `torch.nn.MaxPool1d(kernel_size, stride=None)`\n",
    "- Parameter `stride` follows `kernel_size`.\n",
    "\n",
    "### `ReLU` layer\n",
    "- `torch.nn.ReLU()`\n",
    "\n",
    "### `Linear` layer\n",
    "- `torch.nn.Linear(in_features, out_features, bias=True)`\n",
    "\n",
    "### `Softmax` layer\n",
    "- `torch.nn.Softmax(dim=None)`\n",
    "- Parameter `dim` is usually set to `1`."
   ]
  },
  {
   "cell_type": "markdown",
   "metadata": {
    "colab_type": "text",
    "id": "X-QMUMFx2n5J"
   },
   "source": [
    "## Training process settings"
   ]
  },
  {
   "cell_type": "code",
   "execution_count": 10,
   "metadata": {
    "colab": {},
    "colab_type": "code",
    "id": "3AKAftHyzPfz"
   },
   "outputs": [],
   "source": [
    "run = 1\n",
    "epoch = 400\n",
    "lr = 0.001\n",
    "epsilon = 3\n",
    "min_diff = 1e-5"
   ]
  },
  {
   "cell_type": "markdown",
   "metadata": {
    "colab_type": "text",
    "id": "d0DQJhg2w_Tj"
   },
   "source": [
    "## Construct 1D CNN ECG classification model"
   ]
  },
  {
   "cell_type": "code",
   "execution_count": 11,
   "metadata": {
    "colab": {},
    "colab_type": "code",
    "id": "G2LRE1T2ZZLB"
   },
   "outputs": [],
   "source": [
    "class ECGConv1D(nn.Module):\n",
    "    def __init__(self):\n",
    "        super(ECGConv1D, self).__init__()\n",
    "        self.conv1 = nn.Conv1d(1, 16, 7, padding=3)  # 128 x 16\n",
    "        self.relu1 = nn.LeakyReLU()\n",
    "        self.pool1 = nn.MaxPool1d(2)  # 64 x 16\n",
    "        self.conv2 = nn.Conv1d(16, 16, 5, padding=2)  # 64 x 16\n",
    "        self.relu2 = nn.LeakyReLU()\n",
    "        self.pool2 = nn.MaxPool1d(2)  # 32 x 16\n",
    "        self.linear3 = nn.Linear(32 * 16, 128)\n",
    "        self.relu3 = nn.LeakyReLU()\n",
    "        self.linear4 = nn.Linear(128, 5)\n",
    "        self.softmax4 = nn.Softmax(dim=1)\n",
    "    \n",
    "    def forward(self, x):\n",
    "        x = self.conv1(x)\n",
    "        x = self.relu1(x)\n",
    "        x = self.pool1(x)\n",
    "        x = self.conv2(x)\n",
    "        x = self.relu2(x)\n",
    "        x = self.pool2(x)\n",
    "        \n",
    "        # differential privacy\n",
    "        x_data = x.data.cpu().numpy()\n",
    "        bound = np.dstack((np.max(x_data, axis=0), np.min(x_data, axis=0)))\n",
    "        for i in range(bound.shape[0]):\n",
    "            for j in range(bound.shape[1]):\n",
    "                interval = bound[i][j]\n",
    "                if interval[0] - interval[1] < min_diff:\n",
    "                    interval[0] += min_diff * 0.5\n",
    "                    interval[1] -= min_diff * 0.5\n",
    "        for j in range(x_data.shape[1]):\n",
    "            for k in range(x_data.shape[2]):\n",
    "                dp = Laplace()\n",
    "                dp = dp.set_epsilon(epsilon)\n",
    "                dp = dp.set_sensitivity(bound[j][k][0] - bound[j][k][1])\n",
    "                for i in range(x_data.shape[0]):\n",
    "                    x_data[i][j][k] = dp.randomise(x_data[i][j][k])\n",
    "        x.data = torch.tensor(x_data).requires_grad_(True).to(device)\n",
    "        \n",
    "        x = x.view(-1, 32 * 16)\n",
    "        x = self.linear3(x)\n",
    "        x = self.relu3(x)\n",
    "        x = self.linear4(x)\n",
    "        x = self.softmax4(x)\n",
    "        return x        "
   ]
  },
  {
   "cell_type": "markdown",
   "metadata": {
    "colab_type": "text",
    "id": "m-bCqOUuxSdp"
   },
   "source": [
    "## Traning function\n"
   ]
  },
  {
   "cell_type": "code",
   "execution_count": 12,
   "metadata": {
    "colab": {},
    "colab_type": "code",
    "id": "nO67O2Kj7B8J"
   },
   "outputs": [],
   "source": [
    "def train(nrun, model):\n",
    "    criterion = nn.CrossEntropyLoss()\n",
    "    optimizer = Adam(model.parameters(), lr=lr)\n",
    "\n",
    "    train_losses = list()\n",
    "    train_accs = list()\n",
    "\n",
    "    test_losses = list()\n",
    "    test_accs = list()\n",
    "\n",
    "    best_test_acc = 0  # best test accuracy \n",
    "\n",
    "    for e in range(epoch):\n",
    "        print(\"Epoch {} - \".format(e+1), end='')\n",
    "\n",
    "        # train\n",
    "        train_loss = 0.0\n",
    "        correct, total = 0, 0\n",
    "        for _, batch in enumerate(train_loader):\n",
    "            x, label = batch  # get feature and label from a batch\n",
    "            x, label = x.to(device), label.to(device)  # send to device\n",
    "            optimizer.zero_grad()  # init all grads to zero\n",
    "            output = model(x)  # forward propagation\n",
    "            loss = criterion(output, label)  # calculate loss\n",
    "            loss.backward()  # backward propagation\n",
    "            optimizer.step()  # weight update\n",
    "\n",
    "            train_loss += loss.item()\n",
    "            correct += torch.sum(output.argmax(dim=1) == label).item()\n",
    "            total += len(label)\n",
    "        train_losses.append(train_loss / len(train_loader))\n",
    "        train_accs.append(correct / total)\n",
    "        print(\"loss: {:.4f}, acc: {:.2f}%\".format(train_losses[-1], train_accs[-1]*100), end=' / ')\n",
    "        \n",
    "        # test\n",
    "        with torch.no_grad():\n",
    "            test_loss = 0.0\n",
    "            correct, total = 0, 0\n",
    "            for _, batch in enumerate(test_loader):\n",
    "                x, label = batch\n",
    "                x, label = x.to(device), label.to(device)\n",
    "                output = model(x)\n",
    "                loss = criterion(output, label)\n",
    "                \n",
    "                test_loss += loss.item()\n",
    "                correct += torch.sum(output.argmax(dim=1) == label).item()\n",
    "                total += len(label)\n",
    "            test_losses.append(test_loss / len(test_loader))\n",
    "            test_accs.append(correct / total)\n",
    "        print(\"test_loss: {:.4f}, test_acc: {:.2f}%\".format(test_losses[-1], test_accs[-1]*100))\n",
    "\n",
    "        # save model that has best validation accuracy\n",
    "        if test_accs[-1] > best_test_acc:\n",
    "            best_test_acc = test_accs[-1]\n",
    "            torch.save(model.state_dict(), os.path.join(root_path, model_dir, '_'.join([model_name, str(nrun), 'best']) + model_ext))\n",
    "    \n",
    "        # save model for each 10 epochs\n",
    "        if (e + 1) % 10 == 0:\n",
    "            torch.save(model.state_dict(), os.path.join(root_path, model_dir, '_'.join([model_name, str(nrun), str(e+1)]) + model_ext))\n",
    "    \n",
    "    return train_losses, train_accs, test_losses, test_accs"
   ]
  },
  {
   "cell_type": "markdown",
   "metadata": {
    "colab_type": "text",
    "id": "5h1yJeZXRWjT"
   },
   "source": [
    "## Training process"
   ]
  },
  {
   "cell_type": "markdown",
   "metadata": {
    "colab_type": "text",
    "id": "AXFHuejuRe2u"
   },
   "source": [
    "### Repeat for 10 times"
   ]
  },
  {
   "cell_type": "code",
   "execution_count": 13,
   "metadata": {
    "colab": {
     "base_uri": "https://localhost:8080/",
     "height": 1000
    },
    "colab_type": "code",
    "executionInfo": {
     "elapsed": 6513611,
     "status": "ok",
     "timestamp": 1573150871777,
     "user": {
      "displayName": "Kyuyeon Kim",
      "photoUrl": "https://lh3.googleusercontent.com/a-/AAuE7mBDhZm6xUbCYNLGqOYDpm2QRhOirby0BI-zUCTw2g=s64",
      "userId": "05245697685138289125"
     },
     "user_tz": -540
    },
    "id": "IAusksoSKSI0",
    "outputId": "3bf51e50-8a79-445c-f42e-d446d684603e"
   },
   "outputs": [
    {
     "name": "stdout",
     "output_type": "stream",
     "text": [
      "Run 1\n",
      "Epoch 1 - loss: 1.3677, acc: 53.98% / test_loss: 1.2640, test_acc: 63.91%\n",
      "Epoch 2 - loss: 1.2271, acc: 67.32% / test_loss: 1.2011, test_acc: 70.02%\n",
      "Epoch 3 - loss: 1.2015, acc: 70.02% / test_loss: 1.1840, test_acc: 71.88%\n",
      "Epoch 4 - loss: 1.1985, acc: 70.31% / test_loss: 1.1737, test_acc: 72.86%\n",
      "Epoch 5 - loss: 1.2024, acc: 69.92% / test_loss: 1.1750, test_acc: 72.76%\n",
      "Epoch 6 - loss: 1.2029, acc: 69.99% / test_loss: 1.2111, test_acc: 69.15%\n",
      "Epoch 7 - loss: 1.1998, acc: 70.33% / test_loss: 1.2289, test_acc: 67.45%\n",
      "Epoch 8 - loss: 1.2067, acc: 69.60% / test_loss: 1.2783, test_acc: 62.55%\n",
      "Epoch 9 - loss: 1.2034, acc: 69.91% / test_loss: 1.1765, test_acc: 72.65%\n",
      "Epoch 10 - loss: 1.1919, acc: 71.17% / test_loss: 1.2524, test_acc: 65.13%\n",
      "Epoch 11 - loss: 1.2106, acc: 69.25% / test_loss: 1.1930, test_acc: 71.09%\n",
      "Epoch 12 - loss: 1.1930, acc: 71.04% / test_loss: 1.1685, test_acc: 73.52%\n",
      "Epoch 13 - loss: 1.1999, acc: 70.40% / test_loss: 1.2071, test_acc: 69.62%\n",
      "Epoch 14 - loss: 1.1883, acc: 71.56% / test_loss: 1.1856, test_acc: 71.85%\n",
      "Epoch 15 - loss: 1.1940, acc: 71.02% / test_loss: 1.1823, test_acc: 72.22%\n",
      "Epoch 16 - loss: 1.2032, acc: 70.12% / test_loss: 1.1944, test_acc: 70.98%\n",
      "Epoch 17 - loss: 1.2042, acc: 70.00% / test_loss: 1.2187, test_acc: 68.58%\n",
      "Epoch 18 - loss: 1.1971, acc: 70.74% / test_loss: 1.1810, test_acc: 72.31%\n",
      "Epoch 19 - loss: 1.1895, acc: 71.47% / test_loss: 1.1666, test_acc: 73.78%\n",
      "Epoch 20 - loss: 1.1969, acc: 70.71% / test_loss: 1.1735, test_acc: 73.10%\n",
      "Epoch 21 - loss: 1.1858, acc: 71.85% / test_loss: 1.1684, test_acc: 73.59%\n",
      "Epoch 22 - loss: 1.1935, acc: 71.09% / test_loss: 1.1976, test_acc: 70.71%\n",
      "Epoch 23 - loss: 1.1978, acc: 70.66% / test_loss: 1.1776, test_acc: 72.68%\n",
      "Epoch 24 - loss: 1.2053, acc: 69.90% / test_loss: 1.2143, test_acc: 69.00%\n",
      "Epoch 25 - loss: 1.2102, acc: 69.42% / test_loss: 1.1754, test_acc: 72.93%\n",
      "Epoch 26 - loss: 1.1963, acc: 70.82% / test_loss: 1.1778, test_acc: 72.66%\n",
      "Epoch 27 - loss: 1.1939, acc: 71.07% / test_loss: 1.1773, test_acc: 72.69%\n",
      "Epoch 28 - loss: 1.1914, acc: 71.29% / test_loss: 1.1817, test_acc: 72.31%\n",
      "Epoch 29 - loss: 1.2036, acc: 70.11% / test_loss: 1.1759, test_acc: 72.88%\n",
      "Epoch 30 - loss: 1.2024, acc: 70.22% / test_loss: 1.1841, test_acc: 72.03%\n",
      "Epoch 31 - loss: 1.1970, acc: 70.74% / test_loss: 1.1919, test_acc: 71.25%\n",
      "Epoch 32 - loss: 1.2457, acc: 65.88% / test_loss: 1.2341, test_acc: 67.02%\n",
      "Epoch 33 - loss: 1.1998, acc: 70.46% / test_loss: 1.1810, test_acc: 72.36%\n",
      "Epoch 34 - loss: 1.1951, acc: 70.94% / test_loss: 1.1848, test_acc: 71.97%\n",
      "Epoch 35 - loss: 1.1907, acc: 71.39% / test_loss: 1.1728, test_acc: 73.19%\n",
      "Epoch 36 - loss: 1.1886, acc: 71.58% / test_loss: 1.2082, test_acc: 69.65%\n",
      "Epoch 37 - loss: 1.2162, acc: 68.83% / test_loss: 1.2014, test_acc: 70.33%\n",
      "Epoch 38 - loss: 1.2115, acc: 69.29% / test_loss: 1.2168, test_acc: 68.79%\n",
      "Epoch 39 - loss: 1.2079, acc: 69.69% / test_loss: 1.1805, test_acc: 72.43%\n",
      "Epoch 40 - loss: 1.2147, acc: 68.98% / test_loss: 1.2050, test_acc: 69.97%\n",
      "Epoch 41 - loss: 1.1981, acc: 70.64% / test_loss: 1.1762, test_acc: 72.83%\n",
      "Epoch 42 - loss: 1.2174, acc: 68.71% / test_loss: 1.2085, test_acc: 69.62%\n",
      "Epoch 43 - loss: 1.2293, acc: 67.55% / test_loss: 1.1826, test_acc: 72.22%\n",
      "Epoch 44 - loss: 1.2097, acc: 69.47% / test_loss: 1.2027, test_acc: 70.18%\n",
      "Epoch 45 - loss: 1.2012, acc: 70.35% / test_loss: 1.1778, test_acc: 72.68%\n",
      "Epoch 46 - loss: 1.1974, acc: 70.72% / test_loss: 1.1839, test_acc: 72.09%\n",
      "Epoch 47 - loss: 1.2135, acc: 69.12% / test_loss: 1.2145, test_acc: 69.03%\n",
      "Epoch 48 - loss: 1.2070, acc: 69.79% / test_loss: 1.2476, test_acc: 65.68%\n",
      "Epoch 49 - loss: 1.2365, acc: 66.81% / test_loss: 1.1953, test_acc: 70.94%\n",
      "Epoch 50 - loss: 1.2153, acc: 68.92% / test_loss: 1.1975, test_acc: 70.74%\n",
      "Epoch 51 - loss: 1.2078, acc: 69.69% / test_loss: 1.1867, test_acc: 71.80%\n",
      "Epoch 52 - loss: 1.2055, acc: 69.93% / test_loss: 1.2239, test_acc: 68.06%\n",
      "Epoch 53 - loss: 1.2088, acc: 69.58% / test_loss: 1.2083, test_acc: 69.65%\n",
      "Epoch 54 - loss: 1.2035, acc: 70.13% / test_loss: 1.1896, test_acc: 71.50%\n",
      "Epoch 55 - loss: 1.1911, acc: 71.37% / test_loss: 1.2243, test_acc: 68.04%\n",
      "Epoch 56 - loss: 1.2178, acc: 68.68% / test_loss: 1.1803, test_acc: 72.43%\n",
      "Epoch 57 - loss: 1.2057, acc: 69.90% / test_loss: 1.2328, test_acc: 67.18%\n",
      "Epoch 58 - loss: 1.2140, acc: 69.08% / test_loss: 1.1926, test_acc: 71.19%\n",
      "Epoch 59 - loss: 1.2369, acc: 66.79% / test_loss: 1.2004, test_acc: 70.43%\n",
      "Epoch 60 - loss: 1.2219, acc: 68.27% / test_loss: 1.2627, test_acc: 64.21%\n",
      "Epoch 61 - loss: 1.2687, acc: 63.60% / test_loss: 1.2620, test_acc: 64.28%\n",
      "Epoch 62 - loss: 1.2190, acc: 68.55% / test_loss: 1.1885, test_acc: 71.63%\n",
      "Epoch 63 - loss: 1.2147, acc: 69.00% / test_loss: 1.2410, test_acc: 66.38%\n",
      "Epoch 64 - loss: 1.2202, acc: 68.45% / test_loss: 1.2217, test_acc: 68.33%\n",
      "Epoch 65 - loss: 1.2354, acc: 66.94% / test_loss: 1.1915, test_acc: 71.34%\n",
      "Epoch 66 - loss: 1.1928, acc: 71.20% / test_loss: 1.1867, test_acc: 71.80%\n",
      "Epoch 67 - loss: 1.1980, acc: 70.67% / test_loss: 1.1880, test_acc: 71.67%\n",
      "Epoch 68 - loss: 1.2249, acc: 67.97% / test_loss: 1.1955, test_acc: 70.93%\n",
      "Epoch 69 - loss: 1.2115, acc: 69.32% / test_loss: 1.1903, test_acc: 71.45%\n",
      "Epoch 70 - loss: 1.2001, acc: 70.46% / test_loss: 1.1883, test_acc: 71.63%\n",
      "Epoch 71 - loss: 1.2245, acc: 68.02% / test_loss: 1.2001, test_acc: 70.46%\n",
      "Epoch 72 - loss: 1.2112, acc: 69.35% / test_loss: 1.2160, test_acc: 68.88%\n",
      "Epoch 73 - loss: 1.2291, acc: 67.56% / test_loss: 1.2015, test_acc: 70.31%\n",
      "Epoch 74 - loss: 1.2255, acc: 67.90% / test_loss: 1.1808, test_acc: 72.39%\n",
      "Epoch 75 - loss: 1.2108, acc: 69.39% / test_loss: 1.2173, test_acc: 68.75%\n",
      "Epoch 76 - loss: 1.2289, acc: 67.58% / test_loss: 1.2904, test_acc: 61.43%\n",
      "Epoch 77 - loss: 1.2726, acc: 63.20% / test_loss: 1.3193, test_acc: 58.55%\n",
      "Epoch 78 - loss: 1.2387, acc: 66.61% / test_loss: 1.3098, test_acc: 59.47%\n",
      "Epoch 79 - loss: 1.2589, acc: 64.59% / test_loss: 1.2808, test_acc: 62.38%\n",
      "Epoch 80 - loss: 1.2463, acc: 65.83% / test_loss: 1.2384, test_acc: 66.64%\n",
      "Epoch 81 - loss: 1.2327, acc: 67.20% / test_loss: 1.2648, test_acc: 64.00%\n",
      "Epoch 82 - loss: 1.2022, acc: 70.25% / test_loss: 1.1810, test_acc: 72.37%\n",
      "Epoch 83 - loss: 1.2150, acc: 68.98% / test_loss: 1.2693, test_acc: 63.54%\n",
      "Epoch 84 - loss: 1.2930, acc: 61.16% / test_loss: 1.2108, test_acc: 69.40%\n",
      "Epoch 85 - loss: 1.2076, acc: 69.72% / test_loss: 1.1994, test_acc: 70.55%\n",
      "Epoch 86 - loss: 1.2210, acc: 68.38% / test_loss: 1.1884, test_acc: 71.64%\n",
      "Epoch 87 - loss: 1.2246, acc: 68.02% / test_loss: 1.2388, test_acc: 66.61%\n",
      "Epoch 88 - loss: 1.2286, acc: 67.62% / test_loss: 1.1849, test_acc: 71.98%\n",
      "Epoch 89 - loss: 1.2023, acc: 70.25% / test_loss: 1.2000, test_acc: 70.47%\n",
      "Epoch 90 - loss: 1.2394, acc: 66.52% / test_loss: 1.1941, test_acc: 71.07%\n",
      "Epoch 91 - loss: 1.2258, acc: 67.90% / test_loss: 1.2519, test_acc: 65.29%\n",
      "Epoch 92 - loss: 1.2587, acc: 64.61% / test_loss: 1.2504, test_acc: 65.43%\n",
      "Epoch 93 - loss: 1.2504, acc: 65.44% / test_loss: 1.1833, test_acc: 72.16%\n",
      "Epoch 94 - loss: 1.2062, acc: 69.86% / test_loss: 1.2140, test_acc: 69.07%\n",
      "Epoch 95 - loss: 1.2444, acc: 66.04% / test_loss: 1.2662, test_acc: 63.87%\n",
      "Epoch 96 - loss: 1.2385, acc: 66.63% / test_loss: 1.2112, test_acc: 69.35%\n",
      "Epoch 97 - loss: 1.2229, acc: 68.18% / test_loss: 1.2061, test_acc: 69.87%\n",
      "Epoch 98 - loss: 1.2167, acc: 68.81% / test_loss: 1.2310, test_acc: 67.38%\n",
      "Epoch 99 - loss: 1.2291, acc: 67.57% / test_loss: 1.2066, test_acc: 69.82%\n",
      "Epoch 100 - loss: 1.2311, acc: 67.36% / test_loss: 1.1932, test_acc: 71.15%\n",
      "Epoch 101 - loss: 1.2112, acc: 69.36% / test_loss: 1.2045, test_acc: 70.03%\n",
      "Epoch 102 - loss: 1.2223, acc: 68.23% / test_loss: 1.2163, test_acc: 68.83%\n",
      "Epoch 103 - loss: 1.2109, acc: 69.40% / test_loss: 1.2145, test_acc: 69.04%\n",
      "Epoch 104 - loss: 1.2241, acc: 68.05% / test_loss: 1.1853, test_acc: 71.94%\n",
      "Epoch 105 - loss: 1.2050, acc: 69.98% / test_loss: 1.2081, test_acc: 69.67%\n",
      "Epoch 106 - loss: 1.2491, acc: 65.57% / test_loss: 1.2241, test_acc: 68.06%\n",
      "Epoch 107 - loss: 1.2037, acc: 70.12% / test_loss: 1.2188, test_acc: 68.61%\n",
      "Epoch 108 - loss: 1.2263, acc: 67.84% / test_loss: 1.2241, test_acc: 68.06%\n",
      "Epoch 109 - loss: 1.2012, acc: 70.36% / test_loss: 1.1830, test_acc: 72.19%\n"
     ]
    },
    {
     "name": "stdout",
     "output_type": "stream",
     "text": [
      "Epoch 110 - loss: 1.2143, acc: 69.02% / test_loss: 1.2035, test_acc: 70.13%\n",
      "Epoch 111 - loss: 1.2271, acc: 67.76% / test_loss: 1.2308, test_acc: 67.40%\n",
      "Epoch 112 - loss: 1.2068, acc: 69.81% / test_loss: 1.1795, test_acc: 72.53%\n",
      "Epoch 113 - loss: 1.1985, acc: 70.61% / test_loss: 1.2056, test_acc: 69.92%\n",
      "Epoch 114 - loss: 1.2121, acc: 69.26% / test_loss: 1.1970, test_acc: 70.78%\n",
      "Epoch 115 - loss: 1.1970, acc: 70.77% / test_loss: 1.2184, test_acc: 68.64%\n",
      "Epoch 116 - loss: 1.1939, acc: 71.09% / test_loss: 1.1765, test_acc: 72.84%\n",
      "Epoch 117 - loss: 1.2106, acc: 69.41% / test_loss: 1.1873, test_acc: 71.75%\n",
      "Epoch 118 - loss: 1.2007, acc: 70.40% / test_loss: 1.1919, test_acc: 71.29%\n",
      "Epoch 119 - loss: 1.2112, acc: 69.35% / test_loss: 1.2419, test_acc: 66.27%\n",
      "Epoch 120 - loss: 1.2310, acc: 67.37% / test_loss: 1.2196, test_acc: 68.50%\n",
      "Epoch 121 - loss: 1.1980, acc: 70.68% / test_loss: 1.1822, test_acc: 72.26%\n",
      "Epoch 122 - loss: 1.2019, acc: 70.29% / test_loss: 1.1926, test_acc: 71.21%\n",
      "Epoch 123 - loss: 1.2224, acc: 68.24% / test_loss: 1.2380, test_acc: 66.67%\n",
      "Epoch 124 - loss: 1.2487, acc: 65.59% / test_loss: 1.1890, test_acc: 71.59%\n",
      "Epoch 125 - loss: 1.2104, acc: 69.44% / test_loss: 1.1908, test_acc: 71.40%\n",
      "Epoch 126 - loss: 1.2584, acc: 64.64% / test_loss: 1.2486, test_acc: 65.62%\n",
      "Epoch 127 - loss: 1.2233, acc: 68.16% / test_loss: 1.2174, test_acc: 68.74%\n",
      "Epoch 128 - loss: 1.2206, acc: 68.41% / test_loss: 1.1889, test_acc: 71.58%\n",
      "Epoch 129 - loss: 1.1969, acc: 70.78% / test_loss: 1.1720, test_acc: 73.28%\n",
      "Epoch 130 - loss: 1.1954, acc: 70.95% / test_loss: 1.2077, test_acc: 69.70%\n",
      "Epoch 131 - loss: 1.2322, acc: 67.26% / test_loss: 1.1918, test_acc: 71.29%\n",
      "Epoch 132 - loss: 1.2051, acc: 69.97% / test_loss: 1.2051, test_acc: 69.97%\n",
      "Epoch 133 - loss: 1.2094, acc: 69.54% / test_loss: 1.2136, test_acc: 69.12%\n",
      "Epoch 134 - loss: 1.2152, acc: 68.96% / test_loss: 1.2852, test_acc: 61.96%\n",
      "Epoch 135 - loss: 1.2765, acc: 62.83% / test_loss: 1.3023, test_acc: 60.25%\n",
      "Epoch 136 - loss: 1.2516, acc: 65.32% / test_loss: 1.2047, test_acc: 70.01%\n",
      "Epoch 137 - loss: 1.2039, acc: 70.08% / test_loss: 1.2176, test_acc: 68.71%\n",
      "Epoch 138 - loss: 1.2145, acc: 69.02% / test_loss: 1.1990, test_acc: 70.56%\n",
      "Epoch 139 - loss: 1.1990, acc: 70.59% / test_loss: 1.2051, test_acc: 69.97%\n",
      "Epoch 140 - loss: 1.2174, acc: 68.74% / test_loss: 1.2609, test_acc: 64.39%\n",
      "Epoch 141 - loss: 1.2317, acc: 67.30% / test_loss: 1.2551, test_acc: 64.96%\n",
      "Epoch 142 - loss: 1.2113, acc: 69.35% / test_loss: 1.1817, test_acc: 72.31%\n",
      "Epoch 143 - loss: 1.2253, acc: 67.95% / test_loss: 1.2130, test_acc: 69.18%\n",
      "Epoch 144 - loss: 1.2318, acc: 67.30% / test_loss: 1.1780, test_acc: 72.68%\n",
      "Epoch 145 - loss: 1.2182, acc: 68.65% / test_loss: 1.2378, test_acc: 66.70%\n",
      "Epoch 146 - loss: 1.2511, acc: 65.37% / test_loss: 1.2471, test_acc: 65.77%\n",
      "Epoch 147 - loss: 1.2310, acc: 67.38% / test_loss: 1.3185, test_acc: 58.63%\n",
      "Epoch 148 - loss: 1.2662, acc: 63.86% / test_loss: 1.1978, test_acc: 70.69%\n",
      "Epoch 149 - loss: 1.2067, acc: 69.82% / test_loss: 1.1944, test_acc: 71.03%\n",
      "Epoch 150 - loss: 1.2505, acc: 65.44% / test_loss: 1.2633, test_acc: 64.14%\n",
      "Epoch 151 - loss: 1.2581, acc: 64.67% / test_loss: 1.2415, test_acc: 66.33%\n",
      "Epoch 152 - loss: 1.2444, acc: 66.04% / test_loss: 1.2363, test_acc: 66.86%\n",
      "Epoch 153 - loss: 1.2424, acc: 66.24% / test_loss: 1.2760, test_acc: 62.87%\n",
      "Epoch 154 - loss: 1.2340, acc: 67.08% / test_loss: 1.2821, test_acc: 62.27%\n",
      "Epoch 155 - loss: 1.2511, acc: 65.36% / test_loss: 1.2570, test_acc: 64.77%\n",
      "Epoch 156 - loss: 1.2685, acc: 63.63% / test_loss: 1.2562, test_acc: 64.85%\n",
      "Epoch 157 - loss: 1.2301, acc: 67.47% / test_loss: 1.2068, test_acc: 69.80%\n",
      "Epoch 158 - loss: 1.2421, acc: 66.26% / test_loss: 1.2486, test_acc: 65.61%\n",
      "Epoch 159 - loss: 1.2648, acc: 63.99% / test_loss: 1.3394, test_acc: 56.55%\n",
      "Epoch 160 - loss: 1.3021, acc: 60.28% / test_loss: 1.2708, test_acc: 63.40%\n",
      "Epoch 161 - loss: 1.3258, acc: 57.89% / test_loss: 1.3412, test_acc: 56.36%\n",
      "Epoch 162 - loss: 1.2991, acc: 60.57% / test_loss: 1.2395, test_acc: 66.53%\n",
      "Epoch 163 - loss: 1.2382, acc: 66.66% / test_loss: 1.2257, test_acc: 67.91%\n",
      "Epoch 164 - loss: 1.2620, acc: 64.29% / test_loss: 1.2613, test_acc: 64.35%\n",
      "Epoch 165 - loss: 1.2626, acc: 64.22% / test_loss: 1.2662, test_acc: 63.86%\n",
      "Epoch 166 - loss: 1.2559, acc: 64.88% / test_loss: 1.2593, test_acc: 64.55%\n",
      "Epoch 167 - loss: 1.2605, acc: 64.44% / test_loss: 1.3227, test_acc: 58.22%\n",
      "Epoch 168 - loss: 1.2724, acc: 63.24% / test_loss: 1.2466, test_acc: 65.81%\n",
      "Epoch 169 - loss: 1.2516, acc: 65.32% / test_loss: 1.2263, test_acc: 67.85%\n",
      "Epoch 170 - loss: 1.2425, acc: 66.23% / test_loss: 1.2643, test_acc: 64.05%\n",
      "Epoch 171 - loss: 1.2238, acc: 68.09% / test_loss: 1.2094, test_acc: 69.54%\n",
      "Epoch 172 - loss: 1.2318, acc: 67.29% / test_loss: 1.2304, test_acc: 67.44%\n",
      "Epoch 173 - loss: 1.2381, acc: 66.67% / test_loss: 1.1958, test_acc: 70.91%\n",
      "Epoch 174 - loss: 1.2149, acc: 68.98% / test_loss: 1.1972, test_acc: 70.77%\n",
      "Epoch 175 - loss: 1.2220, acc: 68.27% / test_loss: 1.2254, test_acc: 67.94%\n",
      "Epoch 176 - loss: 1.2283, acc: 67.65% / test_loss: 1.2278, test_acc: 67.69%\n",
      "Epoch 177 - loss: 1.2302, acc: 67.46% / test_loss: 1.2249, test_acc: 67.99%\n",
      "Epoch 178 - loss: 1.2242, acc: 68.05% / test_loss: 1.2523, test_acc: 65.25%\n",
      "Epoch 179 - loss: 1.2329, acc: 67.20% / test_loss: 1.2517, test_acc: 65.32%\n",
      "Epoch 180 - loss: 1.2383, acc: 66.64% / test_loss: 1.2425, test_acc: 66.23%\n",
      "Epoch 181 - loss: 1.2372, acc: 66.76% / test_loss: 1.2218, test_acc: 68.31%\n",
      "Epoch 182 - loss: 1.2505, acc: 65.42% / test_loss: 1.2113, test_acc: 69.35%\n",
      "Epoch 183 - loss: 1.2335, acc: 67.13% / test_loss: 1.2511, test_acc: 65.37%\n",
      "Epoch 184 - loss: 1.2614, acc: 64.34% / test_loss: 1.2962, test_acc: 60.87%\n",
      "Epoch 185 - loss: 1.2502, acc: 65.46% / test_loss: 1.2166, test_acc: 68.81%\n",
      "Epoch 186 - loss: 1.2153, acc: 68.95% / test_loss: 1.2266, test_acc: 67.82%\n",
      "Epoch 187 - loss: 1.2493, acc: 65.56% / test_loss: 1.2813, test_acc: 62.36%\n",
      "Epoch 188 - loss: 1.2701, acc: 63.47% / test_loss: 1.2120, test_acc: 69.29%\n",
      "Epoch 189 - loss: 1.2449, acc: 65.98% / test_loss: 1.2432, test_acc: 66.16%\n",
      "Epoch 190 - loss: 1.2261, acc: 67.87% / test_loss: 1.1890, test_acc: 71.59%\n",
      "Epoch 191 - loss: 1.2005, acc: 70.42% / test_loss: 1.1975, test_acc: 70.74%\n",
      "Epoch 192 - loss: 1.2202, acc: 68.46% / test_loss: 1.2277, test_acc: 67.71%\n",
      "Epoch 193 - loss: 1.2189, acc: 68.59% / test_loss: 1.2015, test_acc: 70.33%\n",
      "Epoch 194 - loss: 1.2423, acc: 66.25% / test_loss: 1.2548, test_acc: 65.01%\n",
      "Epoch 195 - loss: 1.2329, acc: 67.18% / test_loss: 1.2324, test_acc: 67.24%\n",
      "Epoch 196 - loss: 1.2273, acc: 67.75% / test_loss: 1.1998, test_acc: 70.49%\n",
      "Epoch 197 - loss: 1.2095, acc: 69.53% / test_loss: 1.2090, test_acc: 69.58%\n",
      "Epoch 198 - loss: 1.2283, acc: 67.65% / test_loss: 1.2157, test_acc: 68.91%\n",
      "Epoch 199 - loss: 1.2246, acc: 68.02% / test_loss: 1.1923, test_acc: 71.25%\n",
      "Epoch 200 - loss: 1.2135, acc: 69.14% / test_loss: 1.2185, test_acc: 68.64%\n",
      "Epoch 201 - loss: 1.2335, acc: 67.13% / test_loss: 1.2436, test_acc: 66.12%\n",
      "Epoch 202 - loss: 1.2044, acc: 70.04% / test_loss: 1.1902, test_acc: 71.46%\n",
      "Epoch 203 - loss: 1.2150, acc: 68.97% / test_loss: 1.2389, test_acc: 66.59%\n",
      "Epoch 204 - loss: 1.2380, acc: 66.68% / test_loss: 1.2186, test_acc: 68.62%\n",
      "Epoch 205 - loss: 1.2146, acc: 69.02% / test_loss: 1.2050, test_acc: 69.99%\n",
      "Epoch 206 - loss: 1.2020, acc: 70.28% / test_loss: 1.1824, test_acc: 72.24%\n",
      "Epoch 207 - loss: 1.2069, acc: 69.78% / test_loss: 1.1908, test_acc: 71.41%\n",
      "Epoch 208 - loss: 1.2107, acc: 69.41% / test_loss: 1.2462, test_acc: 65.87%\n",
      "Epoch 209 - loss: 1.2385, acc: 66.62% / test_loss: 1.2124, test_acc: 69.24%\n",
      "Epoch 210 - loss: 1.2045, acc: 70.03% / test_loss: 1.1932, test_acc: 71.17%\n",
      "Epoch 211 - loss: 1.1999, acc: 70.50% / test_loss: 1.2088, test_acc: 69.60%\n",
      "Epoch 212 - loss: 1.2075, acc: 69.73% / test_loss: 1.1873, test_acc: 71.76%\n",
      "Epoch 213 - loss: 1.2086, acc: 69.62% / test_loss: 1.2206, test_acc: 68.43%\n",
      "Epoch 214 - loss: 1.2903, acc: 61.45% / test_loss: 1.3727, test_acc: 53.22%\n",
      "Epoch 215 - loss: 1.3628, acc: 54.19% / test_loss: 1.3427, test_acc: 56.21%\n",
      "Epoch 216 - loss: 1.3352, acc: 56.95% / test_loss: 1.2794, test_acc: 62.54%\n",
      "Epoch 217 - loss: 1.2728, acc: 63.20% / test_loss: 1.2364, test_acc: 66.85%\n"
     ]
    },
    {
     "name": "stdout",
     "output_type": "stream",
     "text": [
      "Epoch 218 - loss: 1.2202, acc: 68.46% / test_loss: 1.1967, test_acc: 70.81%\n",
      "Epoch 219 - loss: 1.2697, acc: 63.51% / test_loss: 1.2883, test_acc: 61.65%\n",
      "Epoch 220 - loss: 1.2748, acc: 62.99% / test_loss: 1.2669, test_acc: 63.79%\n",
      "Epoch 221 - loss: 1.2552, acc: 64.96% / test_loss: 1.2160, test_acc: 68.89%\n",
      "Epoch 222 - loss: 1.2136, acc: 69.11% / test_loss: 1.2190, test_acc: 68.58%\n",
      "Epoch 223 - loss: 1.2439, acc: 66.08% / test_loss: 1.2528, test_acc: 65.20%\n",
      "Epoch 224 - loss: 1.2083, acc: 69.65% / test_loss: 1.2032, test_acc: 70.16%\n",
      "Epoch 225 - loss: 1.2421, acc: 66.28% / test_loss: 1.2902, test_acc: 61.46%\n",
      "Epoch 226 - loss: 1.2888, acc: 61.60% / test_loss: 1.3080, test_acc: 59.68%\n",
      "Epoch 227 - loss: 1.2892, acc: 61.56% / test_loss: 1.2810, test_acc: 62.38%\n",
      "Epoch 228 - loss: 1.2698, acc: 63.50% / test_loss: 1.2836, test_acc: 62.12%\n",
      "Epoch 229 - loss: 1.3485, acc: 55.64% / test_loss: 1.3674, test_acc: 53.74%\n",
      "Epoch 230 - loss: 1.3663, acc: 53.85% / test_loss: 1.3187, test_acc: 58.60%\n",
      "Epoch 231 - loss: 1.3555, acc: 54.93% / test_loss: 1.3411, test_acc: 56.36%\n",
      "Epoch 232 - loss: 1.3370, acc: 56.78% / test_loss: 1.3027, test_acc: 60.21%\n",
      "Epoch 233 - loss: 1.2858, acc: 61.90% / test_loss: 1.2507, test_acc: 65.41%\n",
      "Epoch 234 - loss: 1.2538, acc: 65.10% / test_loss: 1.2623, test_acc: 64.25%\n",
      "Epoch 235 - loss: 1.2678, acc: 63.70% / test_loss: 1.3168, test_acc: 58.80%\n",
      "Epoch 236 - loss: 1.3495, acc: 55.53% / test_loss: 1.3792, test_acc: 52.57%\n",
      "Epoch 237 - loss: 1.3670, acc: 53.78% / test_loss: 1.2631, test_acc: 64.17%\n",
      "Epoch 238 - loss: 1.2874, acc: 61.74% / test_loss: 1.2826, test_acc: 62.22%\n",
      "Epoch 239 - loss: 1.2656, acc: 63.93% / test_loss: 1.2743, test_acc: 63.05%\n",
      "Epoch 240 - loss: 1.2526, acc: 65.22% / test_loss: 1.2658, test_acc: 63.90%\n",
      "Epoch 241 - loss: 1.2255, acc: 67.92% / test_loss: 1.2209, test_acc: 68.39%\n",
      "Epoch 242 - loss: 1.2321, acc: 67.26% / test_loss: 1.2240, test_acc: 68.09%\n",
      "Epoch 243 - loss: 1.2232, acc: 68.16% / test_loss: 1.2373, test_acc: 66.74%\n",
      "Epoch 244 - loss: 1.2614, acc: 64.35% / test_loss: 1.2692, test_acc: 63.56%\n",
      "Epoch 245 - loss: 1.2732, acc: 63.16% / test_loss: 1.2544, test_acc: 65.04%\n",
      "Epoch 246 - loss: 1.2823, acc: 62.25% / test_loss: 1.2786, test_acc: 62.62%\n",
      "Epoch 247 - loss: 1.2726, acc: 63.22% / test_loss: 1.2799, test_acc: 62.48%\n",
      "Epoch 248 - loss: 1.2481, acc: 65.67% / test_loss: 1.2564, test_acc: 64.85%\n",
      "Epoch 249 - loss: 1.2682, acc: 63.66% / test_loss: 1.2761, test_acc: 62.87%\n",
      "Epoch 250 - loss: 1.2503, acc: 65.45% / test_loss: 1.2464, test_acc: 65.84%\n",
      "Epoch 251 - loss: 1.2626, acc: 64.21% / test_loss: 1.2525, test_acc: 65.23%\n",
      "Epoch 252 - loss: 1.2406, acc: 66.43% / test_loss: 1.3044, test_acc: 60.05%\n",
      "Epoch 253 - loss: 1.2769, acc: 62.80% / test_loss: 1.2612, test_acc: 64.36%\n",
      "Epoch 254 - loss: 1.2695, acc: 63.53% / test_loss: 1.2435, test_acc: 66.14%\n",
      "Epoch 255 - loss: 1.2207, acc: 68.41% / test_loss: 1.1880, test_acc: 71.68%\n",
      "Epoch 256 - loss: 1.2125, acc: 69.23% / test_loss: 1.2327, test_acc: 67.21%\n",
      "Epoch 257 - loss: 1.2334, acc: 67.14% / test_loss: 1.2229, test_acc: 68.20%\n",
      "Epoch 258 - loss: 1.2245, acc: 68.03% / test_loss: 1.1923, test_acc: 71.24%\n",
      "Epoch 259 - loss: 1.1993, acc: 70.55% / test_loss: 1.1905, test_acc: 71.43%\n",
      "Epoch 260 - loss: 1.2187, acc: 68.61% / test_loss: 1.2466, test_acc: 65.83%\n",
      "Epoch 261 - loss: 1.2671, acc: 63.78% / test_loss: 1.2841, test_acc: 62.08%\n",
      "Epoch 262 - loss: 1.2762, acc: 62.85% / test_loss: 1.2700, test_acc: 63.48%\n",
      "Epoch 263 - loss: 1.3400, acc: 56.48% / test_loss: 1.3125, test_acc: 59.24%\n",
      "Epoch 264 - loss: 1.3170, acc: 58.78% / test_loss: 1.3143, test_acc: 59.05%\n",
      "Epoch 265 - loss: 1.3171, acc: 58.77% / test_loss: 1.3161, test_acc: 58.88%\n",
      "Epoch 266 - loss: 1.3231, acc: 58.17% / test_loss: 1.3383, test_acc: 56.65%\n",
      "Epoch 267 - loss: 1.3373, acc: 56.75% / test_loss: 1.3418, test_acc: 56.31%\n",
      "Epoch 268 - loss: 1.3522, acc: 55.27% / test_loss: 1.3440, test_acc: 56.08%\n",
      "Epoch 269 - loss: 1.3486, acc: 55.62% / test_loss: 1.3463, test_acc: 55.85%\n",
      "Epoch 270 - loss: 1.3433, acc: 56.15% / test_loss: 1.3354, test_acc: 56.94%\n",
      "Epoch 271 - loss: 1.3304, acc: 57.44% / test_loss: 1.3245, test_acc: 58.02%\n",
      "Epoch 272 - loss: 1.3250, acc: 57.98% / test_loss: 1.3285, test_acc: 57.63%\n",
      "Epoch 273 - loss: 1.3473, acc: 55.76% / test_loss: 1.3379, test_acc: 56.70%\n",
      "Epoch 274 - loss: 1.3307, acc: 57.40% / test_loss: 1.2983, test_acc: 60.65%\n",
      "Epoch 275 - loss: 1.3064, acc: 59.83% / test_loss: 1.2741, test_acc: 63.07%\n",
      "Epoch 276 - loss: 1.2876, acc: 61.72% / test_loss: 1.2799, test_acc: 62.49%\n",
      "Epoch 277 - loss: 1.2794, acc: 62.54% / test_loss: 1.2608, test_acc: 64.40%\n",
      "Epoch 278 - loss: 1.2506, acc: 65.41% / test_loss: 1.2447, test_acc: 66.01%\n",
      "Epoch 279 - loss: 1.2875, acc: 61.73% / test_loss: 1.2877, test_acc: 61.71%\n",
      "Epoch 280 - loss: 1.2788, acc: 62.60% / test_loss: 1.2663, test_acc: 63.86%\n",
      "Epoch 281 - loss: 1.2532, acc: 65.16% / test_loss: 1.2397, test_acc: 66.52%\n",
      "Epoch 282 - loss: 1.2622, acc: 64.27% / test_loss: 1.2393, test_acc: 66.55%\n",
      "Epoch 283 - loss: 1.2241, acc: 68.06% / test_loss: 1.2141, test_acc: 69.08%\n",
      "Epoch 284 - loss: 1.2462, acc: 65.85% / test_loss: 1.2576, test_acc: 64.73%\n",
      "Epoch 285 - loss: 1.3088, acc: 59.60% / test_loss: 1.3369, test_acc: 56.80%\n",
      "Epoch 286 - loss: 1.3365, acc: 56.83% / test_loss: 1.2933, test_acc: 61.15%\n",
      "Epoch 287 - loss: 1.2800, acc: 62.48% / test_loss: 1.2298, test_acc: 67.50%\n",
      "Epoch 288 - loss: 1.2364, acc: 66.85% / test_loss: 1.2330, test_acc: 67.17%\n",
      "Epoch 289 - loss: 1.2532, acc: 65.16% / test_loss: 1.2712, test_acc: 63.36%\n",
      "Epoch 290 - loss: 1.2699, acc: 63.49% / test_loss: 1.2523, test_acc: 65.24%\n",
      "Epoch 291 - loss: 1.2675, acc: 63.73% / test_loss: 1.2629, test_acc: 64.20%\n",
      "Epoch 292 - loss: 1.3107, acc: 59.41% / test_loss: 1.2819, test_acc: 62.30%\n",
      "Epoch 293 - loss: 1.3021, acc: 60.27% / test_loss: 1.2853, test_acc: 61.95%\n",
      "Epoch 294 - loss: 1.3176, acc: 58.72% / test_loss: 1.3083, test_acc: 59.65%\n",
      "Epoch 295 - loss: 1.2969, acc: 60.79% / test_loss: 1.2634, test_acc: 64.14%\n",
      "Epoch 296 - loss: 1.2933, acc: 61.15% / test_loss: 1.2934, test_acc: 61.15%\n",
      "Epoch 297 - loss: 1.3217, acc: 58.31% / test_loss: 1.3298, test_acc: 57.50%\n",
      "Epoch 298 - loss: 1.3279, acc: 57.69% / test_loss: 1.3293, test_acc: 57.55%\n",
      "Epoch 299 - loss: 1.3304, acc: 57.44% / test_loss: 1.3238, test_acc: 58.10%\n",
      "Epoch 300 - loss: 1.3200, acc: 58.48% / test_loss: 1.3166, test_acc: 58.82%\n",
      "Epoch 301 - loss: 1.2970, acc: 60.78% / test_loss: 1.2803, test_acc: 62.45%\n",
      "Epoch 302 - loss: 1.2756, acc: 62.92% / test_loss: 1.2744, test_acc: 63.04%\n",
      "Epoch 303 - loss: 1.3121, acc: 59.27% / test_loss: 1.2764, test_acc: 62.84%\n",
      "Epoch 304 - loss: 1.2497, acc: 65.50% / test_loss: 1.2901, test_acc: 61.48%\n",
      "Epoch 305 - loss: 1.2937, acc: 61.11% / test_loss: 1.2883, test_acc: 61.65%\n",
      "Epoch 306 - loss: 1.2564, acc: 64.83% / test_loss: 1.2321, test_acc: 67.27%\n",
      "Epoch 307 - loss: 1.2466, acc: 65.82% / test_loss: 1.2338, test_acc: 67.10%\n",
      "Epoch 308 - loss: 1.2335, acc: 67.13% / test_loss: 1.2467, test_acc: 65.81%\n",
      "Epoch 309 - loss: 1.2741, acc: 63.07% / test_loss: 1.3143, test_acc: 59.06%\n",
      "Epoch 310 - loss: 1.3143, acc: 59.06% / test_loss: 1.3097, test_acc: 59.52%\n",
      "Epoch 311 - loss: 1.3100, acc: 59.49% / test_loss: 1.3067, test_acc: 59.82%\n",
      "Epoch 312 - loss: 1.2883, acc: 61.65% / test_loss: 1.2673, test_acc: 63.75%\n",
      "Epoch 313 - loss: 1.2647, acc: 64.01% / test_loss: 1.2368, test_acc: 66.80%\n",
      "Epoch 314 - loss: 1.2347, acc: 67.01% / test_loss: 1.2169, test_acc: 68.80%\n",
      "Epoch 315 - loss: 1.2392, acc: 66.55% / test_loss: 1.2612, test_acc: 64.36%\n",
      "Epoch 316 - loss: 1.3162, acc: 58.87% / test_loss: 1.2935, test_acc: 61.13%\n",
      "Epoch 317 - loss: 1.2936, acc: 61.12% / test_loss: 1.2901, test_acc: 61.47%\n",
      "Epoch 318 - loss: 1.2755, acc: 62.93% / test_loss: 1.2672, test_acc: 63.76%\n",
      "Epoch 319 - loss: 1.2824, acc: 62.24% / test_loss: 1.2615, test_acc: 64.33%\n",
      "Epoch 320 - loss: 1.3038, acc: 60.11% / test_loss: 1.3132, test_acc: 59.15%\n",
      "Epoch 321 - loss: 1.2617, acc: 64.31% / test_loss: 1.2418, test_acc: 66.30%\n",
      "Epoch 322 - loss: 1.2255, acc: 67.94% / test_loss: 1.2216, test_acc: 68.31%\n",
      "Epoch 323 - loss: 1.2280, acc: 67.68% / test_loss: 1.2222, test_acc: 68.26%\n",
      "Epoch 324 - loss: 1.2276, acc: 67.72% / test_loss: 1.2172, test_acc: 68.77%\n",
      "Epoch 325 - loss: 1.2230, acc: 68.18% / test_loss: 1.2279, test_acc: 67.70%\n"
     ]
    },
    {
     "name": "stdout",
     "output_type": "stream",
     "text": [
      "Epoch 326 - loss: 1.2276, acc: 67.72% / test_loss: 1.2160, test_acc: 68.88%\n",
      "Epoch 327 - loss: 1.2353, acc: 66.95% / test_loss: 1.2246, test_acc: 68.03%\n",
      "Epoch 328 - loss: 1.2319, acc: 67.29% / test_loss: 1.2206, test_acc: 68.43%\n",
      "Epoch 329 - loss: 1.2453, acc: 65.96% / test_loss: 1.2865, test_acc: 61.83%\n",
      "Epoch 330 - loss: 1.2707, acc: 63.41% / test_loss: 1.2275, test_acc: 67.73%\n",
      "Epoch 331 - loss: 1.2277, acc: 67.71% / test_loss: 1.2141, test_acc: 69.07%\n",
      "Epoch 332 - loss: 1.2314, acc: 67.35% / test_loss: 1.2209, test_acc: 68.40%\n",
      "Epoch 333 - loss: 1.2560, acc: 64.88% / test_loss: 1.2351, test_acc: 66.98%\n",
      "Epoch 334 - loss: 1.2467, acc: 65.81% / test_loss: 1.2384, test_acc: 66.64%\n",
      "Epoch 335 - loss: 1.2301, acc: 67.47% / test_loss: 1.2163, test_acc: 68.85%\n",
      "Epoch 336 - loss: 1.2208, acc: 68.40% / test_loss: 1.2212, test_acc: 68.36%\n",
      "Epoch 337 - loss: 1.2394, acc: 66.55% / test_loss: 1.2486, test_acc: 65.62%\n",
      "Epoch 338 - loss: 1.2208, acc: 68.40% / test_loss: 1.2323, test_acc: 67.26%\n",
      "Epoch 339 - loss: 1.2358, acc: 66.90% / test_loss: 1.2184, test_acc: 68.64%\n",
      "Epoch 340 - loss: 1.2144, acc: 69.04% / test_loss: 1.2121, test_acc: 69.28%\n",
      "Epoch 341 - loss: 1.2233, acc: 68.15% / test_loss: 1.2394, test_acc: 66.55%\n",
      "Epoch 342 - loss: 1.2509, acc: 65.39% / test_loss: 1.2357, test_acc: 66.92%\n",
      "Epoch 343 - loss: 1.2162, acc: 68.86% / test_loss: 1.2365, test_acc: 66.83%\n",
      "Epoch 344 - loss: 1.2254, acc: 67.94% / test_loss: 1.2212, test_acc: 68.37%\n",
      "Epoch 345 - loss: 1.2519, acc: 65.29% / test_loss: 1.2710, test_acc: 63.38%\n",
      "Epoch 346 - loss: 1.2675, acc: 63.73% / test_loss: 1.2594, test_acc: 64.55%\n",
      "Epoch 347 - loss: 1.2505, acc: 65.42% / test_loss: 1.2252, test_acc: 67.97%\n",
      "Epoch 348 - loss: 1.2435, acc: 66.13% / test_loss: 1.2636, test_acc: 64.13%\n",
      "Epoch 349 - loss: 1.2735, acc: 63.13% / test_loss: 1.2711, test_acc: 63.38%\n",
      "Epoch 350 - loss: 1.3075, acc: 59.73% / test_loss: 1.2902, test_acc: 61.46%\n",
      "Epoch 351 - loss: 1.2788, acc: 62.60% / test_loss: 1.2701, test_acc: 63.47%\n",
      "Epoch 352 - loss: 1.2803, acc: 62.45% / test_loss: 1.2729, test_acc: 63.20%\n",
      "Epoch 353 - loss: 1.2753, acc: 62.94% / test_loss: 1.2885, test_acc: 61.64%\n",
      "Epoch 354 - loss: 1.2633, acc: 64.15% / test_loss: 1.2344, test_acc: 67.04%\n",
      "Epoch 355 - loss: 1.2559, acc: 64.89% / test_loss: 1.2918, test_acc: 61.31%\n",
      "Epoch 356 - loss: 1.3076, acc: 59.72% / test_loss: 1.2859, test_acc: 61.90%\n",
      "Epoch 357 - loss: 1.2669, acc: 63.78% / test_loss: 1.2428, test_acc: 66.21%\n",
      "Epoch 358 - loss: 1.2544, acc: 65.04% / test_loss: 1.2390, test_acc: 66.58%\n",
      "Epoch 359 - loss: 1.2256, acc: 67.92% / test_loss: 1.2106, test_acc: 69.43%\n",
      "Epoch 360 - loss: 1.2150, acc: 68.98% / test_loss: 1.2055, test_acc: 69.93%\n",
      "Epoch 361 - loss: 1.2130, acc: 69.18% / test_loss: 1.2257, test_acc: 67.91%\n",
      "Epoch 362 - loss: 1.2441, acc: 66.08% / test_loss: 1.2574, test_acc: 64.74%\n",
      "Epoch 363 - loss: 1.2703, acc: 63.45% / test_loss: 1.2808, test_acc: 62.40%\n",
      "Epoch 364 - loss: 1.2601, acc: 64.47% / test_loss: 1.2128, test_acc: 69.20%\n",
      "Epoch 365 - loss: 1.2254, acc: 67.94% / test_loss: 1.2124, test_acc: 69.25%\n",
      "Epoch 366 - loss: 1.2203, acc: 68.45% / test_loss: 1.2221, test_acc: 68.27%\n",
      "Epoch 367 - loss: 1.2214, acc: 68.34% / test_loss: 1.2181, test_acc: 68.67%\n",
      "Epoch 368 - loss: 1.2172, acc: 68.77% / test_loss: 1.2186, test_acc: 68.62%\n",
      "Epoch 369 - loss: 1.2226, acc: 68.21% / test_loss: 1.2399, test_acc: 66.49%\n",
      "Epoch 370 - loss: 1.2339, acc: 67.10% / test_loss: 1.2244, test_acc: 68.05%\n",
      "Epoch 371 - loss: 1.2504, acc: 65.44% / test_loss: 1.2405, test_acc: 66.43%\n",
      "Epoch 372 - loss: 1.2264, acc: 67.84% / test_loss: 1.2190, test_acc: 68.59%\n",
      "Epoch 373 - loss: 1.2203, acc: 68.45% / test_loss: 1.1972, test_acc: 70.77%\n",
      "Epoch 374 - loss: 1.2184, acc: 68.64% / test_loss: 1.2079, test_acc: 69.69%\n",
      "Epoch 375 - loss: 1.2617, acc: 64.31% / test_loss: 1.2981, test_acc: 60.67%\n",
      "Epoch 376 - loss: 1.2496, acc: 65.52% / test_loss: 1.2393, test_acc: 66.56%\n",
      "Epoch 377 - loss: 1.2390, acc: 66.58% / test_loss: 1.2359, test_acc: 66.89%\n",
      "Epoch 378 - loss: 1.2412, acc: 66.36% / test_loss: 1.2384, test_acc: 66.64%\n",
      "Epoch 379 - loss: 1.2707, acc: 63.41% / test_loss: 1.2382, test_acc: 66.67%\n",
      "Epoch 380 - loss: 1.2588, acc: 64.60% / test_loss: 1.2553, test_acc: 64.96%\n",
      "Epoch 381 - loss: 1.2789, acc: 62.60% / test_loss: 1.2684, test_acc: 63.65%\n",
      "Epoch 382 - loss: 1.2452, acc: 65.96% / test_loss: 1.2293, test_acc: 67.55%\n",
      "Epoch 383 - loss: 1.2290, acc: 67.58% / test_loss: 1.2195, test_acc: 68.54%\n",
      "Epoch 384 - loss: 1.2206, acc: 68.42% / test_loss: 1.2073, test_acc: 69.75%\n",
      "Epoch 385 - loss: 1.2475, acc: 65.73% / test_loss: 1.2543, test_acc: 65.06%\n",
      "Epoch 386 - loss: 1.2536, acc: 65.12% / test_loss: 1.2570, test_acc: 64.78%\n",
      "Epoch 387 - loss: 1.2507, acc: 65.41% / test_loss: 1.2141, test_acc: 69.08%\n",
      "Epoch 388 - loss: 1.2277, acc: 67.71% / test_loss: 1.2204, test_acc: 68.43%\n",
      "Epoch 389 - loss: 1.2307, acc: 67.41% / test_loss: 1.2188, test_acc: 68.61%\n",
      "Epoch 390 - loss: 1.2377, acc: 66.71% / test_loss: 1.2375, test_acc: 66.74%\n",
      "Epoch 391 - loss: 1.2336, acc: 67.12% / test_loss: 1.2113, test_acc: 69.35%\n",
      "Epoch 392 - loss: 1.2144, acc: 69.04% / test_loss: 1.2018, test_acc: 70.31%\n",
      "Epoch 393 - loss: 1.2119, acc: 69.29% / test_loss: 1.2021, test_acc: 70.27%\n",
      "Epoch 394 - loss: 1.2076, acc: 69.72% / test_loss: 1.2000, test_acc: 70.49%\n",
      "Epoch 395 - loss: 1.2031, acc: 70.17% / test_loss: 1.1926, test_acc: 71.23%\n",
      "Epoch 396 - loss: 1.2257, acc: 67.90% / test_loss: 1.2594, test_acc: 64.54%\n",
      "Epoch 397 - loss: 1.2580, acc: 64.68% / test_loss: 1.2453, test_acc: 65.95%\n",
      "Epoch 398 - loss: 1.2729, acc: 63.19% / test_loss: 1.2828, test_acc: 62.20%\n",
      "Epoch 399 - loss: 1.2874, acc: 61.74% / test_loss: 1.2832, test_acc: 62.17%\n",
      "Epoch 400 - loss: 1.2683, acc: 63.65% / test_loss: 1.2478, test_acc: 65.71%\n",
      "Best test accuracy 73.78% in epoch 19.\n",
      "----------------------------------------------------------------------------------------------------\n"
     ]
    }
   ],
   "source": [
    "best_test_accs = list()\n",
    "\n",
    "for i in range(run):\n",
    "    print('Run', i+1)\n",
    "    \n",
    "    seed = 0\n",
    "    np.random.seed(seed)\n",
    "    torch.manual_seed(seed)\n",
    "    torch.cuda.manual_seed(seed)\n",
    "    torch.cuda.manual_seed_all(seed) # if you are using multi-GPU.\n",
    "    torch.backends.cudnn.benchmark = False\n",
    "    torch.backends.cudnn.deterministic = True\n",
    "    \n",
    "    ecgnet = ECGConv1D()  # init new model\n",
    "    train_losses, train_accs, test_losses, test_accs = train(i, ecgnet.to(device))  # train\n",
    "\n",
    "    best_test_accs.append(max(test_accs))  # get best test accuracy\n",
    "    best_test_acc_epoch = np.array(test_accs).argmax() + 1\n",
    "    print('Best test accuracy {:.2f}% in epoch {}.'.format(best_test_accs[-1]*100, best_test_acc_epoch))\n",
    "    print('-' * 100)\n",
    "\n",
    "    df = pd.DataFrame({  # save model training process into csv file\n",
    "        'loss': train_losses,\n",
    "        'test_loss': test_losses,\n",
    "        'acc': train_accs,\n",
    "        'test_acc': test_accs\n",
    "    })\n",
    "    df.to_csv(os.path.join(root_path, csv_dir, '_'.join([csv_name, str(i+1)]) + csv_ext))\n",
    "\n",
    "df = pd.DataFrame({'best_test_acc': best_test_accs})  # save best test accuracy of each run\n",
    "df.to_csv(os.path.join(root_path, csv_dir, csv_accs_name + csv_ext))"
   ]
  },
  {
   "cell_type": "markdown",
   "metadata": {
    "colab_type": "text",
    "id": "cpDwI7BFRjK6"
   },
   "source": [
    "## Print the best test accuracy of each run"
   ]
  },
  {
   "cell_type": "code",
   "execution_count": 14,
   "metadata": {
    "colab": {
     "base_uri": "https://localhost:8080/",
     "height": 201
    },
    "colab_type": "code",
    "executionInfo": {
     "elapsed": 141,
     "status": "ok",
     "timestamp": 1573150872213,
     "user": {
      "displayName": "Kyuyeon Kim",
      "photoUrl": "https://lh3.googleusercontent.com/a-/AAuE7mBDhZm6xUbCYNLGqOYDpm2QRhOirby0BI-zUCTw2g=s64",
      "userId": "05245697685138289125"
     },
     "user_tz": -540
    },
    "id": "Ne8dr7DaRUME",
    "outputId": "9a98648b-ee04-490e-de87-4c3e1095b2e7"
   },
   "outputs": [
    {
     "name": "stdout",
     "output_type": "stream",
     "text": [
      "Run 1: 73.78%\n"
     ]
    }
   ],
   "source": [
    "for i, a in enumerate(best_test_accs):\n",
    "    print('Run {}: {:.2f}%'.format(i+1, a*100))"
   ]
  },
  {
   "cell_type": "code",
   "execution_count": 15,
   "metadata": {},
   "outputs": [
    {
     "data": {
      "image/png": "[encoded data removed]",
      "text/plain": [
       "<Figure size 1152x288 with 2 Axes>"
      ]
     },
     "metadata": {
      "needs_background": "light"
     },
     "output_type": "display_data"
    }
   ],
   "source": [
    "fig, ax = plt.subplots(1, 2, figsize=(16, 4))\n",
    "\n",
    "ax[0].plot(train_losses)\n",
    "ax[0].plot(test_losses)\n",
    "ax[0].set_xticks([0, 50, 100, 150, 200, 250, 300, 350, 400])\n",
    "ax[0].set_xlabel('Epochs')\n",
    "ax[0].set_ylabel('Loss')\n",
    "ax[0].grid()\n",
    "ax[0].legend(['train', 'test'], loc='upper right')\n",
    "\n",
    "ax[1].plot(np.asarray(train_accs) * 100)\n",
    "ax[1].plot(np.asarray(test_accs) * 100)\n",
    "ax[1].set_xticks([0, 50, 100, 150, 200, 250, 300, 350, 400])\n",
    "ax[1].set_xlabel('Epochs')\n",
    "ax[1].set_ylabel('Accuracy (%)')\n",
    "ax[1].set_ylim(top=100)\n",
    "ax[1].grid()\n",
    "ax[1].legend(['train', 'test'], loc='upper left')\n",
    "\n",
    "fig.savefig('conv2_split.pdf', bbox_inches='tight')"
   ]
  },
  {
   "cell_type": "code",
   "execution_count": null,
   "metadata": {},
   "outputs": [],
   "source": []
  }
 ],
 "metadata": {
  "accelerator": "GPU",
  "colab": {
   "collapsed_sections": [],
   "name": "ecg_train_2conv_final.ipynb",
   "provenance": []
  },
  "kernelspec": {
   "display_name": "Python 3",
   "language": "python",
   "name": "python3"
  },
  "language_info": {
   "codemirror_mode": {
    "name": "ipython",
    "version": 3
   },
   "file_extension": ".py",
   "mimetype": "text/x-python",
   "name": "python",
   "nbconvert_exporter": "python",
   "pygments_lexer": "ipython3",
   "version": "3.7.5"
  }
 },
 "nbformat": 4,
 "nbformat_minor": 1
}
