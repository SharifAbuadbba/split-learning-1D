{
 "cells": [
  {
   "cell_type": "markdown",
   "metadata": {
    "colab_type": "text",
    "id": "YDQY02P14s5b"
   },
   "source": [
    "# 1D-CNN Model for ECG Classification\n",
    "- The model used has 2 Conv. layers and 2 FC layers.\n",
    "- This code repeat running the training process and produce all kinds of data which can be given, such as data needed for drawing loss and accuracy graph through epochs, and maximum test accuracy for each run."
   ]
  },
  {
   "cell_type": "markdown",
   "metadata": {
    "colab_type": "text",
    "id": "0jVwGea7meY-"
   },
   "source": [
    "## Get permission of Google Drive access"
   ]
  },
  {
   "cell_type": "code",
   "execution_count": 1,
   "metadata": {
    "colab": {
     "base_uri": "https://localhost:8080/",
     "height": 55
    },
    "colab_type": "code",
    "executionInfo": {
     "elapsed": 1384,
     "status": "ok",
     "timestamp": 1573140331176,
     "user": {
      "displayName": "Kyuyeon Kim",
      "photoUrl": "https://lh3.googleusercontent.com/a-/AAuE7mBDhZm6xUbCYNLGqOYDpm2QRhOirby0BI-zUCTw2g=s64",
      "userId": "05245697685138289125"
     },
     "user_tz": -540
    },
    "id": "gw8VHp_Lqnu0",
    "outputId": "25ea812d-4242-463a-dc32-a938504f0792"
   },
   "outputs": [],
   "source": [
    "root_path = '.'"
   ]
  },
  {
   "cell_type": "markdown",
   "metadata": {
    "colab_type": "text",
    "id": "y-OoNrzR2jnb"
   },
   "source": [
    "## File name settings"
   ]
  },
  {
   "cell_type": "code",
   "execution_count": 2,
   "metadata": {
    "colab": {},
    "colab_type": "code",
    "id": "BNGT9J0J2jEB"
   },
   "outputs": [],
   "source": [
    "data_dir = 'mitdb'\n",
    "train_name = 'train_ecg.hdf5'\n",
    "test_name = 'test_ecg.hdf5'\n",
    "all_name = 'all_ecg.hdf5'\n",
    "\n",
    "model_dir = 'model'\n",
    "model_name = 'conv2'\n",
    "model_ext = '.pth'\n",
    "\n",
    "csv_dir = 'csv'\n",
    "csv_ext = '.csv'\n",
    "\n",
    "csv_name = 'conv2'\n",
    "csv_accs_name = 'accs_conv2'"
   ]
  },
  {
   "cell_type": "markdown",
   "metadata": {
    "colab_type": "text",
    "id": "XQhRMQcxmiiU"
   },
   "source": [
    "## Import required packages"
   ]
  },
  {
   "cell_type": "code",
   "execution_count": 3,
   "metadata": {
    "colab": {},
    "colab_type": "code",
    "id": "ekg3kh1Tq1B_"
   },
   "outputs": [],
   "source": [
    "import os\n",
    "\n",
    "import torch\n",
    "import torch.nn as nn\n",
    "from torch.utils.data import Dataset, DataLoader\n",
    "from torch.optim import Adam\n",
    "\n",
    "import numpy as np\n",
    "import pandas as pd\n",
    "import h5py\n",
    "from tqdm import tqdm\n",
    "import matplotlib.pyplot as plt\n",
    "\n",
    "from diffprivlib.mechanisms import Laplace"
   ]
  },
  {
   "cell_type": "markdown",
   "metadata": {
    "colab_type": "text",
    "id": "FzsvXmVd0ayn"
   },
   "source": [
    "## GPU settings"
   ]
  },
  {
   "cell_type": "code",
   "execution_count": 4,
   "metadata": {
    "colab": {
     "base_uri": "https://localhost:8080/",
     "height": 35
    },
    "colab_type": "code",
    "executionInfo": {
     "elapsed": 1561,
     "status": "ok",
     "timestamp": 1573140331478,
     "user": {
      "displayName": "Kyuyeon Kim",
      "photoUrl": "https://lh3.googleusercontent.com/a-/AAuE7mBDhZm6xUbCYNLGqOYDpm2QRhOirby0BI-zUCTw2g=s64",
      "userId": "05245697685138289125"
     },
     "user_tz": -540
    },
    "id": "1UJyXe89cJcw",
    "outputId": "14b01434-7392-4af6-98a1-f48524453a56"
   },
   "outputs": [],
   "source": [
    "device = torch.device('cuda:0' if torch.cuda.is_available() else 'cpu')\n",
    "if torch.cuda.is_available():\n",
    "    print(torch.cuda.get_device_name(0))"
   ]
  },
  {
   "cell_type": "markdown",
   "metadata": {
    "colab_type": "text",
    "id": "K-DnZ3zF6dhx"
   },
   "source": [
    "## Define `ECG` `Dataset` class\n"
   ]
  },
  {
   "cell_type": "code",
   "execution_count": 5,
   "metadata": {
    "colab": {},
    "colab_type": "code",
    "id": "ffSLi6qCbHy2"
   },
   "outputs": [],
   "source": [
    "class ECG(Dataset):\n",
    "    def __init__(self, mode='train'):\n",
    "        if mode == 'train':\n",
    "            with h5py.File(os.path.join(root_path, data_dir, train_name), 'r') as hdf:\n",
    "                self.x = hdf['x_train'][:]\n",
    "                self.y = hdf['y_train'][:]\n",
    "        elif mode == 'test':\n",
    "            with h5py.File(os.path.join(root_path, data_dir, test_name), 'r') as hdf:\n",
    "                self.x = hdf['x_test'][:]\n",
    "                self.y = hdf['y_test'][:]\n",
    "        elif mode == 'all':\n",
    "            with h5py.File(os.path.join(root_path, data_dir, all_name), 'r') as hdf:\n",
    "                self.x = hdf['x'][:]\n",
    "                self.y = hdf['y'][:]\n",
    "        else:\n",
    "            raise ValueError('Argument of mode should be train, test, or all.')\n",
    "    \n",
    "    def __len__(self):\n",
    "        return len(self.x)\n",
    "    \n",
    "    def __getitem__(self, idx):\n",
    "        return torch.tensor(self.x[idx], dtype=torch.float), torch.tensor(self.y[idx])"
   ]
  },
  {
   "cell_type": "markdown",
   "metadata": {
    "colab_type": "text",
    "id": "U97Sm8qs6-IC"
   },
   "source": [
    "## Make Batch Generator"
   ]
  },
  {
   "cell_type": "markdown",
   "metadata": {
    "colab_type": "text",
    "id": "popnnQ0ckaF3"
   },
   "source": [
    "### Batch size\n",
    "You can change it if you want."
   ]
  },
  {
   "cell_type": "code",
   "execution_count": 6,
   "metadata": {
    "colab": {},
    "colab_type": "code",
    "id": "ElNcZhTt786w"
   },
   "outputs": [],
   "source": [
    "batch_size = 32"
   ]
  },
  {
   "cell_type": "markdown",
   "metadata": {
    "colab_type": "text",
    "id": "AHy2nkSm778h"
   },
   "source": [
    "### `DataLoader` for batch generating\n",
    "`torch.utils.data.DataLoader(dataset, batch_size=1, shuffle=False)`"
   ]
  },
  {
   "cell_type": "code",
   "execution_count": 7,
   "metadata": {
    "colab": {},
    "colab_type": "code",
    "id": "DyIHkQr4sMiE"
   },
   "outputs": [],
   "source": [
    "train_dataset = ECG(mode='train')\n",
    "test_dataset = ECG(mode='test')\n",
    "train_loader = DataLoader(train_dataset, batch_size=batch_size)\n",
    "test_loader = DataLoader(test_dataset, batch_size=batch_size)"
   ]
  },
  {
   "cell_type": "markdown",
   "metadata": {
    "colab_type": "text",
    "id": "6opdvihFk8Di"
   },
   "source": [
    "### Size check for single batch"
   ]
  },
  {
   "cell_type": "code",
   "execution_count": 8,
   "metadata": {
    "colab": {
     "base_uri": "https://localhost:8080/",
     "height": 54
    },
    "colab_type": "code",
    "executionInfo": {
     "elapsed": 1342,
     "status": "ok",
     "timestamp": 1573140331487,
     "user": {
      "displayName": "Kyuyeon Kim",
      "photoUrl": "https://lh3.googleusercontent.com/a-/AAuE7mBDhZm6xUbCYNLGqOYDpm2QRhOirby0BI-zUCTw2g=s64",
      "userId": "05245697685138289125"
     },
     "user_tz": -540
    },
    "id": "902j2PYgszyr",
    "outputId": "717f8d82-10de-4012-e9c1-4717b8835d17"
   },
   "outputs": [
    {
     "name": "stdout",
     "output_type": "stream",
     "text": [
      "torch.Size([32, 1, 128])\n",
      "torch.Size([32])\n"
     ]
    }
   ],
   "source": [
    "x_train, y_train = next(iter(train_loader))\n",
    "print(x_train.size())\n",
    "print(y_train.size())"
   ]
  },
  {
   "cell_type": "markdown",
   "metadata": {
    "colab_type": "text",
    "id": "d4Nv5OLbm0rJ"
   },
   "source": [
    "### Number of total batches"
   ]
  },
  {
   "cell_type": "code",
   "execution_count": 9,
   "metadata": {
    "colab": {
     "base_uri": "https://localhost:8080/",
     "height": 35
    },
    "colab_type": "code",
    "executionInfo": {
     "elapsed": 1320,
     "status": "ok",
     "timestamp": 1573140331489,
     "user": {
      "displayName": "Kyuyeon Kim",
      "photoUrl": "https://lh3.googleusercontent.com/a-/AAuE7mBDhZm6xUbCYNLGqOYDpm2QRhOirby0BI-zUCTw2g=s64",
      "userId": "05245697685138289125"
     },
     "user_tz": -540
    },
    "id": "xY_0e4jexTIy",
    "outputId": "37db683a-0839-4463-8f2a-88340df0be85"
   },
   "outputs": [
    {
     "name": "stdout",
     "output_type": "stream",
     "text": [
      "414\n"
     ]
    }
   ],
   "source": [
    "total_batch = len(train_loader)\n",
    "print(total_batch)"
   ]
  },
  {
   "cell_type": "markdown",
   "metadata": {
    "colab_type": "text",
    "id": "hteQdSdMg8aB"
   },
   "source": [
    "## Pytorch layer modules for **Conv1D** Network\n",
    "\n",
    "\n",
    "\n",
    "### `Conv1d` layer\n",
    "- `torch.nn.Conv1d(in_channels, out_channels, kernel_size)`\n",
    "\n",
    "### `MaxPool1d` layer\n",
    "- `torch.nn.MaxPool1d(kernel_size, stride=None)`\n",
    "- Parameter `stride` follows `kernel_size`.\n",
    "\n",
    "### `ReLU` layer\n",
    "- `torch.nn.ReLU()`\n",
    "\n",
    "### `Linear` layer\n",
    "- `torch.nn.Linear(in_features, out_features, bias=True)`\n",
    "\n",
    "### `Softmax` layer\n",
    "- `torch.nn.Softmax(dim=None)`\n",
    "- Parameter `dim` is usually set to `1`."
   ]
  },
  {
   "cell_type": "markdown",
   "metadata": {
    "colab_type": "text",
    "id": "X-QMUMFx2n5J"
   },
   "source": [
    "## Training process settings"
   ]
  },
  {
   "cell_type": "code",
   "execution_count": 10,
   "metadata": {
    "colab": {},
    "colab_type": "code",
    "id": "3AKAftHyzPfz"
   },
   "outputs": [],
   "source": [
    "run = 1\n",
    "epoch = 400\n",
    "lr = 0.001\n",
    "epsilon = 10\n",
    "min_diff = 1e-5"
   ]
  },
  {
   "cell_type": "markdown",
   "metadata": {
    "colab_type": "text",
    "id": "d0DQJhg2w_Tj"
   },
   "source": [
    "## Construct 1D CNN ECG classification model"
   ]
  },
  {
   "cell_type": "code",
   "execution_count": 11,
   "metadata": {
    "colab": {},
    "colab_type": "code",
    "id": "G2LRE1T2ZZLB"
   },
   "outputs": [],
   "source": [
    "class ECGConv1D(nn.Module):\n",
    "    def __init__(self):\n",
    "        super(ECGConv1D, self).__init__()\n",
    "        self.conv1 = nn.Conv1d(1, 16, 7, padding=3)  # 128 x 16\n",
    "        self.relu1 = nn.LeakyReLU()\n",
    "        self.pool1 = nn.MaxPool1d(2)  # 64 x 16\n",
    "        self.conv2 = nn.Conv1d(16, 16, 5, padding=2)  # 64 x 16\n",
    "        self.relu2 = nn.LeakyReLU()\n",
    "        self.pool2 = nn.MaxPool1d(2)  # 32 x 16\n",
    "        self.linear3 = nn.Linear(32 * 16, 128)\n",
    "        self.relu3 = nn.LeakyReLU()\n",
    "        self.linear4 = nn.Linear(128, 5)\n",
    "        self.softmax4 = nn.Softmax(dim=1)\n",
    "    \n",
    "    def forward(self, x):\n",
    "        x = self.conv1(x)\n",
    "        x = self.relu1(x)\n",
    "        x = self.pool1(x)\n",
    "        x = self.conv2(x)\n",
    "        x = self.relu2(x)\n",
    "        x = self.pool2(x)\n",
    "        \n",
    "        # differential privacy\n",
    "        x_data = x.data.cpu().numpy()\n",
    "        bound = np.dstack((np.max(x_data, axis=0), np.min(x_data, axis=0)))\n",
    "        for i in range(bound.shape[0]):\n",
    "            for j in range(bound.shape[1]):\n",
    "                interval = bound[i][j]\n",
    "                if interval[0] - interval[1] < min_diff:\n",
    "                    interval[0] += min_diff * 0.5\n",
    "                    interval[1] -= min_diff * 0.5\n",
    "        for j in range(x_data.shape[1]):\n",
    "            for k in range(x_data.shape[2]):\n",
    "                dp = Laplace()\n",
    "                dp = dp.set_epsilon(epsilon)\n",
    "                dp = dp.set_sensitivity(bound[j][k][0] - bound[j][k][1])\n",
    "                for i in range(x_data.shape[0]):\n",
    "                    x_data[i][j][k] = dp.randomise(x_data[i][j][k])\n",
    "        x.data = torch.tensor(x_data).requires_grad_(True).to(device)\n",
    "        \n",
    "        x = x.view(-1, 32 * 16)\n",
    "        x = self.linear3(x)\n",
    "        x = self.relu3(x)\n",
    "        x = self.linear4(x)\n",
    "        x = self.softmax4(x)\n",
    "        return x        "
   ]
  },
  {
   "cell_type": "markdown",
   "metadata": {
    "colab_type": "text",
    "id": "m-bCqOUuxSdp"
   },
   "source": [
    "## Traning function\n"
   ]
  },
  {
   "cell_type": "code",
   "execution_count": 12,
   "metadata": {
    "colab": {},
    "colab_type": "code",
    "id": "nO67O2Kj7B8J"
   },
   "outputs": [],
   "source": [
    "def train(nrun, model):\n",
    "    criterion = nn.CrossEntropyLoss()\n",
    "    optimizer = Adam(model.parameters(), lr=lr)\n",
    "\n",
    "    train_losses = list()\n",
    "    train_accs = list()\n",
    "\n",
    "    test_losses = list()\n",
    "    test_accs = list()\n",
    "\n",
    "    best_test_acc = 0  # best test accuracy \n",
    "\n",
    "    for e in range(epoch):\n",
    "        print(\"Epoch {} - \".format(e+1), end='')\n",
    "\n",
    "        # train\n",
    "        train_loss = 0.0\n",
    "        correct, total = 0, 0\n",
    "        for _, batch in enumerate(train_loader):\n",
    "            x, label = batch  # get feature and label from a batch\n",
    "            x, label = x.to(device), label.to(device)  # send to device\n",
    "            optimizer.zero_grad()  # init all grads to zero\n",
    "            output = model(x)  # forward propagation\n",
    "            loss = criterion(output, label)  # calculate loss\n",
    "            loss.backward()  # backward propagation\n",
    "            optimizer.step()  # weight update\n",
    "\n",
    "            train_loss += loss.item()\n",
    "            correct += torch.sum(output.argmax(dim=1) == label).item()\n",
    "            total += len(label)\n",
    "        train_losses.append(train_loss / len(train_loader))\n",
    "        train_accs.append(correct / total)\n",
    "        print(\"loss: {:.4f}, acc: {:.2f}%\".format(train_losses[-1], train_accs[-1]*100), end=' / ')\n",
    "        \n",
    "        # test\n",
    "        with torch.no_grad():\n",
    "            test_loss = 0.0\n",
    "            correct, total = 0, 0\n",
    "            for _, batch in enumerate(test_loader):\n",
    "                x, label = batch\n",
    "                x, label = x.to(device), label.to(device)\n",
    "                output = model(x)\n",
    "                loss = criterion(output, label)\n",
    "                \n",
    "                test_loss += loss.item()\n",
    "                correct += torch.sum(output.argmax(dim=1) == label).item()\n",
    "                total += len(label)\n",
    "            test_losses.append(test_loss / len(test_loader))\n",
    "            test_accs.append(correct / total)\n",
    "        print(\"test_loss: {:.4f}, test_acc: {:.2f}%\".format(test_losses[-1], test_accs[-1]*100))\n",
    "\n",
    "        # save model that has best validation accuracy\n",
    "        if test_accs[-1] > best_test_acc:\n",
    "            best_test_acc = test_accs[-1]\n",
    "            torch.save(model.state_dict(), os.path.join(root_path, model_dir, '_'.join([model_name, str(nrun), 'best']) + model_ext))\n",
    "    \n",
    "        # save model for each 10 epochs\n",
    "        if (e + 1) % 10 == 0:\n",
    "            torch.save(model.state_dict(), os.path.join(root_path, model_dir, '_'.join([model_name, str(nrun), str(e+1)]) + model_ext))\n",
    "    \n",
    "    return train_losses, train_accs, test_losses, test_accs"
   ]
  },
  {
   "cell_type": "markdown",
   "metadata": {
    "colab_type": "text",
    "id": "5h1yJeZXRWjT"
   },
   "source": [
    "## Training process"
   ]
  },
  {
   "cell_type": "markdown",
   "metadata": {
    "colab_type": "text",
    "id": "AXFHuejuRe2u"
   },
   "source": [
    "### Repeat for 10 times"
   ]
  },
  {
   "cell_type": "code",
   "execution_count": 13,
   "metadata": {
    "colab": {
     "base_uri": "https://localhost:8080/",
     "height": 1000
    },
    "colab_type": "code",
    "executionInfo": {
     "elapsed": 6513611,
     "status": "ok",
     "timestamp": 1573150871777,
     "user": {
      "displayName": "Kyuyeon Kim",
      "photoUrl": "https://lh3.googleusercontent.com/a-/AAuE7mBDhZm6xUbCYNLGqOYDpm2QRhOirby0BI-zUCTw2g=s64",
      "userId": "05245697685138289125"
     },
     "user_tz": -540
    },
    "id": "IAusksoSKSI0",
    "outputId": "3bf51e50-8a79-445c-f42e-d446d684603e"
   },
   "outputs": [
    {
     "name": "stdout",
     "output_type": "stream",
     "text": [
      "Run 1\n",
      "Epoch 1 - loss: 1.3341, acc: 58.04% / test_loss: 1.1875, test_acc: 72.54%\n",
      "Epoch 2 - loss: 1.1147, acc: 79.89% / test_loss: 1.0743, test_acc: 83.68%\n",
      "Epoch 3 - loss: 1.0708, acc: 83.72% / test_loss: 1.0502, test_acc: 85.70%\n",
      "Epoch 4 - loss: 1.0614, acc: 84.39% / test_loss: 1.0483, test_acc: 85.63%\n",
      "Epoch 5 - loss: 1.0548, acc: 84.98% / test_loss: 1.0411, test_acc: 86.42%\n",
      "Epoch 6 - loss: 1.0508, acc: 85.34% / test_loss: 1.0555, test_acc: 84.94%\n",
      "Epoch 7 - loss: 1.0482, acc: 85.65% / test_loss: 1.0343, test_acc: 86.99%\n",
      "Epoch 8 - loss: 1.0485, acc: 85.56% / test_loss: 1.0320, test_acc: 87.27%\n",
      "Epoch 9 - loss: 1.0427, acc: 86.17% / test_loss: 1.0279, test_acc: 87.67%\n",
      "Epoch 10 - loss: 1.0457, acc: 85.85% / test_loss: 1.0340, test_acc: 87.02%\n",
      "Epoch 11 - loss: 1.0447, acc: 85.90% / test_loss: 1.0338, test_acc: 87.03%\n",
      "Epoch 12 - loss: 1.0455, acc: 85.87% / test_loss: 1.0497, test_acc: 85.46%\n",
      "Epoch 13 - loss: 1.0408, acc: 86.27% / test_loss: 1.0306, test_acc: 87.38%\n",
      "Epoch 14 - loss: 1.0424, acc: 86.14% / test_loss: 1.0251, test_acc: 87.90%\n",
      "Epoch 15 - loss: 1.0397, acc: 86.47% / test_loss: 1.0329, test_acc: 87.02%\n",
      "Epoch 16 - loss: 1.0436, acc: 86.06% / test_loss: 1.0323, test_acc: 87.24%\n",
      "Epoch 17 - loss: 1.0422, acc: 86.21% / test_loss: 1.0422, test_acc: 86.18%\n",
      "Epoch 18 - loss: 1.0367, acc: 86.83% / test_loss: 1.0287, test_acc: 87.55%\n",
      "Epoch 19 - loss: 1.0380, acc: 86.64% / test_loss: 1.0531, test_acc: 85.13%\n",
      "Epoch 20 - loss: 1.0399, acc: 86.47% / test_loss: 1.0377, test_acc: 86.67%\n",
      "Epoch 21 - loss: 1.0386, acc: 86.58% / test_loss: 1.0262, test_acc: 87.78%\n",
      "Epoch 22 - loss: 1.0397, acc: 86.43% / test_loss: 1.0239, test_acc: 88.06%\n",
      "Epoch 23 - loss: 1.0359, acc: 86.91% / test_loss: 1.0261, test_acc: 87.81%\n",
      "Epoch 24 - loss: 1.0400, acc: 86.42% / test_loss: 1.0307, test_acc: 87.34%\n",
      "Epoch 25 - loss: 1.0344, acc: 86.97% / test_loss: 1.0242, test_acc: 88.01%\n",
      "Epoch 26 - loss: 1.0360, acc: 86.84% / test_loss: 1.0267, test_acc: 87.72%\n",
      "Epoch 27 - loss: 1.0373, acc: 86.70% / test_loss: 1.0225, test_acc: 88.18%\n",
      "Epoch 28 - loss: 1.0415, acc: 86.30% / test_loss: 1.0291, test_acc: 87.55%\n",
      "Epoch 29 - loss: 1.0347, acc: 86.95% / test_loss: 1.0311, test_acc: 87.32%\n",
      "Epoch 30 - loss: 1.0339, acc: 87.10% / test_loss: 1.0288, test_acc: 87.56%\n",
      "Epoch 31 - loss: 1.0405, acc: 86.35% / test_loss: 1.0195, test_acc: 88.49%\n",
      "Epoch 32 - loss: 1.0365, acc: 86.81% / test_loss: 1.0256, test_acc: 87.88%\n",
      "Epoch 33 - loss: 1.0360, acc: 86.86% / test_loss: 1.0273, test_acc: 87.72%\n",
      "Epoch 34 - loss: 1.0385, acc: 86.60% / test_loss: 1.0467, test_acc: 85.76%\n",
      "Epoch 35 - loss: 1.0346, acc: 86.99% / test_loss: 1.0208, test_acc: 88.37%\n",
      "Epoch 36 - loss: 1.0317, acc: 87.23% / test_loss: 1.0339, test_acc: 87.04%\n",
      "Epoch 37 - loss: 1.0353, acc: 86.92% / test_loss: 1.0265, test_acc: 87.81%\n",
      "Epoch 38 - loss: 1.0342, acc: 87.01% / test_loss: 1.0320, test_acc: 87.26%\n",
      "Epoch 39 - loss: 1.0326, acc: 87.17% / test_loss: 1.0256, test_acc: 87.90%\n",
      "Epoch 40 - loss: 1.0360, acc: 86.83% / test_loss: 1.0222, test_acc: 88.25%\n",
      "Epoch 41 - loss: 1.0322, acc: 87.21% / test_loss: 1.0258, test_acc: 87.87%\n",
      "Epoch 42 - loss: 1.0376, acc: 86.69% / test_loss: 1.0313, test_acc: 87.32%\n",
      "Epoch 43 - loss: 1.0328, acc: 87.14% / test_loss: 1.0307, test_acc: 87.38%\n",
      "Epoch 44 - loss: 1.0358, acc: 86.86% / test_loss: 1.0237, test_acc: 88.08%\n",
      "Epoch 45 - loss: 1.0400, acc: 86.46% / test_loss: 1.0206, test_acc: 88.40%\n",
      "Epoch 46 - loss: 1.0345, acc: 87.01% / test_loss: 1.0327, test_acc: 87.21%\n",
      "Epoch 47 - loss: 1.0333, acc: 87.12% / test_loss: 1.0275, test_acc: 87.71%\n",
      "Epoch 48 - loss: 1.0331, acc: 87.14% / test_loss: 1.0361, test_acc: 86.86%\n",
      "Epoch 49 - loss: 1.0342, acc: 87.04% / test_loss: 1.0203, test_acc: 88.43%\n",
      "Epoch 50 - loss: 1.0395, acc: 86.49% / test_loss: 1.0492, test_acc: 85.52%\n",
      "Epoch 51 - loss: 1.0326, acc: 87.21% / test_loss: 1.0195, test_acc: 88.51%\n",
      "Epoch 52 - loss: 1.0356, acc: 86.91% / test_loss: 1.0211, test_acc: 88.34%\n",
      "Epoch 53 - loss: 1.0319, acc: 87.28% / test_loss: 1.0188, test_acc: 88.58%\n",
      "Epoch 54 - loss: 1.0354, acc: 86.92% / test_loss: 1.0301, test_acc: 87.45%\n",
      "Epoch 55 - loss: 1.0359, acc: 86.86% / test_loss: 1.0272, test_acc: 87.76%\n",
      "Epoch 56 - loss: 1.0351, acc: 86.95% / test_loss: 1.0314, test_acc: 87.32%\n",
      "Epoch 57 - loss: 1.0308, acc: 87.38% / test_loss: 1.0234, test_acc: 88.12%\n",
      "Epoch 58 - loss: 1.0281, acc: 87.66% / test_loss: 1.0212, test_acc: 88.34%\n",
      "Epoch 59 - loss: 1.0318, acc: 87.29% / test_loss: 1.0241, test_acc: 88.06%\n",
      "Epoch 60 - loss: 1.0324, acc: 87.22% / test_loss: 1.0189, test_acc: 88.58%\n",
      "Epoch 61 - loss: 1.0366, acc: 86.80% / test_loss: 1.0223, test_acc: 88.21%\n",
      "Epoch 62 - loss: 1.0387, acc: 86.58% / test_loss: 1.0212, test_acc: 88.34%\n",
      "Epoch 63 - loss: 1.0315, acc: 87.32% / test_loss: 1.0206, test_acc: 88.39%\n",
      "Epoch 64 - loss: 1.0277, acc: 87.71% / test_loss: 1.0199, test_acc: 88.48%\n",
      "Epoch 65 - loss: 1.0306, acc: 87.41% / test_loss: 1.0462, test_acc: 85.77%\n",
      "Epoch 66 - loss: 1.0427, acc: 86.18% / test_loss: 1.0224, test_acc: 88.23%\n",
      "Epoch 67 - loss: 1.0318, acc: 87.29% / test_loss: 1.0164, test_acc: 88.86%\n",
      "Epoch 68 - loss: 1.0498, acc: 85.51% / test_loss: 1.0193, test_acc: 88.55%\n",
      "Epoch 69 - loss: 1.0341, acc: 87.06% / test_loss: 1.0330, test_acc: 87.16%\n",
      "Epoch 70 - loss: 1.0311, acc: 87.33% / test_loss: 1.0251, test_acc: 87.94%\n",
      "Epoch 71 - loss: 1.0281, acc: 87.65% / test_loss: 1.0178, test_acc: 88.69%\n",
      "Epoch 72 - loss: 1.0426, acc: 86.21% / test_loss: 1.0757, test_acc: 82.90%\n",
      "Epoch 73 - loss: 1.0328, acc: 87.20% / test_loss: 1.0215, test_acc: 88.32%\n",
      "Epoch 74 - loss: 1.0323, acc: 87.25% / test_loss: 1.0181, test_acc: 88.64%\n",
      "Epoch 75 - loss: 1.0379, acc: 86.66% / test_loss: 1.0362, test_acc: 86.84%\n",
      "Epoch 76 - loss: 1.0325, acc: 87.21% / test_loss: 1.0258, test_acc: 87.88%\n",
      "Epoch 77 - loss: 1.0294, acc: 87.52% / test_loss: 1.0216, test_acc: 88.32%\n",
      "Epoch 78 - loss: 1.0318, acc: 87.29% / test_loss: 1.0196, test_acc: 88.50%\n",
      "Epoch 79 - loss: 1.0340, acc: 87.07% / test_loss: 1.0182, test_acc: 88.62%\n",
      "Epoch 80 - loss: 1.0253, acc: 87.93% / test_loss: 1.0201, test_acc: 88.46%\n",
      "Epoch 81 - loss: 1.0271, acc: 87.76% / test_loss: 1.0200, test_acc: 88.46%\n",
      "Epoch 82 - loss: 1.0259, acc: 87.87% / test_loss: 1.0144, test_acc: 89.03%\n",
      "Epoch 83 - loss: 1.0278, acc: 87.70% / test_loss: 1.0150, test_acc: 88.95%\n",
      "Epoch 84 - loss: 1.0271, acc: 87.75% / test_loss: 1.0292, test_acc: 87.54%\n",
      "Epoch 85 - loss: 1.0316, acc: 87.31% / test_loss: 1.0174, test_acc: 88.74%\n",
      "Epoch 86 - loss: 1.0330, acc: 87.17% / test_loss: 1.0175, test_acc: 88.72%\n",
      "Epoch 87 - loss: 1.0259, acc: 87.87% / test_loss: 1.0222, test_acc: 88.21%\n",
      "Epoch 88 - loss: 1.0275, acc: 87.72% / test_loss: 1.0219, test_acc: 88.28%\n",
      "Epoch 89 - loss: 1.0299, acc: 87.47% / test_loss: 1.0186, test_acc: 88.61%\n",
      "Epoch 90 - loss: 1.0347, acc: 87.00% / test_loss: 1.0377, test_acc: 86.70%\n",
      "Epoch 91 - loss: 1.0413, acc: 86.34% / test_loss: 1.0264, test_acc: 87.84%\n",
      "Epoch 92 - loss: 1.0355, acc: 86.93% / test_loss: 1.0268, test_acc: 87.79%\n",
      "Epoch 93 - loss: 1.0360, acc: 86.89% / test_loss: 1.0222, test_acc: 88.24%\n",
      "Epoch 94 - loss: 1.0303, acc: 87.45% / test_loss: 1.0293, test_acc: 87.57%\n",
      "Epoch 95 - loss: 1.0303, acc: 87.43% / test_loss: 1.0418, test_acc: 86.30%\n",
      "Epoch 96 - loss: 1.0332, acc: 87.13% / test_loss: 1.0268, test_acc: 87.78%\n",
      "Epoch 97 - loss: 1.0348, acc: 86.99% / test_loss: 1.0449, test_acc: 85.99%\n",
      "Epoch 98 - loss: 1.0334, acc: 87.10% / test_loss: 1.0444, test_acc: 86.05%\n",
      "Epoch 99 - loss: 1.0395, acc: 86.53% / test_loss: 1.0153, test_acc: 88.94%\n",
      "Epoch 100 - loss: 1.0344, acc: 87.02% / test_loss: 1.0291, test_acc: 87.57%\n",
      "Epoch 101 - loss: 1.0300, acc: 87.46% / test_loss: 1.0154, test_acc: 88.92%\n",
      "Epoch 102 - loss: 1.0294, acc: 87.53% / test_loss: 1.0206, test_acc: 88.41%\n",
      "Epoch 103 - loss: 1.0402, acc: 86.46% / test_loss: 1.0237, test_acc: 88.10%\n",
      "Epoch 104 - loss: 1.0340, acc: 87.07% / test_loss: 1.0281, test_acc: 87.66%\n",
      "Epoch 105 - loss: 1.0249, acc: 87.99% / test_loss: 1.0145, test_acc: 89.04%\n",
      "Epoch 106 - loss: 1.0328, acc: 87.19% / test_loss: 1.0239, test_acc: 88.08%\n",
      "Epoch 107 - loss: 1.0283, acc: 87.63% / test_loss: 1.0229, test_acc: 88.18%\n",
      "Epoch 108 - loss: 1.0312, acc: 87.35% / test_loss: 1.0207, test_acc: 88.40%\n",
      "Epoch 109 - loss: 1.0323, acc: 87.25% / test_loss: 1.0222, test_acc: 88.26%\n"
     ]
    },
    {
     "name": "stdout",
     "output_type": "stream",
     "text": [
      "Epoch 110 - loss: 1.0316, acc: 87.31% / test_loss: 1.0173, test_acc: 88.74%\n",
      "Epoch 111 - loss: 1.0299, acc: 87.47% / test_loss: 1.0213, test_acc: 88.34%\n",
      "Epoch 112 - loss: 1.0359, acc: 86.90% / test_loss: 1.0259, test_acc: 87.88%\n",
      "Epoch 113 - loss: 1.0337, acc: 87.10% / test_loss: 1.0289, test_acc: 87.59%\n",
      "Epoch 114 - loss: 1.0380, acc: 86.67% / test_loss: 1.0185, test_acc: 88.64%\n",
      "Epoch 115 - loss: 1.0300, acc: 87.47% / test_loss: 1.0215, test_acc: 88.33%\n",
      "Epoch 116 - loss: 1.0310, acc: 87.38% / test_loss: 1.0207, test_acc: 88.41%\n",
      "Epoch 117 - loss: 1.0344, acc: 87.01% / test_loss: 1.0342, test_acc: 87.06%\n",
      "Epoch 118 - loss: 1.0322, acc: 87.26% / test_loss: 1.0198, test_acc: 88.50%\n",
      "Epoch 119 - loss: 1.0362, acc: 86.86% / test_loss: 1.0349, test_acc: 87.00%\n",
      "Epoch 120 - loss: 1.0324, acc: 87.23% / test_loss: 1.0195, test_acc: 88.54%\n",
      "Epoch 121 - loss: 1.0240, acc: 88.08% / test_loss: 1.0160, test_acc: 88.87%\n",
      "Epoch 122 - loss: 1.0278, acc: 87.69% / test_loss: 1.0239, test_acc: 88.09%\n",
      "Epoch 123 - loss: 1.0368, acc: 86.78% / test_loss: 1.0285, test_acc: 87.63%\n",
      "Epoch 124 - loss: 1.0353, acc: 86.95% / test_loss: 1.0281, test_acc: 87.67%\n",
      "Epoch 125 - loss: 1.0373, acc: 86.73% / test_loss: 1.0220, test_acc: 88.28%\n",
      "Epoch 126 - loss: 1.0315, acc: 87.31% / test_loss: 1.0328, test_acc: 87.20%\n",
      "Epoch 127 - loss: 1.0340, acc: 87.07% / test_loss: 1.0181, test_acc: 88.65%\n",
      "Epoch 128 - loss: 1.0294, acc: 87.54% / test_loss: 1.0220, test_acc: 88.28%\n",
      "Epoch 129 - loss: 1.0310, acc: 87.38% / test_loss: 1.0141, test_acc: 89.07%\n",
      "Epoch 130 - loss: 1.0446, acc: 86.01% / test_loss: 1.0445, test_acc: 86.02%\n",
      "Epoch 131 - loss: 1.0346, acc: 87.01% / test_loss: 1.0211, test_acc: 88.37%\n",
      "Epoch 132 - loss: 1.0283, acc: 87.62% / test_loss: 1.0185, test_acc: 88.63%\n",
      "Epoch 133 - loss: 1.0505, acc: 85.41% / test_loss: 1.0171, test_acc: 88.77%\n",
      "Epoch 134 - loss: 1.0274, acc: 87.75% / test_loss: 1.0234, test_acc: 88.15%\n",
      "Epoch 135 - loss: 1.0537, acc: 85.09% / test_loss: 1.0625, test_acc: 84.21%\n",
      "Epoch 136 - loss: 1.0302, acc: 87.46% / test_loss: 1.0159, test_acc: 88.90%\n",
      "Epoch 137 - loss: 1.0222, acc: 88.27% / test_loss: 1.0196, test_acc: 88.51%\n",
      "Epoch 138 - loss: 1.0300, acc: 87.47% / test_loss: 1.0204, test_acc: 88.44%\n",
      "Epoch 139 - loss: 1.0298, acc: 87.50% / test_loss: 1.0165, test_acc: 88.82%\n",
      "Epoch 140 - loss: 1.0251, acc: 87.97% / test_loss: 1.0198, test_acc: 88.50%\n",
      "Epoch 141 - loss: 1.0404, acc: 86.45% / test_loss: 1.0621, test_acc: 84.27%\n",
      "Epoch 142 - loss: 1.0382, acc: 86.64% / test_loss: 1.0191, test_acc: 88.56%\n",
      "Epoch 143 - loss: 1.0287, acc: 87.60% / test_loss: 1.0160, test_acc: 88.87%\n",
      "Epoch 144 - loss: 1.0271, acc: 87.77% / test_loss: 1.0213, test_acc: 88.35%\n",
      "Epoch 145 - loss: 1.0266, acc: 87.81% / test_loss: 1.0148, test_acc: 89.01%\n",
      "Epoch 146 - loss: 1.0342, acc: 87.06% / test_loss: 1.0245, test_acc: 88.04%\n",
      "Epoch 147 - loss: 1.0317, acc: 87.31% / test_loss: 1.0249, test_acc: 87.98%\n",
      "Epoch 148 - loss: 1.0300, acc: 87.47% / test_loss: 1.0228, test_acc: 88.18%\n",
      "Epoch 149 - loss: 1.0559, acc: 84.87% / test_loss: 1.0297, test_acc: 87.51%\n",
      "Epoch 150 - loss: 1.0275, acc: 87.71% / test_loss: 1.0169, test_acc: 88.79%\n",
      "Epoch 151 - loss: 1.0258, acc: 87.89% / test_loss: 1.0153, test_acc: 88.95%\n",
      "Epoch 152 - loss: 1.0291, acc: 87.55% / test_loss: 1.0163, test_acc: 88.85%\n",
      "Epoch 153 - loss: 1.0276, acc: 87.71% / test_loss: 1.0273, test_acc: 87.72%\n",
      "Epoch 154 - loss: 1.0268, acc: 87.78% / test_loss: 1.0127, test_acc: 89.20%\n",
      "Epoch 155 - loss: 1.0320, acc: 87.28% / test_loss: 1.0194, test_acc: 88.54%\n",
      "Epoch 156 - loss: 1.0234, acc: 88.12% / test_loss: 1.0218, test_acc: 88.31%\n",
      "Epoch 157 - loss: 1.0314, acc: 87.32% / test_loss: 1.0364, test_acc: 86.83%\n",
      "Epoch 158 - loss: 1.0389, acc: 86.59% / test_loss: 1.0161, test_acc: 88.88%\n",
      "Epoch 159 - loss: 1.0294, acc: 87.53% / test_loss: 1.0269, test_acc: 87.80%\n",
      "Epoch 160 - loss: 1.0541, acc: 85.04% / test_loss: 1.0281, test_acc: 87.66%\n",
      "Epoch 161 - loss: 1.0415, acc: 86.31% / test_loss: 1.0212, test_acc: 88.35%\n",
      "Epoch 162 - loss: 1.0334, acc: 87.13% / test_loss: 1.0137, test_acc: 89.11%\n",
      "Epoch 163 - loss: 1.0304, acc: 87.42% / test_loss: 1.0759, test_acc: 82.89%\n",
      "Epoch 164 - loss: 1.0344, acc: 87.04% / test_loss: 1.0202, test_acc: 88.46%\n",
      "Epoch 165 - loss: 1.0402, acc: 86.46% / test_loss: 1.0688, test_acc: 83.60%\n",
      "Epoch 166 - loss: 1.0278, acc: 87.70% / test_loss: 1.0190, test_acc: 88.58%\n",
      "Epoch 167 - loss: 1.0233, acc: 88.15% / test_loss: 1.0155, test_acc: 88.94%\n",
      "Epoch 168 - loss: 1.0365, acc: 86.82% / test_loss: 1.0274, test_acc: 87.72%\n",
      "Epoch 169 - loss: 1.0309, acc: 87.38% / test_loss: 1.0202, test_acc: 88.47%\n",
      "Epoch 170 - loss: 1.0339, acc: 87.09% / test_loss: 1.0157, test_acc: 88.91%\n",
      "Epoch 171 - loss: 1.0280, acc: 87.68% / test_loss: 1.0165, test_acc: 88.84%\n",
      "Epoch 172 - loss: 1.0339, acc: 87.08% / test_loss: 1.0314, test_acc: 87.36%\n",
      "Epoch 173 - loss: 1.0246, acc: 88.02% / test_loss: 1.0163, test_acc: 88.85%\n",
      "Epoch 174 - loss: 1.0496, acc: 85.52% / test_loss: 1.1053, test_acc: 79.95%\n",
      "Epoch 175 - loss: 1.0447, acc: 86.00% / test_loss: 1.0367, test_acc: 86.81%\n",
      "Epoch 176 - loss: 1.0378, acc: 86.69% / test_loss: 1.0218, test_acc: 88.30%\n",
      "Epoch 177 - loss: 1.0378, acc: 86.69% / test_loss: 1.0260, test_acc: 87.87%\n",
      "Epoch 178 - loss: 1.0367, acc: 86.80% / test_loss: 1.0348, test_acc: 87.00%\n",
      "Epoch 179 - loss: 1.0440, acc: 86.08% / test_loss: 1.0361, test_acc: 86.86%\n",
      "Epoch 180 - loss: 1.0354, acc: 86.94% / test_loss: 1.0333, test_acc: 87.13%\n",
      "Epoch 181 - loss: 1.0260, acc: 87.87% / test_loss: 1.0223, test_acc: 88.25%\n",
      "Epoch 182 - loss: 1.0309, acc: 87.41% / test_loss: 1.0176, test_acc: 88.72%\n",
      "Epoch 183 - loss: 1.0211, acc: 88.37% / test_loss: 1.0186, test_acc: 88.61%\n",
      "Epoch 184 - loss: 1.0305, acc: 87.42% / test_loss: 1.0156, test_acc: 88.92%\n",
      "Epoch 185 - loss: 1.0290, acc: 87.58% / test_loss: 1.0175, test_acc: 88.73%\n",
      "Epoch 186 - loss: 1.0290, acc: 87.57% / test_loss: 1.0181, test_acc: 88.67%\n",
      "Epoch 187 - loss: 1.0200, acc: 88.48% / test_loss: 1.0191, test_acc: 88.57%\n",
      "Epoch 188 - loss: 1.0254, acc: 87.94% / test_loss: 1.0201, test_acc: 88.47%\n",
      "Epoch 189 - loss: 1.0268, acc: 87.79% / test_loss: 1.0238, test_acc: 88.10%\n",
      "Epoch 190 - loss: 1.0272, acc: 87.75% / test_loss: 1.0181, test_acc: 88.67%\n",
      "Epoch 191 - loss: 1.0336, acc: 87.10% / test_loss: 1.0295, test_acc: 87.52%\n",
      "Epoch 192 - loss: 1.0261, acc: 87.86% / test_loss: 1.0153, test_acc: 88.93%\n",
      "Epoch 193 - loss: 1.0223, acc: 88.25% / test_loss: 1.0154, test_acc: 88.94%\n",
      "Epoch 194 - loss: 1.0248, acc: 88.00% / test_loss: 1.0186, test_acc: 88.62%\n",
      "Epoch 195 - loss: 1.0277, acc: 87.70% / test_loss: 1.0139, test_acc: 89.08%\n",
      "Epoch 196 - loss: 1.0264, acc: 87.83% / test_loss: 1.0258, test_acc: 87.90%\n",
      "Epoch 197 - loss: 1.0243, acc: 88.05% / test_loss: 1.0199, test_acc: 88.49%\n",
      "Epoch 198 - loss: 1.0339, acc: 87.10% / test_loss: 1.0152, test_acc: 88.96%\n",
      "Epoch 199 - loss: 1.0269, acc: 87.78% / test_loss: 1.0169, test_acc: 88.78%\n",
      "Epoch 200 - loss: 1.0213, acc: 88.34% / test_loss: 1.0146, test_acc: 89.01%\n",
      "Epoch 201 - loss: 1.0310, acc: 87.38% / test_loss: 1.0201, test_acc: 88.48%\n",
      "Epoch 202 - loss: 1.0304, acc: 87.44% / test_loss: 1.0195, test_acc: 88.53%\n",
      "Epoch 203 - loss: 1.0307, acc: 87.41% / test_loss: 1.0367, test_acc: 86.80%\n",
      "Epoch 204 - loss: 1.0344, acc: 87.03% / test_loss: 1.0338, test_acc: 87.10%\n",
      "Epoch 205 - loss: 1.0341, acc: 87.08% / test_loss: 1.0238, test_acc: 88.09%\n",
      "Epoch 206 - loss: 1.0338, acc: 87.09% / test_loss: 1.0356, test_acc: 86.92%\n",
      "Epoch 207 - loss: 1.0340, acc: 87.08% / test_loss: 1.0199, test_acc: 88.49%\n",
      "Epoch 208 - loss: 1.0300, acc: 87.48% / test_loss: 1.0247, test_acc: 88.03%\n",
      "Epoch 209 - loss: 1.0256, acc: 87.92% / test_loss: 1.0232, test_acc: 88.15%\n",
      "Epoch 210 - loss: 1.0246, acc: 88.02% / test_loss: 1.0176, test_acc: 88.72%\n",
      "Epoch 211 - loss: 1.0292, acc: 87.56% / test_loss: 1.0213, test_acc: 88.34%\n",
      "Epoch 212 - loss: 1.0280, acc: 87.68% / test_loss: 1.0168, test_acc: 88.79%\n",
      "Epoch 213 - loss: 1.0294, acc: 87.53% / test_loss: 1.0231, test_acc: 88.17%\n",
      "Epoch 214 - loss: 1.0283, acc: 87.64% / test_loss: 1.0213, test_acc: 88.35%\n",
      "Epoch 215 - loss: 1.0333, acc: 87.14% / test_loss: 1.0356, test_acc: 86.91%\n",
      "Epoch 216 - loss: 1.0477, acc: 85.72% / test_loss: 1.0351, test_acc: 86.96%\n"
     ]
    },
    {
     "name": "stdout",
     "output_type": "stream",
     "text": [
      "Epoch 217 - loss: 1.0330, acc: 87.17% / test_loss: 1.0224, test_acc: 88.23%\n",
      "Epoch 218 - loss: 1.0392, acc: 86.56% / test_loss: 1.0519, test_acc: 85.30%\n",
      "Epoch 219 - loss: 1.0379, acc: 86.69% / test_loss: 1.0279, test_acc: 87.69%\n",
      "Epoch 220 - loss: 1.0331, acc: 87.17% / test_loss: 1.0225, test_acc: 88.24%\n",
      "Epoch 221 - loss: 1.0348, acc: 86.98% / test_loss: 1.0234, test_acc: 88.14%\n",
      "Epoch 222 - loss: 1.0592, acc: 84.55% / test_loss: 1.0469, test_acc: 85.80%\n",
      "Epoch 223 - loss: 1.0348, acc: 87.01% / test_loss: 1.0249, test_acc: 88.00%\n",
      "Epoch 224 - loss: 1.0300, acc: 87.48% / test_loss: 1.0286, test_acc: 87.63%\n",
      "Epoch 225 - loss: 1.0305, acc: 87.43% / test_loss: 1.0207, test_acc: 88.40%\n",
      "Epoch 226 - loss: 1.0338, acc: 87.10% / test_loss: 1.0397, test_acc: 86.51%\n",
      "Epoch 227 - loss: 1.0346, acc: 87.02% / test_loss: 1.0183, test_acc: 88.64%\n",
      "Epoch 228 - loss: 1.0244, acc: 88.04% / test_loss: 1.0173, test_acc: 88.76%\n",
      "Epoch 229 - loss: 1.0523, acc: 85.24% / test_loss: 1.0248, test_acc: 87.99%\n",
      "Epoch 230 - loss: 1.0351, acc: 86.95% / test_loss: 1.0722, test_acc: 83.26%\n",
      "Epoch 231 - loss: 1.0431, acc: 86.17% / test_loss: 1.0499, test_acc: 85.49%\n",
      "Epoch 232 - loss: 1.0290, acc: 87.58% / test_loss: 1.0178, test_acc: 88.71%\n",
      "Epoch 233 - loss: 1.0249, acc: 87.99% / test_loss: 1.0284, test_acc: 87.65%\n",
      "Epoch 234 - loss: 1.0298, acc: 87.50% / test_loss: 1.0213, test_acc: 88.34%\n",
      "Epoch 235 - loss: 1.0249, acc: 87.99% / test_loss: 1.0167, test_acc: 88.81%\n",
      "Epoch 236 - loss: 1.0363, acc: 86.84% / test_loss: 1.0255, test_acc: 87.93%\n",
      "Epoch 237 - loss: 1.0305, acc: 87.42% / test_loss: 1.0342, test_acc: 87.06%\n",
      "Epoch 238 - loss: 1.0249, acc: 88.00% / test_loss: 1.0153, test_acc: 88.96%\n",
      "Epoch 239 - loss: 1.0301, acc: 87.48% / test_loss: 1.0220, test_acc: 88.27%\n",
      "Epoch 240 - loss: 1.0249, acc: 87.99% / test_loss: 1.0179, test_acc: 88.69%\n",
      "Epoch 241 - loss: 1.0241, acc: 88.07% / test_loss: 1.0170, test_acc: 88.78%\n",
      "Epoch 242 - loss: 1.0453, acc: 85.96% / test_loss: 1.1112, test_acc: 79.34%\n",
      "Epoch 243 - loss: 1.0262, acc: 87.87% / test_loss: 1.0164, test_acc: 88.84%\n",
      "Epoch 244 - loss: 1.0282, acc: 87.67% / test_loss: 1.0195, test_acc: 88.52%\n",
      "Epoch 245 - loss: 1.0359, acc: 86.88% / test_loss: 1.0229, test_acc: 88.19%\n",
      "Epoch 246 - loss: 1.0364, acc: 86.83% / test_loss: 1.0304, test_acc: 87.44%\n",
      "Epoch 247 - loss: 1.0296, acc: 87.53% / test_loss: 1.0200, test_acc: 88.48%\n",
      "Epoch 248 - loss: 1.0310, acc: 87.38% / test_loss: 1.0288, test_acc: 87.60%\n",
      "Epoch 249 - loss: 1.0342, acc: 87.06% / test_loss: 1.0169, test_acc: 88.80%\n",
      "Epoch 250 - loss: 1.0267, acc: 87.81% / test_loss: 1.0299, test_acc: 87.48%\n",
      "Epoch 251 - loss: 1.0259, acc: 87.88% / test_loss: 1.0211, test_acc: 88.35%\n",
      "Epoch 252 - loss: 1.0256, acc: 87.91% / test_loss: 1.0197, test_acc: 88.51%\n",
      "Epoch 253 - loss: 1.0286, acc: 87.62% / test_loss: 1.0252, test_acc: 87.97%\n",
      "Epoch 254 - loss: 1.0292, acc: 87.57% / test_loss: 1.0210, test_acc: 88.38%\n",
      "Epoch 255 - loss: 1.0477, acc: 85.72% / test_loss: 1.0548, test_acc: 85.00%\n",
      "Epoch 256 - loss: 1.0308, acc: 87.40% / test_loss: 1.0180, test_acc: 88.68%\n",
      "Epoch 257 - loss: 1.0350, acc: 86.98% / test_loss: 1.0529, test_acc: 85.19%\n",
      "Epoch 258 - loss: 1.0348, acc: 87.00% / test_loss: 1.0322, test_acc: 87.26%\n",
      "Epoch 259 - loss: 1.0274, acc: 87.74% / test_loss: 1.0193, test_acc: 88.55%\n",
      "Epoch 260 - loss: 1.0277, acc: 87.71% / test_loss: 1.0159, test_acc: 88.89%\n",
      "Epoch 261 - loss: 1.0484, acc: 85.63% / test_loss: 1.0166, test_acc: 88.83%\n",
      "Epoch 262 - loss: 1.0382, acc: 86.65% / test_loss: 1.0169, test_acc: 88.80%\n",
      "Epoch 263 - loss: 1.0288, acc: 87.60% / test_loss: 1.0274, test_acc: 87.74%\n",
      "Epoch 264 - loss: 1.0279, acc: 87.69% / test_loss: 1.0214, test_acc: 88.34%\n",
      "Epoch 265 - loss: 1.0396, acc: 86.53% / test_loss: 1.0324, test_acc: 87.24%\n",
      "Epoch 266 - loss: 1.0274, acc: 87.74% / test_loss: 1.0170, test_acc: 88.77%\n",
      "Epoch 267 - loss: 1.0214, acc: 88.34% / test_loss: 1.0275, test_acc: 87.74%\n",
      "Epoch 268 - loss: 1.0299, acc: 87.49% / test_loss: 1.0181, test_acc: 88.67%\n",
      "Epoch 269 - loss: 1.0318, acc: 87.29% / test_loss: 1.0160, test_acc: 88.89%\n",
      "Epoch 270 - loss: 1.0242, acc: 88.06% / test_loss: 1.0148, test_acc: 89.00%\n",
      "Epoch 271 - loss: 1.0259, acc: 87.89% / test_loss: 1.0316, test_acc: 87.32%\n",
      "Epoch 272 - loss: 1.0651, acc: 83.96% / test_loss: 1.0191, test_acc: 88.58%\n",
      "Epoch 273 - loss: 1.0263, acc: 87.83% / test_loss: 1.0232, test_acc: 88.15%\n",
      "Epoch 274 - loss: 1.0252, acc: 87.97% / test_loss: 1.0185, test_acc: 88.63%\n",
      "Epoch 275 - loss: 1.0288, acc: 87.60% / test_loss: 1.0275, test_acc: 87.72%\n",
      "Epoch 276 - loss: 1.0275, acc: 87.73% / test_loss: 1.0220, test_acc: 88.27%\n",
      "Epoch 277 - loss: 1.0486, acc: 85.62% / test_loss: 1.2388, test_acc: 66.59%\n",
      "Epoch 278 - loss: 1.0493, acc: 85.54% / test_loss: 1.0161, test_acc: 88.87%\n",
      "Epoch 279 - loss: 1.0215, acc: 88.34% / test_loss: 1.0158, test_acc: 88.89%\n",
      "Epoch 280 - loss: 1.0440, acc: 86.07% / test_loss: 1.0280, test_acc: 87.67%\n",
      "Epoch 281 - loss: 1.0458, acc: 85.90% / test_loss: 1.0580, test_acc: 84.67%\n",
      "Epoch 282 - loss: 1.0372, acc: 86.76% / test_loss: 1.0269, test_acc: 87.79%\n",
      "Epoch 283 - loss: 1.0295, acc: 87.53% / test_loss: 1.0198, test_acc: 88.49%\n",
      "Epoch 284 - loss: 1.0290, acc: 87.59% / test_loss: 1.0199, test_acc: 88.49%\n",
      "Epoch 285 - loss: 1.0288, acc: 87.60% / test_loss: 1.0206, test_acc: 88.43%\n",
      "Epoch 286 - loss: 1.0367, acc: 86.81% / test_loss: 1.0209, test_acc: 88.40%\n",
      "Epoch 287 - loss: 1.0315, acc: 87.32% / test_loss: 1.0190, test_acc: 88.57%\n",
      "Epoch 288 - loss: 1.0266, acc: 87.82% / test_loss: 1.0157, test_acc: 88.91%\n",
      "Epoch 289 - loss: 1.0298, acc: 87.50% / test_loss: 1.0202, test_acc: 88.46%\n",
      "Epoch 290 - loss: 1.0245, acc: 88.03% / test_loss: 1.0146, test_acc: 89.02%\n",
      "Epoch 291 - loss: 1.0215, acc: 88.34% / test_loss: 1.0148, test_acc: 89.00%\n",
      "Epoch 292 - loss: 1.0402, acc: 86.46% / test_loss: 1.0306, test_acc: 87.42%\n",
      "Epoch 293 - loss: 1.0497, acc: 85.51% / test_loss: 1.0303, test_acc: 87.45%\n",
      "Epoch 294 - loss: 1.0267, acc: 87.81% / test_loss: 1.0206, test_acc: 88.41%\n",
      "Epoch 295 - loss: 1.0301, acc: 87.47% / test_loss: 1.0244, test_acc: 88.04%\n",
      "Epoch 296 - loss: 1.0403, acc: 86.46% / test_loss: 1.0702, test_acc: 83.47%\n",
      "Epoch 297 - loss: 1.0433, acc: 86.15% / test_loss: 1.0822, test_acc: 82.26%\n",
      "Epoch 298 - loss: 1.0505, acc: 85.44% / test_loss: 1.0310, test_acc: 87.38%\n",
      "Epoch 299 - loss: 1.0287, acc: 87.61% / test_loss: 1.0170, test_acc: 88.80%\n",
      "Epoch 300 - loss: 1.0278, acc: 87.70% / test_loss: 1.0195, test_acc: 88.52%\n",
      "Epoch 301 - loss: 1.0232, acc: 88.16% / test_loss: 1.0332, test_acc: 87.15%\n",
      "Epoch 302 - loss: 1.0306, acc: 87.42% / test_loss: 1.0206, test_acc: 88.42%\n",
      "Epoch 303 - loss: 1.0287, acc: 87.62% / test_loss: 1.0230, test_acc: 88.17%\n",
      "Epoch 304 - loss: 1.0280, acc: 87.69% / test_loss: 1.0191, test_acc: 88.58%\n",
      "Epoch 305 - loss: 1.0359, acc: 86.89% / test_loss: 1.0339, test_acc: 87.09%\n",
      "Epoch 306 - loss: 1.0296, acc: 87.51% / test_loss: 1.0177, test_acc: 88.71%\n",
      "Epoch 307 - loss: 1.0217, acc: 88.31% / test_loss: 1.0161, test_acc: 88.87%\n",
      "Epoch 308 - loss: 1.0275, acc: 87.72% / test_loss: 1.0186, test_acc: 88.61%\n",
      "Epoch 309 - loss: 1.0303, acc: 87.45% / test_loss: 1.0131, test_acc: 89.17%\n",
      "Epoch 310 - loss: 1.0366, acc: 86.83% / test_loss: 1.0325, test_acc: 87.23%\n",
      "Epoch 311 - loss: 1.0579, acc: 84.68% / test_loss: 1.0552, test_acc: 84.97%\n",
      "Epoch 312 - loss: 1.0478, acc: 85.71% / test_loss: 1.0353, test_acc: 86.95%\n",
      "Epoch 313 - loss: 1.0457, acc: 85.90% / test_loss: 1.0249, test_acc: 88.00%\n",
      "Epoch 314 - loss: 1.0299, acc: 87.49% / test_loss: 1.0238, test_acc: 88.10%\n",
      "Epoch 315 - loss: 1.0351, acc: 86.97% / test_loss: 1.0337, test_acc: 87.11%\n",
      "Epoch 316 - loss: 1.0355, acc: 86.93% / test_loss: 1.0225, test_acc: 88.22%\n",
      "Epoch 317 - loss: 1.0245, acc: 88.03% / test_loss: 1.0194, test_acc: 88.55%\n",
      "Epoch 318 - loss: 1.0300, acc: 87.47% / test_loss: 1.0330, test_acc: 87.17%\n",
      "Epoch 319 - loss: 1.0285, acc: 87.63% / test_loss: 1.0315, test_acc: 87.35%\n",
      "Epoch 320 - loss: 1.0306, acc: 87.42% / test_loss: 1.0189, test_acc: 88.59%\n",
      "Epoch 321 - loss: 1.0280, acc: 87.69% / test_loss: 1.0139, test_acc: 89.10%\n",
      "Epoch 322 - loss: 1.0190, acc: 88.58% / test_loss: 1.0192, test_acc: 88.57%\n",
      "Epoch 323 - loss: 1.0241, acc: 88.08% / test_loss: 1.0235, test_acc: 88.12%\n"
     ]
    },
    {
     "name": "stdout",
     "output_type": "stream",
     "text": [
      "Epoch 324 - loss: 1.0391, acc: 86.56% / test_loss: 1.0255, test_acc: 87.93%\n",
      "Epoch 325 - loss: 1.0317, acc: 87.31% / test_loss: 1.0276, test_acc: 87.72%\n",
      "Epoch 326 - loss: 1.0314, acc: 87.34% / test_loss: 1.0246, test_acc: 88.02%\n",
      "Epoch 327 - loss: 1.0577, acc: 84.70% / test_loss: 1.0510, test_acc: 85.38%\n",
      "Epoch 328 - loss: 1.0311, acc: 87.38% / test_loss: 1.0202, test_acc: 88.46%\n",
      "Epoch 329 - loss: 1.0226, acc: 88.22% / test_loss: 1.0142, test_acc: 89.06%\n",
      "Epoch 330 - loss: 1.0311, acc: 87.36% / test_loss: 1.0303, test_acc: 87.45%\n",
      "Epoch 331 - loss: 1.0289, acc: 87.58% / test_loss: 1.0182, test_acc: 88.66%\n",
      "Epoch 332 - loss: 1.0277, acc: 87.71% / test_loss: 1.0227, test_acc: 88.21%\n",
      "Epoch 333 - loss: 1.0216, acc: 88.32% / test_loss: 1.0247, test_acc: 88.01%\n",
      "Epoch 334 - loss: 1.0321, acc: 87.27% / test_loss: 1.0250, test_acc: 87.98%\n",
      "Epoch 335 - loss: 1.0257, acc: 87.90% / test_loss: 1.0239, test_acc: 88.09%\n",
      "Epoch 336 - loss: 1.0238, acc: 88.10% / test_loss: 1.0206, test_acc: 88.43%\n",
      "Epoch 337 - loss: 1.0252, acc: 87.96% / test_loss: 1.0238, test_acc: 88.09%\n",
      "Epoch 338 - loss: 1.0263, acc: 87.86% / test_loss: 1.0594, test_acc: 84.54%\n",
      "Epoch 339 - loss: 1.0552, acc: 84.95% / test_loss: 1.0423, test_acc: 86.25%\n",
      "Epoch 340 - loss: 1.0422, acc: 86.25% / test_loss: 1.0405, test_acc: 86.43%\n",
      "Epoch 341 - loss: 1.0465, acc: 85.82% / test_loss: 1.0208, test_acc: 88.40%\n",
      "Epoch 342 - loss: 1.0232, acc: 88.16% / test_loss: 1.0162, test_acc: 88.86%\n",
      "Epoch 343 - loss: 1.0217, acc: 88.31% / test_loss: 1.0189, test_acc: 88.58%\n",
      "Epoch 344 - loss: 1.0258, acc: 87.89% / test_loss: 1.0261, test_acc: 87.87%\n",
      "Epoch 345 - loss: 1.0424, acc: 86.24% / test_loss: 1.0213, test_acc: 88.35%\n",
      "Epoch 346 - loss: 1.0649, acc: 83.99% / test_loss: 1.0655, test_acc: 83.93%\n",
      "Epoch 347 - loss: 1.0617, acc: 84.30% / test_loss: 1.0330, test_acc: 87.19%\n",
      "Epoch 348 - loss: 1.0290, acc: 87.58% / test_loss: 1.0174, test_acc: 88.75%\n",
      "Epoch 349 - loss: 1.0368, acc: 86.79% / test_loss: 1.0644, test_acc: 84.03%\n",
      "Epoch 350 - loss: 1.0543, acc: 85.04% / test_loss: 1.0213, test_acc: 88.35%\n",
      "Epoch 351 - loss: 1.0322, acc: 87.26% / test_loss: 1.0249, test_acc: 87.98%\n",
      "Epoch 352 - loss: 1.0325, acc: 87.23% / test_loss: 1.0352, test_acc: 86.97%\n",
      "Epoch 353 - loss: 1.0327, acc: 87.21% / test_loss: 1.0260, test_acc: 87.88%\n",
      "Epoch 354 - loss: 1.0258, acc: 87.90% / test_loss: 1.0218, test_acc: 88.29%\n",
      "Epoch 355 - loss: 1.0265, acc: 87.83% / test_loss: 1.0190, test_acc: 88.58%\n",
      "Epoch 356 - loss: 1.0271, acc: 87.78% / test_loss: 1.0252, test_acc: 87.97%\n",
      "Epoch 357 - loss: 1.0310, acc: 87.38% / test_loss: 1.0230, test_acc: 88.18%\n",
      "Epoch 358 - loss: 1.0336, acc: 87.11% / test_loss: 1.0267, test_acc: 87.81%\n",
      "Epoch 359 - loss: 1.0460, acc: 85.87% / test_loss: 1.0242, test_acc: 88.06%\n",
      "Epoch 360 - loss: 1.0302, acc: 87.46% / test_loss: 1.0229, test_acc: 88.19%\n",
      "Epoch 361 - loss: 1.0426, acc: 86.21% / test_loss: 1.0231, test_acc: 88.18%\n",
      "Epoch 362 - loss: 1.0286, acc: 87.63% / test_loss: 1.0217, test_acc: 88.31%\n",
      "Epoch 363 - loss: 1.0282, acc: 87.66% / test_loss: 1.0308, test_acc: 87.40%\n",
      "Epoch 364 - loss: 1.0323, acc: 87.26% / test_loss: 1.0264, test_acc: 87.84%\n",
      "Epoch 365 - loss: 1.0481, acc: 85.66% / test_loss: 1.0332, test_acc: 87.16%\n",
      "Epoch 366 - loss: 1.0307, acc: 87.41% / test_loss: 1.0202, test_acc: 88.47%\n",
      "Epoch 367 - loss: 1.0294, acc: 87.54% / test_loss: 1.0220, test_acc: 88.28%\n",
      "Epoch 368 - loss: 1.0359, acc: 86.89% / test_loss: 1.0303, test_acc: 87.44%\n",
      "Epoch 369 - loss: 1.0534, acc: 85.13% / test_loss: 1.0213, test_acc: 88.35%\n",
      "Epoch 370 - loss: 1.0363, acc: 86.86% / test_loss: 1.0525, test_acc: 85.23%\n",
      "Epoch 371 - loss: 1.0420, acc: 86.27% / test_loss: 1.0352, test_acc: 86.96%\n",
      "Epoch 372 - loss: 1.0445, acc: 86.02% / test_loss: 1.0553, test_acc: 84.95%\n",
      "Epoch 373 - loss: 1.0491, acc: 85.57% / test_loss: 1.0427, test_acc: 86.20%\n",
      "Epoch 374 - loss: 1.0422, acc: 86.26% / test_loss: 1.0370, test_acc: 86.78%\n",
      "Epoch 375 - loss: 1.0490, acc: 85.57% / test_loss: 1.0380, test_acc: 86.68%\n",
      "Epoch 376 - loss: 1.0323, acc: 87.25% / test_loss: 1.0272, test_acc: 87.75%\n",
      "Epoch 377 - loss: 1.0321, acc: 87.27% / test_loss: 1.0272, test_acc: 87.76%\n",
      "Epoch 378 - loss: 1.0328, acc: 87.20% / test_loss: 1.0222, test_acc: 88.27%\n",
      "Epoch 379 - loss: 1.0414, acc: 86.34% / test_loss: 1.0246, test_acc: 88.03%\n",
      "Epoch 380 - loss: 1.0290, acc: 87.58% / test_loss: 1.0246, test_acc: 88.02%\n",
      "Epoch 381 - loss: 1.0268, acc: 87.80% / test_loss: 1.0226, test_acc: 88.21%\n",
      "Epoch 382 - loss: 1.0497, acc: 85.51% / test_loss: 1.0371, test_acc: 86.77%\n",
      "Epoch 383 - loss: 1.0516, acc: 85.32% / test_loss: 1.0190, test_acc: 88.58%\n",
      "Epoch 384 - loss: 1.0308, acc: 87.40% / test_loss: 1.0224, test_acc: 88.24%\n",
      "Epoch 385 - loss: 1.0320, acc: 87.28% / test_loss: 1.0243, test_acc: 88.05%\n",
      "Epoch 386 - loss: 1.0393, acc: 86.55% / test_loss: 1.0566, test_acc: 84.82%\n",
      "Epoch 387 - loss: 1.0497, acc: 85.50% / test_loss: 1.0333, test_acc: 87.14%\n",
      "Epoch 388 - loss: 1.0303, acc: 87.45% / test_loss: 1.0233, test_acc: 88.14%\n",
      "Epoch 389 - loss: 1.0558, acc: 84.89% / test_loss: 1.0337, test_acc: 87.11%\n",
      "Epoch 390 - loss: 1.0470, acc: 85.78% / test_loss: 1.0467, test_acc: 85.81%\n",
      "Epoch 391 - loss: 1.0386, acc: 86.61% / test_loss: 1.0177, test_acc: 88.71%\n",
      "Epoch 392 - loss: 1.0369, acc: 86.79% / test_loss: 1.0500, test_acc: 85.48%\n",
      "Epoch 393 - loss: 1.0528, acc: 85.19% / test_loss: 1.0208, test_acc: 88.40%\n",
      "Epoch 394 - loss: 1.0269, acc: 87.79% / test_loss: 1.0193, test_acc: 88.55%\n",
      "Epoch 395 - loss: 1.0254, acc: 87.94% / test_loss: 1.0159, test_acc: 88.89%\n",
      "Epoch 396 - loss: 1.0369, acc: 86.78% / test_loss: 1.0354, test_acc: 86.95%\n",
      "Epoch 397 - loss: 1.0269, acc: 87.79% / test_loss: 1.0184, test_acc: 88.63%\n",
      "Epoch 398 - loss: 1.0343, acc: 87.05% / test_loss: 1.0226, test_acc: 88.21%\n",
      "Epoch 399 - loss: 1.0355, acc: 86.93% / test_loss: 1.0235, test_acc: 88.13%\n",
      "Epoch 400 - loss: 1.0301, acc: 87.47% / test_loss: 1.0213, test_acc: 88.35%\n",
      "Best test accuracy 89.20% in epoch 154.\n",
      "----------------------------------------------------------------------------------------------------\n"
     ]
    }
   ],
   "source": [
    "best_test_accs = list()\n",
    "\n",
    "for i in range(run):\n",
    "    print('Run', i+1)\n",
    "    \n",
    "    seed = 0\n",
    "    np.random.seed(seed)\n",
    "    torch.manual_seed(seed)\n",
    "    torch.cuda.manual_seed(seed)\n",
    "    torch.cuda.manual_seed_all(seed) # if you are using multi-GPU.\n",
    "    torch.backends.cudnn.benchmark = False\n",
    "    torch.backends.cudnn.deterministic = True\n",
    "    \n",
    "    ecgnet = ECGConv1D()  # init new model\n",
    "    train_losses, train_accs, test_losses, test_accs = train(i, ecgnet.to(device))  # train\n",
    "\n",
    "    best_test_accs.append(max(test_accs))  # get best test accuracy\n",
    "    best_test_acc_epoch = np.array(test_accs).argmax() + 1\n",
    "    print('Best test accuracy {:.2f}% in epoch {}.'.format(best_test_accs[-1]*100, best_test_acc_epoch))\n",
    "    print('-' * 100)\n",
    "\n",
    "    df = pd.DataFrame({  # save model training process into csv file\n",
    "        'loss': train_losses,\n",
    "        'test_loss': test_losses,\n",
    "        'acc': train_accs,\n",
    "        'test_acc': test_accs\n",
    "    })\n",
    "    df.to_csv(os.path.join(root_path, csv_dir, '_'.join([csv_name, str(i+1)]) + csv_ext))\n",
    "\n",
    "df = pd.DataFrame({'best_test_acc': best_test_accs})  # save best test accuracy of each run\n",
    "df.to_csv(os.path.join(root_path, csv_dir, csv_accs_name + csv_ext))"
   ]
  },
  {
   "cell_type": "markdown",
   "metadata": {
    "colab_type": "text",
    "id": "cpDwI7BFRjK6"
   },
   "source": [
    "## Print the best test accuracy of each run"
   ]
  },
  {
   "cell_type": "code",
   "execution_count": 14,
   "metadata": {
    "colab": {
     "base_uri": "https://localhost:8080/",
     "height": 201
    },
    "colab_type": "code",
    "executionInfo": {
     "elapsed": 141,
     "status": "ok",
     "timestamp": 1573150872213,
     "user": {
      "displayName": "Kyuyeon Kim",
      "photoUrl": "https://lh3.googleusercontent.com/a-/AAuE7mBDhZm6xUbCYNLGqOYDpm2QRhOirby0BI-zUCTw2g=s64",
      "userId": "05245697685138289125"
     },
     "user_tz": -540
    },
    "id": "Ne8dr7DaRUME",
    "outputId": "9a98648b-ee04-490e-de87-4c3e1095b2e7"
   },
   "outputs": [
    {
     "name": "stdout",
     "output_type": "stream",
     "text": [
      "Run 1: 89.20%\n"
     ]
    }
   ],
   "source": [
    "for i, a in enumerate(best_test_accs):\n",
    "    print('Run {}: {:.2f}%'.format(i+1, a*100))"
   ]
  },
  {
   "cell_type": "code",
   "execution_count": 15,
   "metadata": {},
   "outputs": [
    {
     "data": {
      "image/png": "[encoded data removed]",
      "text/plain": [
       "<Figure size 1152x288 with 2 Axes>"
      ]
     },
     "metadata": {
      "needs_background": "light"
     },
     "output_type": "display_data"
    }
   ],
   "source": [
    "fig, ax = plt.subplots(1, 2, figsize=(16, 4))\n",
    "\n",
    "ax[0].plot(train_losses)\n",
    "ax[0].plot(test_losses)\n",
    "ax[0].set_xticks([0, 50, 100, 150, 200, 250, 300, 350, 400])\n",
    "ax[0].set_xlabel('Epochs')\n",
    "ax[0].set_ylabel('Loss')\n",
    "ax[0].grid()\n",
    "ax[0].legend(['train', 'test'], loc='upper right')\n",
    "\n",
    "ax[1].plot(np.asarray(train_accs) * 100)\n",
    "ax[1].plot(np.asarray(test_accs) * 100)\n",
    "ax[1].set_xticks([0, 50, 100, 150, 200, 250, 300, 350, 400])\n",
    "ax[1].set_xlabel('Epochs')\n",
    "ax[1].set_ylabel('Accuracy (%)')\n",
    "ax[1].set_ylim(top=100)\n",
    "ax[1].grid()\n",
    "ax[1].legend(['train', 'test'], loc='upper left')\n",
    "\n",
    "fig.savefig('conv2_split.pdf', bbox_inches='tight')"
   ]
  },
  {
   "cell_type": "code",
   "execution_count": null,
   "metadata": {},
   "outputs": [],
   "source": []
  }
 ],
 "metadata": {
  "accelerator": "GPU",
  "colab": {
   "collapsed_sections": [],
   "name": "ecg_train_2conv_final.ipynb",
   "provenance": []
  },
  "kernelspec": {
   "display_name": "Python 3",
   "language": "python",
   "name": "python3"
  },
  "language_info": {
   "codemirror_mode": {
    "name": "ipython",
    "version": 3
   },
   "file_extension": ".py",
   "mimetype": "text/x-python",
   "name": "python",
   "nbconvert_exporter": "python",
   "pygments_lexer": "ipython3",
   "version": "3.7.4"
  }
 },
 "nbformat": 4,
 "nbformat_minor": 1
}
