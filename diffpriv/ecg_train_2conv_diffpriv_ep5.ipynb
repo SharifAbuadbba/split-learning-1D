{
 "cells": [
  {
   "cell_type": "markdown",
   "metadata": {
    "colab_type": "text",
    "id": "YDQY02P14s5b"
   },
   "source": [
    "# 1D-CNN Model for ECG Classification\n",
    "- The model used has 2 Conv. layers and 2 FC layers.\n",
    "- This code repeat running the training process and produce all kinds of data which can be given, such as data needed for drawing loss and accuracy graph through epochs, and maximum test accuracy for each run."
   ]
  },
  {
   "cell_type": "markdown",
   "metadata": {
    "colab_type": "text",
    "id": "0jVwGea7meY-"
   },
   "source": [
    "## Get permission of Google Drive access"
   ]
  },
  {
   "cell_type": "code",
   "execution_count": 1,
   "metadata": {
    "colab": {
     "base_uri": "https://localhost:8080/",
     "height": 55
    },
    "colab_type": "code",
    "executionInfo": {
     "elapsed": 1384,
     "status": "ok",
     "timestamp": 1573140331176,
     "user": {
      "displayName": "Kyuyeon Kim",
      "photoUrl": "https://lh3.googleusercontent.com/a-/AAuE7mBDhZm6xUbCYNLGqOYDpm2QRhOirby0BI-zUCTw2g=s64",
      "userId": "05245697685138289125"
     },
     "user_tz": -540
    },
    "id": "gw8VHp_Lqnu0",
    "outputId": "25ea812d-4242-463a-dc32-a938504f0792"
   },
   "outputs": [],
   "source": [
    "root_path = '.'"
   ]
  },
  {
   "cell_type": "markdown",
   "metadata": {
    "colab_type": "text",
    "id": "y-OoNrzR2jnb"
   },
   "source": [
    "## File name settings"
   ]
  },
  {
   "cell_type": "code",
   "execution_count": 2,
   "metadata": {
    "colab": {},
    "colab_type": "code",
    "id": "BNGT9J0J2jEB"
   },
   "outputs": [],
   "source": [
    "data_dir = 'mitdb'\n",
    "train_name = 'train_ecg.hdf5'\n",
    "test_name = 'test_ecg.hdf5'\n",
    "all_name = 'all_ecg.hdf5'\n",
    "\n",
    "model_dir = 'model'\n",
    "model_name = 'conv2'\n",
    "model_ext = '.pth'\n",
    "\n",
    "csv_dir = 'csv'\n",
    "csv_ext = '.csv'\n",
    "\n",
    "csv_name = 'conv2'\n",
    "csv_accs_name = 'accs_conv2'"
   ]
  },
  {
   "cell_type": "markdown",
   "metadata": {
    "colab_type": "text",
    "id": "XQhRMQcxmiiU"
   },
   "source": [
    "## Import required packages"
   ]
  },
  {
   "cell_type": "code",
   "execution_count": 3,
   "metadata": {
    "colab": {},
    "colab_type": "code",
    "id": "ekg3kh1Tq1B_"
   },
   "outputs": [],
   "source": [
    "import os\n",
    "\n",
    "import torch\n",
    "import torch.nn as nn\n",
    "from torch.utils.data import Dataset, DataLoader\n",
    "from torch.optim import Adam\n",
    "\n",
    "import numpy as np\n",
    "import pandas as pd\n",
    "import h5py\n",
    "from tqdm import tqdm\n",
    "import matplotlib.pyplot as plt\n",
    "\n",
    "from diffprivlib.mechanisms import Laplace"
   ]
  },
  {
   "cell_type": "markdown",
   "metadata": {
    "colab_type": "text",
    "id": "FzsvXmVd0ayn"
   },
   "source": [
    "## GPU settings"
   ]
  },
  {
   "cell_type": "code",
   "execution_count": 4,
   "metadata": {
    "colab": {
     "base_uri": "https://localhost:8080/",
     "height": 35
    },
    "colab_type": "code",
    "executionInfo": {
     "elapsed": 1561,
     "status": "ok",
     "timestamp": 1573140331478,
     "user": {
      "displayName": "Kyuyeon Kim",
      "photoUrl": "https://lh3.googleusercontent.com/a-/AAuE7mBDhZm6xUbCYNLGqOYDpm2QRhOirby0BI-zUCTw2g=s64",
      "userId": "05245697685138289125"
     },
     "user_tz": -540
    },
    "id": "1UJyXe89cJcw",
    "outputId": "14b01434-7392-4af6-98a1-f48524453a56"
   },
   "outputs": [],
   "source": [
    "device = torch.device('cuda:0' if torch.cuda.is_available() else 'cpu')\n",
    "if torch.cuda.is_available():\n",
    "    print(torch.cuda.get_device_name(0))"
   ]
  },
  {
   "cell_type": "markdown",
   "metadata": {
    "colab_type": "text",
    "id": "K-DnZ3zF6dhx"
   },
   "source": [
    "## Define `ECG` `Dataset` class\n"
   ]
  },
  {
   "cell_type": "code",
   "execution_count": 5,
   "metadata": {
    "colab": {},
    "colab_type": "code",
    "id": "ffSLi6qCbHy2"
   },
   "outputs": [],
   "source": [
    "class ECG(Dataset):\n",
    "    def __init__(self, mode='train'):\n",
    "        if mode == 'train':\n",
    "            with h5py.File(os.path.join(root_path, data_dir, train_name), 'r') as hdf:\n",
    "                self.x = hdf['x_train'][:]\n",
    "                self.y = hdf['y_train'][:]\n",
    "        elif mode == 'test':\n",
    "            with h5py.File(os.path.join(root_path, data_dir, test_name), 'r') as hdf:\n",
    "                self.x = hdf['x_test'][:]\n",
    "                self.y = hdf['y_test'][:]\n",
    "        elif mode == 'all':\n",
    "            with h5py.File(os.path.join(root_path, data_dir, all_name), 'r') as hdf:\n",
    "                self.x = hdf['x'][:]\n",
    "                self.y = hdf['y'][:]\n",
    "        else:\n",
    "            raise ValueError('Argument of mode should be train, test, or all.')\n",
    "    \n",
    "    def __len__(self):\n",
    "        return len(self.x)\n",
    "    \n",
    "    def __getitem__(self, idx):\n",
    "        return torch.tensor(self.x[idx], dtype=torch.float), torch.tensor(self.y[idx])"
   ]
  },
  {
   "cell_type": "markdown",
   "metadata": {
    "colab_type": "text",
    "id": "U97Sm8qs6-IC"
   },
   "source": [
    "## Make Batch Generator"
   ]
  },
  {
   "cell_type": "markdown",
   "metadata": {
    "colab_type": "text",
    "id": "popnnQ0ckaF3"
   },
   "source": [
    "### Batch size\n",
    "You can change it if you want."
   ]
  },
  {
   "cell_type": "code",
   "execution_count": 6,
   "metadata": {
    "colab": {},
    "colab_type": "code",
    "id": "ElNcZhTt786w"
   },
   "outputs": [],
   "source": [
    "batch_size = 32"
   ]
  },
  {
   "cell_type": "markdown",
   "metadata": {
    "colab_type": "text",
    "id": "AHy2nkSm778h"
   },
   "source": [
    "### `DataLoader` for batch generating\n",
    "`torch.utils.data.DataLoader(dataset, batch_size=1, shuffle=False)`"
   ]
  },
  {
   "cell_type": "code",
   "execution_count": 7,
   "metadata": {
    "colab": {},
    "colab_type": "code",
    "id": "DyIHkQr4sMiE"
   },
   "outputs": [],
   "source": [
    "train_dataset = ECG(mode='train')\n",
    "test_dataset = ECG(mode='test')\n",
    "train_loader = DataLoader(train_dataset, batch_size=batch_size)\n",
    "test_loader = DataLoader(test_dataset, batch_size=batch_size)"
   ]
  },
  {
   "cell_type": "markdown",
   "metadata": {
    "colab_type": "text",
    "id": "6opdvihFk8Di"
   },
   "source": [
    "### Size check for single batch"
   ]
  },
  {
   "cell_type": "code",
   "execution_count": 8,
   "metadata": {
    "colab": {
     "base_uri": "https://localhost:8080/",
     "height": 54
    },
    "colab_type": "code",
    "executionInfo": {
     "elapsed": 1342,
     "status": "ok",
     "timestamp": 1573140331487,
     "user": {
      "displayName": "Kyuyeon Kim",
      "photoUrl": "https://lh3.googleusercontent.com/a-/AAuE7mBDhZm6xUbCYNLGqOYDpm2QRhOirby0BI-zUCTw2g=s64",
      "userId": "05245697685138289125"
     },
     "user_tz": -540
    },
    "id": "902j2PYgszyr",
    "outputId": "717f8d82-10de-4012-e9c1-4717b8835d17"
   },
   "outputs": [
    {
     "name": "stdout",
     "output_type": "stream",
     "text": [
      "torch.Size([32, 1, 128])\n",
      "torch.Size([32])\n"
     ]
    }
   ],
   "source": [
    "x_train, y_train = next(iter(train_loader))\n",
    "print(x_train.size())\n",
    "print(y_train.size())"
   ]
  },
  {
   "cell_type": "markdown",
   "metadata": {
    "colab_type": "text",
    "id": "d4Nv5OLbm0rJ"
   },
   "source": [
    "### Number of total batches"
   ]
  },
  {
   "cell_type": "code",
   "execution_count": 9,
   "metadata": {
    "colab": {
     "base_uri": "https://localhost:8080/",
     "height": 35
    },
    "colab_type": "code",
    "executionInfo": {
     "elapsed": 1320,
     "status": "ok",
     "timestamp": 1573140331489,
     "user": {
      "displayName": "Kyuyeon Kim",
      "photoUrl": "https://lh3.googleusercontent.com/a-/AAuE7mBDhZm6xUbCYNLGqOYDpm2QRhOirby0BI-zUCTw2g=s64",
      "userId": "05245697685138289125"
     },
     "user_tz": -540
    },
    "id": "xY_0e4jexTIy",
    "outputId": "37db683a-0839-4463-8f2a-88340df0be85"
   },
   "outputs": [
    {
     "name": "stdout",
     "output_type": "stream",
     "text": [
      "414\n"
     ]
    }
   ],
   "source": [
    "total_batch = len(train_loader)\n",
    "print(total_batch)"
   ]
  },
  {
   "cell_type": "markdown",
   "metadata": {
    "colab_type": "text",
    "id": "hteQdSdMg8aB"
   },
   "source": [
    "## Pytorch layer modules for **Conv1D** Network\n",
    "\n",
    "\n",
    "\n",
    "### `Conv1d` layer\n",
    "- `torch.nn.Conv1d(in_channels, out_channels, kernel_size)`\n",
    "\n",
    "### `MaxPool1d` layer\n",
    "- `torch.nn.MaxPool1d(kernel_size, stride=None)`\n",
    "- Parameter `stride` follows `kernel_size`.\n",
    "\n",
    "### `ReLU` layer\n",
    "- `torch.nn.ReLU()`\n",
    "\n",
    "### `Linear` layer\n",
    "- `torch.nn.Linear(in_features, out_features, bias=True)`\n",
    "\n",
    "### `Softmax` layer\n",
    "- `torch.nn.Softmax(dim=None)`\n",
    "- Parameter `dim` is usually set to `1`."
   ]
  },
  {
   "cell_type": "markdown",
   "metadata": {
    "colab_type": "text",
    "id": "X-QMUMFx2n5J"
   },
   "source": [
    "## Training process settings"
   ]
  },
  {
   "cell_type": "code",
   "execution_count": 10,
   "metadata": {
    "colab": {},
    "colab_type": "code",
    "id": "3AKAftHyzPfz"
   },
   "outputs": [],
   "source": [
    "run = 1\n",
    "epoch = 400\n",
    "lr = 0.001\n",
    "epsilon = 5\n",
    "min_diff = 1e-5"
   ]
  },
  {
   "cell_type": "markdown",
   "metadata": {
    "colab_type": "text",
    "id": "d0DQJhg2w_Tj"
   },
   "source": [
    "## Construct 1D CNN ECG classification model"
   ]
  },
  {
   "cell_type": "code",
   "execution_count": 11,
   "metadata": {
    "colab": {},
    "colab_type": "code",
    "id": "G2LRE1T2ZZLB"
   },
   "outputs": [],
   "source": [
    "class ECGConv1D(nn.Module):\n",
    "    def __init__(self):\n",
    "        super(ECGConv1D, self).__init__()\n",
    "        self.conv1 = nn.Conv1d(1, 16, 7, padding=3)  # 128 x 16\n",
    "        self.relu1 = nn.LeakyReLU()\n",
    "        self.pool1 = nn.MaxPool1d(2)  # 64 x 16\n",
    "        self.conv2 = nn.Conv1d(16, 16, 5, padding=2)  # 64 x 16\n",
    "        self.relu2 = nn.LeakyReLU()\n",
    "        self.pool2 = nn.MaxPool1d(2)  # 32 x 16\n",
    "        self.linear3 = nn.Linear(32 * 16, 128)\n",
    "        self.relu3 = nn.LeakyReLU()\n",
    "        self.linear4 = nn.Linear(128, 5)\n",
    "        self.softmax4 = nn.Softmax(dim=1)\n",
    "    \n",
    "    def forward(self, x):\n",
    "        x = self.conv1(x)\n",
    "        x = self.relu1(x)\n",
    "        x = self.pool1(x)\n",
    "        x = self.conv2(x)\n",
    "        x = self.relu2(x)\n",
    "        x = self.pool2(x)\n",
    "        \n",
    "        # differential privacy\n",
    "        x_data = x.data.cpu().numpy()\n",
    "        bound = np.dstack((np.max(x_data, axis=0), np.min(x_data, axis=0)))\n",
    "        for i in range(bound.shape[0]):\n",
    "            for j in range(bound.shape[1]):\n",
    "                interval = bound[i][j]\n",
    "                if interval[0] - interval[1] < min_diff:\n",
    "                    interval[0] += min_diff * 0.5\n",
    "                    interval[1] -= min_diff * 0.5\n",
    "        for j in range(x_data.shape[1]):\n",
    "            for k in range(x_data.shape[2]):\n",
    "                dp = Laplace()\n",
    "                dp = dp.set_epsilon(epsilon)\n",
    "                dp = dp.set_sensitivity(bound[j][k][0] - bound[j][k][1])\n",
    "                for i in range(x_data.shape[0]):\n",
    "                    x_data[i][j][k] = dp.randomise(x_data[i][j][k])\n",
    "        x.data = torch.tensor(x_data).requires_grad_(True).to(device)\n",
    "        \n",
    "        x = x.view(-1, 32 * 16)\n",
    "        x = self.linear3(x)\n",
    "        x = self.relu3(x)\n",
    "        x = self.linear4(x)\n",
    "        x = self.softmax4(x)\n",
    "        return x        "
   ]
  },
  {
   "cell_type": "markdown",
   "metadata": {
    "colab_type": "text",
    "id": "m-bCqOUuxSdp"
   },
   "source": [
    "## Traning function\n"
   ]
  },
  {
   "cell_type": "code",
   "execution_count": 12,
   "metadata": {
    "colab": {},
    "colab_type": "code",
    "id": "nO67O2Kj7B8J"
   },
   "outputs": [],
   "source": [
    "def train(nrun, model):\n",
    "    criterion = nn.CrossEntropyLoss()\n",
    "    optimizer = Adam(model.parameters(), lr=lr)\n",
    "\n",
    "    train_losses = list()\n",
    "    train_accs = list()\n",
    "\n",
    "    test_losses = list()\n",
    "    test_accs = list()\n",
    "\n",
    "    best_test_acc = 0  # best test accuracy \n",
    "\n",
    "    for e in range(epoch):\n",
    "        print(\"Epoch {} - \".format(e+1), end='')\n",
    "\n",
    "        # train\n",
    "        train_loss = 0.0\n",
    "        correct, total = 0, 0\n",
    "        for _, batch in enumerate(train_loader):\n",
    "            x, label = batch  # get feature and label from a batch\n",
    "            x, label = x.to(device), label.to(device)  # send to device\n",
    "            optimizer.zero_grad()  # init all grads to zero\n",
    "            output = model(x)  # forward propagation\n",
    "            loss = criterion(output, label)  # calculate loss\n",
    "            loss.backward()  # backward propagation\n",
    "            optimizer.step()  # weight update\n",
    "\n",
    "            train_loss += loss.item()\n",
    "            correct += torch.sum(output.argmax(dim=1) == label).item()\n",
    "            total += len(label)\n",
    "        train_losses.append(train_loss / len(train_loader))\n",
    "        train_accs.append(correct / total)\n",
    "        print(\"loss: {:.4f}, acc: {:.2f}%\".format(train_losses[-1], train_accs[-1]*100), end=' / ')\n",
    "        \n",
    "        # test\n",
    "        with torch.no_grad():\n",
    "            test_loss = 0.0\n",
    "            correct, total = 0, 0\n",
    "            for _, batch in enumerate(test_loader):\n",
    "                x, label = batch\n",
    "                x, label = x.to(device), label.to(device)\n",
    "                output = model(x)\n",
    "                loss = criterion(output, label)\n",
    "                \n",
    "                test_loss += loss.item()\n",
    "                correct += torch.sum(output.argmax(dim=1) == label).item()\n",
    "                total += len(label)\n",
    "            test_losses.append(test_loss / len(test_loader))\n",
    "            test_accs.append(correct / total)\n",
    "        print(\"test_loss: {:.4f}, test_acc: {:.2f}%\".format(test_losses[-1], test_accs[-1]*100))\n",
    "\n",
    "        # save model that has best validation accuracy\n",
    "        if test_accs[-1] > best_test_acc:\n",
    "            best_test_acc = test_accs[-1]\n",
    "            torch.save(model.state_dict(), os.path.join(root_path, model_dir, '_'.join([model_name, str(nrun), 'best']) + model_ext))\n",
    "    \n",
    "        # save model for each 10 epochs\n",
    "        if (e + 1) % 10 == 0:\n",
    "            torch.save(model.state_dict(), os.path.join(root_path, model_dir, '_'.join([model_name, str(nrun), str(e+1)]) + model_ext))\n",
    "    \n",
    "    return train_losses, train_accs, test_losses, test_accs"
   ]
  },
  {
   "cell_type": "markdown",
   "metadata": {
    "colab_type": "text",
    "id": "5h1yJeZXRWjT"
   },
   "source": [
    "## Training process"
   ]
  },
  {
   "cell_type": "markdown",
   "metadata": {
    "colab_type": "text",
    "id": "AXFHuejuRe2u"
   },
   "source": [
    "### Repeat for 10 times"
   ]
  },
  {
   "cell_type": "code",
   "execution_count": 13,
   "metadata": {
    "colab": {
     "base_uri": "https://localhost:8080/",
     "height": 1000
    },
    "colab_type": "code",
    "executionInfo": {
     "elapsed": 6513611,
     "status": "ok",
     "timestamp": 1573150871777,
     "user": {
      "displayName": "Kyuyeon Kim",
      "photoUrl": "https://lh3.googleusercontent.com/a-/AAuE7mBDhZm6xUbCYNLGqOYDpm2QRhOirby0BI-zUCTw2g=s64",
      "userId": "05245697685138289125"
     },
     "user_tz": -540
    },
    "id": "IAusksoSKSI0",
    "outputId": "3bf51e50-8a79-445c-f42e-d446d684603e"
   },
   "outputs": [
    {
     "name": "stdout",
     "output_type": "stream",
     "text": [
      "Run 1\n",
      "Epoch 1 - loss: 1.3500, acc: 56.07% / test_loss: 1.2215, test_acc: 68.24%\n",
      "Epoch 2 - loss: 1.1790, acc: 72.56% / test_loss: 1.1444, test_acc: 76.14%\n",
      "Epoch 3 - loss: 1.1410, acc: 76.23% / test_loss: 1.1188, test_acc: 78.53%\n",
      "Epoch 4 - loss: 1.1330, acc: 76.96% / test_loss: 1.1202, test_acc: 78.27%\n",
      "Epoch 5 - loss: 1.1356, acc: 76.78% / test_loss: 1.1194, test_acc: 78.38%\n",
      "Epoch 6 - loss: 1.1322, acc: 77.06% / test_loss: 1.1360, test_acc: 76.67%\n",
      "Epoch 7 - loss: 1.1294, acc: 77.37% / test_loss: 1.1393, test_acc: 76.38%\n",
      "Epoch 8 - loss: 1.1342, acc: 76.89% / test_loss: 1.1132, test_acc: 79.06%\n",
      "Epoch 9 - loss: 1.1343, acc: 76.87% / test_loss: 1.1138, test_acc: 79.00%\n",
      "Epoch 10 - loss: 1.1271, acc: 77.61% / test_loss: 1.1107, test_acc: 79.33%\n",
      "Epoch 11 - loss: 1.1303, acc: 77.33% / test_loss: 1.1334, test_acc: 77.03%\n",
      "Epoch 12 - loss: 1.1314, acc: 77.25% / test_loss: 1.1184, test_acc: 78.57%\n",
      "Epoch 13 - loss: 1.1230, acc: 78.08% / test_loss: 1.1263, test_acc: 77.75%\n",
      "Epoch 14 - loss: 1.1270, acc: 77.70% / test_loss: 1.1582, test_acc: 74.59%\n",
      "Epoch 15 - loss: 1.1326, acc: 77.15% / test_loss: 1.1092, test_acc: 79.49%\n",
      "Epoch 16 - loss: 1.1249, acc: 77.92% / test_loss: 1.1115, test_acc: 79.25%\n",
      "Epoch 17 - loss: 1.1284, acc: 77.58% / test_loss: 1.1096, test_acc: 79.46%\n",
      "Epoch 18 - loss: 1.1353, acc: 76.86% / test_loss: 1.1220, test_acc: 78.17%\n",
      "Epoch 19 - loss: 1.1291, acc: 77.49% / test_loss: 1.1033, test_acc: 80.06%\n",
      "Epoch 20 - loss: 1.1205, acc: 78.40% / test_loss: 1.1155, test_acc: 78.88%\n",
      "Epoch 21 - loss: 1.1147, acc: 78.96% / test_loss: 1.1046, test_acc: 79.94%\n",
      "Epoch 22 - loss: 1.1097, acc: 79.40% / test_loss: 1.0986, test_acc: 80.54%\n",
      "Epoch 23 - loss: 1.1008, acc: 80.38% / test_loss: 1.1305, test_acc: 77.37%\n",
      "Epoch 24 - loss: 1.0950, acc: 80.95% / test_loss: 1.0980, test_acc: 80.65%\n",
      "Epoch 25 - loss: 1.1158, acc: 78.84% / test_loss: 1.0928, test_acc: 81.16%\n",
      "Epoch 26 - loss: 1.1030, acc: 80.17% / test_loss: 1.0879, test_acc: 81.62%\n",
      "Epoch 27 - loss: 1.0929, acc: 81.16% / test_loss: 1.0872, test_acc: 81.77%\n",
      "Epoch 28 - loss: 1.0987, acc: 80.54% / test_loss: 1.0952, test_acc: 80.89%\n",
      "Epoch 29 - loss: 1.1048, acc: 79.95% / test_loss: 1.0876, test_acc: 81.71%\n",
      "Epoch 30 - loss: 1.0980, acc: 80.63% / test_loss: 1.0810, test_acc: 82.33%\n",
      "Epoch 31 - loss: 1.0988, acc: 80.55% / test_loss: 1.1247, test_acc: 77.99%\n",
      "Epoch 32 - loss: 1.1093, acc: 79.49% / test_loss: 1.0859, test_acc: 81.87%\n",
      "Epoch 33 - loss: 1.1076, acc: 79.68% / test_loss: 1.0963, test_acc: 80.81%\n",
      "Epoch 34 - loss: 1.0911, acc: 81.33% / test_loss: 1.0944, test_acc: 81.02%\n",
      "Epoch 35 - loss: 1.0925, acc: 81.19% / test_loss: 1.0999, test_acc: 80.48%\n",
      "Epoch 36 - loss: 1.0958, acc: 80.87% / test_loss: 1.0816, test_acc: 82.27%\n",
      "Epoch 37 - loss: 1.1055, acc: 79.90% / test_loss: 1.1326, test_acc: 77.16%\n",
      "Epoch 38 - loss: 1.0989, acc: 80.58% / test_loss: 1.0837, test_acc: 82.08%\n",
      "Epoch 39 - loss: 1.1120, acc: 79.23% / test_loss: 1.0796, test_acc: 82.45%\n",
      "Epoch 40 - loss: 1.0993, acc: 80.52% / test_loss: 1.0815, test_acc: 82.31%\n",
      "Epoch 41 - loss: 1.1058, acc: 79.85% / test_loss: 1.0945, test_acc: 81.02%\n",
      "Epoch 42 - loss: 1.1008, acc: 80.35% / test_loss: 1.0792, test_acc: 82.54%\n",
      "Epoch 43 - loss: 1.1064, acc: 79.80% / test_loss: 1.1628, test_acc: 74.14%\n",
      "Epoch 44 - loss: 1.0914, acc: 81.32% / test_loss: 1.0688, test_acc: 83.60%\n",
      "Epoch 45 - loss: 1.0904, acc: 81.41% / test_loss: 1.0782, test_acc: 82.64%\n",
      "Epoch 46 - loss: 1.0939, acc: 81.08% / test_loss: 1.0920, test_acc: 81.26%\n",
      "Epoch 47 - loss: 1.1058, acc: 79.88% / test_loss: 1.0997, test_acc: 80.51%\n",
      "Epoch 48 - loss: 1.0979, acc: 80.65% / test_loss: 1.0772, test_acc: 82.76%\n",
      "Epoch 49 - loss: 1.0986, acc: 80.57% / test_loss: 1.0798, test_acc: 82.48%\n",
      "Epoch 50 - loss: 1.1243, acc: 78.05% / test_loss: 1.0982, test_acc: 80.63%\n",
      "Epoch 51 - loss: 1.1117, acc: 79.28% / test_loss: 1.1188, test_acc: 78.60%\n",
      "Epoch 52 - loss: 1.0918, acc: 81.27% / test_loss: 1.0863, test_acc: 81.83%\n",
      "Epoch 53 - loss: 1.0870, acc: 81.75% / test_loss: 1.0976, test_acc: 80.71%\n",
      "Epoch 54 - loss: 1.1071, acc: 79.78% / test_loss: 1.0933, test_acc: 81.15%\n",
      "Epoch 55 - loss: 1.0895, acc: 81.52% / test_loss: 1.0904, test_acc: 81.45%\n",
      "Epoch 56 - loss: 1.0849, acc: 81.99% / test_loss: 1.0719, test_acc: 83.28%\n",
      "Epoch 57 - loss: 1.0998, acc: 80.48% / test_loss: 1.1027, test_acc: 80.21%\n",
      "Epoch 58 - loss: 1.0967, acc: 80.79% / test_loss: 1.0992, test_acc: 80.54%\n",
      "Epoch 59 - loss: 1.0901, acc: 81.46% / test_loss: 1.1047, test_acc: 79.99%\n",
      "Epoch 60 - loss: 1.1041, acc: 80.05% / test_loss: 1.0847, test_acc: 82.00%\n",
      "Epoch 61 - loss: 1.1165, acc: 78.79% / test_loss: 1.0860, test_acc: 81.86%\n",
      "Epoch 62 - loss: 1.0966, acc: 80.82% / test_loss: 1.0946, test_acc: 80.99%\n",
      "Epoch 63 - loss: 1.0931, acc: 81.13% / test_loss: 1.0769, test_acc: 82.79%\n",
      "Epoch 64 - loss: 1.0960, acc: 80.88% / test_loss: 1.0789, test_acc: 82.57%\n",
      "Epoch 65 - loss: 1.1057, acc: 79.89% / test_loss: 1.1079, test_acc: 79.66%\n",
      "Epoch 66 - loss: 1.1035, acc: 80.11% / test_loss: 1.1224, test_acc: 78.23%\n",
      "Epoch 67 - loss: 1.0908, acc: 81.39% / test_loss: 1.1190, test_acc: 78.55%\n",
      "Epoch 68 - loss: 1.0952, acc: 80.95% / test_loss: 1.0777, test_acc: 82.70%\n",
      "Epoch 69 - loss: 1.1011, acc: 80.36% / test_loss: 1.1016, test_acc: 80.32%\n",
      "Epoch 70 - loss: 1.1177, acc: 78.69% / test_loss: 1.1177, test_acc: 78.71%\n",
      "Epoch 71 - loss: 1.1140, acc: 79.08% / test_loss: 1.1280, test_acc: 77.65%\n",
      "Epoch 72 - loss: 1.1068, acc: 79.78% / test_loss: 1.1481, test_acc: 75.64%\n",
      "Epoch 73 - loss: 1.1044, acc: 80.03% / test_loss: 1.0687, test_acc: 83.62%\n",
      "Epoch 74 - loss: 1.0969, acc: 80.77% / test_loss: 1.0759, test_acc: 82.88%\n",
      "Epoch 75 - loss: 1.0910, acc: 81.37% / test_loss: 1.0765, test_acc: 82.83%\n",
      "Epoch 76 - loss: 1.0860, acc: 81.86% / test_loss: 1.1252, test_acc: 77.98%\n",
      "Epoch 77 - loss: 1.1193, acc: 78.53% / test_loss: 1.1409, test_acc: 76.37%\n",
      "Epoch 78 - loss: 1.1252, acc: 77.93% / test_loss: 1.0894, test_acc: 81.53%\n",
      "Epoch 79 - loss: 1.0979, acc: 80.68% / test_loss: 1.0984, test_acc: 80.63%\n",
      "Epoch 80 - loss: 1.1403, acc: 76.43% / test_loss: 1.1525, test_acc: 75.20%\n",
      "Epoch 81 - loss: 1.1150, acc: 78.98% / test_loss: 1.0905, test_acc: 81.43%\n",
      "Epoch 82 - loss: 1.1033, acc: 80.14% / test_loss: 1.1069, test_acc: 79.79%\n",
      "Epoch 83 - loss: 1.1226, acc: 78.20% / test_loss: 1.0826, test_acc: 82.20%\n",
      "Epoch 84 - loss: 1.1048, acc: 80.01% / test_loss: 1.0878, test_acc: 81.71%\n",
      "Epoch 85 - loss: 1.1233, acc: 78.14% / test_loss: 1.1504, test_acc: 75.42%\n",
      "Epoch 86 - loss: 1.1232, acc: 78.15% / test_loss: 1.0830, test_acc: 82.17%\n",
      "Epoch 87 - loss: 1.0864, acc: 81.83% / test_loss: 1.1213, test_acc: 78.33%\n",
      "Epoch 88 - loss: 1.1007, acc: 80.41% / test_loss: 1.0990, test_acc: 80.58%\n",
      "Epoch 89 - loss: 1.1116, acc: 79.30% / test_loss: 1.0955, test_acc: 80.91%\n",
      "Epoch 90 - loss: 1.0965, acc: 80.82% / test_loss: 1.0884, test_acc: 81.64%\n",
      "Epoch 91 - loss: 1.1059, acc: 79.87% / test_loss: 1.1126, test_acc: 79.21%\n",
      "Epoch 92 - loss: 1.1105, acc: 79.43% / test_loss: 1.1244, test_acc: 78.04%\n",
      "Epoch 93 - loss: 1.1057, acc: 79.89% / test_loss: 1.0926, test_acc: 81.20%\n",
      "Epoch 94 - loss: 1.1185, acc: 78.61% / test_loss: 1.0933, test_acc: 81.14%\n",
      "Epoch 95 - loss: 1.1257, acc: 77.90% / test_loss: 1.0917, test_acc: 81.30%\n",
      "Epoch 96 - loss: 1.1272, acc: 77.77% / test_loss: 1.1360, test_acc: 76.89%\n",
      "Epoch 97 - loss: 1.1309, acc: 77.40% / test_loss: 1.1337, test_acc: 77.09%\n",
      "Epoch 98 - loss: 1.1440, acc: 76.07% / test_loss: 1.1148, test_acc: 79.00%\n",
      "Epoch 99 - loss: 1.1151, acc: 78.97% / test_loss: 1.1052, test_acc: 79.95%\n",
      "Epoch 100 - loss: 1.1137, acc: 79.10% / test_loss: 1.1213, test_acc: 78.34%\n",
      "Epoch 101 - loss: 1.1037, acc: 80.11% / test_loss: 1.0803, test_acc: 82.44%\n",
      "Epoch 102 - loss: 1.1052, acc: 79.97% / test_loss: 1.0884, test_acc: 81.63%\n",
      "Epoch 103 - loss: 1.1004, acc: 80.43% / test_loss: 1.0889, test_acc: 81.59%\n",
      "Epoch 104 - loss: 1.1374, acc: 76.75% / test_loss: 1.1157, test_acc: 78.92%\n",
      "Epoch 105 - loss: 1.1250, acc: 77.98% / test_loss: 1.1339, test_acc: 77.08%\n",
      "Epoch 106 - loss: 1.1153, acc: 78.94% / test_loss: 1.0967, test_acc: 80.82%\n",
      "Epoch 107 - loss: 1.0979, acc: 80.69% / test_loss: 1.0770, test_acc: 82.78%\n",
      "Epoch 108 - loss: 1.0988, acc: 80.60% / test_loss: 1.0795, test_acc: 82.53%\n",
      "Epoch 109 - loss: 1.0993, acc: 80.54% / test_loss: 1.1523, test_acc: 75.24%\n"
     ]
    },
    {
     "name": "stdout",
     "output_type": "stream",
     "text": [
      "Epoch 110 - loss: 1.1276, acc: 77.72% / test_loss: 1.0848, test_acc: 82.02%\n",
      "Epoch 111 - loss: 1.0902, acc: 81.46% / test_loss: 1.0748, test_acc: 83.00%\n",
      "Epoch 112 - loss: 1.1028, acc: 80.20% / test_loss: 1.1150, test_acc: 78.97%\n",
      "Epoch 113 - loss: 1.0992, acc: 80.56% / test_loss: 1.0846, test_acc: 82.01%\n",
      "Epoch 114 - loss: 1.0878, acc: 81.68% / test_loss: 1.0958, test_acc: 80.90%\n",
      "Epoch 115 - loss: 1.1033, acc: 80.14% / test_loss: 1.0870, test_acc: 81.78%\n",
      "Epoch 116 - loss: 1.0986, acc: 80.62% / test_loss: 1.1041, test_acc: 80.07%\n",
      "Epoch 117 - loss: 1.1092, acc: 79.55% / test_loss: 1.0788, test_acc: 82.62%\n",
      "Epoch 118 - loss: 1.1011, acc: 80.37% / test_loss: 1.0933, test_acc: 81.15%\n",
      "Epoch 119 - loss: 1.1044, acc: 80.03% / test_loss: 1.0801, test_acc: 82.45%\n",
      "Epoch 120 - loss: 1.0898, acc: 81.50% / test_loss: 1.0749, test_acc: 82.99%\n",
      "Epoch 121 - loss: 1.0910, acc: 81.37% / test_loss: 1.1047, test_acc: 80.01%\n",
      "Epoch 122 - loss: 1.0859, acc: 81.88% / test_loss: 1.1258, test_acc: 77.89%\n",
      "Epoch 123 - loss: 1.1089, acc: 79.59% / test_loss: 1.0783, test_acc: 82.64%\n",
      "Epoch 124 - loss: 1.1055, acc: 79.92% / test_loss: 1.1088, test_acc: 79.61%\n",
      "Epoch 125 - loss: 1.1238, acc: 78.10% / test_loss: 1.1180, test_acc: 78.69%\n",
      "Epoch 126 - loss: 1.0954, acc: 80.94% / test_loss: 1.1015, test_acc: 80.31%\n",
      "Epoch 127 - loss: 1.0882, acc: 81.65% / test_loss: 1.0946, test_acc: 81.01%\n",
      "Epoch 128 - loss: 1.0995, acc: 80.52% / test_loss: 1.1134, test_acc: 79.14%\n",
      "Epoch 129 - loss: 1.0959, acc: 80.89% / test_loss: 1.0766, test_acc: 82.81%\n",
      "Epoch 130 - loss: 1.0935, acc: 81.12% / test_loss: 1.0784, test_acc: 82.63%\n",
      "Epoch 131 - loss: 1.0877, acc: 81.71% / test_loss: 1.0823, test_acc: 82.23%\n",
      "Epoch 132 - loss: 1.1072, acc: 79.77% / test_loss: 1.0856, test_acc: 81.91%\n",
      "Epoch 133 - loss: 1.1001, acc: 80.46% / test_loss: 1.0867, test_acc: 81.81%\n",
      "Epoch 134 - loss: 1.1088, acc: 79.58% / test_loss: 1.1905, test_acc: 71.43%\n",
      "Epoch 135 - loss: 1.1028, acc: 80.20% / test_loss: 1.0753, test_acc: 82.94%\n",
      "Epoch 136 - loss: 1.1266, acc: 77.82% / test_loss: 1.0948, test_acc: 80.98%\n",
      "Epoch 137 - loss: 1.1105, acc: 79.43% / test_loss: 1.0905, test_acc: 81.43%\n",
      "Epoch 138 - loss: 1.1044, acc: 80.04% / test_loss: 1.0877, test_acc: 81.71%\n",
      "Epoch 139 - loss: 1.1214, acc: 78.33% / test_loss: 1.2314, test_acc: 67.35%\n",
      "Epoch 140 - loss: 1.1572, acc: 74.75% / test_loss: 1.1066, test_acc: 79.82%\n",
      "Epoch 141 - loss: 1.1239, acc: 78.08% / test_loss: 1.0947, test_acc: 81.01%\n",
      "Epoch 142 - loss: 1.1088, acc: 79.58% / test_loss: 1.0890, test_acc: 81.58%\n",
      "Epoch 143 - loss: 1.0993, acc: 80.54% / test_loss: 1.1078, test_acc: 79.70%\n",
      "Epoch 144 - loss: 1.1223, acc: 78.24% / test_loss: 1.1156, test_acc: 78.91%\n",
      "Epoch 145 - loss: 1.1029, acc: 80.19% / test_loss: 1.0835, test_acc: 82.14%\n",
      "Epoch 146 - loss: 1.1217, acc: 78.30% / test_loss: 1.1346, test_acc: 77.03%\n",
      "Epoch 147 - loss: 1.1263, acc: 77.84% / test_loss: 1.1716, test_acc: 73.31%\n",
      "Epoch 148 - loss: 1.1323, acc: 77.24% / test_loss: 1.1263, test_acc: 77.85%\n",
      "Epoch 149 - loss: 1.0947, acc: 81.02% / test_loss: 1.0828, test_acc: 82.19%\n",
      "Epoch 150 - loss: 1.1660, acc: 73.86% / test_loss: 1.1032, test_acc: 80.17%\n",
      "Epoch 151 - loss: 1.1214, acc: 78.33% / test_loss: 1.1129, test_acc: 79.18%\n",
      "Epoch 152 - loss: 1.1078, acc: 79.71% / test_loss: 1.1067, test_acc: 79.80%\n",
      "Epoch 153 - loss: 1.1097, acc: 79.51% / test_loss: 1.1453, test_acc: 75.94%\n",
      "Epoch 154 - loss: 1.1054, acc: 79.95% / test_loss: 1.0930, test_acc: 81.19%\n",
      "Epoch 155 - loss: 1.0963, acc: 80.85% / test_loss: 1.0856, test_acc: 81.92%\n",
      "Epoch 156 - loss: 1.1101, acc: 79.46% / test_loss: 1.1032, test_acc: 80.17%\n",
      "Epoch 157 - loss: 1.1038, acc: 80.11% / test_loss: 1.0848, test_acc: 82.00%\n",
      "Epoch 158 - loss: 1.1171, acc: 78.77% / test_loss: 1.0947, test_acc: 81.00%\n",
      "Epoch 159 - loss: 1.1022, acc: 80.26% / test_loss: 1.1170, test_acc: 78.77%\n",
      "Epoch 160 - loss: 1.1191, acc: 78.57% / test_loss: 1.1416, test_acc: 76.32%\n",
      "Epoch 161 - loss: 1.1199, acc: 78.49% / test_loss: 1.0816, test_acc: 82.31%\n",
      "Epoch 162 - loss: 1.0937, acc: 81.11% / test_loss: 1.0915, test_acc: 81.32%\n",
      "Epoch 163 - loss: 1.1185, acc: 78.63% / test_loss: 1.1212, test_acc: 78.35%\n",
      "Epoch 164 - loss: 1.1663, acc: 73.85% / test_loss: 1.1400, test_acc: 76.47%\n",
      "Epoch 165 - loss: 1.1343, acc: 77.03% / test_loss: 1.1105, test_acc: 79.41%\n",
      "Epoch 166 - loss: 1.0998, acc: 80.51% / test_loss: 1.1109, test_acc: 79.38%\n",
      "Epoch 167 - loss: 1.0963, acc: 80.85% / test_loss: 1.0997, test_acc: 80.51%\n",
      "Epoch 168 - loss: 1.1092, acc: 79.55% / test_loss: 1.0927, test_acc: 81.22%\n",
      "Epoch 169 - loss: 1.0995, acc: 80.54% / test_loss: 1.1014, test_acc: 80.35%\n",
      "Epoch 170 - loss: 1.0921, acc: 81.28% / test_loss: 1.0951, test_acc: 80.96%\n",
      "Epoch 171 - loss: 1.1014, acc: 80.34% / test_loss: 1.0922, test_acc: 81.26%\n",
      "Epoch 172 - loss: 1.1061, acc: 79.86% / test_loss: 1.1120, test_acc: 79.28%\n",
      "Epoch 173 - loss: 1.1077, acc: 79.71% / test_loss: 1.1686, test_acc: 73.61%\n",
      "Epoch 174 - loss: 1.1179, acc: 78.69% / test_loss: 1.0773, test_acc: 82.76%\n",
      "Epoch 175 - loss: 1.1038, acc: 80.11% / test_loss: 1.1200, test_acc: 78.47%\n",
      "Epoch 176 - loss: 1.1157, acc: 78.91% / test_loss: 1.0902, test_acc: 81.46%\n",
      "Epoch 177 - loss: 1.1062, acc: 79.86% / test_loss: 1.0905, test_acc: 81.43%\n",
      "Epoch 178 - loss: 1.0973, acc: 80.75% / test_loss: 1.0826, test_acc: 82.21%\n",
      "Epoch 179 - loss: 1.2326, acc: 67.21% / test_loss: 1.2920, test_acc: 61.29%\n",
      "Epoch 180 - loss: 1.1884, acc: 71.63% / test_loss: 1.1038, test_acc: 80.11%\n",
      "Epoch 181 - loss: 1.1066, acc: 79.81% / test_loss: 1.0882, test_acc: 81.66%\n",
      "Epoch 182 - loss: 1.0997, acc: 80.51% / test_loss: 1.0943, test_acc: 81.06%\n",
      "Epoch 183 - loss: 1.1022, acc: 80.27% / test_loss: 1.1150, test_acc: 78.97%\n",
      "Epoch 184 - loss: 1.1479, acc: 75.70% / test_loss: 1.1509, test_acc: 75.39%\n",
      "Epoch 185 - loss: 1.1229, acc: 78.18% / test_loss: 1.1066, test_acc: 79.82%\n",
      "Epoch 186 - loss: 1.1100, acc: 79.48% / test_loss: 1.0909, test_acc: 81.38%\n",
      "Epoch 187 - loss: 1.0934, acc: 81.14% / test_loss: 1.0923, test_acc: 81.25%\n",
      "Epoch 188 - loss: 1.1369, acc: 76.80% / test_loss: 1.1413, test_acc: 76.35%\n",
      "Epoch 189 - loss: 1.1257, acc: 77.91% / test_loss: 1.1269, test_acc: 77.79%\n",
      "Epoch 190 - loss: 1.1098, acc: 79.49% / test_loss: 1.1889, test_acc: 71.59%\n",
      "Epoch 191 - loss: 1.1314, acc: 77.35% / test_loss: 1.1210, test_acc: 78.38%\n",
      "Epoch 192 - loss: 1.1491, acc: 75.57% / test_loss: 1.1293, test_acc: 77.55%\n",
      "Epoch 193 - loss: 1.0880, acc: 81.68% / test_loss: 1.0785, test_acc: 82.62%\n",
      "Epoch 194 - loss: 1.0913, acc: 81.35% / test_loss: 1.1159, test_acc: 78.89%\n",
      "Epoch 195 - loss: 1.1014, acc: 80.35% / test_loss: 1.1486, test_acc: 75.63%\n",
      "Epoch 196 - loss: 1.1043, acc: 80.05% / test_loss: 1.0765, test_acc: 82.82%\n",
      "Epoch 197 - loss: 1.0803, acc: 82.45% / test_loss: 1.0890, test_acc: 81.58%\n",
      "Epoch 198 - loss: 1.0915, acc: 81.33% / test_loss: 1.1177, test_acc: 78.72%\n",
      "Epoch 199 - loss: 1.1170, acc: 78.77% / test_loss: 1.1310, test_acc: 77.38%\n",
      "Epoch 200 - loss: 1.1248, acc: 78.00% / test_loss: 1.1184, test_acc: 78.65%\n",
      "Epoch 201 - loss: 1.1215, acc: 78.34% / test_loss: 1.1920, test_acc: 71.28%\n",
      "Epoch 202 - loss: 1.1825, acc: 72.23% / test_loss: 1.1842, test_acc: 72.06%\n",
      "Epoch 203 - loss: 1.1360, acc: 76.88% / test_loss: 1.0787, test_acc: 82.60%\n",
      "Epoch 204 - loss: 1.0963, acc: 80.85% / test_loss: 1.0865, test_acc: 81.82%\n",
      "Epoch 205 - loss: 1.1089, acc: 79.58% / test_loss: 1.0976, test_acc: 80.72%\n",
      "Epoch 206 - loss: 1.1466, acc: 75.82% / test_loss: 1.1511, test_acc: 75.39%\n",
      "Epoch 207 - loss: 1.1534, acc: 75.15% / test_loss: 1.0806, test_acc: 82.43%\n",
      "Epoch 208 - loss: 1.1048, acc: 80.00% / test_loss: 1.1004, test_acc: 80.45%\n",
      "Epoch 209 - loss: 1.0958, acc: 80.90% / test_loss: 1.0902, test_acc: 81.47%\n",
      "Epoch 210 - loss: 1.1187, acc: 78.61% / test_loss: 1.1862, test_acc: 71.86%\n",
      "Epoch 211 - loss: 1.1282, acc: 77.66% / test_loss: 1.1053, test_acc: 79.95%\n",
      "Epoch 212 - loss: 1.1098, acc: 79.49% / test_loss: 1.0771, test_acc: 82.76%\n",
      "Epoch 213 - loss: 1.0837, acc: 82.11% / test_loss: 1.0683, test_acc: 83.65%\n",
      "Epoch 214 - loss: 1.0793, acc: 82.55% / test_loss: 1.1176, test_acc: 78.72%\n",
      "Epoch 215 - loss: 1.1149, acc: 78.98% / test_loss: 1.0757, test_acc: 82.90%\n",
      "Epoch 216 - loss: 1.0974, acc: 80.74% / test_loss: 1.0831, test_acc: 82.17%\n"
     ]
    },
    {
     "name": "stdout",
     "output_type": "stream",
     "text": [
      "Epoch 217 - loss: 1.0897, acc: 81.50% / test_loss: 1.0774, test_acc: 82.73%\n",
      "Epoch 218 - loss: 1.0881, acc: 81.68% / test_loss: 1.0892, test_acc: 81.56%\n",
      "Epoch 219 - loss: 1.0821, acc: 82.27% / test_loss: 1.0713, test_acc: 83.34%\n",
      "Epoch 220 - loss: 1.1356, acc: 76.92% / test_loss: 1.1518, test_acc: 75.30%\n",
      "Epoch 221 - loss: 1.1363, acc: 76.84% / test_loss: 1.1022, test_acc: 80.26%\n",
      "Epoch 222 - loss: 1.1006, acc: 80.42% / test_loss: 1.1145, test_acc: 79.02%\n",
      "Epoch 223 - loss: 1.1031, acc: 80.16% / test_loss: 1.0985, test_acc: 80.63%\n",
      "Epoch 224 - loss: 1.1205, acc: 78.43% / test_loss: 1.1077, test_acc: 79.71%\n",
      "Epoch 225 - loss: 1.1150, acc: 78.98% / test_loss: 1.0789, test_acc: 82.60%\n",
      "Epoch 226 - loss: 1.0954, acc: 80.94% / test_loss: 1.1234, test_acc: 78.14%\n",
      "Epoch 227 - loss: 1.1428, acc: 76.19% / test_loss: 1.1030, test_acc: 80.18%\n",
      "Epoch 228 - loss: 1.1017, acc: 80.30% / test_loss: 1.0921, test_acc: 81.28%\n",
      "Epoch 229 - loss: 1.1121, acc: 79.28% / test_loss: 1.1428, test_acc: 76.20%\n",
      "Epoch 230 - loss: 1.1394, acc: 76.54% / test_loss: 1.1085, test_acc: 79.62%\n",
      "Epoch 231 - loss: 1.1080, acc: 79.68% / test_loss: 1.0984, test_acc: 80.64%\n",
      "Epoch 232 - loss: 1.1054, acc: 79.94% / test_loss: 1.0988, test_acc: 80.60%\n",
      "Epoch 233 - loss: 1.1033, acc: 80.15% / test_loss: 1.0879, test_acc: 81.70%\n",
      "Epoch 234 - loss: 1.1117, acc: 79.32% / test_loss: 1.1930, test_acc: 71.17%\n",
      "Epoch 235 - loss: 1.1455, acc: 75.92% / test_loss: 1.0937, test_acc: 81.11%\n",
      "Epoch 236 - loss: 1.1182, acc: 78.65% / test_loss: 1.1294, test_acc: 77.55%\n",
      "Epoch 237 - loss: 1.1244, acc: 78.03% / test_loss: 1.0815, test_acc: 82.33%\n",
      "Epoch 238 - loss: 1.0941, acc: 81.07% / test_loss: 1.0991, test_acc: 80.57%\n",
      "Epoch 239 - loss: 1.1067, acc: 79.81% / test_loss: 1.0979, test_acc: 80.69%\n",
      "Epoch 240 - loss: 1.0925, acc: 81.22% / test_loss: 1.0722, test_acc: 83.27%\n",
      "Epoch 241 - loss: 1.0902, acc: 81.46% / test_loss: 1.0726, test_acc: 83.22%\n",
      "Epoch 242 - loss: 1.1180, acc: 78.68% / test_loss: 1.1041, test_acc: 80.08%\n",
      "Epoch 243 - loss: 1.1274, acc: 77.73% / test_loss: 1.1248, test_acc: 78.00%\n",
      "Epoch 244 - loss: 1.1258, acc: 77.89% / test_loss: 1.1506, test_acc: 75.42%\n",
      "Epoch 245 - loss: 1.1319, acc: 77.29% / test_loss: 1.1628, test_acc: 74.20%\n",
      "Epoch 246 - loss: 1.1759, acc: 72.89% / test_loss: 1.1947, test_acc: 71.00%\n",
      "Epoch 247 - loss: 1.1566, acc: 74.82% / test_loss: 1.1156, test_acc: 78.92%\n",
      "Epoch 248 - loss: 1.1212, acc: 78.37% / test_loss: 1.1142, test_acc: 79.06%\n",
      "Epoch 249 - loss: 1.1192, acc: 78.56% / test_loss: 1.1281, test_acc: 77.67%\n",
      "Epoch 250 - loss: 1.1068, acc: 79.79% / test_loss: 1.1027, test_acc: 80.21%\n",
      "Epoch 251 - loss: 1.1183, acc: 78.65% / test_loss: 1.1194, test_acc: 78.55%\n",
      "Epoch 252 - loss: 1.1072, acc: 79.77% / test_loss: 1.0911, test_acc: 81.37%\n",
      "Epoch 253 - loss: 1.1122, acc: 79.25% / test_loss: 1.1165, test_acc: 78.83%\n",
      "Epoch 254 - loss: 1.1223, acc: 78.25% / test_loss: 1.0955, test_acc: 80.94%\n",
      "Epoch 255 - loss: 1.0966, acc: 80.82% / test_loss: 1.0787, test_acc: 82.60%\n",
      "Epoch 256 - loss: 1.0937, acc: 81.11% / test_loss: 1.1058, test_acc: 79.90%\n",
      "Epoch 257 - loss: 1.1229, acc: 78.19% / test_loss: 1.1346, test_acc: 77.02%\n",
      "Epoch 258 - loss: 1.1722, acc: 73.26% / test_loss: 1.1878, test_acc: 71.71%\n",
      "Epoch 259 - loss: 1.1388, acc: 76.59% / test_loss: 1.0955, test_acc: 80.93%\n",
      "Epoch 260 - loss: 1.1022, acc: 80.26% / test_loss: 1.0946, test_acc: 81.02%\n",
      "Epoch 261 - loss: 1.1234, acc: 78.14% / test_loss: 1.1138, test_acc: 79.09%\n",
      "Epoch 262 - loss: 1.0869, acc: 81.79% / test_loss: 1.0984, test_acc: 80.64%\n",
      "Epoch 263 - loss: 1.0909, acc: 81.39% / test_loss: 1.0815, test_acc: 82.33%\n",
      "Epoch 264 - loss: 1.1001, acc: 80.48% / test_loss: 1.1062, test_acc: 79.87%\n",
      "Epoch 265 - loss: 1.1013, acc: 80.35% / test_loss: 1.0911, test_acc: 81.37%\n",
      "Epoch 266 - loss: 1.1283, acc: 77.66% / test_loss: 1.1672, test_acc: 73.76%\n",
      "Epoch 267 - loss: 1.1124, acc: 79.24% / test_loss: 1.0812, test_acc: 82.36%\n",
      "Epoch 268 - loss: 1.1075, acc: 79.73% / test_loss: 1.1446, test_acc: 76.01%\n",
      "Epoch 269 - loss: 1.1131, acc: 79.17% / test_loss: 1.0837, test_acc: 82.11%\n",
      "Epoch 270 - loss: 1.0919, acc: 81.29% / test_loss: 1.0887, test_acc: 81.60%\n",
      "Epoch 271 - loss: 1.0914, acc: 81.33% / test_loss: 1.0976, test_acc: 80.72%\n",
      "Epoch 272 - loss: 1.1103, acc: 79.44% / test_loss: 1.1586, test_acc: 74.62%\n",
      "Epoch 273 - loss: 1.1177, acc: 78.70% / test_loss: 1.0852, test_acc: 81.96%\n",
      "Epoch 274 - loss: 1.0931, acc: 81.17% / test_loss: 1.1047, test_acc: 80.02%\n",
      "Epoch 275 - loss: 1.0882, acc: 81.66% / test_loss: 1.0731, test_acc: 83.17%\n",
      "Epoch 276 - loss: 1.0985, acc: 80.63% / test_loss: 1.1059, test_acc: 79.89%\n",
      "Epoch 277 - loss: 1.0955, acc: 80.92% / test_loss: 1.1066, test_acc: 79.82%\n",
      "Epoch 278 - loss: 1.1156, acc: 78.92% / test_loss: 1.0780, test_acc: 82.67%\n",
      "Epoch 279 - loss: 1.0955, acc: 80.93% / test_loss: 1.0891, test_acc: 81.57%\n",
      "Epoch 280 - loss: 1.1122, acc: 79.26% / test_loss: 1.0960, test_acc: 80.88%\n",
      "Epoch 281 - loss: 1.1003, acc: 80.46% / test_loss: 1.0996, test_acc: 80.53%\n",
      "Epoch 282 - loss: 1.1038, acc: 80.10% / test_loss: 1.1224, test_acc: 78.25%\n",
      "Epoch 283 - loss: 1.1288, acc: 77.60% / test_loss: 1.1107, test_acc: 79.41%\n",
      "Epoch 284 - loss: 1.1160, acc: 78.88% / test_loss: 1.1257, test_acc: 77.92%\n",
      "Epoch 285 - loss: 1.1168, acc: 78.81% / test_loss: 1.1143, test_acc: 79.04%\n",
      "Epoch 286 - loss: 1.1244, acc: 78.04% / test_loss: 1.0987, test_acc: 80.60%\n",
      "Epoch 287 - loss: 1.0864, acc: 81.84% / test_loss: 1.0728, test_acc: 83.20%\n",
      "Epoch 288 - loss: 1.0979, acc: 80.69% / test_loss: 1.0864, test_acc: 81.84%\n",
      "Epoch 289 - loss: 1.0931, acc: 81.17% / test_loss: 1.0987, test_acc: 80.61%\n",
      "Epoch 290 - loss: 1.1100, acc: 79.47% / test_loss: 1.0974, test_acc: 80.74%\n",
      "Epoch 291 - loss: 1.1183, acc: 78.66% / test_loss: 1.1513, test_acc: 75.36%\n",
      "Epoch 292 - loss: 1.1877, acc: 71.70% / test_loss: 1.1461, test_acc: 75.86%\n",
      "Epoch 293 - loss: 1.1163, acc: 78.85% / test_loss: 1.1302, test_acc: 77.46%\n",
      "Epoch 294 - loss: 1.1105, acc: 79.43% / test_loss: 1.0747, test_acc: 83.01%\n",
      "Epoch 295 - loss: 1.0943, acc: 81.05% / test_loss: 1.0777, test_acc: 82.71%\n",
      "Epoch 296 - loss: 1.0831, acc: 82.17% / test_loss: 1.0729, test_acc: 83.19%\n",
      "Epoch 297 - loss: 1.0814, acc: 82.34% / test_loss: 1.0739, test_acc: 83.10%\n",
      "Epoch 298 - loss: 1.0899, acc: 81.49% / test_loss: 1.0959, test_acc: 80.89%\n",
      "Epoch 299 - loss: 1.1142, acc: 79.06% / test_loss: 1.1018, test_acc: 80.30%\n",
      "Epoch 300 - loss: 1.1228, acc: 78.20% / test_loss: 1.1313, test_acc: 77.34%\n",
      "Epoch 301 - loss: 1.1429, acc: 76.19% / test_loss: 1.1395, test_acc: 76.53%\n",
      "Epoch 302 - loss: 1.1148, acc: 79.00% / test_loss: 1.0973, test_acc: 80.76%\n",
      "Epoch 303 - loss: 1.1253, acc: 77.95% / test_loss: 1.1218, test_acc: 78.30%\n",
      "Epoch 304 - loss: 1.1469, acc: 75.79% / test_loss: 1.1446, test_acc: 76.01%\n",
      "Epoch 305 - loss: 1.1266, acc: 77.82% / test_loss: 1.1115, test_acc: 79.33%\n",
      "Epoch 306 - loss: 1.1203, acc: 78.45% / test_loss: 1.1072, test_acc: 79.77%\n",
      "Epoch 307 - loss: 1.1473, acc: 75.75% / test_loss: 1.1493, test_acc: 75.55%\n",
      "Epoch 308 - loss: 1.1645, acc: 74.04% / test_loss: 1.1100, test_acc: 79.48%\n",
      "Epoch 309 - loss: 1.1424, acc: 76.24% / test_loss: 1.2148, test_acc: 69.01%\n",
      "Epoch 310 - loss: 1.2042, acc: 70.06% / test_loss: 1.1486, test_acc: 75.62%\n",
      "Epoch 311 - loss: 1.1146, acc: 79.02% / test_loss: 1.0915, test_acc: 81.34%\n",
      "Epoch 312 - loss: 1.1259, acc: 77.89% / test_loss: 1.2059, test_acc: 69.90%\n",
      "Epoch 313 - loss: 1.1781, acc: 72.67% / test_loss: 1.1001, test_acc: 80.47%\n",
      "Epoch 314 - loss: 1.1081, acc: 79.67% / test_loss: 1.1060, test_acc: 79.89%\n",
      "Epoch 315 - loss: 1.1244, acc: 78.04% / test_loss: 1.1182, test_acc: 78.66%\n",
      "Epoch 316 - loss: 1.1245, acc: 78.03% / test_loss: 1.1181, test_acc: 78.68%\n",
      "Epoch 317 - loss: 1.1602, acc: 74.45% / test_loss: 1.1237, test_acc: 78.10%\n",
      "Epoch 318 - loss: 1.1191, acc: 78.56% / test_loss: 1.0951, test_acc: 80.97%\n",
      "Epoch 319 - loss: 1.0934, acc: 81.14% / test_loss: 1.0865, test_acc: 81.84%\n",
      "Epoch 320 - loss: 1.0924, acc: 81.24% / test_loss: 1.0798, test_acc: 82.51%\n",
      "Epoch 321 - loss: 1.1160, acc: 78.88% / test_loss: 1.0870, test_acc: 81.78%\n",
      "Epoch 322 - loss: 1.1121, acc: 79.28% / test_loss: 1.1083, test_acc: 79.65%\n",
      "Epoch 323 - loss: 1.1212, acc: 78.36% / test_loss: 1.1391, test_acc: 76.58%\n"
     ]
    },
    {
     "name": "stdout",
     "output_type": "stream",
     "text": [
      "Epoch 324 - loss: 1.1262, acc: 77.86% / test_loss: 1.1172, test_acc: 78.76%\n",
      "Epoch 325 - loss: 1.1685, acc: 73.63% / test_loss: 1.1547, test_acc: 75.02%\n",
      "Epoch 326 - loss: 1.1814, acc: 72.33% / test_loss: 1.1339, test_acc: 77.09%\n",
      "Epoch 327 - loss: 1.1222, acc: 78.27% / test_loss: 1.1010, test_acc: 80.39%\n",
      "Epoch 328 - loss: 1.1005, acc: 80.43% / test_loss: 1.0859, test_acc: 81.90%\n",
      "Epoch 329 - loss: 1.0891, acc: 81.57% / test_loss: 1.0786, test_acc: 82.61%\n",
      "Epoch 330 - loss: 1.0800, acc: 82.48% / test_loss: 1.0740, test_acc: 83.08%\n",
      "Epoch 331 - loss: 1.0790, acc: 82.58% / test_loss: 1.0733, test_acc: 83.16%\n",
      "Epoch 332 - loss: 1.0861, acc: 81.88% / test_loss: 1.0741, test_acc: 83.07%\n",
      "Epoch 333 - loss: 1.1308, acc: 77.40% / test_loss: 1.1338, test_acc: 77.10%\n",
      "Epoch 334 - loss: 1.1532, acc: 75.16% / test_loss: 1.1588, test_acc: 74.61%\n",
      "Epoch 335 - loss: 1.2000, acc: 70.48% / test_loss: 1.3066, test_acc: 59.83%\n",
      "Epoch 336 - loss: 1.2253, acc: 67.95% / test_loss: 1.2714, test_acc: 63.34%\n",
      "Epoch 337 - loss: 1.1898, acc: 71.48% / test_loss: 1.1082, test_acc: 79.66%\n",
      "Epoch 338 - loss: 1.1077, acc: 79.71% / test_loss: 1.0984, test_acc: 80.65%\n",
      "Epoch 339 - loss: 1.1112, acc: 79.37% / test_loss: 1.1140, test_acc: 79.09%\n",
      "Epoch 340 - loss: 1.1071, acc: 79.77% / test_loss: 1.0906, test_acc: 81.43%\n",
      "Epoch 341 - loss: 1.1410, acc: 76.37% / test_loss: 1.1102, test_acc: 79.46%\n",
      "Epoch 342 - loss: 1.1056, acc: 79.92% / test_loss: 1.0921, test_acc: 81.26%\n",
      "Epoch 343 - loss: 1.2070, acc: 69.78% / test_loss: 1.1618, test_acc: 74.28%\n",
      "Epoch 344 - loss: 1.1159, acc: 78.88% / test_loss: 1.0934, test_acc: 81.16%\n",
      "Epoch 345 - loss: 1.1349, acc: 76.99% / test_loss: 1.1664, test_acc: 73.85%\n",
      "Epoch 346 - loss: 1.1629, acc: 74.19% / test_loss: 1.1331, test_acc: 77.17%\n",
      "Epoch 347 - loss: 1.1220, acc: 78.28% / test_loss: 1.1005, test_acc: 80.44%\n",
      "Epoch 348 - loss: 1.1027, acc: 80.21% / test_loss: 1.0894, test_acc: 81.55%\n",
      "Epoch 349 - loss: 1.1042, acc: 80.07% / test_loss: 1.1006, test_acc: 80.42%\n",
      "Epoch 350 - loss: 1.1179, acc: 78.69% / test_loss: 1.0956, test_acc: 80.93%\n",
      "Epoch 351 - loss: 1.0897, acc: 81.51% / test_loss: 1.0709, test_acc: 83.40%\n",
      "Epoch 352 - loss: 1.0851, acc: 81.97% / test_loss: 1.0766, test_acc: 82.82%\n",
      "Epoch 353 - loss: 1.0964, acc: 80.84% / test_loss: 1.0804, test_acc: 82.45%\n",
      "Epoch 354 - loss: 1.0961, acc: 80.87% / test_loss: 1.0783, test_acc: 82.66%\n",
      "Epoch 355 - loss: 1.0903, acc: 81.45% / test_loss: 1.0940, test_acc: 81.09%\n",
      "Epoch 356 - loss: 1.0954, acc: 80.94% / test_loss: 1.0837, test_acc: 82.11%\n",
      "Epoch 357 - loss: 1.0914, acc: 81.34% / test_loss: 1.0756, test_acc: 82.92%\n",
      "Epoch 358 - loss: 1.1267, acc: 77.80% / test_loss: 1.1196, test_acc: 78.52%\n",
      "Epoch 359 - loss: 1.1082, acc: 79.65% / test_loss: 1.0913, test_acc: 81.36%\n",
      "Epoch 360 - loss: 1.1021, acc: 80.27% / test_loss: 1.1756, test_acc: 72.92%\n",
      "Epoch 361 - loss: 1.1579, acc: 74.68% / test_loss: 1.1226, test_acc: 78.22%\n",
      "Epoch 362 - loss: 1.1079, acc: 79.68% / test_loss: 1.1237, test_acc: 78.10%\n",
      "Epoch 363 - loss: 1.0996, acc: 80.53% / test_loss: 1.0831, test_acc: 82.17%\n",
      "Epoch 364 - loss: 1.1320, acc: 77.27% / test_loss: 1.0983, test_acc: 80.66%\n",
      "Epoch 365 - loss: 1.0979, acc: 80.69% / test_loss: 1.0823, test_acc: 82.25%\n",
      "Epoch 366 - loss: 1.0919, acc: 81.29% / test_loss: 1.0934, test_acc: 81.14%\n",
      "Epoch 367 - loss: 1.1192, acc: 78.57% / test_loss: 1.1296, test_acc: 77.52%\n",
      "Epoch 368 - loss: 1.1246, acc: 78.01% / test_loss: 1.0868, test_acc: 81.80%\n",
      "Epoch 369 - loss: 1.1373, acc: 76.75% / test_loss: 1.1555, test_acc: 74.93%\n",
      "Epoch 370 - loss: 1.1220, acc: 78.27% / test_loss: 1.0746, test_acc: 83.02%\n",
      "Epoch 371 - loss: 1.0951, acc: 80.97% / test_loss: 1.0907, test_acc: 81.40%\n",
      "Epoch 372 - loss: 1.1077, acc: 79.71% / test_loss: 1.1172, test_acc: 78.76%\n",
      "Epoch 373 - loss: 1.1181, acc: 78.67% / test_loss: 1.1151, test_acc: 78.97%\n",
      "Epoch 374 - loss: 1.0934, acc: 81.14% / test_loss: 1.0826, test_acc: 82.22%\n",
      "Epoch 375 - loss: 1.0961, acc: 80.87% / test_loss: 1.1056, test_acc: 79.92%\n",
      "Epoch 376 - loss: 1.1599, acc: 74.49% / test_loss: 1.1479, test_acc: 75.70%\n",
      "Epoch 377 - loss: 1.1510, acc: 75.37% / test_loss: 1.1331, test_acc: 77.17%\n",
      "Epoch 378 - loss: 1.1332, acc: 77.16% / test_loss: 1.0854, test_acc: 81.94%\n",
      "Epoch 379 - loss: 1.1145, acc: 79.03% / test_loss: 1.0960, test_acc: 80.88%\n",
      "Epoch 380 - loss: 1.1025, acc: 80.23% / test_loss: 1.0834, test_acc: 82.14%\n",
      "Epoch 381 - loss: 1.0908, acc: 81.40% / test_loss: 1.0975, test_acc: 80.74%\n",
      "Epoch 382 - loss: 1.1181, acc: 78.67% / test_loss: 1.1017, test_acc: 80.32%\n",
      "Epoch 383 - loss: 1.1242, acc: 78.06% / test_loss: 1.1200, test_acc: 78.48%\n",
      "Epoch 384 - loss: 1.1095, acc: 79.53% / test_loss: 1.0963, test_acc: 80.85%\n",
      "Epoch 385 - loss: 1.1235, acc: 78.14% / test_loss: 1.1120, test_acc: 79.28%\n",
      "Epoch 386 - loss: 1.1481, acc: 75.67% / test_loss: 1.2224, test_acc: 68.24%\n",
      "Epoch 387 - loss: 1.1840, acc: 72.08% / test_loss: 1.1769, test_acc: 72.80%\n",
      "Epoch 388 - loss: 1.1883, acc: 71.66% / test_loss: 1.1998, test_acc: 70.50%\n",
      "Epoch 389 - loss: 1.1979, acc: 70.69% / test_loss: 1.1919, test_acc: 71.29%\n",
      "Epoch 390 - loss: 1.1740, acc: 73.08% / test_loss: 1.1648, test_acc: 74.00%\n",
      "Epoch 391 - loss: 1.1865, acc: 71.83% / test_loss: 1.1962, test_acc: 70.86%\n",
      "Epoch 392 - loss: 1.1601, acc: 74.47% / test_loss: 1.1249, test_acc: 77.99%\n",
      "Epoch 393 - loss: 1.1202, acc: 78.46% / test_loss: 1.0917, test_acc: 81.31%\n",
      "Epoch 394 - loss: 1.0998, acc: 80.50% / test_loss: 1.0914, test_acc: 81.34%\n",
      "Epoch 395 - loss: 1.0878, acc: 81.70% / test_loss: 1.0684, test_acc: 83.64%\n",
      "Epoch 396 - loss: 1.0817, acc: 82.30% / test_loss: 1.0786, test_acc: 82.62%\n",
      "Epoch 397 - loss: 1.1175, acc: 78.72% / test_loss: 1.1169, test_acc: 78.78%\n",
      "Epoch 398 - loss: 1.1129, acc: 79.20% / test_loss: 1.0882, test_acc: 81.67%\n",
      "Epoch 399 - loss: 1.1067, acc: 79.81% / test_loss: 1.0987, test_acc: 80.60%\n",
      "Epoch 400 - loss: 1.1469, acc: 75.79% / test_loss: 1.0849, test_acc: 81.99%\n",
      "Best test accuracy 83.65% in epoch 213.\n",
      "----------------------------------------------------------------------------------------------------\n"
     ]
    }
   ],
   "source": [
    "best_test_accs = list()\n",
    "\n",
    "for i in range(run):\n",
    "    print('Run', i+1)\n",
    "    \n",
    "    seed = 0\n",
    "    np.random.seed(seed)\n",
    "    torch.manual_seed(seed)\n",
    "    torch.cuda.manual_seed(seed)\n",
    "    torch.cuda.manual_seed_all(seed) # if you are using multi-GPU.\n",
    "    torch.backends.cudnn.benchmark = False\n",
    "    torch.backends.cudnn.deterministic = True\n",
    "    \n",
    "    ecgnet = ECGConv1D()  # init new model\n",
    "    train_losses, train_accs, test_losses, test_accs = train(i, ecgnet.to(device))  # train\n",
    "\n",
    "    best_test_accs.append(max(test_accs))  # get best test accuracy\n",
    "    best_test_acc_epoch = np.array(test_accs).argmax() + 1\n",
    "    print('Best test accuracy {:.2f}% in epoch {}.'.format(best_test_accs[-1]*100, best_test_acc_epoch))\n",
    "    print('-' * 100)\n",
    "\n",
    "    df = pd.DataFrame({  # save model training process into csv file\n",
    "        'loss': train_losses,\n",
    "        'test_loss': test_losses,\n",
    "        'acc': train_accs,\n",
    "        'test_acc': test_accs\n",
    "    })\n",
    "    df.to_csv(os.path.join(root_path, csv_dir, '_'.join([csv_name, str(i+1)]) + csv_ext))\n",
    "\n",
    "df = pd.DataFrame({'best_test_acc': best_test_accs})  # save best test accuracy of each run\n",
    "df.to_csv(os.path.join(root_path, csv_dir, csv_accs_name + csv_ext))"
   ]
  },
  {
   "cell_type": "markdown",
   "metadata": {
    "colab_type": "text",
    "id": "cpDwI7BFRjK6"
   },
   "source": [
    "## Print the best test accuracy of each run"
   ]
  },
  {
   "cell_type": "code",
   "execution_count": 14,
   "metadata": {
    "colab": {
     "base_uri": "https://localhost:8080/",
     "height": 201
    },
    "colab_type": "code",
    "executionInfo": {
     "elapsed": 141,
     "status": "ok",
     "timestamp": 1573150872213,
     "user": {
      "displayName": "Kyuyeon Kim",
      "photoUrl": "https://lh3.googleusercontent.com/a-/AAuE7mBDhZm6xUbCYNLGqOYDpm2QRhOirby0BI-zUCTw2g=s64",
      "userId": "05245697685138289125"
     },
     "user_tz": -540
    },
    "id": "Ne8dr7DaRUME",
    "outputId": "9a98648b-ee04-490e-de87-4c3e1095b2e7"
   },
   "outputs": [
    {
     "name": "stdout",
     "output_type": "stream",
     "text": [
      "Run 1: 83.65%\n"
     ]
    }
   ],
   "source": [
    "for i, a in enumerate(best_test_accs):\n",
    "    print('Run {}: {:.2f}%'.format(i+1, a*100))"
   ]
  },
  {
   "cell_type": "code",
   "execution_count": 15,
   "metadata": {},
   "outputs": [
    {
     "data": {
      "image/png": "[encoded data removed]",
      "text/plain": [
       "<Figure size 1152x288 with 2 Axes>"
      ]
     },
     "metadata": {
      "needs_background": "light"
     },
     "output_type": "display_data"
    }
   ],
   "source": [
    "fig, ax = plt.subplots(1, 2, figsize=(16, 4))\n",
    "\n",
    "ax[0].plot(train_losses)\n",
    "ax[0].plot(test_losses)\n",
    "ax[0].set_xticks([0, 50, 100, 150, 200, 250, 300, 350, 400])\n",
    "ax[0].set_xlabel('Epochs')\n",
    "ax[0].set_ylabel('Loss')\n",
    "ax[0].grid()\n",
    "ax[0].legend(['train', 'test'], loc='upper right')\n",
    "\n",
    "ax[1].plot(np.asarray(train_accs) * 100)\n",
    "ax[1].plot(np.asarray(test_accs) * 100)\n",
    "ax[1].set_xticks([0, 50, 100, 150, 200, 250, 300, 350, 400])\n",
    "ax[1].set_xlabel('Epochs')\n",
    "ax[1].set_ylabel('Accuracy (%)')\n",
    "ax[1].set_ylim(top=100)\n",
    "ax[1].grid()\n",
    "ax[1].legend(['train', 'test'], loc='upper left')\n",
    "\n",
    "fig.savefig('conv2_split.pdf', bbox_inches='tight')"
   ]
  },
  {
   "cell_type": "code",
   "execution_count": null,
   "metadata": {},
   "outputs": [],
   "source": []
  }
 ],
 "metadata": {
  "accelerator": "GPU",
  "colab": {
   "collapsed_sections": [],
   "name": "ecg_train_2conv_final.ipynb",
   "provenance": []
  },
  "kernelspec": {
   "display_name": "Python 3",
   "language": "python",
   "name": "python3"
  },
  "language_info": {
   "codemirror_mode": {
    "name": "ipython",
    "version": 3
   },
   "file_extension": ".py",
   "mimetype": "text/x-python",
   "name": "python",
   "nbconvert_exporter": "python",
   "pygments_lexer": "ipython3",
   "version": "3.7.4"
  }
 },
 "nbformat": 4,
 "nbformat_minor": 1
}
