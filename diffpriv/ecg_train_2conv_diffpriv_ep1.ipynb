{
 "cells": [
  {
   "cell_type": "markdown",
   "metadata": {
    "colab_type": "text",
    "id": "YDQY02P14s5b"
   },
   "source": [
    "# 1D-CNN Model for ECG Classification\n",
    "- The model used has 2 Conv. layers and 2 FC layers.\n",
    "- This code repeat running the training process and produce all kinds of data which can be given, such as data needed for drawing loss and accuracy graph through epochs, and maximum test accuracy for each run."
   ]
  },
  {
   "cell_type": "markdown",
   "metadata": {
    "colab_type": "text",
    "id": "0jVwGea7meY-"
   },
   "source": [
    "## Get permission of Google Drive access"
   ]
  },
  {
   "cell_type": "code",
   "execution_count": 1,
   "metadata": {
    "colab": {
     "base_uri": "https://localhost:8080/",
     "height": 55
    },
    "colab_type": "code",
    "executionInfo": {
     "elapsed": 1384,
     "status": "ok",
     "timestamp": 1573140331176,
     "user": {
      "displayName": "Kyuyeon Kim",
      "photoUrl": "https://lh3.googleusercontent.com/a-/AAuE7mBDhZm6xUbCYNLGqOYDpm2QRhOirby0BI-zUCTw2g=s64",
      "userId": "05245697685138289125"
     },
     "user_tz": -540
    },
    "id": "gw8VHp_Lqnu0",
    "outputId": "25ea812d-4242-463a-dc32-a938504f0792"
   },
   "outputs": [],
   "source": [
    "root_path = '.'"
   ]
  },
  {
   "cell_type": "markdown",
   "metadata": {
    "colab_type": "text",
    "id": "y-OoNrzR2jnb"
   },
   "source": [
    "## File name settings"
   ]
  },
  {
   "cell_type": "code",
   "execution_count": 2,
   "metadata": {
    "colab": {},
    "colab_type": "code",
    "id": "BNGT9J0J2jEB"
   },
   "outputs": [],
   "source": [
    "data_dir = 'mitdb'\n",
    "train_name = 'train_ecg.hdf5'\n",
    "test_name = 'test_ecg.hdf5'\n",
    "all_name = 'all_ecg.hdf5'\n",
    "\n",
    "model_dir = 'model'\n",
    "model_name = 'conv2'\n",
    "model_ext = '.pth'\n",
    "\n",
    "csv_dir = 'csv'\n",
    "csv_ext = '.csv'\n",
    "\n",
    "csv_name = 'conv2'\n",
    "csv_accs_name = 'accs_conv2'"
   ]
  },
  {
   "cell_type": "markdown",
   "metadata": {
    "colab_type": "text",
    "id": "XQhRMQcxmiiU"
   },
   "source": [
    "## Import required packages"
   ]
  },
  {
   "cell_type": "code",
   "execution_count": 3,
   "metadata": {
    "colab": {},
    "colab_type": "code",
    "id": "ekg3kh1Tq1B_"
   },
   "outputs": [],
   "source": [
    "import os\n",
    "\n",
    "import torch\n",
    "import torch.nn as nn\n",
    "from torch.utils.data import Dataset, DataLoader\n",
    "from torch.optim import Adam\n",
    "\n",
    "import numpy as np\n",
    "import pandas as pd\n",
    "import h5py\n",
    "from tqdm import tqdm\n",
    "import matplotlib.pyplot as plt\n",
    "\n",
    "from diffprivlib.mechanisms import Laplace"
   ]
  },
  {
   "cell_type": "markdown",
   "metadata": {
    "colab_type": "text",
    "id": "FzsvXmVd0ayn"
   },
   "source": [
    "## GPU settings"
   ]
  },
  {
   "cell_type": "code",
   "execution_count": 4,
   "metadata": {
    "colab": {
     "base_uri": "https://localhost:8080/",
     "height": 35
    },
    "colab_type": "code",
    "executionInfo": {
     "elapsed": 1561,
     "status": "ok",
     "timestamp": 1573140331478,
     "user": {
      "displayName": "Kyuyeon Kim",
      "photoUrl": "https://lh3.googleusercontent.com/a-/AAuE7mBDhZm6xUbCYNLGqOYDpm2QRhOirby0BI-zUCTw2g=s64",
      "userId": "05245697685138289125"
     },
     "user_tz": -540
    },
    "id": "1UJyXe89cJcw",
    "outputId": "14b01434-7392-4af6-98a1-f48524453a56"
   },
   "outputs": [],
   "source": [
    "device = torch.device('cuda:0' if torch.cuda.is_available() else 'cpu')\n",
    "if torch.cuda.is_available():\n",
    "    print(torch.cuda.get_device_name(0))"
   ]
  },
  {
   "cell_type": "markdown",
   "metadata": {
    "colab_type": "text",
    "id": "K-DnZ3zF6dhx"
   },
   "source": [
    "## Define `ECG` `Dataset` class\n"
   ]
  },
  {
   "cell_type": "code",
   "execution_count": 5,
   "metadata": {
    "colab": {},
    "colab_type": "code",
    "id": "ffSLi6qCbHy2"
   },
   "outputs": [],
   "source": [
    "class ECG(Dataset):\n",
    "    def __init__(self, mode='train'):\n",
    "        if mode == 'train':\n",
    "            with h5py.File(os.path.join(root_path, data_dir, train_name), 'r') as hdf:\n",
    "                self.x = hdf['x_train'][:]\n",
    "                self.y = hdf['y_train'][:]\n",
    "        elif mode == 'test':\n",
    "            with h5py.File(os.path.join(root_path, data_dir, test_name), 'r') as hdf:\n",
    "                self.x = hdf['x_test'][:]\n",
    "                self.y = hdf['y_test'][:]\n",
    "        elif mode == 'all':\n",
    "            with h5py.File(os.path.join(root_path, data_dir, all_name), 'r') as hdf:\n",
    "                self.x = hdf['x'][:]\n",
    "                self.y = hdf['y'][:]\n",
    "        else:\n",
    "            raise ValueError('Argument of mode should be train, test, or all.')\n",
    "    \n",
    "    def __len__(self):\n",
    "        return len(self.x)\n",
    "    \n",
    "    def __getitem__(self, idx):\n",
    "        return torch.tensor(self.x[idx], dtype=torch.float), torch.tensor(self.y[idx])"
   ]
  },
  {
   "cell_type": "markdown",
   "metadata": {
    "colab_type": "text",
    "id": "U97Sm8qs6-IC"
   },
   "source": [
    "## Make Batch Generator"
   ]
  },
  {
   "cell_type": "markdown",
   "metadata": {
    "colab_type": "text",
    "id": "popnnQ0ckaF3"
   },
   "source": [
    "### Batch size\n",
    "You can change it if you want."
   ]
  },
  {
   "cell_type": "code",
   "execution_count": 6,
   "metadata": {
    "colab": {},
    "colab_type": "code",
    "id": "ElNcZhTt786w"
   },
   "outputs": [],
   "source": [
    "batch_size = 32"
   ]
  },
  {
   "cell_type": "markdown",
   "metadata": {
    "colab_type": "text",
    "id": "AHy2nkSm778h"
   },
   "source": [
    "### `DataLoader` for batch generating\n",
    "`torch.utils.data.DataLoader(dataset, batch_size=1, shuffle=False)`"
   ]
  },
  {
   "cell_type": "code",
   "execution_count": 7,
   "metadata": {
    "colab": {},
    "colab_type": "code",
    "id": "DyIHkQr4sMiE"
   },
   "outputs": [],
   "source": [
    "train_dataset = ECG(mode='train')\n",
    "test_dataset = ECG(mode='test')\n",
    "train_loader = DataLoader(train_dataset, batch_size=batch_size)\n",
    "test_loader = DataLoader(test_dataset, batch_size=batch_size)"
   ]
  },
  {
   "cell_type": "markdown",
   "metadata": {
    "colab_type": "text",
    "id": "6opdvihFk8Di"
   },
   "source": [
    "### Size check for single batch"
   ]
  },
  {
   "cell_type": "code",
   "execution_count": 8,
   "metadata": {
    "colab": {
     "base_uri": "https://localhost:8080/",
     "height": 54
    },
    "colab_type": "code",
    "executionInfo": {
     "elapsed": 1342,
     "status": "ok",
     "timestamp": 1573140331487,
     "user": {
      "displayName": "Kyuyeon Kim",
      "photoUrl": "https://lh3.googleusercontent.com/a-/AAuE7mBDhZm6xUbCYNLGqOYDpm2QRhOirby0BI-zUCTw2g=s64",
      "userId": "05245697685138289125"
     },
     "user_tz": -540
    },
    "id": "902j2PYgszyr",
    "outputId": "717f8d82-10de-4012-e9c1-4717b8835d17"
   },
   "outputs": [
    {
     "name": "stdout",
     "output_type": "stream",
     "text": [
      "torch.Size([32, 1, 128])\n",
      "torch.Size([32])\n"
     ]
    }
   ],
   "source": [
    "x_train, y_train = next(iter(train_loader))\n",
    "print(x_train.size())\n",
    "print(y_train.size())"
   ]
  },
  {
   "cell_type": "markdown",
   "metadata": {
    "colab_type": "text",
    "id": "d4Nv5OLbm0rJ"
   },
   "source": [
    "### Number of total batches"
   ]
  },
  {
   "cell_type": "code",
   "execution_count": 9,
   "metadata": {
    "colab": {
     "base_uri": "https://localhost:8080/",
     "height": 35
    },
    "colab_type": "code",
    "executionInfo": {
     "elapsed": 1320,
     "status": "ok",
     "timestamp": 1573140331489,
     "user": {
      "displayName": "Kyuyeon Kim",
      "photoUrl": "https://lh3.googleusercontent.com/a-/AAuE7mBDhZm6xUbCYNLGqOYDpm2QRhOirby0BI-zUCTw2g=s64",
      "userId": "05245697685138289125"
     },
     "user_tz": -540
    },
    "id": "xY_0e4jexTIy",
    "outputId": "37db683a-0839-4463-8f2a-88340df0be85"
   },
   "outputs": [
    {
     "name": "stdout",
     "output_type": "stream",
     "text": [
      "414\n"
     ]
    }
   ],
   "source": [
    "total_batch = len(train_loader)\n",
    "print(total_batch)"
   ]
  },
  {
   "cell_type": "markdown",
   "metadata": {
    "colab_type": "text",
    "id": "hteQdSdMg8aB"
   },
   "source": [
    "## Pytorch layer modules for **Conv1D** Network\n",
    "\n",
    "\n",
    "\n",
    "### `Conv1d` layer\n",
    "- `torch.nn.Conv1d(in_channels, out_channels, kernel_size)`\n",
    "\n",
    "### `MaxPool1d` layer\n",
    "- `torch.nn.MaxPool1d(kernel_size, stride=None)`\n",
    "- Parameter `stride` follows `kernel_size`.\n",
    "\n",
    "### `ReLU` layer\n",
    "- `torch.nn.ReLU()`\n",
    "\n",
    "### `Linear` layer\n",
    "- `torch.nn.Linear(in_features, out_features, bias=True)`\n",
    "\n",
    "### `Softmax` layer\n",
    "- `torch.nn.Softmax(dim=None)`\n",
    "- Parameter `dim` is usually set to `1`."
   ]
  },
  {
   "cell_type": "markdown",
   "metadata": {
    "colab_type": "text",
    "id": "X-QMUMFx2n5J"
   },
   "source": [
    "## Training process settings"
   ]
  },
  {
   "cell_type": "code",
   "execution_count": 10,
   "metadata": {
    "colab": {},
    "colab_type": "code",
    "id": "3AKAftHyzPfz"
   },
   "outputs": [],
   "source": [
    "run = 1\n",
    "epoch = 400\n",
    "lr = 0.001\n",
    "epsilon = 1\n",
    "min_diff = 1e-5"
   ]
  },
  {
   "cell_type": "markdown",
   "metadata": {
    "colab_type": "text",
    "id": "d0DQJhg2w_Tj"
   },
   "source": [
    "## Construct 1D CNN ECG classification model"
   ]
  },
  {
   "cell_type": "code",
   "execution_count": 11,
   "metadata": {
    "colab": {},
    "colab_type": "code",
    "id": "G2LRE1T2ZZLB"
   },
   "outputs": [],
   "source": [
    "class ECGConv1D(nn.Module):\n",
    "    def __init__(self):\n",
    "        super(ECGConv1D, self).__init__()\n",
    "        self.conv1 = nn.Conv1d(1, 16, 7, padding=3)  # 128 x 16\n",
    "        self.relu1 = nn.LeakyReLU()\n",
    "        self.pool1 = nn.MaxPool1d(2)  # 64 x 16\n",
    "        self.conv2 = nn.Conv1d(16, 16, 5, padding=2)  # 64 x 16\n",
    "        self.relu2 = nn.LeakyReLU()\n",
    "        self.pool2 = nn.MaxPool1d(2)  # 32 x 16\n",
    "        self.linear3 = nn.Linear(32 * 16, 128)\n",
    "        self.relu3 = nn.LeakyReLU()\n",
    "        self.linear4 = nn.Linear(128, 5)\n",
    "        self.softmax4 = nn.Softmax(dim=1)\n",
    "    \n",
    "    def forward(self, x):\n",
    "        x = self.conv1(x)\n",
    "        x = self.relu1(x)\n",
    "        x = self.pool1(x)\n",
    "        x = self.conv2(x)\n",
    "        x = self.relu2(x)\n",
    "        x = self.pool2(x)\n",
    "        \n",
    "        # differential privacy\n",
    "        x_data = x.data.cpu().numpy()\n",
    "        bound = np.dstack((np.max(x_data, axis=0), np.min(x_data, axis=0)))\n",
    "        for i in range(bound.shape[0]):\n",
    "            for j in range(bound.shape[1]):\n",
    "                interval = bound[i][j]\n",
    "                if interval[0] - interval[1] < min_diff:\n",
    "                    interval[0] += min_diff * 0.5\n",
    "                    interval[1] -= min_diff * 0.5\n",
    "        for j in range(x_data.shape[1]):\n",
    "            for k in range(x_data.shape[2]):\n",
    "                dp = Laplace()\n",
    "                dp = dp.set_epsilon(epsilon)\n",
    "                dp = dp.set_sensitivity(bound[j][k][0] - bound[j][k][1])\n",
    "                for i in range(x_data.shape[0]):\n",
    "                    x_data[i][j][k] = dp.randomise(x_data[i][j][k])\n",
    "        x.data = torch.tensor(x_data).requires_grad_(True).to(device)\n",
    "        \n",
    "        x = x.view(-1, 32 * 16)\n",
    "        x = self.linear3(x)\n",
    "        x = self.relu3(x)\n",
    "        x = self.linear4(x)\n",
    "        x = self.softmax4(x)\n",
    "        return x        "
   ]
  },
  {
   "cell_type": "markdown",
   "metadata": {
    "colab_type": "text",
    "id": "m-bCqOUuxSdp"
   },
   "source": [
    "## Traning function\n"
   ]
  },
  {
   "cell_type": "code",
   "execution_count": 12,
   "metadata": {
    "colab": {},
    "colab_type": "code",
    "id": "nO67O2Kj7B8J"
   },
   "outputs": [],
   "source": [
    "def train(nrun, model):\n",
    "    criterion = nn.CrossEntropyLoss()\n",
    "    optimizer = Adam(model.parameters(), lr=lr)\n",
    "\n",
    "    train_losses = list()\n",
    "    train_accs = list()\n",
    "\n",
    "    test_losses = list()\n",
    "    test_accs = list()\n",
    "\n",
    "    best_test_acc = 0  # best test accuracy \n",
    "\n",
    "    for e in range(epoch):\n",
    "        print(\"Epoch {} - \".format(e+1), end='')\n",
    "\n",
    "        # train\n",
    "        train_loss = 0.0\n",
    "        correct, total = 0, 0\n",
    "        for _, batch in enumerate(train_loader):\n",
    "            x, label = batch  # get feature and label from a batch\n",
    "            x, label = x.to(device), label.to(device)  # send to device\n",
    "            optimizer.zero_grad()  # init all grads to zero\n",
    "            output = model(x)  # forward propagation\n",
    "            loss = criterion(output, label)  # calculate loss\n",
    "            loss.backward()  # backward propagation\n",
    "            optimizer.step()  # weight update\n",
    "\n",
    "            train_loss += loss.item()\n",
    "            correct += torch.sum(output.argmax(dim=1) == label).item()\n",
    "            total += len(label)\n",
    "        train_losses.append(train_loss / len(train_loader))\n",
    "        train_accs.append(correct / total)\n",
    "        print(\"loss: {:.4f}, acc: {:.2f}%\".format(train_losses[-1], train_accs[-1]*100), end=' / ')\n",
    "        \n",
    "        # test\n",
    "        with torch.no_grad():\n",
    "            test_loss = 0.0\n",
    "            correct, total = 0, 0\n",
    "            for _, batch in enumerate(test_loader):\n",
    "                x, label = batch\n",
    "                x, label = x.to(device), label.to(device)\n",
    "                output = model(x)\n",
    "                loss = criterion(output, label)\n",
    "                \n",
    "                test_loss += loss.item()\n",
    "                correct += torch.sum(output.argmax(dim=1) == label).item()\n",
    "                total += len(label)\n",
    "            test_losses.append(test_loss / len(test_loader))\n",
    "            test_accs.append(correct / total)\n",
    "        print(\"test_loss: {:.4f}, test_acc: {:.2f}%\".format(test_losses[-1], test_accs[-1]*100))\n",
    "\n",
    "        # save model that has best validation accuracy\n",
    "        if test_accs[-1] > best_test_acc:\n",
    "            best_test_acc = test_accs[-1]\n",
    "            torch.save(model.state_dict(), os.path.join(root_path, model_dir, '_'.join([model_name, str(nrun), 'best']) + model_ext))\n",
    "    \n",
    "        # save model for each 10 epochs\n",
    "        if (e + 1) % 10 == 0:\n",
    "            torch.save(model.state_dict(), os.path.join(root_path, model_dir, '_'.join([model_name, str(nrun), str(e+1)]) + model_ext))\n",
    "    \n",
    "    return train_losses, train_accs, test_losses, test_accs"
   ]
  },
  {
   "cell_type": "markdown",
   "metadata": {
    "colab_type": "text",
    "id": "5h1yJeZXRWjT"
   },
   "source": [
    "## Training process"
   ]
  },
  {
   "cell_type": "markdown",
   "metadata": {
    "colab_type": "text",
    "id": "AXFHuejuRe2u"
   },
   "source": [
    "### Repeat for 10 times"
   ]
  },
  {
   "cell_type": "code",
   "execution_count": 13,
   "metadata": {
    "colab": {
     "base_uri": "https://localhost:8080/",
     "height": 1000
    },
    "colab_type": "code",
    "executionInfo": {
     "elapsed": 6513611,
     "status": "ok",
     "timestamp": 1573150871777,
     "user": {
      "displayName": "Kyuyeon Kim",
      "photoUrl": "https://lh3.googleusercontent.com/a-/AAuE7mBDhZm6xUbCYNLGqOYDpm2QRhOirby0BI-zUCTw2g=s64",
      "userId": "05245697685138289125"
     },
     "user_tz": -540
    },
    "id": "IAusksoSKSI0",
    "outputId": "3bf51e50-8a79-445c-f42e-d446d684603e"
   },
   "outputs": [
    {
     "name": "stdout",
     "output_type": "stream",
     "text": [
      "Run 1\n",
      "Epoch 1 - loss: 1.4663, acc: 41.82% / test_loss: 1.4075, test_acc: 48.89%\n",
      "Epoch 2 - loss: 1.4083, acc: 48.94% / test_loss: 1.4236, test_acc: 47.40%\n",
      "Epoch 3 - loss: 1.4148, acc: 48.49% / test_loss: 1.4119, test_acc: 48.74%\n",
      "Epoch 4 - loss: 1.4099, acc: 49.09% / test_loss: 1.4112, test_acc: 49.08%\n",
      "Epoch 5 - loss: 1.4264, acc: 47.51% / test_loss: 1.4097, test_acc: 49.23%\n",
      "Epoch 6 - loss: 1.4201, acc: 48.23% / test_loss: 1.3970, test_acc: 50.59%\n",
      "Epoch 7 - loss: 1.4198, acc: 48.34% / test_loss: 1.4181, test_acc: 48.51%\n",
      "Epoch 8 - loss: 1.4112, acc: 49.21% / test_loss: 1.4052, test_acc: 49.86%\n",
      "Epoch 9 - loss: 1.4205, acc: 48.27% / test_loss: 1.4241, test_acc: 47.90%\n",
      "Epoch 10 - loss: 1.4392, acc: 46.38% / test_loss: 1.4298, test_acc: 47.35%\n",
      "Epoch 11 - loss: 1.4187, acc: 48.48% / test_loss: 1.4195, test_acc: 48.43%\n",
      "Epoch 12 - loss: 1.4256, acc: 47.87% / test_loss: 1.4206, test_acc: 48.32%\n",
      "Epoch 13 - loss: 1.4326, acc: 47.12% / test_loss: 1.4191, test_acc: 48.49%\n",
      "Epoch 14 - loss: 1.4392, acc: 46.49% / test_loss: 1.4408, test_acc: 46.34%\n",
      "Epoch 15 - loss: 1.4254, acc: 47.88% / test_loss: 1.4179, test_acc: 48.66%\n",
      "Epoch 16 - loss: 1.4346, acc: 46.95% / test_loss: 1.4150, test_acc: 48.93%\n",
      "Epoch 17 - loss: 1.4412, acc: 46.30% / test_loss: 1.4439, test_acc: 46.08%\n",
      "Epoch 18 - loss: 1.4347, acc: 46.96% / test_loss: 1.4213, test_acc: 48.24%\n",
      "Epoch 19 - loss: 1.5004, acc: 40.38% / test_loss: 1.5005, test_acc: 40.42%\n",
      "Epoch 20 - loss: 1.4951, acc: 40.95% / test_loss: 1.4926, test_acc: 41.19%\n",
      "Epoch 21 - loss: 1.4762, acc: 42.82% / test_loss: 1.4228, test_acc: 48.16%\n",
      "Epoch 22 - loss: 1.4253, acc: 47.92% / test_loss: 1.4175, test_acc: 48.68%\n",
      "Epoch 23 - loss: 1.4403, acc: 46.39% / test_loss: 1.4583, test_acc: 44.62%\n",
      "Epoch 24 - loss: 1.4618, acc: 44.27% / test_loss: 1.4335, test_acc: 47.10%\n",
      "Epoch 25 - loss: 1.4447, acc: 45.96% / test_loss: 1.4426, test_acc: 46.20%\n",
      "Epoch 26 - loss: 1.4366, acc: 46.76% / test_loss: 1.4457, test_acc: 45.90%\n",
      "Epoch 27 - loss: 1.4421, acc: 46.27% / test_loss: 1.4317, test_acc: 47.31%\n",
      "Epoch 28 - loss: 1.4369, acc: 46.76% / test_loss: 1.4507, test_acc: 45.40%\n",
      "Epoch 29 - loss: 1.4499, acc: 45.49% / test_loss: 1.4669, test_acc: 43.79%\n",
      "Epoch 30 - loss: 1.4393, acc: 46.53% / test_loss: 1.4391, test_acc: 46.56%\n",
      "Epoch 31 - loss: 1.4401, acc: 46.45% / test_loss: 1.5109, test_acc: 39.38%\n",
      "Epoch 32 - loss: 1.4392, acc: 46.54% / test_loss: 1.4213, test_acc: 48.34%\n",
      "Epoch 33 - loss: 1.4291, acc: 47.57% / test_loss: 1.4206, test_acc: 48.43%\n",
      "Epoch 34 - loss: 1.4256, acc: 47.90% / test_loss: 1.4509, test_acc: 45.38%\n",
      "Epoch 35 - loss: 1.4724, acc: 43.24% / test_loss: 1.4679, test_acc: 43.68%\n",
      "Epoch 36 - loss: 1.4575, acc: 44.72% / test_loss: 1.4257, test_acc: 47.89%\n",
      "Epoch 37 - loss: 1.4328, acc: 47.19% / test_loss: 1.4390, test_acc: 46.58%\n",
      "Epoch 38 - loss: 1.4621, acc: 44.26% / test_loss: 1.4392, test_acc: 46.56%\n",
      "Epoch 39 - loss: 1.4574, acc: 44.72% / test_loss: 1.4392, test_acc: 46.55%\n",
      "Epoch 40 - loss: 1.4324, acc: 47.23% / test_loss: 1.4259, test_acc: 47.89%\n",
      "Epoch 41 - loss: 1.4415, acc: 46.32% / test_loss: 1.4448, test_acc: 45.99%\n",
      "Epoch 42 - loss: 1.4550, acc: 44.97% / test_loss: 1.5006, test_acc: 40.42%\n",
      "Epoch 43 - loss: 1.4562, acc: 44.85% / test_loss: 1.4398, test_acc: 46.50%\n",
      "Epoch 44 - loss: 1.4478, acc: 45.70% / test_loss: 1.4604, test_acc: 44.43%\n",
      "Epoch 45 - loss: 1.4502, acc: 45.44% / test_loss: 1.4233, test_acc: 48.15%\n",
      "Epoch 46 - loss: 1.4385, acc: 46.62% / test_loss: 1.4236, test_acc: 48.10%\n",
      "Epoch 47 - loss: 1.4728, acc: 43.20% / test_loss: 1.5071, test_acc: 39.76%\n",
      "Epoch 48 - loss: 1.4839, acc: 42.08% / test_loss: 1.4713, test_acc: 43.34%\n",
      "Epoch 49 - loss: 1.4549, acc: 44.99% / test_loss: 1.4318, test_acc: 47.30%\n",
      "Epoch 50 - loss: 1.4510, acc: 45.36% / test_loss: 1.4439, test_acc: 46.09%\n",
      "Epoch 51 - loss: 1.4444, acc: 46.05% / test_loss: 1.4511, test_acc: 45.36%\n",
      "Epoch 52 - loss: 1.4548, acc: 45.01% / test_loss: 1.4606, test_acc: 44.39%\n",
      "Epoch 53 - loss: 1.4993, acc: 40.54% / test_loss: 1.4886, test_acc: 41.62%\n",
      "Epoch 54 - loss: 1.4899, acc: 41.47% / test_loss: 1.4530, test_acc: 45.18%\n",
      "Epoch 55 - loss: 1.4711, acc: 43.37% / test_loss: 1.4875, test_acc: 41.73%\n",
      "Epoch 56 - loss: 1.5009, acc: 40.38% / test_loss: 1.4991, test_acc: 40.57%\n",
      "Epoch 57 - loss: 1.4698, acc: 43.50% / test_loss: 1.4629, test_acc: 44.20%\n",
      "Epoch 58 - loss: 1.4564, acc: 44.84% / test_loss: 1.4491, test_acc: 45.56%\n",
      "Epoch 59 - loss: 1.4664, acc: 43.83% / test_loss: 1.4640, test_acc: 44.08%\n",
      "Epoch 60 - loss: 1.4804, acc: 42.43% / test_loss: 1.4427, test_acc: 46.21%\n",
      "Epoch 61 - loss: 1.4432, acc: 46.16% / test_loss: 1.4360, test_acc: 46.89%\n",
      "Epoch 62 - loss: 1.4432, acc: 46.15% / test_loss: 1.4475, test_acc: 45.72%\n",
      "Epoch 63 - loss: 1.4553, acc: 44.94% / test_loss: 1.4311, test_acc: 47.37%\n",
      "Epoch 64 - loss: 1.4765, acc: 42.84% / test_loss: 1.5340, test_acc: 37.07%\n",
      "Epoch 65 - loss: 1.5220, acc: 38.27% / test_loss: 1.5364, test_acc: 36.85%\n",
      "Epoch 66 - loss: 1.5083, acc: 39.65% / test_loss: 1.4818, test_acc: 42.30%\n",
      "Epoch 67 - loss: 1.4713, acc: 43.35% / test_loss: 1.4557, test_acc: 44.90%\n",
      "Epoch 68 - loss: 1.4717, acc: 43.31% / test_loss: 1.5169, test_acc: 38.78%\n",
      "Epoch 69 - loss: 1.4508, acc: 45.39% / test_loss: 1.4661, test_acc: 43.87%\n",
      "Epoch 70 - loss: 1.4570, acc: 44.79% / test_loss: 1.4899, test_acc: 41.49%\n",
      "Epoch 71 - loss: 1.5056, acc: 39.92% / test_loss: 1.4760, test_acc: 42.88%\n",
      "Epoch 72 - loss: 1.4845, acc: 42.02% / test_loss: 1.4980, test_acc: 40.66%\n",
      "Epoch 73 - loss: 1.4933, acc: 41.16% / test_loss: 1.4753, test_acc: 42.94%\n",
      "Epoch 74 - loss: 1.4635, acc: 44.13% / test_loss: 1.4480, test_acc: 45.69%\n",
      "Epoch 75 - loss: 1.4697, acc: 43.51% / test_loss: 1.5182, test_acc: 38.66%\n",
      "Epoch 76 - loss: 1.4957, acc: 40.90% / test_loss: 1.4569, test_acc: 44.80%\n",
      "Epoch 77 - loss: 1.4703, acc: 43.45% / test_loss: 1.4761, test_acc: 42.87%\n",
      "Epoch 78 - loss: 1.4802, acc: 42.46% / test_loss: 1.4668, test_acc: 43.79%\n",
      "Epoch 79 - loss: 1.4784, acc: 42.65% / test_loss: 1.4441, test_acc: 46.06%\n",
      "Epoch 80 - loss: 1.4821, acc: 42.27% / test_loss: 1.4941, test_acc: 41.08%\n",
      "Epoch 81 - loss: 1.4816, acc: 42.33% / test_loss: 1.4740, test_acc: 43.08%\n",
      "Epoch 82 - loss: 1.4815, acc: 42.34% / test_loss: 1.4530, test_acc: 45.19%\n",
      "Epoch 83 - loss: 1.4868, acc: 41.80% / test_loss: 1.5220, test_acc: 38.29%\n",
      "Epoch 84 - loss: 1.5052, acc: 39.95% / test_loss: 1.5028, test_acc: 40.20%\n",
      "Epoch 85 - loss: 1.5130, acc: 39.18% / test_loss: 1.5336, test_acc: 37.12%\n",
      "Epoch 86 - loss: 1.5421, acc: 36.27% / test_loss: 1.5320, test_acc: 37.29%\n",
      "Epoch 87 - loss: 1.5050, acc: 39.97% / test_loss: 1.4766, test_acc: 42.82%\n",
      "Epoch 88 - loss: 1.4879, acc: 41.69% / test_loss: 1.4640, test_acc: 44.07%\n",
      "Epoch 89 - loss: 1.4923, acc: 41.25% / test_loss: 1.4696, test_acc: 43.52%\n",
      "Epoch 90 - loss: 1.4562, acc: 44.86% / test_loss: 1.4675, test_acc: 43.73%\n",
      "Epoch 91 - loss: 1.4597, acc: 44.51% / test_loss: 1.4563, test_acc: 44.85%\n",
      "Epoch 92 - loss: 1.4591, acc: 44.57% / test_loss: 1.4489, test_acc: 45.59%\n",
      "Epoch 93 - loss: 1.4484, acc: 45.63% / test_loss: 1.4412, test_acc: 46.36%\n",
      "Epoch 94 - loss: 1.4750, acc: 42.97% / test_loss: 1.5308, test_acc: 37.40%\n",
      "Epoch 95 - loss: 1.4618, acc: 44.30% / test_loss: 1.4547, test_acc: 45.01%\n",
      "Epoch 96 - loss: 1.4429, acc: 46.18% / test_loss: 1.4297, test_acc: 47.51%\n",
      "Epoch 97 - loss: 1.4297, acc: 47.52% / test_loss: 1.4335, test_acc: 47.13%\n",
      "Epoch 98 - loss: 1.5115, acc: 39.34% / test_loss: 1.5295, test_acc: 37.53%\n",
      "Epoch 99 - loss: 1.4649, acc: 43.99% / test_loss: 1.4487, test_acc: 45.61%\n",
      "Epoch 100 - loss: 1.4705, acc: 43.43% / test_loss: 1.5228, test_acc: 38.20%\n",
      "Epoch 101 - loss: 1.4798, acc: 42.49% / test_loss: 1.4455, test_acc: 45.93%\n",
      "Epoch 102 - loss: 1.4494, acc: 45.54% / test_loss: 1.4505, test_acc: 45.44%\n",
      "Epoch 103 - loss: 1.4918, acc: 41.30% / test_loss: 1.5221, test_acc: 38.26%\n",
      "Epoch 104 - loss: 1.4993, acc: 40.56% / test_loss: 1.4966, test_acc: 40.82%\n",
      "Epoch 105 - loss: 1.4857, acc: 41.91% / test_loss: 1.4506, test_acc: 45.42%\n",
      "Epoch 106 - loss: 1.4371, acc: 46.76% / test_loss: 1.4292, test_acc: 47.56%\n",
      "Epoch 107 - loss: 1.4427, acc: 46.22% / test_loss: 1.4409, test_acc: 46.39%\n",
      "Epoch 108 - loss: 1.4598, acc: 44.51% / test_loss: 1.4591, test_acc: 44.57%\n",
      "Epoch 109 - loss: 1.4805, acc: 42.43% / test_loss: 1.4811, test_acc: 42.38%\n"
     ]
    },
    {
     "name": "stdout",
     "output_type": "stream",
     "text": [
      "Epoch 110 - loss: 1.4859, acc: 41.89% / test_loss: 1.4846, test_acc: 42.02%\n",
      "Epoch 111 - loss: 1.4975, acc: 40.73% / test_loss: 1.4784, test_acc: 42.64%\n",
      "Epoch 112 - loss: 1.4781, acc: 42.67% / test_loss: 1.4585, test_acc: 44.64%\n",
      "Epoch 113 - loss: 1.4747, acc: 43.00% / test_loss: 1.4557, test_acc: 44.92%\n",
      "Epoch 114 - loss: 1.4619, acc: 44.29% / test_loss: 1.4610, test_acc: 44.38%\n",
      "Epoch 115 - loss: 1.4696, acc: 43.53% / test_loss: 1.4656, test_acc: 43.92%\n",
      "Epoch 116 - loss: 1.4878, acc: 41.70% / test_loss: 1.4791, test_acc: 42.57%\n",
      "Epoch 117 - loss: 1.6000, acc: 30.48% / test_loss: 1.6186, test_acc: 28.62%\n",
      "Epoch 118 - loss: 1.6106, acc: 29.42% / test_loss: 1.5782, test_acc: 32.66%\n",
      "Epoch 119 - loss: 1.5539, acc: 35.09% / test_loss: 1.4527, test_acc: 45.22%\n",
      "Epoch 120 - loss: 1.4594, acc: 44.54% / test_loss: 1.4723, test_acc: 43.25%\n",
      "Epoch 121 - loss: 1.4945, acc: 41.03% / test_loss: 1.5055, test_acc: 39.93%\n",
      "Epoch 122 - loss: 1.4975, acc: 40.73% / test_loss: 1.4940, test_acc: 41.09%\n",
      "Epoch 123 - loss: 1.5015, acc: 40.33% / test_loss: 1.5009, test_acc: 40.39%\n",
      "Epoch 124 - loss: 1.4768, acc: 42.80% / test_loss: 1.4797, test_acc: 42.51%\n",
      "Epoch 125 - loss: 1.4602, acc: 44.46% / test_loss: 1.4443, test_acc: 46.06%\n",
      "Epoch 126 - loss: 1.4596, acc: 44.52% / test_loss: 1.4559, test_acc: 44.88%\n",
      "Epoch 127 - loss: 1.5110, acc: 39.38% / test_loss: 1.5587, test_acc: 34.61%\n",
      "Epoch 128 - loss: 1.5496, acc: 35.52% / test_loss: 1.5569, test_acc: 34.79%\n",
      "Epoch 129 - loss: 1.5570, acc: 34.78% / test_loss: 1.5160, test_acc: 38.88%\n",
      "Epoch 130 - loss: 1.5194, acc: 38.54% / test_loss: 1.5154, test_acc: 38.94%\n",
      "Epoch 131 - loss: 1.4858, acc: 41.91% / test_loss: 1.4649, test_acc: 43.99%\n",
      "Epoch 132 - loss: 1.4542, acc: 45.06% / test_loss: 1.4572, test_acc: 44.76%\n",
      "Epoch 133 - loss: 1.4625, acc: 44.23% / test_loss: 1.4529, test_acc: 45.19%\n",
      "Epoch 134 - loss: 1.4440, acc: 46.07% / test_loss: 1.4433, test_acc: 46.15%\n",
      "Epoch 135 - loss: 1.4628, acc: 44.20% / test_loss: 1.4576, test_acc: 44.73%\n",
      "Epoch 136 - loss: 1.4751, acc: 42.97% / test_loss: 1.4616, test_acc: 44.32%\n",
      "Epoch 137 - loss: 1.4924, acc: 41.23% / test_loss: 1.4914, test_acc: 41.34%\n",
      "Epoch 138 - loss: 1.5153, acc: 38.94% / test_loss: 1.5006, test_acc: 40.42%\n",
      "Epoch 139 - loss: 1.4829, acc: 42.19% / test_loss: 1.4763, test_acc: 42.85%\n",
      "Epoch 140 - loss: 1.4728, acc: 43.20% / test_loss: 1.4675, test_acc: 43.74%\n",
      "Epoch 141 - loss: 1.4613, acc: 44.35% / test_loss: 1.4572, test_acc: 44.76%\n",
      "Epoch 142 - loss: 1.4539, acc: 45.08% / test_loss: 1.4402, test_acc: 46.46%\n",
      "Epoch 143 - loss: 1.4458, acc: 45.90% / test_loss: 1.4349, test_acc: 47.00%\n",
      "Epoch 144 - loss: 1.4682, acc: 43.65% / test_loss: 1.4491, test_acc: 45.57%\n",
      "Epoch 145 - loss: 1.4426, acc: 46.22% / test_loss: 1.4467, test_acc: 45.81%\n",
      "Epoch 146 - loss: 1.4399, acc: 46.49% / test_loss: 1.4375, test_acc: 46.73%\n",
      "Epoch 147 - loss: 1.4540, acc: 45.08% / test_loss: 1.4823, test_acc: 42.24%\n",
      "Epoch 148 - loss: 1.4483, acc: 45.65% / test_loss: 1.4340, test_acc: 47.07%\n",
      "Epoch 149 - loss: 1.4395, acc: 46.53% / test_loss: 1.4541, test_acc: 45.07%\n",
      "Epoch 150 - loss: 1.4462, acc: 45.86% / test_loss: 1.4418, test_acc: 46.30%\n",
      "Epoch 151 - loss: 1.4438, acc: 46.10% / test_loss: 1.4409, test_acc: 46.39%\n",
      "Epoch 152 - loss: 1.4482, acc: 45.66% / test_loss: 1.4406, test_acc: 46.43%\n",
      "Epoch 153 - loss: 1.4926, acc: 41.21% / test_loss: 1.5070, test_acc: 39.78%\n",
      "Epoch 154 - loss: 1.4798, acc: 42.50% / test_loss: 1.5056, test_acc: 39.93%\n",
      "Epoch 155 - loss: 1.5252, acc: 37.96% / test_loss: 1.5281, test_acc: 37.67%\n",
      "Epoch 156 - loss: 1.4815, acc: 42.34% / test_loss: 1.4738, test_acc: 43.10%\n",
      "Epoch 157 - loss: 1.4642, acc: 44.04% / test_loss: 1.4649, test_acc: 43.99%\n",
      "Epoch 158 - loss: 1.4658, acc: 43.90% / test_loss: 1.4756, test_acc: 42.91%\n",
      "Epoch 159 - loss: 1.4646, acc: 44.02% / test_loss: 1.4626, test_acc: 44.22%\n",
      "Epoch 160 - loss: 1.4730, acc: 43.18% / test_loss: 1.4770, test_acc: 42.78%\n",
      "Epoch 161 - loss: 1.5031, acc: 40.17% / test_loss: 1.4824, test_acc: 42.24%\n",
      "Epoch 162 - loss: 1.4982, acc: 40.66% / test_loss: 1.4819, test_acc: 42.30%\n",
      "Epoch 163 - loss: 1.4742, acc: 43.06% / test_loss: 1.4716, test_acc: 43.33%\n",
      "Epoch 164 - loss: 1.4692, acc: 43.56% / test_loss: 1.4508, test_acc: 45.41%\n",
      "Epoch 165 - loss: 1.4544, acc: 45.04% / test_loss: 1.4531, test_acc: 45.16%\n",
      "Epoch 166 - loss: 1.4471, acc: 45.77% / test_loss: 1.4489, test_acc: 45.59%\n",
      "Epoch 167 - loss: 1.4741, acc: 43.07% / test_loss: 1.5213, test_acc: 38.35%\n",
      "Epoch 168 - loss: 1.5040, acc: 40.08% / test_loss: 1.4632, test_acc: 44.16%\n",
      "Epoch 169 - loss: 1.4666, acc: 43.81% / test_loss: 1.4689, test_acc: 43.59%\n",
      "Epoch 170 - loss: 1.4746, acc: 43.01% / test_loss: 1.4660, test_acc: 43.88%\n",
      "Epoch 171 - loss: 1.4553, acc: 44.95% / test_loss: 1.4470, test_acc: 45.78%\n",
      "Epoch 172 - loss: 1.4411, acc: 46.37% / test_loss: 1.4370, test_acc: 46.79%\n",
      "Epoch 173 - loss: 1.4533, acc: 45.15% / test_loss: 1.4520, test_acc: 45.29%\n",
      "Epoch 174 - loss: 1.4544, acc: 45.04% / test_loss: 1.4631, test_acc: 44.18%\n",
      "Epoch 175 - loss: 1.4793, acc: 42.55% / test_loss: 1.4660, test_acc: 43.89%\n",
      "Epoch 176 - loss: 1.4587, acc: 44.61% / test_loss: 1.4479, test_acc: 45.69%\n",
      "Epoch 177 - loss: 1.4452, acc: 45.96% / test_loss: 1.4383, test_acc: 46.65%\n",
      "Epoch 178 - loss: 1.4404, acc: 46.45% / test_loss: 1.4362, test_acc: 46.86%\n",
      "Epoch 179 - loss: 1.4502, acc: 45.47% / test_loss: 1.4497, test_acc: 45.52%\n",
      "Epoch 180 - loss: 1.4583, acc: 44.65% / test_loss: 1.4529, test_acc: 45.19%\n",
      "Epoch 181 - loss: 1.4736, acc: 43.13% / test_loss: 1.4490, test_acc: 45.59%\n",
      "Epoch 182 - loss: 1.4549, acc: 44.99% / test_loss: 1.4548, test_acc: 45.01%\n",
      "Epoch 183 - loss: 1.4620, acc: 44.27% / test_loss: 1.4736, test_acc: 43.12%\n",
      "Epoch 184 - loss: 1.4781, acc: 42.67% / test_loss: 1.4771, test_acc: 42.78%\n",
      "Epoch 185 - loss: 1.4732, acc: 43.16% / test_loss: 1.4638, test_acc: 44.10%\n",
      "Epoch 186 - loss: 1.4724, acc: 43.25% / test_loss: 1.4605, test_acc: 44.42%\n",
      "Epoch 187 - loss: 1.4853, acc: 41.95% / test_loss: 1.4905, test_acc: 41.43%\n",
      "Epoch 188 - loss: 1.4990, acc: 40.58% / test_loss: 1.4662, test_acc: 43.87%\n",
      "Epoch 189 - loss: 1.4821, acc: 42.27% / test_loss: 1.4878, test_acc: 41.71%\n",
      "Epoch 190 - loss: 1.4880, acc: 41.68% / test_loss: 1.4898, test_acc: 41.50%\n",
      "Epoch 191 - loss: 1.4841, acc: 42.07% / test_loss: 1.4581, test_acc: 44.67%\n",
      "Epoch 192 - loss: 1.4630, acc: 44.18% / test_loss: 1.4721, test_acc: 43.28%\n",
      "Epoch 193 - loss: 1.4747, acc: 43.01% / test_loss: 1.4719, test_acc: 43.30%\n",
      "Epoch 194 - loss: 1.4733, acc: 43.16% / test_loss: 1.4612, test_acc: 44.37%\n",
      "Epoch 195 - loss: 1.4788, acc: 42.59% / test_loss: 1.4824, test_acc: 42.24%\n",
      "Epoch 196 - loss: 1.4575, acc: 44.73% / test_loss: 1.4558, test_acc: 44.90%\n",
      "Epoch 197 - loss: 1.4418, acc: 46.30% / test_loss: 1.4591, test_acc: 44.58%\n",
      "Epoch 198 - loss: 1.4542, acc: 45.06% / test_loss: 1.4439, test_acc: 46.09%\n",
      "Epoch 199 - loss: 1.4489, acc: 45.59% / test_loss: 1.4455, test_acc: 45.93%\n",
      "Epoch 200 - loss: 1.4542, acc: 45.07% / test_loss: 1.4380, test_acc: 46.68%\n",
      "Epoch 201 - loss: 1.4486, acc: 45.62% / test_loss: 1.4580, test_acc: 44.68%\n",
      "Epoch 202 - loss: 1.4815, acc: 42.33% / test_loss: 1.5023, test_acc: 40.25%\n",
      "Epoch 203 - loss: 1.5191, acc: 38.57% / test_loss: 1.5346, test_acc: 37.03%\n",
      "Epoch 204 - loss: 1.5074, acc: 39.74% / test_loss: 1.4838, test_acc: 42.10%\n",
      "Epoch 205 - loss: 1.4836, acc: 42.12% / test_loss: 1.4819, test_acc: 42.30%\n",
      "Epoch 206 - loss: 1.4693, acc: 43.54% / test_loss: 1.4459, test_acc: 45.89%\n",
      "Epoch 207 - loss: 1.4501, acc: 45.47% / test_loss: 1.4441, test_acc: 46.07%\n",
      "Epoch 208 - loss: 1.4523, acc: 45.25% / test_loss: 1.4499, test_acc: 45.50%\n",
      "Epoch 209 - loss: 1.4494, acc: 45.54% / test_loss: 1.4517, test_acc: 45.31%\n",
      "Epoch 210 - loss: 1.4474, acc: 45.74% / test_loss: 1.4482, test_acc: 45.66%\n",
      "Epoch 211 - loss: 1.4490, acc: 45.59% / test_loss: 1.4527, test_acc: 45.21%\n",
      "Epoch 212 - loss: 1.4527, acc: 45.21% / test_loss: 1.4515, test_acc: 45.34%\n",
      "Epoch 213 - loss: 1.4627, acc: 44.21% / test_loss: 1.4623, test_acc: 44.25%\n",
      "Epoch 214 - loss: 1.4653, acc: 43.95% / test_loss: 1.4534, test_acc: 45.15%\n",
      "Epoch 215 - loss: 1.4561, acc: 44.87% / test_loss: 1.4601, test_acc: 44.47%\n",
      "Epoch 216 - loss: 1.5166, acc: 38.81% / test_loss: 1.5395, test_acc: 36.53%\n"
     ]
    },
    {
     "name": "stdout",
     "output_type": "stream",
     "text": [
      "Epoch 217 - loss: 1.5298, acc: 37.51% / test_loss: 1.5517, test_acc: 35.32%\n",
      "Epoch 218 - loss: 1.5395, acc: 36.53% / test_loss: 1.5033, test_acc: 40.16%\n",
      "Epoch 219 - loss: 1.4978, acc: 40.70% / test_loss: 1.5001, test_acc: 40.48%\n",
      "Epoch 220 - loss: 1.5035, acc: 40.13% / test_loss: 1.5057, test_acc: 39.92%\n",
      "Epoch 221 - loss: 1.5181, acc: 38.66% / test_loss: 1.5084, test_acc: 39.65%\n",
      "Epoch 222 - loss: 1.5254, acc: 37.94% / test_loss: 1.5241, test_acc: 38.07%\n",
      "Epoch 223 - loss: 1.5244, acc: 38.04% / test_loss: 1.5277, test_acc: 37.71%\n",
      "Epoch 224 - loss: 1.5136, acc: 39.12% / test_loss: 1.4637, test_acc: 44.11%\n",
      "Epoch 225 - loss: 1.4768, acc: 42.79% / test_loss: 1.4848, test_acc: 42.00%\n",
      "Epoch 226 - loss: 1.4938, acc: 41.11% / test_loss: 1.5235, test_acc: 38.14%\n",
      "Epoch 227 - loss: 1.5348, acc: 37.00% / test_loss: 1.5485, test_acc: 35.64%\n",
      "Epoch 228 - loss: 1.5343, acc: 37.06% / test_loss: 1.5434, test_acc: 36.14%\n",
      "Epoch 229 - loss: 1.5565, acc: 34.82% / test_loss: 1.5844, test_acc: 32.05%\n",
      "Epoch 230 - loss: 1.5621, acc: 34.27% / test_loss: 1.5557, test_acc: 34.92%\n",
      "Epoch 231 - loss: 1.5566, acc: 34.82% / test_loss: 1.5449, test_acc: 35.99%\n",
      "Epoch 232 - loss: 1.5440, acc: 36.09% / test_loss: 1.5688, test_acc: 33.61%\n",
      "Epoch 233 - loss: 1.5601, acc: 34.47% / test_loss: 1.5680, test_acc: 33.68%\n",
      "Epoch 234 - loss: 1.5677, acc: 33.71% / test_loss: 1.5522, test_acc: 35.27%\n",
      "Epoch 235 - loss: 1.5407, acc: 36.41% / test_loss: 1.5199, test_acc: 38.49%\n",
      "Epoch 236 - loss: 1.5104, acc: 39.44% / test_loss: 1.5019, test_acc: 40.29%\n",
      "Epoch 237 - loss: 1.4876, acc: 41.72% / test_loss: 1.4540, test_acc: 45.08%\n",
      "Epoch 238 - loss: 1.4535, acc: 45.13% / test_loss: 1.4512, test_acc: 45.36%\n",
      "Epoch 239 - loss: 1.4646, acc: 44.02% / test_loss: 1.4498, test_acc: 45.50%\n",
      "Epoch 240 - loss: 1.4591, acc: 44.58% / test_loss: 1.4505, test_acc: 45.44%\n",
      "Epoch 241 - loss: 1.4640, acc: 44.08% / test_loss: 1.4744, test_acc: 43.04%\n",
      "Epoch 242 - loss: 1.4571, acc: 44.76% / test_loss: 1.4495, test_acc: 45.53%\n",
      "Epoch 243 - loss: 1.4568, acc: 44.80% / test_loss: 1.4680, test_acc: 43.68%\n",
      "Epoch 244 - loss: 1.4609, acc: 44.39% / test_loss: 1.4576, test_acc: 44.72%\n",
      "Epoch 245 - loss: 1.4576, acc: 44.72% / test_loss: 1.4355, test_acc: 46.94%\n",
      "Epoch 246 - loss: 1.4488, acc: 45.59% / test_loss: 1.4770, test_acc: 42.79%\n",
      "Epoch 247 - loss: 1.4776, acc: 42.73% / test_loss: 1.4765, test_acc: 42.83%\n",
      "Epoch 248 - loss: 1.4848, acc: 42.00% / test_loss: 1.4754, test_acc: 42.94%\n",
      "Epoch 249 - loss: 1.4722, acc: 43.25% / test_loss: 1.4666, test_acc: 43.83%\n",
      "Epoch 250 - loss: 1.4671, acc: 43.78% / test_loss: 1.4705, test_acc: 43.44%\n",
      "Epoch 251 - loss: 1.4453, acc: 45.95% / test_loss: 1.4400, test_acc: 46.49%\n",
      "Epoch 252 - loss: 1.4468, acc: 45.79% / test_loss: 1.4424, test_acc: 46.24%\n",
      "Epoch 253 - loss: 1.4386, acc: 46.61% / test_loss: 1.4387, test_acc: 46.61%\n",
      "Epoch 254 - loss: 1.4472, acc: 45.77% / test_loss: 1.4680, test_acc: 43.68%\n",
      "Epoch 255 - loss: 1.4971, acc: 40.77% / test_loss: 1.5018, test_acc: 40.30%\n",
      "Epoch 256 - loss: 1.5056, acc: 39.92% / test_loss: 1.4997, test_acc: 40.51%\n",
      "Epoch 257 - loss: 1.4874, acc: 41.74% / test_loss: 1.4679, test_acc: 43.69%\n",
      "Epoch 258 - loss: 1.4888, acc: 41.61% / test_loss: 1.5363, test_acc: 36.86%\n",
      "Epoch 259 - loss: 1.5317, acc: 37.31% / test_loss: 1.5217, test_acc: 38.31%\n",
      "Epoch 260 - loss: 1.5077, acc: 39.71% / test_loss: 1.5025, test_acc: 40.23%\n",
      "Epoch 261 - loss: 1.4991, acc: 40.57% / test_loss: 1.4998, test_acc: 40.50%\n",
      "Epoch 262 - loss: 1.4819, acc: 42.30% / test_loss: 1.4828, test_acc: 42.20%\n",
      "Epoch 263 - loss: 1.4837, acc: 42.11% / test_loss: 1.4722, test_acc: 43.27%\n",
      "Epoch 264 - loss: 1.4735, acc: 43.13% / test_loss: 1.4802, test_acc: 42.46%\n",
      "Epoch 265 - loss: 1.4800, acc: 42.48% / test_loss: 1.4666, test_acc: 43.83%\n",
      "Epoch 266 - loss: 1.4625, acc: 44.23% / test_loss: 1.4513, test_acc: 45.35%\n",
      "Epoch 267 - loss: 1.5078, acc: 39.71% / test_loss: 1.5149, test_acc: 38.99%\n",
      "Epoch 268 - loss: 1.5292, acc: 37.55% / test_loss: 1.5500, test_acc: 35.49%\n",
      "Epoch 269 - loss: 1.5696, acc: 33.51% / test_loss: 1.5337, test_acc: 37.11%\n",
      "Epoch 270 - loss: 1.5350, acc: 36.98% / test_loss: 1.5601, test_acc: 34.47%\n",
      "Epoch 271 - loss: 1.5872, acc: 31.76% / test_loss: 1.6040, test_acc: 30.09%\n",
      "Epoch 272 - loss: 1.6020, acc: 30.28% / test_loss: 1.6072, test_acc: 29.77%\n",
      "Epoch 273 - loss: 1.5770, acc: 32.78% / test_loss: 1.5540, test_acc: 35.08%\n",
      "Epoch 274 - loss: 1.5497, acc: 35.52% / test_loss: 1.5540, test_acc: 35.08%\n",
      "Epoch 275 - loss: 1.5039, acc: 40.09% / test_loss: 1.5196, test_acc: 38.53%\n",
      "Epoch 276 - loss: 1.5263, acc: 37.86% / test_loss: 1.5797, test_acc: 32.52%\n",
      "Epoch 277 - loss: 1.5622, acc: 34.26% / test_loss: 1.5443, test_acc: 36.05%\n",
      "Epoch 278 - loss: 1.5404, acc: 36.44% / test_loss: 1.5292, test_acc: 37.56%\n",
      "Epoch 279 - loss: 1.5132, acc: 39.16% / test_loss: 1.4792, test_acc: 42.56%\n",
      "Epoch 280 - loss: 1.4909, acc: 41.40% / test_loss: 1.5184, test_acc: 38.64%\n",
      "Epoch 281 - loss: 1.4839, acc: 42.09% / test_loss: 1.4801, test_acc: 42.47%\n",
      "Epoch 282 - loss: 1.4811, acc: 42.37% / test_loss: 1.4697, test_acc: 43.51%\n",
      "Epoch 283 - loss: 1.4646, acc: 44.02% / test_loss: 1.4509, test_acc: 45.39%\n",
      "Epoch 284 - loss: 1.4445, acc: 46.02% / test_loss: 1.4471, test_acc: 45.78%\n",
      "Epoch 285 - loss: 1.4418, acc: 46.30% / test_loss: 1.4473, test_acc: 45.75%\n",
      "Epoch 286 - loss: 1.4476, acc: 45.72% / test_loss: 1.4377, test_acc: 46.70%\n",
      "Epoch 287 - loss: 1.4397, acc: 46.52% / test_loss: 1.4424, test_acc: 46.24%\n",
      "Epoch 288 - loss: 1.4410, acc: 46.38% / test_loss: 1.4496, test_acc: 45.52%\n",
      "Epoch 289 - loss: 1.4452, acc: 45.96% / test_loss: 1.4458, test_acc: 45.90%\n",
      "Epoch 290 - loss: 1.4502, acc: 45.46% / test_loss: 1.4483, test_acc: 45.65%\n",
      "Epoch 291 - loss: 1.4553, acc: 44.95% / test_loss: 1.4608, test_acc: 44.41%\n",
      "Epoch 292 - loss: 1.4507, acc: 45.41% / test_loss: 1.4403, test_acc: 46.46%\n",
      "Epoch 293 - loss: 1.4541, acc: 45.07% / test_loss: 1.4480, test_acc: 45.68%\n",
      "Epoch 294 - loss: 1.4574, acc: 44.75% / test_loss: 1.4612, test_acc: 44.37%\n",
      "Epoch 295 - loss: 1.4539, acc: 45.09% / test_loss: 1.4454, test_acc: 45.94%\n",
      "Epoch 296 - loss: 1.4529, acc: 45.19% / test_loss: 1.4468, test_acc: 45.81%\n",
      "Epoch 297 - loss: 1.4514, acc: 45.35% / test_loss: 1.4555, test_acc: 44.94%\n",
      "Epoch 298 - loss: 1.4696, acc: 43.51% / test_loss: 1.4581, test_acc: 44.67%\n",
      "Epoch 299 - loss: 1.4683, acc: 43.65% / test_loss: 1.4691, test_acc: 43.56%\n",
      "Epoch 300 - loss: 1.4625, acc: 44.23% / test_loss: 1.4421, test_acc: 46.27%\n",
      "Epoch 301 - loss: 1.4443, acc: 46.06% / test_loss: 1.4339, test_acc: 47.10%\n",
      "Epoch 302 - loss: 1.4577, acc: 44.71% / test_loss: 1.4430, test_acc: 46.18%\n",
      "Epoch 303 - loss: 1.4524, acc: 45.24% / test_loss: 1.4497, test_acc: 45.52%\n",
      "Epoch 304 - loss: 1.4491, acc: 45.57% / test_loss: 1.4426, test_acc: 46.22%\n",
      "Epoch 305 - loss: 1.4532, acc: 45.16% / test_loss: 1.4388, test_acc: 46.60%\n",
      "Epoch 306 - loss: 1.4435, acc: 46.13% / test_loss: 1.4384, test_acc: 46.64%\n",
      "Epoch 307 - loss: 1.4460, acc: 45.88% / test_loss: 1.4546, test_acc: 45.03%\n",
      "Epoch 308 - loss: 1.4495, acc: 45.53% / test_loss: 1.4495, test_acc: 45.53%\n",
      "Epoch 309 - loss: 1.4803, acc: 42.45% / test_loss: 1.4820, test_acc: 42.29%\n",
      "Epoch 310 - loss: 1.4682, acc: 43.66% / test_loss: 1.4559, test_acc: 44.89%\n",
      "Epoch 311 - loss: 1.4511, acc: 45.38% / test_loss: 1.4511, test_acc: 45.37%\n",
      "Epoch 312 - loss: 1.4515, acc: 45.33% / test_loss: 1.4477, test_acc: 45.72%\n",
      "Epoch 313 - loss: 1.4452, acc: 45.96% / test_loss: 1.4260, test_acc: 47.87%\n",
      "Epoch 314 - loss: 1.4286, acc: 47.63% / test_loss: 1.4287, test_acc: 47.61%\n",
      "Epoch 315 - loss: 1.4284, acc: 47.64% / test_loss: 1.4280, test_acc: 47.68%\n",
      "Epoch 316 - loss: 1.4437, acc: 46.12% / test_loss: 1.4697, test_acc: 43.51%\n",
      "Epoch 317 - loss: 1.4517, acc: 45.31% / test_loss: 1.4302, test_acc: 47.46%\n",
      "Epoch 318 - loss: 1.4525, acc: 45.23% / test_loss: 1.4902, test_acc: 41.46%\n",
      "Epoch 319 - loss: 1.4851, acc: 41.97% / test_loss: 1.4657, test_acc: 43.92%\n",
      "Epoch 320 - loss: 1.4755, acc: 42.93% / test_loss: 1.4795, test_acc: 42.53%\n",
      "Epoch 321 - loss: 1.4734, acc: 43.14% / test_loss: 1.4545, test_acc: 45.04%\n",
      "Epoch 322 - loss: 1.4575, acc: 44.73% / test_loss: 1.4676, test_acc: 43.72%\n",
      "Epoch 323 - loss: 1.4614, acc: 44.34% / test_loss: 1.4546, test_acc: 45.02%\n"
     ]
    },
    {
     "name": "stdout",
     "output_type": "stream",
     "text": [
      "Epoch 324 - loss: 1.4538, acc: 45.10% / test_loss: 1.4385, test_acc: 46.63%\n",
      "Epoch 325 - loss: 1.4416, acc: 46.33% / test_loss: 1.4474, test_acc: 45.75%\n",
      "Epoch 326 - loss: 1.4455, acc: 45.93% / test_loss: 1.4728, test_acc: 43.21%\n",
      "Epoch 327 - loss: 1.4821, acc: 42.27% / test_loss: 1.4809, test_acc: 42.39%\n",
      "Epoch 328 - loss: 1.4728, acc: 43.20% / test_loss: 1.4585, test_acc: 44.63%\n",
      "Epoch 329 - loss: 1.4663, acc: 43.85% / test_loss: 1.4590, test_acc: 44.58%\n",
      "Epoch 330 - loss: 1.4692, acc: 43.56% / test_loss: 1.4457, test_acc: 45.91%\n",
      "Epoch 331 - loss: 1.4564, acc: 44.85% / test_loss: 1.4472, test_acc: 45.76%\n",
      "Epoch 332 - loss: 1.4442, acc: 46.06% / test_loss: 1.4399, test_acc: 46.49%\n",
      "Epoch 333 - loss: 1.4474, acc: 45.75% / test_loss: 1.4722, test_acc: 43.26%\n",
      "Epoch 334 - loss: 1.4901, acc: 41.47% / test_loss: 1.4699, test_acc: 43.49%\n",
      "Epoch 335 - loss: 1.4653, acc: 43.95% / test_loss: 1.4670, test_acc: 43.78%\n",
      "Epoch 336 - loss: 1.4450, acc: 45.98% / test_loss: 1.4353, test_acc: 46.95%\n",
      "Epoch 337 - loss: 1.4373, acc: 46.75% / test_loss: 1.4334, test_acc: 47.14%\n",
      "Epoch 338 - loss: 1.4362, acc: 46.86% / test_loss: 1.4365, test_acc: 46.83%\n",
      "Epoch 339 - loss: 1.4388, acc: 46.60% / test_loss: 1.4343, test_acc: 47.05%\n",
      "Epoch 340 - loss: 1.4545, acc: 45.04% / test_loss: 1.4551, test_acc: 44.98%\n",
      "Epoch 341 - loss: 1.4644, acc: 44.04% / test_loss: 1.4509, test_acc: 45.40%\n",
      "Epoch 342 - loss: 1.4503, acc: 45.44% / test_loss: 1.4503, test_acc: 45.46%\n",
      "Epoch 343 - loss: 1.4417, acc: 46.31% / test_loss: 1.4811, test_acc: 42.37%\n",
      "Epoch 344 - loss: 1.4839, acc: 42.09% / test_loss: 1.4856, test_acc: 41.92%\n",
      "Epoch 345 - loss: 1.4854, acc: 41.94% / test_loss: 1.4860, test_acc: 41.89%\n",
      "Epoch 346 - loss: 1.4914, acc: 41.34% / test_loss: 1.4888, test_acc: 41.60%\n",
      "Epoch 347 - loss: 1.4905, acc: 41.43% / test_loss: 1.5070, test_acc: 39.78%\n",
      "Epoch 348 - loss: 1.5066, acc: 39.82% / test_loss: 1.4784, test_acc: 42.64%\n",
      "Epoch 349 - loss: 1.4992, acc: 40.56% / test_loss: 1.4968, test_acc: 40.81%\n",
      "Epoch 350 - loss: 1.4961, acc: 40.87% / test_loss: 1.4997, test_acc: 40.51%\n",
      "Epoch 351 - loss: 1.4776, acc: 42.72% / test_loss: 1.4607, test_acc: 44.42%\n",
      "Epoch 352 - loss: 1.4641, acc: 44.07% / test_loss: 1.4688, test_acc: 43.60%\n",
      "Epoch 353 - loss: 1.4677, acc: 43.71% / test_loss: 1.4621, test_acc: 44.27%\n",
      "Epoch 354 - loss: 1.4677, acc: 43.71% / test_loss: 1.4471, test_acc: 45.77%\n",
      "Epoch 355 - loss: 1.4815, acc: 42.33% / test_loss: 1.4843, test_acc: 42.05%\n",
      "Epoch 356 - loss: 1.4841, acc: 42.07% / test_loss: 1.4866, test_acc: 41.83%\n",
      "Epoch 357 - loss: 1.4677, acc: 43.70% / test_loss: 1.4592, test_acc: 44.56%\n",
      "Epoch 358 - loss: 1.4560, acc: 44.88% / test_loss: 1.4553, test_acc: 44.95%\n",
      "Epoch 359 - loss: 1.4796, acc: 42.52% / test_loss: 1.5275, test_acc: 37.73%\n",
      "Epoch 360 - loss: 1.5295, acc: 37.53% / test_loss: 1.5429, test_acc: 36.19%\n",
      "Epoch 361 - loss: 1.5475, acc: 35.73% / test_loss: 1.5465, test_acc: 35.83%\n",
      "Epoch 362 - loss: 1.5419, acc: 36.29% / test_loss: 1.5370, test_acc: 36.78%\n",
      "Epoch 363 - loss: 1.5192, acc: 38.56% / test_loss: 1.4627, test_acc: 44.21%\n",
      "Epoch 364 - loss: 1.4569, acc: 44.79% / test_loss: 1.4568, test_acc: 44.80%\n",
      "Epoch 365 - loss: 1.4562, acc: 44.86% / test_loss: 1.4511, test_acc: 45.38%\n",
      "Epoch 366 - loss: 1.4449, acc: 45.99% / test_loss: 1.4419, test_acc: 46.29%\n",
      "Epoch 367 - loss: 1.4501, acc: 45.47% / test_loss: 1.4413, test_acc: 46.35%\n",
      "Epoch 368 - loss: 1.4465, acc: 45.83% / test_loss: 1.4516, test_acc: 45.32%\n",
      "Epoch 369 - loss: 1.4509, acc: 45.39% / test_loss: 1.4547, test_acc: 45.01%\n",
      "Epoch 370 - loss: 1.4502, acc: 45.47% / test_loss: 1.4562, test_acc: 44.86%\n",
      "Epoch 371 - loss: 1.4897, acc: 41.51% / test_loss: 1.4856, test_acc: 41.93%\n",
      "Epoch 372 - loss: 1.4760, acc: 42.88% / test_loss: 1.4662, test_acc: 43.87%\n",
      "Epoch 373 - loss: 1.4778, acc: 42.70% / test_loss: 1.4740, test_acc: 43.08%\n",
      "Epoch 374 - loss: 1.4838, acc: 42.10% / test_loss: 1.4878, test_acc: 41.70%\n",
      "Epoch 375 - loss: 1.4931, acc: 41.17% / test_loss: 1.4923, test_acc: 41.25%\n",
      "Epoch 376 - loss: 1.4983, acc: 40.65% / test_loss: 1.4917, test_acc: 41.31%\n",
      "Epoch 377 - loss: 1.4937, acc: 41.11% / test_loss: 1.4939, test_acc: 41.09%\n",
      "Epoch 378 - loss: 1.4871, acc: 41.77% / test_loss: 1.4859, test_acc: 41.90%\n",
      "Epoch 379 - loss: 1.4838, acc: 42.10% / test_loss: 1.4368, test_acc: 46.80%\n",
      "Epoch 380 - loss: 1.4442, acc: 46.06% / test_loss: 1.4377, test_acc: 46.71%\n",
      "Epoch 381 - loss: 1.4409, acc: 46.39% / test_loss: 1.4461, test_acc: 45.87%\n",
      "Epoch 382 - loss: 1.4460, acc: 45.88% / test_loss: 1.4435, test_acc: 46.14%\n",
      "Epoch 383 - loss: 1.4546, acc: 45.03% / test_loss: 1.4778, test_acc: 42.70%\n",
      "Epoch 384 - loss: 1.4659, acc: 43.89% / test_loss: 1.4496, test_acc: 45.52%\n",
      "Epoch 385 - loss: 1.4428, acc: 46.21% / test_loss: 1.4704, test_acc: 43.45%\n",
      "Epoch 386 - loss: 1.4694, acc: 43.53% / test_loss: 1.4719, test_acc: 43.29%\n",
      "Epoch 387 - loss: 1.4727, acc: 43.20% / test_loss: 1.4518, test_acc: 45.31%\n",
      "Epoch 388 - loss: 1.4546, acc: 45.02% / test_loss: 1.4583, test_acc: 44.66%\n",
      "Epoch 389 - loss: 1.4579, acc: 44.70% / test_loss: 1.4559, test_acc: 44.89%\n",
      "Epoch 390 - loss: 1.4560, acc: 44.88% / test_loss: 1.4565, test_acc: 44.83%\n",
      "Epoch 391 - loss: 1.4651, acc: 43.96% / test_loss: 1.4556, test_acc: 44.92%\n",
      "Epoch 392 - loss: 1.4862, acc: 41.86% / test_loss: 1.4979, test_acc: 40.69%\n",
      "Epoch 393 - loss: 1.4988, acc: 40.60% / test_loss: 1.4968, test_acc: 40.80%\n",
      "Epoch 394 - loss: 1.4962, acc: 40.86% / test_loss: 1.4986, test_acc: 40.62%\n",
      "Epoch 395 - loss: 1.5037, acc: 40.11% / test_loss: 1.4985, test_acc: 40.63%\n",
      "Epoch 396 - loss: 1.5086, acc: 39.61% / test_loss: 1.5217, test_acc: 38.31%\n",
      "Epoch 397 - loss: 1.5038, acc: 40.11% / test_loss: 1.4837, test_acc: 42.11%\n",
      "Epoch 398 - loss: 1.4845, acc: 42.03% / test_loss: 1.4757, test_acc: 42.91%\n",
      "Epoch 399 - loss: 1.4826, acc: 42.22% / test_loss: 1.4831, test_acc: 42.17%\n",
      "Epoch 400 - loss: 1.4831, acc: 42.17% / test_loss: 1.4818, test_acc: 42.30%\n",
      "Best test accuracy 50.59% in epoch 6.\n",
      "----------------------------------------------------------------------------------------------------\n"
     ]
    }
   ],
   "source": [
    "best_test_accs = list()\n",
    "\n",
    "for i in range(run):\n",
    "    print('Run', i+1)\n",
    "    \n",
    "    seed = 0\n",
    "    np.random.seed(seed)\n",
    "    torch.manual_seed(seed)\n",
    "    torch.cuda.manual_seed(seed)\n",
    "    torch.cuda.manual_seed_all(seed) # if you are using multi-GPU.\n",
    "    torch.backends.cudnn.benchmark = False\n",
    "    torch.backends.cudnn.deterministic = True\n",
    "    \n",
    "    ecgnet = ECGConv1D()  # init new model\n",
    "    train_losses, train_accs, test_losses, test_accs = train(i, ecgnet.to(device))  # train\n",
    "\n",
    "    best_test_accs.append(max(test_accs))  # get best test accuracy\n",
    "    best_test_acc_epoch = np.array(test_accs).argmax() + 1\n",
    "    print('Best test accuracy {:.2f}% in epoch {}.'.format(best_test_accs[-1]*100, best_test_acc_epoch))\n",
    "    print('-' * 100)\n",
    "\n",
    "    df = pd.DataFrame({  # save model training process into csv file\n",
    "        'loss': train_losses,\n",
    "        'test_loss': test_losses,\n",
    "        'acc': train_accs,\n",
    "        'test_acc': test_accs\n",
    "    })\n",
    "    df.to_csv(os.path.join(root_path, csv_dir, '_'.join([csv_name, str(i+1)]) + csv_ext))\n",
    "\n",
    "df = pd.DataFrame({'best_test_acc': best_test_accs})  # save best test accuracy of each run\n",
    "df.to_csv(os.path.join(root_path, csv_dir, csv_accs_name + csv_ext))"
   ]
  },
  {
   "cell_type": "markdown",
   "metadata": {
    "colab_type": "text",
    "id": "cpDwI7BFRjK6"
   },
   "source": [
    "## Print the best test accuracy of each run"
   ]
  },
  {
   "cell_type": "code",
   "execution_count": 14,
   "metadata": {
    "colab": {
     "base_uri": "https://localhost:8080/",
     "height": 201
    },
    "colab_type": "code",
    "executionInfo": {
     "elapsed": 141,
     "status": "ok",
     "timestamp": 1573150872213,
     "user": {
      "displayName": "Kyuyeon Kim",
      "photoUrl": "https://lh3.googleusercontent.com/a-/AAuE7mBDhZm6xUbCYNLGqOYDpm2QRhOirby0BI-zUCTw2g=s64",
      "userId": "05245697685138289125"
     },
     "user_tz": -540
    },
    "id": "Ne8dr7DaRUME",
    "outputId": "9a98648b-ee04-490e-de87-4c3e1095b2e7"
   },
   "outputs": [
    {
     "name": "stdout",
     "output_type": "stream",
     "text": [
      "Run 1: 50.59%\n"
     ]
    }
   ],
   "source": [
    "for i, a in enumerate(best_test_accs):\n",
    "    print('Run {}: {:.2f}%'.format(i+1, a*100))"
   ]
  },
  {
   "cell_type": "code",
   "execution_count": 15,
   "metadata": {},
   "outputs": [
    {
     "data": {
      "image/png": "[encoded data removed]",
      "text/plain": [
       "<Figure size 1152x288 with 2 Axes>"
      ]
     },
     "metadata": {
      "needs_background": "light"
     },
     "output_type": "display_data"
    }
   ],
   "source": [
    "fig, ax = plt.subplots(1, 2, figsize=(16, 4))\n",
    "\n",
    "ax[0].plot(train_losses)\n",
    "ax[0].plot(test_losses)\n",
    "ax[0].set_xticks([0, 50, 100, 150, 200, 250, 300, 350, 400])\n",
    "ax[0].set_xlabel('Epochs')\n",
    "ax[0].set_ylabel('Loss')\n",
    "ax[0].grid()\n",
    "ax[0].legend(['train', 'test'], loc='upper right')\n",
    "\n",
    "ax[1].plot(np.asarray(train_accs) * 100)\n",
    "ax[1].plot(np.asarray(test_accs) * 100)\n",
    "ax[1].set_xticks([0, 50, 100, 150, 200, 250, 300, 350, 400])\n",
    "ax[1].set_xlabel('Epochs')\n",
    "ax[1].set_ylabel('Accuracy (%)')\n",
    "ax[1].set_ylim(top=100)\n",
    "ax[1].grid()\n",
    "ax[1].legend(['train', 'test'], loc='upper left')\n",
    "\n",
    "fig.savefig('conv2_split.pdf', bbox_inches='tight')"
   ]
  },
  {
   "cell_type": "code",
   "execution_count": null,
   "metadata": {},
   "outputs": [],
   "source": []
  }
 ],
 "metadata": {
  "accelerator": "GPU",
  "colab": {
   "collapsed_sections": [],
   "name": "ecg_train_2conv_final.ipynb",
   "provenance": []
  },
  "kernelspec": {
   "display_name": "Python 3",
   "language": "python",
   "name": "python3"
  },
  "language_info": {
   "codemirror_mode": {
    "name": "ipython",
    "version": 3
   },
   "file_extension": ".py",
   "mimetype": "text/x-python",
   "name": "python",
   "nbconvert_exporter": "python",
   "pygments_lexer": "ipython3",
   "version": "3.7.4"
  }
 },
 "nbformat": 4,
 "nbformat_minor": 1
}
