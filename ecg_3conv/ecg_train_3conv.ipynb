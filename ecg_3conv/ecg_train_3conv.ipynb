{
 "cells": [
  {
   "cell_type": "markdown",
   "metadata": {
    "colab_type": "text",
    "id": "YDQY02P14s5b"
   },
   "source": [
    "# 1D-CNN Model for ECG Classification\n",
    "- The model used has 3 Conv. layers and 2 FC layers.\n",
    "- This code repeat running the training process and produce all kinds of data which can be given, such as data needed for drawing loss and accuracy graph through epochs, and maximum test accuracy for each run."
   ]
  },
  {
   "cell_type": "markdown",
   "metadata": {
    "colab_type": "text",
    "id": "0jVwGea7meY-"
   },
   "source": [
    "## Get permission of Google Drive access"
   ]
  },
  {
   "cell_type": "code",
   "execution_count": 1,
   "metadata": {
    "colab": {
     "base_uri": "https://localhost:8080/",
     "height": 55
    },
    "colab_type": "code",
    "executionInfo": {
     "elapsed": 1384,
     "status": "ok",
     "timestamp": 1573140331176,
     "user": {
      "displayName": "Kyuyeon Kim",
      "photoUrl": "https://lh3.googleusercontent.com/a-/AAuE7mBDhZm6xUbCYNLGqOYDpm2QRhOirby0BI-zUCTw2g=s64",
      "userId": "05245697685138289125"
     },
     "user_tz": -540
    },
    "id": "gw8VHp_Lqnu0",
    "outputId": "25ea812d-4242-463a-dc32-a938504f0792"
   },
   "outputs": [],
   "source": [
    "root_path = '.'"
   ]
  },
  {
   "cell_type": "markdown",
   "metadata": {
    "colab_type": "text",
    "id": "y-OoNrzR2jnb"
   },
   "source": [
    "## File name settings"
   ]
  },
  {
   "cell_type": "code",
   "execution_count": 2,
   "metadata": {
    "colab": {},
    "colab_type": "code",
    "id": "BNGT9J0J2jEB"
   },
   "outputs": [],
   "source": [
    "data_dir = 'mitdb'\n",
    "train_name = 'train_ecg.hdf5'\n",
    "test_name = 'test_ecg.hdf5'\n",
    "all_name = 'all_ecg.hdf5'\n",
    "\n",
    "model_dir = 'model'\n",
    "model_name = 'conv3'\n",
    "model_ext = '.pth'\n",
    "\n",
    "csv_dir = 'csv'\n",
    "csv_ext = '.csv'\n",
    "\n",
    "csv_name = 'conv3'\n",
    "csv_accs_name = 'accs_conv3'"
   ]
  },
  {
   "cell_type": "markdown",
   "metadata": {
    "colab_type": "text",
    "id": "XQhRMQcxmiiU"
   },
   "source": [
    "## Import required packages"
   ]
  },
  {
   "cell_type": "code",
   "execution_count": 3,
   "metadata": {
    "colab": {},
    "colab_type": "code",
    "id": "ekg3kh1Tq1B_"
   },
   "outputs": [],
   "source": [
    "import os\n",
    "\n",
    "import torch\n",
    "import torch.nn as nn\n",
    "from torch.utils.data import Dataset, DataLoader\n",
    "from torch.optim import Adam\n",
    "\n",
    "import numpy as np\n",
    "import pandas as pd\n",
    "import h5py\n",
    "import matplotlib.pyplot as plt"
   ]
  },
  {
   "cell_type": "markdown",
   "metadata": {
    "colab_type": "text",
    "id": "FzsvXmVd0ayn"
   },
   "source": [
    "## GPU settings"
   ]
  },
  {
   "cell_type": "code",
   "execution_count": 4,
   "metadata": {
    "colab": {
     "base_uri": "https://localhost:8080/",
     "height": 35
    },
    "colab_type": "code",
    "executionInfo": {
     "elapsed": 1561,
     "status": "ok",
     "timestamp": 1573140331478,
     "user": {
      "displayName": "Kyuyeon Kim",
      "photoUrl": "https://lh3.googleusercontent.com/a-/AAuE7mBDhZm6xUbCYNLGqOYDpm2QRhOirby0BI-zUCTw2g=s64",
      "userId": "05245697685138289125"
     },
     "user_tz": -540
    },
    "id": "1UJyXe89cJcw",
    "outputId": "14b01434-7392-4af6-98a1-f48524453a56"
   },
   "outputs": [],
   "source": [
    "device = torch.device('cuda:0' if torch.cuda.is_available() else 'cpu')\n",
    "if torch.cuda.is_available():\n",
    "    print(torch.cuda.get_device_name(0))"
   ]
  },
  {
   "cell_type": "markdown",
   "metadata": {
    "colab_type": "text",
    "id": "K-DnZ3zF6dhx"
   },
   "source": [
    "## Define `ECG` `Dataset` class\n"
   ]
  },
  {
   "cell_type": "code",
   "execution_count": 5,
   "metadata": {
    "colab": {},
    "colab_type": "code",
    "id": "ffSLi6qCbHy2"
   },
   "outputs": [],
   "source": [
    "class ECG(Dataset):\n",
    "    def __init__(self, mode='train'):\n",
    "        if mode == 'train':\n",
    "            with h5py.File(os.path.join(root_path, data_dir, train_name), 'r') as hdf:\n",
    "                self.x = hdf['x_train'][:]\n",
    "                self.y = hdf['y_train'][:]\n",
    "        elif mode == 'test':\n",
    "            with h5py.File(os.path.join(root_path, data_dir, test_name), 'r') as hdf:\n",
    "                self.x = hdf['x_test'][:]\n",
    "                self.y = hdf['y_test'][:]\n",
    "        elif mode == 'all':\n",
    "            with h5py.File(os.path.join(root_path, data_dir, all_name), 'r') as hdf:\n",
    "                self.x = hdf['x'][:]\n",
    "                self.y = hdf['y'][:]\n",
    "        else:\n",
    "            raise ValueError('Argument of mode should be train, test, or all.')\n",
    "    \n",
    "    def __len__(self):\n",
    "        return len(self.x)\n",
    "    \n",
    "    def __getitem__(self, idx):\n",
    "        return torch.tensor(self.x[idx], dtype=torch.float), torch.tensor(self.y[idx])"
   ]
  },
  {
   "cell_type": "markdown",
   "metadata": {
    "colab_type": "text",
    "id": "U97Sm8qs6-IC"
   },
   "source": [
    "## Make Batch Generator"
   ]
  },
  {
   "cell_type": "markdown",
   "metadata": {
    "colab_type": "text",
    "id": "popnnQ0ckaF3"
   },
   "source": [
    "### Batch size\n",
    "You can change it if you want."
   ]
  },
  {
   "cell_type": "code",
   "execution_count": 6,
   "metadata": {
    "colab": {},
    "colab_type": "code",
    "id": "ElNcZhTt786w"
   },
   "outputs": [],
   "source": [
    "batch_size = 32"
   ]
  },
  {
   "cell_type": "markdown",
   "metadata": {
    "colab_type": "text",
    "id": "AHy2nkSm778h"
   },
   "source": [
    "### `DataLoader` for batch generating\n",
    "`torch.utils.data.DataLoader(dataset, batch_size=1, shuffle=False)`"
   ]
  },
  {
   "cell_type": "code",
   "execution_count": 7,
   "metadata": {
    "colab": {},
    "colab_type": "code",
    "id": "DyIHkQr4sMiE"
   },
   "outputs": [],
   "source": [
    "train_dataset = ECG(mode='train')\n",
    "test_dataset = ECG(mode='test')\n",
    "train_loader = DataLoader(train_dataset, batch_size=batch_size)\n",
    "test_loader = DataLoader(test_dataset, batch_size=batch_size)"
   ]
  },
  {
   "cell_type": "markdown",
   "metadata": {
    "colab_type": "text",
    "id": "6opdvihFk8Di"
   },
   "source": [
    "### Size check for single batch"
   ]
  },
  {
   "cell_type": "code",
   "execution_count": 8,
   "metadata": {
    "colab": {
     "base_uri": "https://localhost:8080/",
     "height": 54
    },
    "colab_type": "code",
    "executionInfo": {
     "elapsed": 1342,
     "status": "ok",
     "timestamp": 1573140331487,
     "user": {
      "displayName": "Kyuyeon Kim",
      "photoUrl": "https://lh3.googleusercontent.com/a-/AAuE7mBDhZm6xUbCYNLGqOYDpm2QRhOirby0BI-zUCTw2g=s64",
      "userId": "05245697685138289125"
     },
     "user_tz": -540
    },
    "id": "902j2PYgszyr",
    "outputId": "717f8d82-10de-4012-e9c1-4717b8835d17"
   },
   "outputs": [
    {
     "name": "stdout",
     "output_type": "stream",
     "text": [
      "torch.Size([32, 1, 128])\n",
      "torch.Size([32])\n"
     ]
    }
   ],
   "source": [
    "x_train, y_train = next(iter(train_loader))\n",
    "print(x_train.size())\n",
    "print(y_train.size())"
   ]
  },
  {
   "cell_type": "markdown",
   "metadata": {
    "colab_type": "text",
    "id": "d4Nv5OLbm0rJ"
   },
   "source": [
    "### Number of total batches"
   ]
  },
  {
   "cell_type": "code",
   "execution_count": 9,
   "metadata": {
    "colab": {
     "base_uri": "https://localhost:8080/",
     "height": 35
    },
    "colab_type": "code",
    "executionInfo": {
     "elapsed": 1320,
     "status": "ok",
     "timestamp": 1573140331489,
     "user": {
      "displayName": "Kyuyeon Kim",
      "photoUrl": "https://lh3.googleusercontent.com/a-/AAuE7mBDhZm6xUbCYNLGqOYDpm2QRhOirby0BI-zUCTw2g=s64",
      "userId": "05245697685138289125"
     },
     "user_tz": -540
    },
    "id": "xY_0e4jexTIy",
    "outputId": "37db683a-0839-4463-8f2a-88340df0be85"
   },
   "outputs": [
    {
     "name": "stdout",
     "output_type": "stream",
     "text": [
      "414\n"
     ]
    }
   ],
   "source": [
    "total_batch = len(train_loader)\n",
    "print(total_batch)"
   ]
  },
  {
   "cell_type": "markdown",
   "metadata": {
    "colab_type": "text",
    "id": "hteQdSdMg8aB"
   },
   "source": [
    "## Pytorch layer modules for **Conv1D** Network\n",
    "\n",
    "\n",
    "\n",
    "### `Conv1d` layer\n",
    "- `torch.nn.Conv1d(in_channels, out_channels, kernel_size)`\n",
    "\n",
    "### `MaxPool1d` layer\n",
    "- `torch.nn.MaxPool1d(kernel_size, stride=None)`\n",
    "- Parameter `stride` follows `kernel_size`.\n",
    "\n",
    "### `ReLU` layer\n",
    "- `torch.nn.ReLU()`\n",
    "\n",
    "### `Linear` layer\n",
    "- `torch.nn.Linear(in_features, out_features, bias=True)`\n",
    "\n",
    "### `Softmax` layer\n",
    "- `torch.nn.Softmax(dim=None)`\n",
    "- Parameter `dim` is usually set to `1`."
   ]
  },
  {
   "cell_type": "markdown",
   "metadata": {
    "colab_type": "text",
    "id": "d0DQJhg2w_Tj"
   },
   "source": [
    "## Construct 1D CNN ECG classification model"
   ]
  },
  {
   "cell_type": "code",
   "execution_count": 10,
   "metadata": {
    "colab": {},
    "colab_type": "code",
    "id": "G2LRE1T2ZZLB"
   },
   "outputs": [],
   "source": [
    "class ECGConv1D(nn.Module):\n",
    "    def __init__(self):\n",
    "        super(ECGConv1D, self).__init__()\n",
    "        self.conv1 = nn.Conv1d(1, 16, 7, padding=3)  # 128 x 16\n",
    "        self.relu1 = nn.LeakyReLU()\n",
    "        self.pool1 = nn.MaxPool1d(2)  # 64 x 16\n",
    "        self.conv2 = nn.Conv1d(16, 16, 5, padding=2)  # 64 x 16\n",
    "        self.relu2 = nn.LeakyReLU()\n",
    "        self.conv3 = nn.Conv1d(16, 16, 5, padding=2)  # 64 x 16\n",
    "        self.relu3 = nn.LeakyReLU()\n",
    "        self.pool3 = nn.MaxPool1d(2)  # 32 x 16\n",
    "        self.linear4 = nn.Linear(32 * 16, 128)\n",
    "        self.relu4 = nn.LeakyReLU()\n",
    "        self.linear5 = nn.Linear(128, 5)\n",
    "        self.softmax5 = nn.Softmax(dim=1)\n",
    "    \n",
    "    def forward(self, x):\n",
    "        x = self.conv1(x)\n",
    "        x = self.relu1(x)\n",
    "        x = self.pool1(x)\n",
    "        x = self.conv2(x)\n",
    "        x = self.relu2(x)\n",
    "        x = self.conv3(x)\n",
    "        x = self.relu3(x)\n",
    "        x = self.pool3(x)\n",
    "        x = x.view(-1, 32 * 16)\n",
    "        x = self.linear4(x)\n",
    "        x = self.relu4(x)\n",
    "        x = self.linear5(x)\n",
    "        x = self.softmax5(x)\n",
    "        return x        "
   ]
  },
  {
   "cell_type": "markdown",
   "metadata": {
    "colab_type": "text",
    "id": "X-QMUMFx2n5J"
   },
   "source": [
    "## Training process settings"
   ]
  },
  {
   "cell_type": "code",
   "execution_count": 11,
   "metadata": {
    "colab": {},
    "colab_type": "code",
    "id": "3AKAftHyzPfz"
   },
   "outputs": [],
   "source": [
    "run = 1\n",
    "epoch = 400\n",
    "lr = 0.001"
   ]
  },
  {
   "cell_type": "markdown",
   "metadata": {
    "colab_type": "text",
    "id": "m-bCqOUuxSdp"
   },
   "source": [
    "## Traning function\n"
   ]
  },
  {
   "cell_type": "code",
   "execution_count": 12,
   "metadata": {
    "colab": {},
    "colab_type": "code",
    "id": "nO67O2Kj7B8J"
   },
   "outputs": [],
   "source": [
    "def train(nrun, model):\n",
    "    criterion = nn.CrossEntropyLoss()\n",
    "    optimizer = Adam(model.parameters(), lr=lr)\n",
    "\n",
    "    train_losses = list()\n",
    "    train_accs = list()\n",
    "\n",
    "    test_losses = list()\n",
    "    test_accs = list()\n",
    "\n",
    "    best_test_acc = 0  # best test accuracy \n",
    "\n",
    "    for e in range(epoch):\n",
    "        print(\"Epoch {} - \".format(e+1), end='')\n",
    "\n",
    "        # train\n",
    "        train_loss = 0.0\n",
    "        correct, total = 0, 0\n",
    "        for _, batch in enumerate(train_loader):\n",
    "            x, label = batch  # get feature and label from a batch\n",
    "            x, label = x.to(device), label.to(device)  # send to device\n",
    "            optimizer.zero_grad()  # init all grads to zero\n",
    "            output = model(x)  # forward propagation\n",
    "            loss = criterion(output, label)  # calculate loss\n",
    "            loss.backward()  # backward propagation\n",
    "            optimizer.step()  # weight update\n",
    "\n",
    "            train_loss += loss.item()\n",
    "            correct += torch.sum(output.argmax(dim=1) == label).item()\n",
    "            total += len(label)\n",
    "        train_losses.append(train_loss / len(train_loader))\n",
    "        train_accs.append(correct / total)\n",
    "        print(\"loss: {:.4f}, acc: {:.2f}%\".format(train_losses[-1], train_accs[-1]*100), end=' / ')\n",
    "        \n",
    "        # test\n",
    "        with torch.no_grad():\n",
    "            test_loss = 0.0\n",
    "            correct, total = 0, 0\n",
    "            for _, batch in enumerate(test_loader):\n",
    "                x, label = batch\n",
    "                x, label = x.to(device), label.to(device)\n",
    "                output = model(x)\n",
    "                loss = criterion(output, label)\n",
    "                \n",
    "                test_loss += loss.item()\n",
    "                correct += torch.sum(output.argmax(dim=1) == label).item()\n",
    "                total += len(label)\n",
    "            test_losses.append(test_loss / len(test_loader))\n",
    "            test_accs.append(correct / total)\n",
    "        print(\"test_loss: {:.4f}, test_acc: {:.2f}%\".format(test_losses[-1], test_accs[-1]*100))\n",
    "\n",
    "        # save model that has best validation accuracy\n",
    "        if test_accs[-1] > best_test_acc:\n",
    "            best_test_acc = test_accs[-1]\n",
    "            torch.save(model.state_dict(), os.path.join(root_path, model_dir, '_'.join([model_name, str(nrun), 'best']) + model_ext))\n",
    "    \n",
    "        # save model for each 10 epochs\n",
    "        if (e + 1) % 10 == 0:\n",
    "            torch.save(model.state_dict(), os.path.join(root_path, model_dir, '_'.join([model_name, str(nrun), str(e+1)]) + model_ext))\n",
    "    \n",
    "    return train_losses, train_accs, test_losses, test_accs"
   ]
  },
  {
   "cell_type": "markdown",
   "metadata": {
    "colab_type": "text",
    "id": "5h1yJeZXRWjT"
   },
   "source": [
    "## Training process"
   ]
  },
  {
   "cell_type": "markdown",
   "metadata": {
    "colab_type": "text",
    "id": "AXFHuejuRe2u"
   },
   "source": [
    "### Repeat for 10 times"
   ]
  },
  {
   "cell_type": "code",
   "execution_count": 13,
   "metadata": {
    "colab": {
     "base_uri": "https://localhost:8080/",
     "height": 1000
    },
    "colab_type": "code",
    "executionInfo": {
     "elapsed": 6513611,
     "status": "ok",
     "timestamp": 1573150871777,
     "user": {
      "displayName": "Kyuyeon Kim",
      "photoUrl": "https://lh3.googleusercontent.com/a-/AAuE7mBDhZm6xUbCYNLGqOYDpm2QRhOirby0BI-zUCTw2g=s64",
      "userId": "05245697685138289125"
     },
     "user_tz": -540
    },
    "id": "IAusksoSKSI0",
    "outputId": "3bf51e50-8a79-445c-f42e-d446d684603e"
   },
   "outputs": [
    {
     "name": "stdout",
     "output_type": "stream",
     "text": [
      "Run 1\n",
      "Epoch 1 - loss: 1.3068, acc: 60.72% / test_loss: 1.1514, test_acc: 76.04%\n",
      "Epoch 2 - loss: 1.1009, acc: 80.64% / test_loss: 1.0799, test_acc: 82.37%\n",
      "Epoch 3 - loss: 1.0882, acc: 81.50% / test_loss: 1.0766, test_acc: 82.75%\n",
      "Epoch 4 - loss: 1.0816, acc: 82.20% / test_loss: 1.0481, test_acc: 85.82%\n",
      "Epoch 5 - loss: 1.0405, acc: 86.56% / test_loss: 1.0291, test_acc: 87.64%\n",
      "Epoch 6 - loss: 1.0336, acc: 87.22% / test_loss: 1.0231, test_acc: 88.18%\n",
      "Epoch 7 - loss: 1.0301, acc: 87.50% / test_loss: 1.0183, test_acc: 88.64%\n",
      "Epoch 8 - loss: 1.0294, acc: 87.57% / test_loss: 1.0265, test_acc: 88.01%\n",
      "Epoch 9 - loss: 1.0280, acc: 87.69% / test_loss: 1.0188, test_acc: 88.52%\n",
      "Epoch 10 - loss: 1.0246, acc: 87.99% / test_loss: 1.0154, test_acc: 88.85%\n",
      "Epoch 11 - loss: 1.0249, acc: 87.93% / test_loss: 1.0142, test_acc: 89.00%\n",
      "Epoch 12 - loss: 1.0215, acc: 88.31% / test_loss: 1.0133, test_acc: 89.05%\n",
      "Epoch 13 - loss: 1.0226, acc: 88.17% / test_loss: 1.0147, test_acc: 88.95%\n",
      "Epoch 14 - loss: 1.0240, acc: 87.99% / test_loss: 1.0144, test_acc: 88.92%\n",
      "Epoch 15 - loss: 1.0232, acc: 88.09% / test_loss: 1.0133, test_acc: 89.05%\n",
      "Epoch 16 - loss: 1.0192, acc: 88.49% / test_loss: 1.0120, test_acc: 89.23%\n",
      "Epoch 17 - loss: 1.0181, acc: 88.64% / test_loss: 1.0111, test_acc: 89.35%\n",
      "Epoch 18 - loss: 1.0165, acc: 88.77% / test_loss: 1.0127, test_acc: 89.17%\n",
      "Epoch 19 - loss: 1.0172, acc: 88.64% / test_loss: 1.0082, test_acc: 89.61%\n",
      "Epoch 20 - loss: 1.0155, acc: 88.85% / test_loss: 1.0168, test_acc: 88.71%\n",
      "Epoch 21 - loss: 1.0181, acc: 88.61% / test_loss: 1.0102, test_acc: 89.41%\n",
      "Epoch 22 - loss: 1.0158, acc: 88.83% / test_loss: 1.0114, test_acc: 89.32%\n",
      "Epoch 23 - loss: 1.0149, acc: 88.87% / test_loss: 1.0078, test_acc: 89.64%\n",
      "Epoch 24 - loss: 1.0149, acc: 88.85% / test_loss: 1.0079, test_acc: 89.55%\n",
      "Epoch 25 - loss: 1.0143, acc: 88.90% / test_loss: 1.0140, test_acc: 88.83%\n",
      "Epoch 26 - loss: 1.0119, acc: 89.17% / test_loss: 1.0050, test_acc: 89.80%\n",
      "Epoch 27 - loss: 1.0122, acc: 89.10% / test_loss: 1.0063, test_acc: 89.68%\n",
      "Epoch 28 - loss: 1.0100, acc: 89.32% / test_loss: 1.0082, test_acc: 89.48%\n",
      "Epoch 29 - loss: 1.0131, acc: 89.02% / test_loss: 1.0058, test_acc: 89.79%\n",
      "Epoch 30 - loss: 1.0091, acc: 89.41% / test_loss: 1.0031, test_acc: 89.95%\n",
      "Epoch 31 - loss: 1.0129, acc: 89.01% / test_loss: 1.0036, test_acc: 89.85%\n",
      "Epoch 32 - loss: 1.0108, acc: 89.27% / test_loss: 1.0072, test_acc: 89.54%\n",
      "Epoch 33 - loss: 1.0105, acc: 89.27% / test_loss: 1.0062, test_acc: 89.80%\n",
      "Epoch 34 - loss: 1.0104, acc: 89.26% / test_loss: 1.0048, test_acc: 89.81%\n",
      "Epoch 35 - loss: 1.0077, acc: 89.53% / test_loss: 1.0015, test_acc: 90.12%\n",
      "Epoch 36 - loss: 1.0096, acc: 89.29% / test_loss: 1.0014, test_acc: 90.09%\n",
      "Epoch 37 - loss: 1.0054, acc: 89.74% / test_loss: 1.0027, test_acc: 90.02%\n",
      "Epoch 38 - loss: 1.0048, acc: 89.81% / test_loss: 1.0018, test_acc: 90.06%\n",
      "Epoch 39 - loss: 1.0045, acc: 89.82% / test_loss: 0.9987, test_acc: 90.37%\n",
      "Epoch 40 - loss: 1.0051, acc: 89.83% / test_loss: 1.0007, test_acc: 90.18%\n",
      "Epoch 41 - loss: 1.0030, acc: 89.97% / test_loss: 1.0008, test_acc: 90.16%\n",
      "Epoch 42 - loss: 1.0003, acc: 90.22% / test_loss: 1.0010, test_acc: 90.20%\n",
      "Epoch 43 - loss: 1.0044, acc: 89.78% / test_loss: 1.0003, test_acc: 90.28%\n",
      "Epoch 44 - loss: 1.0003, acc: 90.24% / test_loss: 0.9971, test_acc: 90.60%\n",
      "Epoch 45 - loss: 1.0003, acc: 90.23% / test_loss: 0.9974, test_acc: 90.46%\n",
      "Epoch 46 - loss: 0.9990, acc: 90.37% / test_loss: 0.9991, test_acc: 90.31%\n",
      "Epoch 47 - loss: 0.9949, acc: 90.73% / test_loss: 0.9925, test_acc: 91.02%\n",
      "Epoch 48 - loss: 0.9939, acc: 90.86% / test_loss: 0.9927, test_acc: 90.97%\n",
      "Epoch 49 - loss: 0.9962, acc: 90.61% / test_loss: 0.9943, test_acc: 90.79%\n",
      "Epoch 50 - loss: 0.9950, acc: 90.74% / test_loss: 0.9950, test_acc: 90.74%\n",
      "Epoch 51 - loss: 0.9922, acc: 91.00% / test_loss: 0.9884, test_acc: 91.39%\n",
      "Epoch 52 - loss: 0.9889, acc: 91.26% / test_loss: 0.9850, test_acc: 91.73%\n",
      "Epoch 53 - loss: 0.9871, acc: 91.51% / test_loss: 0.9853, test_acc: 91.70%\n",
      "Epoch 54 - loss: 0.9870, acc: 91.48% / test_loss: 0.9918, test_acc: 91.05%\n",
      "Epoch 55 - loss: 0.9872, acc: 91.49% / test_loss: 0.9877, test_acc: 91.48%\n",
      "Epoch 56 - loss: 0.9844, acc: 91.69% / test_loss: 0.9861, test_acc: 91.59%\n",
      "Epoch 57 - loss: 0.9858, acc: 91.60% / test_loss: 0.9862, test_acc: 91.59%\n",
      "Epoch 58 - loss: 0.9846, acc: 91.73% / test_loss: 0.9850, test_acc: 91.69%\n",
      "Epoch 59 - loss: 0.9835, acc: 91.88% / test_loss: 0.9880, test_acc: 91.40%\n",
      "Epoch 60 - loss: 0.9836, acc: 91.80% / test_loss: 0.9823, test_acc: 91.97%\n",
      "Epoch 61 - loss: 0.9810, acc: 92.10% / test_loss: 0.9834, test_acc: 91.76%\n",
      "Epoch 62 - loss: 0.9838, acc: 91.82% / test_loss: 0.9857, test_acc: 91.69%\n",
      "Epoch 63 - loss: 0.9817, acc: 92.01% / test_loss: 0.9832, test_acc: 91.85%\n",
      "Epoch 64 - loss: 0.9800, acc: 92.18% / test_loss: 0.9853, test_acc: 91.73%\n",
      "Epoch 65 - loss: 0.9805, acc: 92.18% / test_loss: 0.9830, test_acc: 91.86%\n",
      "Epoch 66 - loss: 0.9801, acc: 92.16% / test_loss: 0.9846, test_acc: 91.76%\n",
      "Epoch 67 - loss: 0.9809, acc: 92.12% / test_loss: 0.9844, test_acc: 91.87%\n",
      "Epoch 68 - loss: 0.9810, acc: 92.09% / test_loss: 0.9845, test_acc: 91.79%\n",
      "Epoch 69 - loss: 0.9798, acc: 92.22% / test_loss: 0.9786, test_acc: 92.34%\n",
      "Epoch 70 - loss: 0.9795, acc: 92.16% / test_loss: 0.9794, test_acc: 92.21%\n",
      "Epoch 71 - loss: 0.9763, acc: 92.51% / test_loss: 0.9789, test_acc: 92.24%\n",
      "Epoch 72 - loss: 0.9760, acc: 92.57% / test_loss: 0.9780, test_acc: 92.40%\n",
      "Epoch 73 - loss: 0.9759, acc: 92.62% / test_loss: 0.9786, test_acc: 92.28%\n",
      "Epoch 74 - loss: 0.9751, acc: 92.67% / test_loss: 0.9788, test_acc: 92.28%\n",
      "Epoch 75 - loss: 0.9747, acc: 92.71% / test_loss: 0.9765, test_acc: 92.53%\n",
      "Epoch 76 - loss: 0.9765, acc: 92.52% / test_loss: 0.9810, test_acc: 92.13%\n",
      "Epoch 77 - loss: 0.9748, acc: 92.73% / test_loss: 0.9787, test_acc: 92.28%\n",
      "Epoch 78 - loss: 0.9760, acc: 92.56% / test_loss: 0.9768, test_acc: 92.55%\n",
      "Epoch 79 - loss: 0.9738, acc: 92.79% / test_loss: 0.9737, test_acc: 92.81%\n",
      "Epoch 80 - loss: 0.9733, acc: 92.80% / test_loss: 0.9754, test_acc: 92.63%\n",
      "Epoch 81 - loss: 0.9746, acc: 92.75% / test_loss: 0.9764, test_acc: 92.51%\n",
      "Epoch 82 - loss: 0.9744, acc: 92.75% / test_loss: 0.9740, test_acc: 92.74%\n",
      "Epoch 83 - loss: 0.9741, acc: 92.76% / test_loss: 0.9797, test_acc: 92.18%\n",
      "Epoch 84 - loss: 0.9726, acc: 92.92% / test_loss: 0.9734, test_acc: 92.80%\n",
      "Epoch 85 - loss: 0.9722, acc: 92.91% / test_loss: 0.9766, test_acc: 92.48%\n",
      "Epoch 86 - loss: 0.9712, acc: 93.05% / test_loss: 0.9833, test_acc: 91.79%\n",
      "Epoch 87 - loss: 0.9727, acc: 92.92% / test_loss: 0.9786, test_acc: 92.31%\n",
      "Epoch 88 - loss: 0.9739, acc: 92.77% / test_loss: 0.9760, test_acc: 92.54%\n",
      "Epoch 89 - loss: 0.9725, acc: 92.92% / test_loss: 0.9815, test_acc: 92.00%\n",
      "Epoch 90 - loss: 0.9702, acc: 93.12% / test_loss: 0.9743, test_acc: 92.74%\n",
      "Epoch 91 - loss: 0.9700, acc: 93.19% / test_loss: 0.9710, test_acc: 93.05%\n",
      "Epoch 92 - loss: 0.9704, acc: 93.12% / test_loss: 0.9729, test_acc: 92.86%\n",
      "Epoch 93 - loss: 0.9707, acc: 93.11% / test_loss: 0.9728, test_acc: 92.86%\n",
      "Epoch 94 - loss: 0.9711, acc: 93.03% / test_loss: 0.9767, test_acc: 92.50%\n",
      "Epoch 95 - loss: 0.9711, acc: 93.06% / test_loss: 0.9777, test_acc: 92.43%\n",
      "Epoch 96 - loss: 0.9687, acc: 93.30% / test_loss: 0.9748, test_acc: 92.64%\n",
      "Epoch 97 - loss: 0.9681, acc: 93.33% / test_loss: 0.9749, test_acc: 92.59%\n",
      "Epoch 98 - loss: 0.9699, acc: 93.16% / test_loss: 0.9743, test_acc: 92.66%\n",
      "Epoch 99 - loss: 0.9707, acc: 93.05% / test_loss: 0.9738, test_acc: 92.71%\n",
      "Epoch 100 - loss: 0.9693, acc: 93.20% / test_loss: 0.9719, test_acc: 92.95%\n",
      "Epoch 101 - loss: 0.9679, acc: 93.36% / test_loss: 0.9703, test_acc: 93.10%\n",
      "Epoch 102 - loss: 0.9697, acc: 93.16% / test_loss: 0.9718, test_acc: 92.91%\n",
      "Epoch 103 - loss: 0.9673, acc: 93.39% / test_loss: 0.9713, test_acc: 92.97%\n",
      "Epoch 104 - loss: 0.9681, acc: 93.30% / test_loss: 0.9773, test_acc: 92.37%\n",
      "Epoch 105 - loss: 0.9698, acc: 93.14% / test_loss: 0.9772, test_acc: 92.41%\n",
      "Epoch 106 - loss: 0.9705, acc: 93.08% / test_loss: 0.9728, test_acc: 92.88%\n",
      "Epoch 107 - loss: 0.9691, acc: 93.24% / test_loss: 0.9765, test_acc: 92.50%\n",
      "Epoch 108 - loss: 0.9680, acc: 93.33% / test_loss: 0.9727, test_acc: 92.79%\n",
      "Epoch 109 - loss: 0.9688, acc: 93.25% / test_loss: 0.9729, test_acc: 92.84%\n"
     ]
    },
    {
     "name": "stdout",
     "output_type": "stream",
     "text": [
      "Epoch 110 - loss: 0.9689, acc: 93.24% / test_loss: 0.9706, test_acc: 93.05%\n",
      "Epoch 111 - loss: 0.9696, acc: 93.18% / test_loss: 0.9711, test_acc: 93.00%\n",
      "Epoch 112 - loss: 0.9668, acc: 93.46% / test_loss: 0.9712, test_acc: 92.97%\n",
      "Epoch 113 - loss: 0.9666, acc: 93.47% / test_loss: 0.9724, test_acc: 92.91%\n",
      "Epoch 114 - loss: 0.9679, acc: 93.34% / test_loss: 0.9708, test_acc: 93.05%\n",
      "Epoch 115 - loss: 0.9670, acc: 93.39% / test_loss: 0.9722, test_acc: 92.87%\n",
      "Epoch 116 - loss: 0.9691, acc: 93.20% / test_loss: 0.9726, test_acc: 92.84%\n",
      "Epoch 117 - loss: 0.9682, acc: 93.33% / test_loss: 0.9715, test_acc: 92.95%\n",
      "Epoch 118 - loss: 0.9663, acc: 93.48% / test_loss: 0.9726, test_acc: 92.83%\n",
      "Epoch 119 - loss: 0.9671, acc: 93.40% / test_loss: 0.9713, test_acc: 92.97%\n",
      "Epoch 120 - loss: 0.9660, acc: 93.55% / test_loss: 0.9846, test_acc: 91.63%\n",
      "Epoch 121 - loss: 0.9689, acc: 93.23% / test_loss: 0.9738, test_acc: 92.74%\n",
      "Epoch 122 - loss: 0.9694, acc: 93.20% / test_loss: 0.9748, test_acc: 92.67%\n",
      "Epoch 123 - loss: 0.9662, acc: 93.48% / test_loss: 0.9708, test_acc: 93.05%\n",
      "Epoch 124 - loss: 0.9683, acc: 93.25% / test_loss: 0.9715, test_acc: 92.96%\n",
      "Epoch 125 - loss: 0.9669, acc: 93.41% / test_loss: 0.9761, test_acc: 92.49%\n",
      "Epoch 126 - loss: 0.9666, acc: 93.45% / test_loss: 0.9721, test_acc: 92.93%\n",
      "Epoch 127 - loss: 0.9666, acc: 93.47% / test_loss: 0.9720, test_acc: 92.90%\n",
      "Epoch 128 - loss: 0.9684, acc: 93.28% / test_loss: 0.9726, test_acc: 92.85%\n",
      "Epoch 129 - loss: 0.9663, acc: 93.48% / test_loss: 0.9689, test_acc: 93.21%\n",
      "Epoch 130 - loss: 0.9663, acc: 93.48% / test_loss: 0.9696, test_acc: 93.14%\n",
      "Epoch 131 - loss: 0.9657, acc: 93.54% / test_loss: 0.9689, test_acc: 93.24%\n",
      "Epoch 132 - loss: 0.9668, acc: 93.43% / test_loss: 0.9714, test_acc: 92.98%\n",
      "Epoch 133 - loss: 0.9665, acc: 93.46% / test_loss: 0.9693, test_acc: 93.20%\n",
      "Epoch 134 - loss: 0.9672, acc: 93.42% / test_loss: 0.9723, test_acc: 92.92%\n",
      "Epoch 135 - loss: 0.9658, acc: 93.53% / test_loss: 0.9702, test_acc: 93.06%\n",
      "Epoch 136 - loss: 0.9655, acc: 93.55% / test_loss: 0.9713, test_acc: 92.97%\n",
      "Epoch 137 - loss: 0.9672, acc: 93.39% / test_loss: 0.9692, test_acc: 93.19%\n",
      "Epoch 138 - loss: 0.9651, acc: 93.61% / test_loss: 0.9690, test_acc: 93.21%\n",
      "Epoch 139 - loss: 0.9655, acc: 93.54% / test_loss: 0.9700, test_acc: 93.10%\n",
      "Epoch 140 - loss: 0.9656, acc: 93.54% / test_loss: 0.9851, test_acc: 91.73%\n",
      "Epoch 141 - loss: 0.9690, acc: 93.23% / test_loss: 0.9690, test_acc: 93.24%\n",
      "Epoch 142 - loss: 0.9664, acc: 93.48% / test_loss: 0.9736, test_acc: 92.74%\n",
      "Epoch 143 - loss: 0.9669, acc: 93.44% / test_loss: 0.9728, test_acc: 92.81%\n",
      "Epoch 144 - loss: 0.9664, acc: 93.48% / test_loss: 0.9705, test_acc: 93.05%\n",
      "Epoch 145 - loss: 0.9663, acc: 93.44% / test_loss: 0.9785, test_acc: 92.25%\n",
      "Epoch 146 - loss: 0.9666, acc: 93.42% / test_loss: 0.9704, test_acc: 93.12%\n",
      "Epoch 147 - loss: 0.9648, acc: 93.64% / test_loss: 0.9688, test_acc: 93.23%\n",
      "Epoch 148 - loss: 0.9660, acc: 93.51% / test_loss: 0.9709, test_acc: 93.01%\n",
      "Epoch 149 - loss: 0.9657, acc: 93.51% / test_loss: 0.9691, test_acc: 93.20%\n",
      "Epoch 150 - loss: 0.9654, acc: 93.57% / test_loss: 0.9701, test_acc: 93.09%\n",
      "Epoch 151 - loss: 0.9647, acc: 93.64% / test_loss: 0.9731, test_acc: 92.80%\n",
      "Epoch 152 - loss: 0.9667, acc: 93.44% / test_loss: 0.9743, test_acc: 92.74%\n",
      "Epoch 153 - loss: 0.9646, acc: 93.66% / test_loss: 0.9695, test_acc: 93.17%\n",
      "Epoch 154 - loss: 0.9648, acc: 93.63% / test_loss: 0.9678, test_acc: 93.33%\n",
      "Epoch 155 - loss: 0.9676, acc: 93.33% / test_loss: 0.9717, test_acc: 92.80%\n",
      "Epoch 156 - loss: 0.9248, acc: 98.04% / test_loss: 0.9289, test_acc: 97.60%\n",
      "Epoch 157 - loss: 0.9207, acc: 98.43% / test_loss: 0.9299, test_acc: 97.50%\n",
      "Epoch 158 - loss: 0.9229, acc: 98.21% / test_loss: 0.9410, test_acc: 96.38%\n",
      "Epoch 159 - loss: 0.9219, acc: 98.29% / test_loss: 0.9279, test_acc: 97.71%\n",
      "Epoch 160 - loss: 0.9179, acc: 98.72% / test_loss: 0.9252, test_acc: 97.95%\n",
      "Epoch 161 - loss: 0.9162, acc: 98.88% / test_loss: 0.9244, test_acc: 98.07%\n",
      "Epoch 162 - loss: 0.9191, acc: 98.58% / test_loss: 0.9472, test_acc: 95.73%\n",
      "Epoch 163 - loss: 0.9190, acc: 98.59% / test_loss: 0.9257, test_acc: 97.89%\n",
      "Epoch 164 - loss: 0.9173, acc: 98.77% / test_loss: 0.9252, test_acc: 97.97%\n",
      "Epoch 165 - loss: 0.9192, acc: 98.56% / test_loss: 0.9337, test_acc: 97.12%\n",
      "Epoch 166 - loss: 0.9197, acc: 98.51% / test_loss: 0.9246, test_acc: 98.02%\n",
      "Epoch 167 - loss: 0.9176, acc: 98.75% / test_loss: 0.9244, test_acc: 98.03%\n",
      "Epoch 168 - loss: 0.9166, acc: 98.82% / test_loss: 0.9256, test_acc: 97.91%\n",
      "Epoch 169 - loss: 0.9176, acc: 98.73% / test_loss: 0.9245, test_acc: 98.04%\n",
      "Epoch 170 - loss: 0.9188, acc: 98.60% / test_loss: 0.9273, test_acc: 97.73%\n",
      "Epoch 171 - loss: 0.9184, acc: 98.62% / test_loss: 0.9262, test_acc: 97.84%\n",
      "Epoch 172 - loss: 0.9174, acc: 98.75% / test_loss: 0.9299, test_acc: 97.51%\n",
      "Epoch 173 - loss: 0.9177, acc: 98.71% / test_loss: 0.9253, test_acc: 97.98%\n",
      "Epoch 174 - loss: 0.9164, acc: 98.86% / test_loss: 0.9247, test_acc: 98.03%\n",
      "Epoch 175 - loss: 0.9173, acc: 98.75% / test_loss: 0.9249, test_acc: 97.96%\n",
      "Epoch 176 - loss: 0.9170, acc: 98.77% / test_loss: 0.9230, test_acc: 98.17%\n",
      "Epoch 177 - loss: 0.9185, acc: 98.63% / test_loss: 0.9271, test_acc: 97.79%\n",
      "Epoch 178 - loss: 0.9182, acc: 98.66% / test_loss: 0.9235, test_acc: 98.14%\n",
      "Epoch 179 - loss: 0.9171, acc: 98.77% / test_loss: 0.9246, test_acc: 98.03%\n",
      "Epoch 180 - loss: 0.9178, acc: 98.71% / test_loss: 0.9253, test_acc: 97.95%\n",
      "Epoch 181 - loss: 0.9180, acc: 98.69% / test_loss: 0.9280, test_acc: 97.69%\n",
      "Epoch 182 - loss: 0.9208, acc: 98.38% / test_loss: 0.9239, test_acc: 98.08%\n",
      "Epoch 183 - loss: 0.9165, acc: 98.84% / test_loss: 0.9252, test_acc: 97.95%\n",
      "Epoch 184 - loss: 0.9160, acc: 98.88% / test_loss: 0.9253, test_acc: 97.96%\n",
      "Epoch 185 - loss: 0.9177, acc: 98.69% / test_loss: 0.9311, test_acc: 97.37%\n",
      "Epoch 186 - loss: 0.9198, acc: 98.50% / test_loss: 0.9305, test_acc: 97.40%\n",
      "Epoch 187 - loss: 0.9176, acc: 98.74% / test_loss: 0.9260, test_acc: 97.86%\n",
      "Epoch 188 - loss: 0.9171, acc: 98.79% / test_loss: 0.9250, test_acc: 97.98%\n",
      "Epoch 189 - loss: 0.9171, acc: 98.78% / test_loss: 0.9262, test_acc: 97.86%\n",
      "Epoch 190 - loss: 0.9170, acc: 98.78% / test_loss: 0.9240, test_acc: 98.06%\n",
      "Epoch 191 - loss: 0.9183, acc: 98.63% / test_loss: 0.9291, test_acc: 97.58%\n",
      "Epoch 192 - loss: 0.9165, acc: 98.84% / test_loss: 0.9242, test_acc: 98.06%\n",
      "Epoch 193 - loss: 0.9179, acc: 98.69% / test_loss: 0.9239, test_acc: 98.08%\n",
      "Epoch 194 - loss: 0.9183, acc: 98.69% / test_loss: 0.9295, test_acc: 97.47%\n",
      "Epoch 195 - loss: 0.9178, acc: 98.69% / test_loss: 0.9248, test_acc: 97.99%\n",
      "Epoch 196 - loss: 0.9164, acc: 98.84% / test_loss: 0.9244, test_acc: 98.04%\n",
      "Epoch 197 - loss: 0.9189, acc: 98.60% / test_loss: 0.9229, test_acc: 98.17%\n",
      "Epoch 198 - loss: 0.9160, acc: 98.88% / test_loss: 0.9234, test_acc: 98.11%\n",
      "Epoch 199 - loss: 0.9205, acc: 98.41% / test_loss: 0.9278, test_acc: 97.73%\n",
      "Epoch 200 - loss: 0.9175, acc: 98.75% / test_loss: 0.9238, test_acc: 98.08%\n",
      "Epoch 201 - loss: 0.9209, acc: 98.40% / test_loss: 0.9338, test_acc: 97.10%\n",
      "Epoch 202 - loss: 0.9193, acc: 98.54% / test_loss: 0.9244, test_acc: 97.98%\n",
      "Epoch 203 - loss: 0.9171, acc: 98.76% / test_loss: 0.9216, test_acc: 98.31%\n",
      "Epoch 204 - loss: 0.9148, acc: 99.00% / test_loss: 0.9232, test_acc: 98.17%\n",
      "Epoch 205 - loss: 0.9163, acc: 98.83% / test_loss: 0.9220, test_acc: 98.32%\n",
      "Epoch 206 - loss: 0.9154, acc: 98.94% / test_loss: 0.9226, test_acc: 98.21%\n",
      "Epoch 207 - loss: 0.9157, acc: 98.91% / test_loss: 0.9245, test_acc: 98.03%\n",
      "Epoch 208 - loss: 0.9183, acc: 98.64% / test_loss: 0.9279, test_acc: 97.67%\n",
      "Epoch 209 - loss: 0.9202, acc: 98.44% / test_loss: 0.9240, test_acc: 98.07%\n",
      "Epoch 210 - loss: 0.9160, acc: 98.89% / test_loss: 0.9219, test_acc: 98.31%\n",
      "Epoch 211 - loss: 0.9153, acc: 98.95% / test_loss: 0.9245, test_acc: 98.02%\n",
      "Epoch 212 - loss: 0.9160, acc: 98.86% / test_loss: 0.9254, test_acc: 97.93%\n",
      "Epoch 213 - loss: 0.9176, acc: 98.70% / test_loss: 0.9228, test_acc: 98.19%\n",
      "Epoch 214 - loss: 0.9167, acc: 98.82% / test_loss: 0.9241, test_acc: 98.05%\n",
      "Epoch 215 - loss: 0.9173, acc: 98.73% / test_loss: 0.9244, test_acc: 98.02%\n",
      "Epoch 216 - loss: 0.9176, acc: 98.75% / test_loss: 0.9258, test_acc: 97.89%\n",
      "Epoch 217 - loss: 0.9178, acc: 98.69% / test_loss: 0.9232, test_acc: 98.17%\n"
     ]
    },
    {
     "name": "stdout",
     "output_type": "stream",
     "text": [
      "Epoch 218 - loss: 0.9164, acc: 98.84% / test_loss: 0.9233, test_acc: 98.17%\n",
      "Epoch 219 - loss: 0.9166, acc: 98.84% / test_loss: 0.9277, test_acc: 97.73%\n",
      "Epoch 220 - loss: 0.9201, acc: 98.47% / test_loss: 0.9244, test_acc: 98.06%\n",
      "Epoch 221 - loss: 0.9178, acc: 98.70% / test_loss: 0.9252, test_acc: 97.98%\n",
      "Epoch 222 - loss: 0.9179, acc: 98.70% / test_loss: 0.9301, test_acc: 97.43%\n",
      "Epoch 223 - loss: 0.9180, acc: 98.67% / test_loss: 0.9247, test_acc: 97.98%\n",
      "Epoch 224 - loss: 0.9163, acc: 98.86% / test_loss: 0.9235, test_acc: 98.15%\n",
      "Epoch 225 - loss: 0.9147, acc: 99.00% / test_loss: 0.9214, test_acc: 98.35%\n",
      "Epoch 226 - loss: 0.9152, acc: 98.96% / test_loss: 0.9242, test_acc: 98.06%\n",
      "Epoch 227 - loss: 0.9166, acc: 98.84% / test_loss: 0.9274, test_acc: 97.75%\n",
      "Epoch 228 - loss: 0.9200, acc: 98.48% / test_loss: 0.9256, test_acc: 97.92%\n",
      "Epoch 229 - loss: 0.9179, acc: 98.68% / test_loss: 0.9286, test_acc: 97.63%\n",
      "Epoch 230 - loss: 0.9174, acc: 98.72% / test_loss: 0.9222, test_acc: 98.26%\n",
      "Epoch 231 - loss: 0.9156, acc: 98.93% / test_loss: 0.9222, test_acc: 98.26%\n",
      "Epoch 232 - loss: 0.9155, acc: 98.94% / test_loss: 0.9298, test_acc: 97.50%\n",
      "Epoch 233 - loss: 0.9172, acc: 98.75% / test_loss: 0.9255, test_acc: 97.93%\n",
      "Epoch 234 - loss: 0.9159, acc: 98.90% / test_loss: 0.9225, test_acc: 98.22%\n",
      "Epoch 235 - loss: 0.9149, acc: 99.00% / test_loss: 0.9242, test_acc: 98.07%\n",
      "Epoch 236 - loss: 0.9179, acc: 98.66% / test_loss: 0.9257, test_acc: 97.91%\n",
      "Epoch 237 - loss: 0.9159, acc: 98.89% / test_loss: 0.9233, test_acc: 98.15%\n",
      "Epoch 238 - loss: 0.9150, acc: 98.99% / test_loss: 0.9220, test_acc: 98.29%\n",
      "Epoch 239 - loss: 0.9171, acc: 98.75% / test_loss: 0.9282, test_acc: 97.64%\n",
      "Epoch 240 - loss: 0.9175, acc: 98.75% / test_loss: 0.9250, test_acc: 97.98%\n",
      "Epoch 241 - loss: 0.9171, acc: 98.78% / test_loss: 0.9225, test_acc: 98.22%\n",
      "Epoch 242 - loss: 0.9169, acc: 98.78% / test_loss: 0.9242, test_acc: 98.02%\n",
      "Epoch 243 - loss: 0.9172, acc: 98.74% / test_loss: 0.9264, test_acc: 97.83%\n",
      "Epoch 244 - loss: 0.9209, acc: 98.34% / test_loss: 0.9248, test_acc: 98.01%\n",
      "Epoch 245 - loss: 0.9166, acc: 98.83% / test_loss: 0.9237, test_acc: 98.10%\n",
      "Epoch 246 - loss: 0.9173, acc: 98.73% / test_loss: 0.9307, test_acc: 97.40%\n",
      "Epoch 247 - loss: 0.9156, acc: 98.92% / test_loss: 0.9275, test_acc: 97.69%\n",
      "Epoch 248 - loss: 0.9164, acc: 98.82% / test_loss: 0.9228, test_acc: 98.23%\n",
      "Epoch 249 - loss: 0.9170, acc: 98.77% / test_loss: 0.9222, test_acc: 98.27%\n",
      "Epoch 250 - loss: 0.9158, acc: 98.88% / test_loss: 0.9242, test_acc: 98.05%\n",
      "Epoch 251 - loss: 0.9156, acc: 98.91% / test_loss: 0.9226, test_acc: 98.21%\n",
      "Epoch 252 - loss: 0.9146, acc: 99.03% / test_loss: 0.9221, test_acc: 98.27%\n",
      "Epoch 253 - loss: 0.9165, acc: 98.82% / test_loss: 0.9450, test_acc: 95.96%\n",
      "Epoch 254 - loss: 0.9182, acc: 98.66% / test_loss: 0.9231, test_acc: 98.18%\n",
      "Epoch 255 - loss: 0.9151, acc: 98.97% / test_loss: 0.9284, test_acc: 97.61%\n",
      "Epoch 256 - loss: 0.9164, acc: 98.85% / test_loss: 0.9228, test_acc: 98.17%\n",
      "Epoch 257 - loss: 0.9163, acc: 98.84% / test_loss: 0.9256, test_acc: 97.90%\n",
      "Epoch 258 - loss: 0.9164, acc: 98.84% / test_loss: 0.9261, test_acc: 97.88%\n",
      "Epoch 259 - loss: 0.9175, acc: 98.72% / test_loss: 0.9307, test_acc: 97.40%\n",
      "Epoch 260 - loss: 0.9172, acc: 98.76% / test_loss: 0.9247, test_acc: 98.01%\n",
      "Epoch 261 - loss: 0.9171, acc: 98.77% / test_loss: 0.9233, test_acc: 98.14%\n",
      "Epoch 262 - loss: 0.9156, acc: 98.94% / test_loss: 0.9229, test_acc: 98.20%\n",
      "Epoch 263 - loss: 0.9148, acc: 99.01% / test_loss: 0.9233, test_acc: 98.14%\n",
      "Epoch 264 - loss: 0.9160, acc: 98.87% / test_loss: 0.9281, test_acc: 97.67%\n",
      "Epoch 265 - loss: 0.9173, acc: 98.72% / test_loss: 0.9219, test_acc: 98.30%\n",
      "Epoch 266 - loss: 0.9160, acc: 98.88% / test_loss: 0.9261, test_acc: 97.85%\n",
      "Epoch 267 - loss: 0.9168, acc: 98.81% / test_loss: 0.9248, test_acc: 98.01%\n",
      "Epoch 268 - loss: 0.9150, acc: 98.97% / test_loss: 0.9224, test_acc: 98.25%\n",
      "Epoch 269 - loss: 0.9167, acc: 98.81% / test_loss: 0.9215, test_acc: 98.34%\n",
      "Epoch 270 - loss: 0.9149, acc: 99.00% / test_loss: 0.9218, test_acc: 98.29%\n",
      "Epoch 271 - loss: 0.9155, acc: 98.93% / test_loss: 0.9235, test_acc: 98.12%\n",
      "Epoch 272 - loss: 0.9173, acc: 98.74% / test_loss: 0.9238, test_acc: 98.10%\n",
      "Epoch 273 - loss: 0.9173, acc: 98.74% / test_loss: 0.9260, test_acc: 97.86%\n",
      "Epoch 274 - loss: 0.9171, acc: 98.77% / test_loss: 0.9255, test_acc: 97.92%\n",
      "Epoch 275 - loss: 0.9193, acc: 98.54% / test_loss: 0.9251, test_acc: 97.94%\n",
      "Epoch 276 - loss: 0.9179, acc: 98.69% / test_loss: 0.9300, test_acc: 97.46%\n",
      "Epoch 277 - loss: 0.9188, acc: 98.59% / test_loss: 0.9234, test_acc: 98.14%\n",
      "Epoch 278 - loss: 0.9217, acc: 98.31% / test_loss: 0.9256, test_acc: 97.94%\n",
      "Epoch 279 - loss: 0.9167, acc: 98.83% / test_loss: 0.9236, test_acc: 98.10%\n",
      "Epoch 280 - loss: 0.9157, acc: 98.91% / test_loss: 0.9257, test_acc: 97.91%\n",
      "Epoch 281 - loss: 0.9157, acc: 98.91% / test_loss: 0.9267, test_acc: 97.80%\n",
      "Epoch 282 - loss: 0.9164, acc: 98.83% / test_loss: 0.9249, test_acc: 97.98%\n",
      "Epoch 283 - loss: 0.9158, acc: 98.90% / test_loss: 0.9261, test_acc: 97.83%\n",
      "Epoch 284 - loss: 0.9147, acc: 99.02% / test_loss: 0.9230, test_acc: 98.18%\n",
      "Epoch 285 - loss: 0.9148, acc: 99.00% / test_loss: 0.9229, test_acc: 98.20%\n",
      "Epoch 286 - loss: 0.9148, acc: 99.01% / test_loss: 0.9229, test_acc: 98.17%\n",
      "Epoch 287 - loss: 0.9207, acc: 98.40% / test_loss: 0.9260, test_acc: 97.86%\n",
      "Epoch 288 - loss: 0.9156, acc: 98.93% / test_loss: 0.9239, test_acc: 98.08%\n",
      "Epoch 289 - loss: 0.9182, acc: 98.64% / test_loss: 0.9284, test_acc: 97.64%\n",
      "Epoch 290 - loss: 0.9152, acc: 98.97% / test_loss: 0.9226, test_acc: 98.20%\n",
      "Epoch 291 - loss: 0.9148, acc: 99.00% / test_loss: 0.9244, test_acc: 98.06%\n",
      "Epoch 292 - loss: 0.9151, acc: 98.97% / test_loss: 0.9222, test_acc: 98.26%\n",
      "Epoch 293 - loss: 0.9158, acc: 98.90% / test_loss: 0.9248, test_acc: 98.00%\n",
      "Epoch 294 - loss: 0.9179, acc: 98.69% / test_loss: 0.9240, test_acc: 98.07%\n",
      "Epoch 295 - loss: 0.9174, acc: 98.73% / test_loss: 0.9229, test_acc: 98.19%\n",
      "Epoch 296 - loss: 0.9165, acc: 98.83% / test_loss: 0.9237, test_acc: 98.12%\n",
      "Epoch 297 - loss: 0.9161, acc: 98.87% / test_loss: 0.9228, test_acc: 98.20%\n",
      "Epoch 298 - loss: 0.9154, acc: 98.93% / test_loss: 0.9221, test_acc: 98.26%\n",
      "Epoch 299 - loss: 0.9149, acc: 99.00% / test_loss: 0.9220, test_acc: 98.28%\n",
      "Epoch 300 - loss: 0.9143, acc: 99.06% / test_loss: 0.9215, test_acc: 98.32%\n",
      "Epoch 301 - loss: 0.9176, acc: 98.72% / test_loss: 0.9285, test_acc: 97.64%\n",
      "Epoch 302 - loss: 0.9164, acc: 98.84% / test_loss: 0.9279, test_acc: 97.70%\n",
      "Epoch 303 - loss: 0.9169, acc: 98.79% / test_loss: 0.9269, test_acc: 97.80%\n",
      "Epoch 304 - loss: 0.9186, acc: 98.63% / test_loss: 0.9256, test_acc: 97.90%\n",
      "Epoch 305 - loss: 0.9168, acc: 98.80% / test_loss: 0.9263, test_acc: 97.84%\n",
      "Epoch 306 - loss: 0.9177, acc: 98.70% / test_loss: 0.9260, test_acc: 97.88%\n",
      "Epoch 307 - loss: 0.9177, acc: 98.69% / test_loss: 0.9315, test_acc: 97.33%\n",
      "Epoch 308 - loss: 0.9166, acc: 98.84% / test_loss: 0.9234, test_acc: 98.13%\n",
      "Epoch 309 - loss: 0.9186, acc: 98.61% / test_loss: 0.9275, test_acc: 97.73%\n",
      "Epoch 310 - loss: 0.9149, acc: 98.98% / test_loss: 0.9260, test_acc: 97.89%\n",
      "Epoch 311 - loss: 0.9233, acc: 98.13% / test_loss: 0.9332, test_acc: 97.13%\n",
      "Epoch 312 - loss: 0.9178, acc: 98.69% / test_loss: 0.9218, test_acc: 98.29%\n",
      "Epoch 313 - loss: 0.9142, acc: 99.06% / test_loss: 0.9230, test_acc: 98.18%\n",
      "Epoch 314 - loss: 0.9144, acc: 99.05% / test_loss: 0.9236, test_acc: 98.11%\n",
      "Epoch 315 - loss: 0.9148, acc: 99.00% / test_loss: 0.9234, test_acc: 98.13%\n",
      "Epoch 316 - loss: 0.9190, acc: 98.58% / test_loss: 0.9297, test_acc: 97.52%\n",
      "Epoch 317 - loss: 0.9165, acc: 98.82% / test_loss: 0.9233, test_acc: 98.14%\n",
      "Epoch 318 - loss: 0.9153, acc: 98.94% / test_loss: 0.9240, test_acc: 98.06%\n",
      "Epoch 319 - loss: 0.9151, acc: 98.96% / test_loss: 0.9236, test_acc: 98.13%\n",
      "Epoch 320 - loss: 0.9157, acc: 98.91% / test_loss: 0.9279, test_acc: 97.68%\n",
      "Epoch 321 - loss: 0.9166, acc: 98.81% / test_loss: 0.9247, test_acc: 98.02%\n",
      "Epoch 322 - loss: 0.9147, acc: 99.02% / test_loss: 0.9221, test_acc: 98.26%\n",
      "Epoch 323 - loss: 0.9154, acc: 98.93% / test_loss: 0.9215, test_acc: 98.34%\n",
      "Epoch 324 - loss: 0.9148, acc: 99.00% / test_loss: 0.9238, test_acc: 98.12%\n",
      "Epoch 325 - loss: 0.9229, acc: 98.18% / test_loss: 0.9249, test_acc: 97.98%\n"
     ]
    },
    {
     "name": "stdout",
     "output_type": "stream",
     "text": [
      "Epoch 326 - loss: 0.9165, acc: 98.84% / test_loss: 0.9259, test_acc: 97.89%\n",
      "Epoch 327 - loss: 0.9155, acc: 98.93% / test_loss: 0.9233, test_acc: 98.13%\n",
      "Epoch 328 - loss: 0.9138, acc: 99.11% / test_loss: 0.9233, test_acc: 98.15%\n",
      "Epoch 329 - loss: 0.9150, acc: 98.97% / test_loss: 0.9229, test_acc: 98.20%\n",
      "Epoch 330 - loss: 0.9166, acc: 98.82% / test_loss: 0.9255, test_acc: 97.92%\n",
      "Epoch 331 - loss: 0.9149, acc: 99.00% / test_loss: 0.9232, test_acc: 98.17%\n",
      "Epoch 332 - loss: 0.9163, acc: 98.86% / test_loss: 0.9242, test_acc: 98.06%\n",
      "Epoch 333 - loss: 0.9165, acc: 98.84% / test_loss: 0.9237, test_acc: 98.11%\n",
      "Epoch 334 - loss: 0.9155, acc: 98.93% / test_loss: 0.9253, test_acc: 97.94%\n",
      "Epoch 335 - loss: 0.9152, acc: 98.95% / test_loss: 0.9232, test_acc: 98.17%\n",
      "Epoch 336 - loss: 0.9144, acc: 99.03% / test_loss: 0.9285, test_acc: 97.63%\n",
      "Epoch 337 - loss: 0.9175, acc: 98.73% / test_loss: 0.9240, test_acc: 98.06%\n",
      "Epoch 338 - loss: 0.9169, acc: 98.78% / test_loss: 0.9274, test_acc: 97.73%\n",
      "Epoch 339 - loss: 0.9156, acc: 98.94% / test_loss: 0.9223, test_acc: 98.25%\n",
      "Epoch 340 - loss: 0.9164, acc: 98.84% / test_loss: 0.9225, test_acc: 98.23%\n",
      "Epoch 341 - loss: 0.9150, acc: 98.99% / test_loss: 0.9228, test_acc: 98.22%\n",
      "Epoch 342 - loss: 0.9140, acc: 99.08% / test_loss: 0.9221, test_acc: 98.27%\n",
      "Epoch 343 - loss: 0.9175, acc: 98.73% / test_loss: 0.9276, test_acc: 97.73%\n",
      "Epoch 344 - loss: 0.9209, acc: 98.39% / test_loss: 0.9247, test_acc: 98.01%\n",
      "Epoch 345 - loss: 0.9160, acc: 98.87% / test_loss: 0.9226, test_acc: 98.22%\n",
      "Epoch 346 - loss: 0.9151, acc: 98.97% / test_loss: 0.9232, test_acc: 98.15%\n",
      "Epoch 347 - loss: 0.9180, acc: 98.67% / test_loss: 0.9225, test_acc: 98.23%\n",
      "Epoch 348 - loss: 0.9158, acc: 98.91% / test_loss: 0.9237, test_acc: 98.09%\n",
      "Epoch 349 - loss: 0.9174, acc: 98.75% / test_loss: 0.9277, test_acc: 97.70%\n",
      "Epoch 350 - loss: 0.9157, acc: 98.91% / test_loss: 0.9232, test_acc: 98.18%\n",
      "Epoch 351 - loss: 0.9193, acc: 98.57% / test_loss: 0.9284, test_acc: 97.63%\n",
      "Epoch 352 - loss: 0.9166, acc: 98.81% / test_loss: 0.9282, test_acc: 97.61%\n",
      "Epoch 353 - loss: 0.9171, acc: 98.77% / test_loss: 0.9228, test_acc: 98.20%\n",
      "Epoch 354 - loss: 0.9170, acc: 98.76% / test_loss: 0.9237, test_acc: 98.11%\n",
      "Epoch 355 - loss: 0.9169, acc: 98.78% / test_loss: 0.9238, test_acc: 98.10%\n",
      "Epoch 356 - loss: 0.9162, acc: 98.85% / test_loss: 0.9212, test_acc: 98.35%\n",
      "Epoch 357 - loss: 0.9150, acc: 98.97% / test_loss: 0.9228, test_acc: 98.18%\n",
      "Epoch 358 - loss: 0.9148, acc: 99.00% / test_loss: 0.9248, test_acc: 98.01%\n",
      "Epoch 359 - loss: 0.9148, acc: 99.00% / test_loss: 0.9217, test_acc: 98.32%\n",
      "Epoch 360 - loss: 0.9192, acc: 98.54% / test_loss: 0.9280, test_acc: 97.67%\n",
      "Epoch 361 - loss: 0.9178, acc: 98.70% / test_loss: 0.9235, test_acc: 98.14%\n",
      "Epoch 362 - loss: 0.9147, acc: 99.01% / test_loss: 0.9229, test_acc: 98.18%\n",
      "Epoch 363 - loss: 0.9155, acc: 98.93% / test_loss: 0.9235, test_acc: 98.11%\n",
      "Epoch 364 - loss: 0.9156, acc: 98.92% / test_loss: 0.9249, test_acc: 97.99%\n",
      "Epoch 365 - loss: 0.9172, acc: 98.77% / test_loss: 0.9264, test_acc: 97.85%\n",
      "Epoch 366 - loss: 0.9173, acc: 98.76% / test_loss: 0.9213, test_acc: 98.35%\n",
      "Epoch 367 - loss: 0.9147, acc: 99.00% / test_loss: 0.9225, test_acc: 98.23%\n",
      "Epoch 368 - loss: 0.9143, acc: 99.05% / test_loss: 0.9230, test_acc: 98.17%\n",
      "Epoch 369 - loss: 0.9144, acc: 99.06% / test_loss: 0.9226, test_acc: 98.22%\n",
      "Epoch 370 - loss: 0.9150, acc: 98.98% / test_loss: 0.9228, test_acc: 98.22%\n",
      "Epoch 371 - loss: 0.9198, acc: 98.49% / test_loss: 0.9235, test_acc: 98.14%\n",
      "Epoch 372 - loss: 0.9144, acc: 99.04% / test_loss: 0.9226, test_acc: 98.21%\n",
      "Epoch 373 - loss: 0.9139, acc: 99.09% / test_loss: 0.9220, test_acc: 98.28%\n",
      "Epoch 374 - loss: 0.9142, acc: 99.06% / test_loss: 0.9234, test_acc: 98.14%\n",
      "Epoch 375 - loss: 0.9167, acc: 98.81% / test_loss: 0.9388, test_acc: 96.59%\n",
      "Epoch 376 - loss: 0.9179, acc: 98.69% / test_loss: 0.9219, test_acc: 98.31%\n",
      "Epoch 377 - loss: 0.9151, acc: 98.97% / test_loss: 0.9231, test_acc: 98.17%\n",
      "Epoch 378 - loss: 0.9148, acc: 99.00% / test_loss: 0.9287, test_acc: 97.58%\n",
      "Epoch 379 - loss: 0.9174, acc: 98.72% / test_loss: 0.9231, test_acc: 98.16%\n",
      "Epoch 380 - loss: 0.9141, acc: 99.07% / test_loss: 0.9274, test_acc: 97.75%\n",
      "Epoch 381 - loss: 0.9158, acc: 98.91% / test_loss: 0.9238, test_acc: 98.09%\n",
      "Epoch 382 - loss: 0.9170, acc: 98.78% / test_loss: 0.9250, test_acc: 97.95%\n",
      "Epoch 383 - loss: 0.9148, acc: 99.00% / test_loss: 0.9212, test_acc: 98.36%\n",
      "Epoch 384 - loss: 0.9150, acc: 98.99% / test_loss: 0.9220, test_acc: 98.29%\n",
      "Epoch 385 - loss: 0.9169, acc: 98.78% / test_loss: 0.9240, test_acc: 98.06%\n",
      "Epoch 386 - loss: 0.9155, acc: 98.94% / test_loss: 0.9221, test_acc: 98.27%\n",
      "Epoch 387 - loss: 0.9147, acc: 99.01% / test_loss: 0.9272, test_acc: 97.73%\n",
      "Epoch 388 - loss: 0.9159, acc: 98.88% / test_loss: 0.9228, test_acc: 98.20%\n",
      "Epoch 389 - loss: 0.9133, acc: 99.15% / test_loss: 0.9223, test_acc: 98.23%\n",
      "Epoch 390 - loss: 0.9164, acc: 98.83% / test_loss: 0.9308, test_acc: 97.37%\n",
      "Epoch 391 - loss: 0.9154, acc: 98.94% / test_loss: 0.9232, test_acc: 98.15%\n",
      "Epoch 392 - loss: 0.9147, acc: 99.02% / test_loss: 0.9234, test_acc: 98.14%\n",
      "Epoch 393 - loss: 0.9158, acc: 98.90% / test_loss: 0.9235, test_acc: 98.11%\n",
      "Epoch 394 - loss: 0.9159, acc: 98.90% / test_loss: 0.9235, test_acc: 98.12%\n",
      "Epoch 395 - loss: 0.9147, acc: 99.03% / test_loss: 0.9256, test_acc: 97.89%\n",
      "Epoch 396 - loss: 0.9231, acc: 98.17% / test_loss: 0.9241, test_acc: 98.07%\n",
      "Epoch 397 - loss: 0.9177, acc: 98.70% / test_loss: 0.9270, test_acc: 97.78%\n",
      "Epoch 398 - loss: 0.9188, acc: 98.60% / test_loss: 0.9249, test_acc: 98.01%\n",
      "Epoch 399 - loss: 0.9171, acc: 98.77% / test_loss: 0.9227, test_acc: 98.20%\n",
      "Epoch 400 - loss: 0.9164, acc: 98.81% / test_loss: 0.9304, test_acc: 97.43%\n",
      "Best test accuracy 98.36% in epoch 383.\n",
      "----------------------------------------------------------------------------------------------------\n"
     ]
    }
   ],
   "source": [
    "best_test_accs = list()\n",
    "\n",
    "for i in range(run):\n",
    "    print('Run', i+1)\n",
    "    \n",
    "    seed = 0\n",
    "    np.random.seed(seed)\n",
    "    torch.manual_seed(seed)\n",
    "    torch.cuda.manual_seed(seed)\n",
    "    torch.cuda.manual_seed_all(seed) # if you are using multi-GPU.\n",
    "    torch.backends.cudnn.benchmark = False\n",
    "    torch.backends.cudnn.deterministic = True\n",
    "    \n",
    "    ecgnet = ECGConv1D()  # init new model\n",
    "    torch.save(ecgnet.state_dict(), 'init_weight.pth')  # save init weights\n",
    "    train_losses, train_accs, test_losses, test_accs = train(i, ecgnet.to(device))  # train\n",
    "\n",
    "    best_test_accs.append(max(test_accs))  # get best test accuracy\n",
    "    best_test_acc_epoch = np.array(test_accs).argmax() + 1\n",
    "    print('Best test accuracy {:.2f}% in epoch {}.'.format(best_test_accs[-1]*100, best_test_acc_epoch))\n",
    "    print('-' * 100)\n",
    "\n",
    "    df = pd.DataFrame({  # save model training process into csv file\n",
    "        'loss': train_losses,\n",
    "        'test_loss': test_losses,\n",
    "        'acc': train_accs,\n",
    "        'test_acc': test_accs\n",
    "    })\n",
    "    df.to_csv(os.path.join(root_path, csv_dir, '_'.join([csv_name, str(i+1)]) + csv_ext))\n",
    "\n",
    "df = pd.DataFrame({'best_test_acc': best_test_accs})  # save best test accuracy of each run\n",
    "df.to_csv(os.path.join(root_path, csv_dir, csv_accs_name + csv_ext))"
   ]
  },
  {
   "cell_type": "markdown",
   "metadata": {
    "colab_type": "text",
    "id": "cpDwI7BFRjK6"
   },
   "source": [
    "## Print the best test accuracy of each run"
   ]
  },
  {
   "cell_type": "code",
   "execution_count": 14,
   "metadata": {
    "colab": {
     "base_uri": "https://localhost:8080/",
     "height": 201
    },
    "colab_type": "code",
    "executionInfo": {
     "elapsed": 141,
     "status": "ok",
     "timestamp": 1573150872213,
     "user": {
      "displayName": "Kyuyeon Kim",
      "photoUrl": "https://lh3.googleusercontent.com/a-/AAuE7mBDhZm6xUbCYNLGqOYDpm2QRhOirby0BI-zUCTw2g=s64",
      "userId": "05245697685138289125"
     },
     "user_tz": -540
    },
    "id": "Ne8dr7DaRUME",
    "outputId": "9a98648b-ee04-490e-de87-4c3e1095b2e7"
   },
   "outputs": [
    {
     "name": "stdout",
     "output_type": "stream",
     "text": [
      "Run 1: 98.36%\n"
     ]
    }
   ],
   "source": [
    "for i, a in enumerate(best_test_accs):\n",
    "    print('Run {}: {:.2f}%'.format(i+1, a*100))"
   ]
  },
  {
   "cell_type": "code",
   "execution_count": 18,
   "metadata": {},
   "outputs": [
    {
     "data": {
      "image/png": "[encoded data removed]",
      "text/plain": [
       "<Figure size 1080x288 with 2 Axes>"
      ]
     },
     "metadata": {
      "needs_background": "light"
     },
     "output_type": "display_data"
    }
   ],
   "source": [
    "df = pd.read_csv(os.path.join('csv', 'conv3_1.csv'))\n",
    "test_accs = df['test_acc']\n",
    "train_accs = df['acc']\n",
    "test_losses = df['test_loss']\n",
    "train_losses = df['loss']\n",
    "\n",
    "fig, ax = plt.subplots(1, 2, figsize=(15, 4))\n",
    "\n",
    "ax[0].plot(train_losses)\n",
    "ax[0].plot(test_losses)\n",
    "ax[0].set_xticks([0, 100, 200, 300, 400])\n",
    "ax[0].set_xlabel('Epoch', size=16)\n",
    "ax[0].set_ylabel('Loss', size=16)\n",
    "ax[0].set_ylim(0.9, 1.1)\n",
    "ax[0].set_yticks([0.9, 1.0, 1.1, 1.2])\n",
    "ax[0].grid(alpha=0.5)\n",
    "ax[0].tick_params(labelsize=16)\n",
    "ax[0].legend(['Train', 'Test'], loc='right', fontsize=16)\n",
    "\n",
    "ax[1].set_ylim(0.7, 1.0)\n",
    "ax[1].set_yticks([0.7, 0.8, 0.9, 1.0])\n",
    "ax[1].plot(train_accs)\n",
    "ax[1].plot(test_accs)\n",
    "yt = ax[1].get_yticks()\n",
    "ax[1].set_yticklabels(['{:,.0%}'.format(x) for x in yt])\n",
    "ax[1].set_xticks([0, 100, 200, 300, 400])\n",
    "ax[1].set_xlabel('Epoch', size=16)\n",
    "ax[1].set_ylabel('Accuracy', size=16, labelpad=-5)\n",
    "ax[1].grid(alpha=0.5)\n",
    "ax[1].tick_params(labelsize=16)\n",
    "ax[1].legend(['Train', 'Test'], loc='right', fontsize=16)\n",
    "\n",
    "fig.savefig('loss_acc_conv3_seed.pdf', bbox_inches='tight')"
   ]
  },
  {
   "cell_type": "code",
   "execution_count": null,
   "metadata": {},
   "outputs": [],
   "source": []
  }
 ],
 "metadata": {
  "accelerator": "GPU",
  "colab": {
   "collapsed_sections": [],
   "name": "ecg_train_2conv_final.ipynb",
   "provenance": []
  },
  "kernelspec": {
   "display_name": "Python 3",
   "language": "python",
   "name": "python3"
  },
  "language_info": {
   "codemirror_mode": {
    "name": "ipython",
    "version": 3
   },
   "file_extension": ".py",
   "mimetype": "text/x-python",
   "name": "python",
   "nbconvert_exporter": "python",
   "pygments_lexer": "ipython3",
   "version": "3.7.4"
  }
 },
 "nbformat": 4,
 "nbformat_minor": 1
}
